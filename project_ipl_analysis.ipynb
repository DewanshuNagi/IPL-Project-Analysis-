{
 "cells": [
  {
   "cell_type": "code",
   "execution_count": 0,
   "metadata": {
    "application/vnd.databricks.v1+cell": {
     "cellMetadata": {
      "byteLimit": 2048000,
      "rowLimit": 10000
     },
     "inputWidgets": {},
     "nuid": "ac8037a1-594c-4581-81a7-7666f18320cf",
     "showTitle": false,
     "tableResultSettingsMap": {},
     "title": ""
    }
   },
   "outputs": [],
   "source": [
    "from pyspark.sql.types import (StructField, StringType, IntegerType, StructType, BooleanType, DataType, DoubleType, DecimalType, DateType) \n",
    "from pyspark.sql.functions import col, lit, when, count, countDistinct, avg, sum, max, min, round, desc, asc, substring, length, concat, regexp_replace, trim, ltrim, rtrim \n",
    "from pyspark.sql.window import Window\n",
    "from pyspark.sql.functions import year, month, dayofmonth, hour, weekofyear, date_format, to_date, to_timestamp, to_utc_timestamp, from_utc_timestamp, from_unixtime, unix_timestamp, datediff, months_between, lower, regexp_replace, current_date, expr \n",
    "import seaborn as sns"
   ]
  },
  {
   "cell_type": "code",
   "execution_count": 0,
   "metadata": {
    "application/vnd.databricks.v1+cell": {
     "cellMetadata": {
      "byteLimit": 2048000,
      "rowLimit": 10000
     },
     "inputWidgets": {},
     "nuid": "19f4f177-cbf8-44f0-89ac-1216d22fb17f",
     "showTitle": false,
     "tableResultSettingsMap": {},
     "title": ""
    }
   },
   "outputs": [],
   "source": [
    "from pyspark.sql import SparkSession\n",
    "\n",
    "#create session \n",
    "spark = SparkSession.builder.appName(\"IPL Data Analysis\").getOrCreate() "
   ]
  },
  {
   "cell_type": "code",
   "execution_count": 0,
   "metadata": {
    "application/vnd.databricks.v1+cell": {
     "cellMetadata": {
      "byteLimit": 2048000,
      "rowLimit": 10000
     },
     "inputWidgets": {},
     "nuid": "64260382-1fa0-4d7f-b525-2e332e208d01",
     "showTitle": false,
     "tableResultSettingsMap": {},
     "title": ""
    }
   },
   "outputs": [
    {
     "output_type": "stream",
     "name": "stdout",
     "output_type": "stream",
     "text": [
      "Out[25]: pyspark.sql.session.SparkSession"
     ]
    }
   ],
   "source": [
    "SparkSession"
   ]
  },
  {
   "cell_type": "code",
   "execution_count": 0,
   "metadata": {
    "application/vnd.databricks.v1+cell": {
     "cellMetadata": {
      "byteLimit": 2048000,
      "rowLimit": 10000
     },
     "inputWidgets": {},
     "nuid": "4fe99f34-8870-4ba7-be92-a2694208d01d",
     "showTitle": false,
     "tableResultSettingsMap": {},
     "title": ""
    }
   },
   "outputs": [],
   "source": [
    "def files_exists(path):\n",
    "  try:\n",
    "    dbutils.fs.ls(path)\n",
    "    dbutils.fs.ls(path)\n",
    "  except Exception as e:\n",
    "    if 'java.io.FileNotFoundException' in str(e):\n",
    "      return False\n",
    "    else:\n",
    "      raise "
   ]
  },
  {
   "cell_type": "code",
   "execution_count": 0,
   "metadata": {
    "application/vnd.databricks.v1+cell": {
     "cellMetadata": {
      "byteLimit": 2048000,
      "rowLimit": 10000
     },
     "inputWidgets": {},
     "nuid": "f49aaa8f-0fb5-4652-8e38-dea207bee362",
     "showTitle": false,
     "tableResultSettingsMap": {},
     "title": ""
    }
   },
   "outputs": [
    {
     "output_type": "stream",
     "name": "stdout",
     "output_type": "stream",
     "text": [
      "Out[27]: False"
     ]
    }
   ],
   "source": [
    "mount_point = '/mnt/ipl_data'\n",
    "files_exists(mount_point)"
   ]
  },
  {
   "cell_type": "code",
   "execution_count": 0,
   "metadata": {
    "application/vnd.databricks.v1+cell": {
     "cellMetadata": {
      "byteLimit": 2048000,
      "rowLimit": 10000
     },
     "inputWidgets": {},
     "nuid": "27f8a94d-e7d8-4fab-a6a9-abbae3d4fca5",
     "showTitle": false,
     "tableResultSettingsMap": {},
     "title": ""
    }
   },
   "outputs": [],
   "source": [
    "IPLContainerKey=dbutils.secrets.get(\"GetIPLContainer\", \"IPLContainerKey\")\n",
    "IPLContainervalue=dbutils.secrets.get(\"GetIPLContainer\", \"IPLContainervalue\")"
   ]
  },
  {
   "cell_type": "code",
   "execution_count": 0,
   "metadata": {
    "application/vnd.databricks.v1+cell": {
     "cellMetadata": {
      "byteLimit": 2048000,
      "rowLimit": 10000
     },
     "inputWidgets": {},
     "nuid": "7a3189ee-5978-4910-a794-f57110af75f6",
     "showTitle": false,
     "tableResultSettingsMap": {},
     "title": ""
    }
   },
   "outputs": [
    {
     "output_type": "stream",
     "name": "stdout",
     "output_type": "stream",
     "text": [
      "Out[29]: [SecretScope(name='GetIPLContainer')]"
     ]
    }
   ],
   "source": [
    "dbutils.secrets.listScopes()"
   ]
  },
  {
   "cell_type": "code",
   "execution_count": 0,
   "metadata": {
    "application/vnd.databricks.v1+cell": {
     "cellMetadata": {
      "byteLimit": 2048000,
      "rowLimit": 10000
     },
     "inputWidgets": {},
     "nuid": "2149cee3-7ed5-4b6f-b9c8-9c3255f5af6e",
     "showTitle": false,
     "tableResultSettingsMap": {},
     "title": ""
    }
   },
   "outputs": [
    {
     "output_type": "stream",
     "name": "stdout",
     "output_type": "stream",
     "text": [
      "Out[30]: [SecretMetadata(key='IPLContainerKey'),\n SecretMetadata(key='IPLContainerValue')]"
     ]
    }
   ],
   "source": [
    "dbutils.secrets.list(scope = 'GetIPLContainer')"
   ]
  },
  {
   "cell_type": "code",
   "execution_count": 0,
   "metadata": {
    "application/vnd.databricks.v1+cell": {
     "cellMetadata": {
      "byteLimit": 2048000,
      "rowLimit": 10000
     },
     "inputWidgets": {},
     "nuid": "000f2de8-10e1-4a3e-8736-59ae942a1645",
     "showTitle": false,
     "tableResultSettingsMap": {},
     "title": ""
    }
   },
   "outputs": [
    {
     "output_type": "stream",
     "name": "stdout",
     "output_type": "stream",
     "text": [
      "/mnt/project has been unmounted.\nOut[31]: True"
     ]
    }
   ],
   "source": [
    "storage_account_name = \"dewanshu\"\n",
    "container_name = \"project\"\n",
    "access_key = \"cfagayB4rVkvw5R+8w7jfWl5ad/dZqerwY/nPj1DLutZ7UThQg4QQer3c+aHWph986adW6iDQfM++AStbax5aQ==\"\n",
    "\n",
    "# Check if the directory is already mounted\n",
    "mount_point = f\"/mnt/{container_name}\"\n",
    "if any(mount.mountPoint == mount_point for mount in dbutils.fs.mounts()):\n",
    "    dbutils.fs.unmount(mount_point)\n",
    "\n",
    "# Mount the Container \n",
    "dbutils.fs.mount(\n",
    "  source = f\"wasbs://{container_name}@{storage_account_name}.blob.core.windows.net/\",\n",
    "  mount_point = mount_point,\n",
    "  extra_configs = {f\"fs.azure.account.key.{storage_account_name}.blob.core.windows.net\": access_key}\n",
    ")"
   ]
  },
  {
   "cell_type": "code",
   "execution_count": 0,
   "metadata": {
    "application/vnd.databricks.v1+cell": {
     "cellMetadata": {
      "byteLimit": 2048000,
      "rowLimit": 10000
     },
     "inputWidgets": {},
     "nuid": "5bb72770-b7c0-4f08-a16e-33c8de763509",
     "showTitle": false,
     "tableResultSettingsMap": {},
     "title": ""
    }
   },
   "outputs": [
    {
     "output_type": "display_data",
     "data": {
      "text/html": [
       "<style scoped>\n",
       "  .table-result-container {\n",
       "    max-height: 300px;\n",
       "    overflow: auto;\n",
       "  }\n",
       "  table, th, td {\n",
       "    border: 1px solid black;\n",
       "    border-collapse: collapse;\n",
       "  }\n",
       "  th, td {\n",
       "    padding: 5px;\n",
       "  }\n",
       "  th {\n",
       "    text-align: left;\n",
       "  }\n",
       "</style><div class='table-result-container'><table class='table-result'><thead style='background-color: white'><tr><th>path</th><th>name</th><th>size</th><th>modificationTime</th></tr></thead><tbody><tr><td>dbfs:/mnt/project/Ball_By_Ball.csv</td><td>Ball_By_Ball.csv</td><td>25099132</td><td>1732024281000</td></tr><tr><td>dbfs:/mnt/project/Match.csv</td><td>Match.csv</td><td>113358</td><td>1732093560000</td></tr><tr><td>dbfs:/mnt/project/Player.csv</td><td>Player.csv</td><td>34614</td><td>1732093559000</td></tr><tr><td>dbfs:/mnt/project/Player_match.csv</td><td>Player_match.csv</td><td>2664692</td><td>1732093560000</td></tr><tr><td>dbfs:/mnt/project/Team.csv</td><td>Team.csv</td><td>343</td><td>1732093559000</td></tr></tbody></table></div>"
      ]
     },
     "metadata": {
      "application/vnd.databricks.v1+output": {
       "addedWidgets": {},
       "aggData": [],
       "aggError": "",
       "aggOverflow": false,
       "aggSchema": [],
       "aggSeriesLimitReached": false,
       "aggType": "",
       "arguments": {},
       "columnCustomDisplayInfos": {},
       "data": [
        [
         "dbfs:/mnt/project/Ball_By_Ball.csv",
         "Ball_By_Ball.csv",
         25099132,
         1732024281000
        ],
        [
         "dbfs:/mnt/project/Match.csv",
         "Match.csv",
         113358,
         1732093560000
        ],
        [
         "dbfs:/mnt/project/Player.csv",
         "Player.csv",
         34614,
         1732093559000
        ],
        [
         "dbfs:/mnt/project/Player_match.csv",
         "Player_match.csv",
         2664692,
         1732093560000
        ],
        [
         "dbfs:/mnt/project/Team.csv",
         "Team.csv",
         343,
         1732093559000
        ]
       ],
       "datasetInfos": [],
       "dbfsResultPath": null,
       "isJsonSchema": true,
       "metadata": {},
       "overflow": false,
       "plotOptions": {
        "customPlotOptions": {},
        "displayType": "table",
        "pivotAggregation": null,
        "pivotColumns": null,
        "xColumns": null,
        "yColumns": null
       },
       "removedWidgets": [],
       "schema": [
        {
         "metadata": "{}",
         "name": "path",
         "type": "\"string\""
        },
        {
         "metadata": "{}",
         "name": "name",
         "type": "\"string\""
        },
        {
         "metadata": "{}",
         "name": "size",
         "type": "\"long\""
        },
        {
         "metadata": "{}",
         "name": "modificationTime",
         "type": "\"long\""
        }
       ],
       "type": "table"
      }
     },
     "output_type": "display_data"
    }
   ],
   "source": [
    "display(dbutils.fs.ls(mount_point)) "
   ]
  },
  {
   "cell_type": "code",
   "execution_count": 0,
   "metadata": {
    "application/vnd.databricks.v1+cell": {
     "cellMetadata": {
      "byteLimit": 2048000,
      "rowLimit": 10000
     },
     "inputWidgets": {},
     "nuid": "bc475ec0-bb84-4a95-aa5c-de023488aced",
     "showTitle": false,
     "tableResultSettingsMap": {},
     "title": ""
    }
   },
   "outputs": [
    {
     "output_type": "display_data",
     "data": {
      "text/html": [
       "<style scoped>\n",
       "  .table-result-container {\n",
       "    max-height: 300px;\n",
       "    overflow: auto;\n",
       "  }\n",
       "  table, th, td {\n",
       "    border: 1px solid black;\n",
       "    border-collapse: collapse;\n",
       "  }\n",
       "  th, td {\n",
       "    padding: 5px;\n",
       "  }\n",
       "  th {\n",
       "    text-align: left;\n",
       "  }\n",
       "</style><div class='table-result-container'><table class='table-result'><thead style='background-color: white'><tr><th>path</th><th>name</th><th>size</th><th>modificationTime</th></tr></thead><tbody><tr><td>dbfs:/mnt/project/Ball_By_Ball.csv</td><td>Ball_By_Ball.csv</td><td>25099132</td><td>1732024281000</td></tr><tr><td>dbfs:/mnt/project/Match.csv</td><td>Match.csv</td><td>113358</td><td>1732093560000</td></tr><tr><td>dbfs:/mnt/project/Player.csv</td><td>Player.csv</td><td>34614</td><td>1732093559000</td></tr><tr><td>dbfs:/mnt/project/Player_match.csv</td><td>Player_match.csv</td><td>2664692</td><td>1732093560000</td></tr><tr><td>dbfs:/mnt/project/Team.csv</td><td>Team.csv</td><td>343</td><td>1732093559000</td></tr></tbody></table></div>"
      ]
     },
     "metadata": {
      "application/vnd.databricks.v1+output": {
       "addedWidgets": {},
       "aggData": [],
       "aggError": "",
       "aggOverflow": false,
       "aggSchema": [],
       "aggSeriesLimitReached": false,
       "aggType": "",
       "arguments": {},
       "columnCustomDisplayInfos": {},
       "data": [
        [
         "dbfs:/mnt/project/Ball_By_Ball.csv",
         "Ball_By_Ball.csv",
         25099132,
         1732024281000
        ],
        [
         "dbfs:/mnt/project/Match.csv",
         "Match.csv",
         113358,
         1732093560000
        ],
        [
         "dbfs:/mnt/project/Player.csv",
         "Player.csv",
         34614,
         1732093559000
        ],
        [
         "dbfs:/mnt/project/Player_match.csv",
         "Player_match.csv",
         2664692,
         1732093560000
        ],
        [
         "dbfs:/mnt/project/Team.csv",
         "Team.csv",
         343,
         1732093559000
        ]
       ],
       "datasetInfos": [],
       "dbfsResultPath": null,
       "isJsonSchema": true,
       "metadata": {},
       "overflow": false,
       "plotOptions": {
        "customPlotOptions": {},
        "displayType": "table",
        "pivotAggregation": null,
        "pivotColumns": null,
        "xColumns": null,
        "yColumns": null
       },
       "removedWidgets": [],
       "schema": [
        {
         "metadata": "{}",
         "name": "path",
         "type": "\"string\""
        },
        {
         "metadata": "{}",
         "name": "name",
         "type": "\"string\""
        },
        {
         "metadata": "{}",
         "name": "size",
         "type": "\"long\""
        },
        {
         "metadata": "{}",
         "name": "modificationTime",
         "type": "\"long\""
        }
       ],
       "type": "table"
      }
     },
     "output_type": "display_data"
    }
   ],
   "source": [
    "display(dbutils.fs.ls(mount_point)) "
   ]
  },
  {
   "cell_type": "code",
   "execution_count": 0,
   "metadata": {
    "application/vnd.databricks.v1+cell": {
     "cellMetadata": {
      "byteLimit": 2048000,
      "rowLimit": 10000
     },
     "inputWidgets": {},
     "nuid": "998cfd4b-99e6-4d02-a84f-0137305a9454",
     "showTitle": false,
     "tableResultSettingsMap": {},
     "title": ""
    }
   },
   "outputs": [],
   "source": [
    "df = spark.read.csv((mount_point), header=True, inferSchema=True) "
   ]
  },
  {
   "cell_type": "code",
   "execution_count": 0,
   "metadata": {
    "application/vnd.databricks.v1+cell": {
     "cellMetadata": {
      "byteLimit": 2048000,
      "rowLimit": 10000
     },
     "inputWidgets": {},
     "nuid": "c269fcd0-009e-44af-9b3e-15bb569fa72d",
     "showTitle": false,
     "tableResultSettingsMap": {},
     "title": ""
    }
   },
   "outputs": [
    {
     "output_type": "display_data",
     "data": {
      "text/html": [
       "<style scoped>\n",
       "  .table-result-container {\n",
       "    max-height: 300px;\n",
       "    overflow: auto;\n",
       "  }\n",
       "  table, th, td {\n",
       "    border: 1px solid black;\n",
       "    border-collapse: collapse;\n",
       "  }\n",
       "  th, td {\n",
       "    padding: 5px;\n",
       "  }\n",
       "  th {\n",
       "    text-align: left;\n",
       "  }\n",
       "</style><div class='table-result-container'><table class='table-result'><thead style='background-color: white'><tr><th>path</th><th>name</th><th>size</th><th>modificationTime</th></tr></thead><tbody><tr><td>dbfs:/mnt/project/Ball_By_Ball.csv</td><td>Ball_By_Ball.csv</td><td>25099132</td><td>1732024281000</td></tr><tr><td>dbfs:/mnt/project/Match.csv</td><td>Match.csv</td><td>113358</td><td>1732093560000</td></tr><tr><td>dbfs:/mnt/project/Player.csv</td><td>Player.csv</td><td>34614</td><td>1732093559000</td></tr><tr><td>dbfs:/mnt/project/Player_match.csv</td><td>Player_match.csv</td><td>2664692</td><td>1732093560000</td></tr><tr><td>dbfs:/mnt/project/Team.csv</td><td>Team.csv</td><td>343</td><td>1732093559000</td></tr></tbody></table></div>"
      ]
     },
     "metadata": {
      "application/vnd.databricks.v1+output": {
       "addedWidgets": {},
       "aggData": [],
       "aggError": "",
       "aggOverflow": false,
       "aggSchema": [],
       "aggSeriesLimitReached": false,
       "aggType": "",
       "arguments": {},
       "columnCustomDisplayInfos": {},
       "data": [
        [
         "dbfs:/mnt/project/Ball_By_Ball.csv",
         "Ball_By_Ball.csv",
         25099132,
         1732024281000
        ],
        [
         "dbfs:/mnt/project/Match.csv",
         "Match.csv",
         113358,
         1732093560000
        ],
        [
         "dbfs:/mnt/project/Player.csv",
         "Player.csv",
         34614,
         1732093559000
        ],
        [
         "dbfs:/mnt/project/Player_match.csv",
         "Player_match.csv",
         2664692,
         1732093560000
        ],
        [
         "dbfs:/mnt/project/Team.csv",
         "Team.csv",
         343,
         1732093559000
        ]
       ],
       "datasetInfos": [],
       "dbfsResultPath": null,
       "isJsonSchema": true,
       "metadata": {},
       "overflow": false,
       "plotOptions": {
        "customPlotOptions": {},
        "displayType": "table",
        "pivotAggregation": null,
        "pivotColumns": null,
        "xColumns": null,
        "yColumns": null
       },
       "removedWidgets": [],
       "schema": [
        {
         "metadata": "{}",
         "name": "path",
         "type": "\"string\""
        },
        {
         "metadata": "{}",
         "name": "name",
         "type": "\"string\""
        },
        {
         "metadata": "{}",
         "name": "size",
         "type": "\"long\""
        },
        {
         "metadata": "{}",
         "name": "modificationTime",
         "type": "\"long\""
        }
       ],
       "type": "table"
      }
     },
     "output_type": "display_data"
    }
   ],
   "source": [
    "display(dbutils.fs.ls(mount_point)) "
   ]
  },
  {
   "cell_type": "code",
   "execution_count": 0,
   "metadata": {
    "application/vnd.databricks.v1+cell": {
     "cellMetadata": {
      "byteLimit": 2048000,
      "rowLimit": 10000
     },
     "inputWidgets": {},
     "nuid": "2969f8a6-52ae-452f-be6d-d6ca23a7a36a",
     "showTitle": false,
     "tableResultSettingsMap": {},
     "title": ""
    }
   },
   "outputs": [],
   "source": [
    "file_path = \"dbfs:/mnt/project/Match.csv\""
   ]
  },
  {
   "cell_type": "code",
   "execution_count": 0,
   "metadata": {
    "application/vnd.databricks.v1+cell": {
     "cellMetadata": {
      "byteLimit": 2048000,
      "rowLimit": 10000
     },
     "inputWidgets": {},
     "nuid": "9ecfad76-71e3-49fa-8ee8-03b31856799f",
     "showTitle": false,
     "tableResultSettingsMap": {},
     "title": ""
    }
   },
   "outputs": [
    {
     "output_type": "stream",
     "name": "stdout",
     "output_type": "stream",
     "text": [
      "Out[37]: <bound method Display.display of <dbruntime.display.Display object at 0x7f82ab687d00>>"
     ]
    }
   ],
   "source": [
    "display "
   ]
  },
  {
   "cell_type": "code",
   "execution_count": 0,
   "metadata": {
    "application/vnd.databricks.v1+cell": {
     "cellMetadata": {
      "byteLimit": 2048000,
      "rowLimit": 10000
     },
     "inputWidgets": {},
     "nuid": "0a0703fe-d713-411b-9b76-7a5cbb76d941",
     "showTitle": false,
     "tableResultSettingsMap": {},
     "title": ""
    }
   },
   "outputs": [
    {
     "output_type": "stream",
     "name": "stdout",
     "output_type": "stream",
     "text": [
      "Out[38]: []"
     ]
    }
   ],
   "source": [
    "spark.catalog.listTables()"
   ]
  },
  {
   "cell_type": "code",
   "execution_count": 0,
   "metadata": {
    "application/vnd.databricks.v1+cell": {
     "cellMetadata": {
      "byteLimit": 2048000,
      "rowLimit": 10000
     },
     "inputWidgets": {},
     "nuid": "9b3881ff-9b04-4d3a-9282-51690b726e32",
     "showTitle": false,
     "tableResultSettingsMap": {},
     "title": ""
    }
   },
   "outputs": [],
   "source": [
    "ball_by_ball_schema = StructType([\n",
    "   StructField(\"match_id\", IntegerType(), True),\n",
    "   StructField(\"over_id\", IntegerType(), True),\n",
    "   StructField(\"ball_id\", IntegerType(), True), \n",
    "   StructField(\"innings_no\", IntegerType(), True), \n",
    "   StructField(\"team_batting\", StringType(), True), \n",
    "    StructField(\"team_bowling\", StringType(), True),\n",
    "    StructField(\"striker_batting_position\", IntegerType(), True),\n",
    "    StructField(\"extra_type\", StringType(), True),\n",
    "    StructField(\"runs_scored\", IntegerType(), True),\n",
    "    StructField(\"extra_runs\", IntegerType(), True),\n",
    "    StructField(\"wides\", IntegerType(), True),\n",
    "    StructField(\"legbyes\", IntegerType(), True),\n",
    "    StructField(\"byes\", IntegerType(), True),\n",
    "    StructField(\"noballs\", IntegerType(), True),\n",
    "    StructField(\"penalty\", IntegerType(), True),\n",
    "    StructField(\"bowler_extras\", IntegerType(), True),\n",
    "    StructField(\"out_type\", StringType(), True),\n",
    "    StructField(\"caught\", BooleanType(), True),\n",
    "    StructField(\"bowled\", BooleanType(), True),\n",
    "    StructField(\"run_out\", BooleanType(), True),\n",
    "    StructField(\"lbw\", BooleanType(), True),\n",
    "    StructField(\"retired_hurt\", BooleanType(), True),\n",
    "    StructField(\"stumped\", BooleanType(), True),\n",
    "    StructField(\"caught_and_bowled\", BooleanType(), True),\n",
    "    StructField(\"hit_wicket\", BooleanType(), True),\n",
    "    StructField(\"obstructingfeild\", BooleanType(), True),\n",
    "    StructField(\"bowler_wicket\", BooleanType(), True),\n",
    "    StructField(\"match_date\", DateType(), True),\n",
    "    StructField(\"season\", IntegerType(), True),\n",
    "    StructField(\"striker\", IntegerType(), True),\n",
    "    StructField(\"non_striker\", IntegerType(), True),\n",
    "    StructField(\"bowler\", IntegerType(), True),\n",
    "    StructField(\"player_out\", IntegerType(), True),\n",
    "    StructField(\"fielders\", IntegerType(), True),\n",
    "    StructField(\"striker_match_sk\", IntegerType(), True),\n",
    "    StructField(\"strikersk\", IntegerType(), True),\n",
    "    StructField(\"nonstriker_match_sk\", IntegerType(), True),\n",
    "    StructField(\"nonstriker_sk\", IntegerType(), True),\n",
    "    StructField(\"fielder_match_sk\", IntegerType(), True),\n",
    "    StructField(\"fielder_sk\", IntegerType(), True),\n",
    "    StructField(\"bowler_match_sk\", IntegerType(), True),\n",
    "    StructField(\"bowler_sk\", IntegerType(), True),\n",
    "    StructField(\"playerout_match_sk\", IntegerType(), True),\n",
    "    StructField(\"battingteam_sk\", IntegerType(), True),\n",
    "    StructField(\"bowlingteam_sk\", IntegerType(), True),\n",
    "    StructField(\"keeper_catch\", BooleanType(), True),\n",
    "    StructField(\"player_out_sk\", IntegerType(), True),\n",
    "    StructField(\"matchdatesk\", DateType(), True)\n",
    "\n",
    "\n",
    "]\n",
    "\n",
    ")\n",
    "df = spark.read.csv((mount_point), header=True, schema=(ball_by_ball_schema))\n"
   ]
  },
  {
   "cell_type": "code",
   "execution_count": 0,
   "metadata": {
    "application/vnd.databricks.v1+cell": {
     "cellMetadata": {
      "byteLimit": 2048000,
      "rowLimit": 10000
     },
     "inputWidgets": {},
     "nuid": "23c42d83-4819-4791-82e0-ffef25ca03be",
     "showTitle": false,
     "tableResultSettingsMap": {},
     "title": ""
    }
   },
   "outputs": [],
   "source": [
    "# Define the path to the file\n",
    "file_path = \"dbfs:/mnt/project/Match.csv\"\n",
    "\n",
    "# Read the file into a DataFrame\n",
    "match_df = spark.read.csv(file_path, header=True, inferSchema=True)\n",
    "\n",
    "match_schema = StructType([\n",
    "  StructField(\"Match_SK\", IntegerType(), True),\n",
    "    StructField(\"match_id\", IntegerType(), True),\n",
    "    StructField(\"team1\", StringType(), True),\n",
    "    StructField(\"team2\", StringType(), True),\n",
    "    StructField(\"match_date\", DateType(), True),\n",
    "    StructField(\"season_year\", IntegerType(), True),  \n",
    "    StructField(\"venue_name\", StringType(), True),\n",
    "    StructField(\"city_name\", StringType(), True),\n",
    "    StructField(\"country_name\", StringType(), True),\n",
    "    StructField(\"toss_winner\", StringType(), True),\n",
    "    StructField(\"match_winner\", StringType(), True),\n",
    "    StructField(\"toss_name\", StringType(), True),\n",
    "    StructField(\"win_type\", StringType(), True),\n",
    "    StructField(\"outcome_type\", StringType(), True),\n",
    "    StructField(\"manofmach\", StringType(), True),\n",
    "    StructField(\"win_margin\", IntegerType(), True),\n",
    "    StructField(\"country_id\", IntegerType(), True)\n",
    "])\n",
    "\n",
    "match_df = spark.read.csv(file_path, header=True, schema=match_schema)"
   ]
  },
  {
   "cell_type": "code",
   "execution_count": 0,
   "metadata": {
    "application/vnd.databricks.v1+cell": {
     "cellMetadata": {
      "byteLimit": 2048000,
      "rowLimit": 10000
     },
     "inputWidgets": {},
     "nuid": "95b21680-a2fd-4862-88fe-30782d59f640",
     "showTitle": false,
     "tableResultSettingsMap": {},
     "title": ""
    }
   },
   "outputs": [],
   "source": [
    " # Define the path to the file\n",
    "file_path = \"dbfs:/mnt/project/Player.csv\"\n",
    "\n",
    "# Read the file into a DataFrame\n",
    "player_df = spark.read.csv(file_path, header=True, inferSchema=True)\n",
    "\n",
    "player_schema = StructType([\n",
    "  StructField(\"player_sk\", IntegerType(), True),\n",
    "    StructField(\"player_id\", IntegerType(), True),\n",
    "    StructField(\"player_name\", StringType(), True),\n",
    "    StructField(\"dob\", DateType(), True),\n",
    "    StructField(\"batting_hand\", StringType(), True),\n",
    "    StructField(\"bowling_skill\", StringType(), True),\n",
    "    StructField(\"country_name\", StringType(), True)\n",
    "])\n",
    "\n",
    "player_df = spark.read.csv(file_path, header=True, schema=player_schema)"
   ]
  },
  {
   "cell_type": "code",
   "execution_count": 0,
   "metadata": {
    "application/vnd.databricks.v1+cell": {
     "cellMetadata": {
      "byteLimit": 2048000,
      "rowLimit": 10000
     },
     "inputWidgets": {},
     "nuid": "bc7ab2f8-b75a-489a-9650-c663c5f88f1c",
     "showTitle": false,
     "tableResultSettingsMap": {},
     "title": ""
    }
   },
   "outputs": [],
   "source": [
    "# Define the path to the file\n",
    "file_path = \"dbfs:/mnt/project/Player_match.csv\"\n",
    "\n",
    "# Read the file into a DataFrame\n",
    "player_match_df = spark.read.csv(file_path, header=True, inferSchema=True)\n",
    "\n",
    "player_match_schema = StructType([\n",
    "   StructField(\"player_match_sk\", IntegerType(), True),\n",
    "    StructField(\"playermatch_key\", DecimalType(10, 0), True),  \n",
    "    StructField(\"match_id\", IntegerType(), True),\n",
    "    StructField(\"player_id\", IntegerType(), True),\n",
    "    StructField(\"player_name\", StringType(), True),\n",
    "    StructField(\"dob\", DateType(), True),\n",
    "    StructField(\"batting_hand\", StringType(), True),\n",
    "    StructField(\"bowling_skill\", StringType(), True),\n",
    "    StructField(\"country_name\", StringType(), True),\n",
    "    StructField(\"role_desc\", StringType(), True),\n",
    "    StructField(\"player_team\", StringType(), True),\n",
    "    StructField(\"opposit_team\", StringType(), True),\n",
    "    StructField(\"season_year\", IntegerType(), True),  \n",
    "    StructField(\"is_manofthematch\", BooleanType(), True),\n",
    "    StructField(\"age_as_on_match\", IntegerType(), True),\n",
    "    StructField(\"isplayers_team_won\", BooleanType(), True),\n",
    "    StructField(\"batting_status\", StringType(), True),\n",
    "    StructField(\"bowling_status\", StringType(), True),\n",
    "    StructField(\"player_captain\", StringType(), True),\n",
    "    StructField(\"opposit_captain\", StringType(), True),\n",
    "    StructField(\"player_keeper\", StringType(), True),\n",
    "    StructField(\"opposit_keeper\", StringType(), True)\n",
    "])\n",
    "\n",
    "player_match_df = spark.read.csv(file_path, header=True, schema=player_match_schema)"
   ]
  },
  {
   "cell_type": "code",
   "execution_count": 0,
   "metadata": {
    "application/vnd.databricks.v1+cell": {
     "cellMetadata": {
      "byteLimit": 2048000,
      "rowLimit": 10000
     },
     "inputWidgets": {},
     "nuid": "64afcf97-c7a6-4ae9-bd01-91b1e483cd12",
     "showTitle": false,
     "tableResultSettingsMap": {},
     "title": ""
    }
   },
   "outputs": [],
   "source": [
    "# Define the path to the file\n",
    "file_path = \"dbfs:/mnt/project/Team.csv\"\n",
    "\n",
    "# Read the file into a DataFrame\n",
    "team_df = spark.read.csv(file_path, header=True, inferSchema=True)"
   ]
  },
  {
   "cell_type": "code",
   "execution_count": 0,
   "metadata": {
    "application/vnd.databricks.v1+cell": {
     "cellMetadata": {
      "byteLimit": 2048000,
      "rowLimit": 10000
     },
     "inputWidgets": {},
     "nuid": "15694feb-e2f1-4536-9fb6-3030615799c1",
     "showTitle": false,
     "tableResultSettingsMap": {},
     "title": ""
    }
   },
   "outputs": [],
   "source": [
    "df.createOrReplaceTempView(\"df\")\n",
    "match_df.createOrReplaceTempView(\"match\")\n",
    "player_df.createOrReplaceTempView(\"player\")\n",
    "player_match_df.createOrReplaceTempView(\"player_match\")\n",
    "team_df.createOrReplaceTempView(\"team\")"
   ]
  },
  {
   "cell_type": "code",
   "execution_count": 0,
   "metadata": {
    "application/vnd.databricks.v1+cell": {
     "cellMetadata": {
      "byteLimit": 2048000,
      "rowLimit": 10000
     },
     "inputWidgets": {},
     "nuid": "858e3710-a428-43a6-a4cf-7e0626a1e717",
     "showTitle": false,
     "tableResultSettingsMap": {},
     "title": ""
    }
   },
   "outputs": [],
   "source": [
    "# Filter to include only valid delevieries (excluding extras like wides and no balls for specific analysis)\n",
    "df = df.filter((col(\"wides\") == 0) & (col(\"noballs\") == 0) & (col(\"legbyes\") == 0) & (col(\"byes\") == 0))"
   ]
  },
  {
   "cell_type": "code",
   "execution_count": 0,
   "metadata": {
    "application/vnd.databricks.v1+cell": {
     "cellMetadata": {
      "byteLimit": 2048000,
      "rowLimit": 10000
     },
     "inputWidgets": {},
     "nuid": "56bac956-2835-405b-8c7e-f7f51237f858",
     "showTitle": false,
     "tableResultSettingsMap": {},
     "title": ""
    }
   },
   "outputs": [
    {
     "output_type": "stream",
     "name": "stdout",
     "output_type": "stream",
     "text": [
      "+--------+----------+----------+------------------+\n|match_id|innings_no|total_runs|          avg_runs|\n+--------+----------+----------+------------------+\n|  980940|         1|       138|1.1596638655462186|\n|  419132|         1|       162|1.3728813559322033|\n|  336009|         1|       151|1.2905982905982907|\n|  501203|         1|       150|1.2605042016806722|\n|  598022|         4|        11|1.8333333333333333|\n+--------+----------+----------+------------------+\nonly showing top 5 rows\n\n"
     ]
    }
   ],
   "source": [
    "# Aggregation: Calculate the total and average runs scored in each match and inning \n",
    "total_and_avg_runs = df.groupBy(\"match_id\", \"innings_no\").agg(\n",
    "  sum(\"runs_scored\").alias(\"total_runs\"),\n",
    "  avg(\"runs_scored\").alias(\"avg_runs\")\n",
    ")\n",
    "total_and_avg_runs.show(5) "
   ]
  },
  {
   "cell_type": "code",
   "execution_count": 0,
   "metadata": {
    "application/vnd.databricks.v1+cell": {
     "cellMetadata": {
      "byteLimit": 2048000,
      "rowLimit": 10000
     },
     "inputWidgets": {},
     "nuid": "09cba332-c8a0-4283-a046-db5e4c2c41d5",
     "showTitle": false,
     "tableResultSettingsMap": {},
     "title": ""
    }
   },
   "outputs": [],
   "source": [
    "# Window function: Calculate the running total of runs in each match for each over \n",
    "windowSpec = Window.partitionBy(\"match_id\", \"innings_no\").orderBy(\"over_id\")\n",
    "\n",
    "df = df.withColumn(\"running_total_runs\", sum(\"runs_scored\").over(windowSpec))"
   ]
  },
  {
   "cell_type": "code",
   "execution_count": 0,
   "metadata": {
    "application/vnd.databricks.v1+cell": {
     "cellMetadata": {
      "byteLimit": 2048000,
      "rowLimit": 10000
     },
     "inputWidgets": {},
     "nuid": "7eef4933-0dc6-4b5e-bc58-40f47131b1d7",
     "showTitle": false,
     "tableResultSettingsMap": {},
     "title": ""
    }
   },
   "outputs": [],
   "source": [
    "# Conditional Columns: Flag for high impact balls (either a wicket or more than 6 runs including extras)\n",
    "df = df.withColumn(\"high_impact_ball\", when(col(\"runs_scored\") + col(\"extra_runs\") > 6, True).otherwise(False))"
   ]
  },
  {
   "cell_type": "code",
   "execution_count": 0,
   "metadata": {
    "application/vnd.databricks.v1+cell": {
     "cellMetadata": {
      "byteLimit": 2048000,
      "rowLimit": 10000
     },
     "inputWidgets": {},
     "nuid": "27bd3291-6ced-4ae5-9e4a-25c8d1cea087",
     "showTitle": false,
     "tableResultSettingsMap": {},
     "title": ""
    }
   },
   "outputs": [
    {
     "output_type": "display_data",
     "data": {
      "text/html": [
       "<style scoped>\n",
       "  .table-result-container {\n",
       "    max-height: 300px;\n",
       "    overflow: auto;\n",
       "  }\n",
       "  table, th, td {\n",
       "    border: 1px solid black;\n",
       "    border-collapse: collapse;\n",
       "  }\n",
       "  th, td {\n",
       "    padding: 5px;\n",
       "  }\n",
       "  th {\n",
       "    text-align: left;\n",
       "  }\n",
       "</style><div class='table-result-container'><table class='table-result'><thead style='background-color: white'><tr><th>Match_SK</th><th>match_id</th><th>team1</th><th>team2</th><th>match_date</th><th>season_year</th><th>venue_name</th><th>city_name</th><th>country_name</th><th>toss_winner</th><th>match_winner</th><th>toss_name</th><th>win_type</th><th>outcome_type</th><th>manofmach</th><th>win_margin</th><th>country_id</th><th>match_year</th><th>match_month</th><th>match_day</th><th>win_margin_category</th><th>toss_decision_impact</th></tr></thead><tbody><tr><td>0</td><td>335987</td><td>Royal Challengers Bangalore</td><td>Kolkata Knight Riders</td><td>null</td><td>2008</td><td>M Chinnaswamy Stadium</td><td>Bangalore</td><td>India</td><td>Royal Challengers Bangalore</td><td>Kolkata Knight Riders</td><td>field</td><td>runs</td><td>Result</td><td>BB McCullum</td><td>140</td><td>1</td><td>null</td><td>null</td><td>null</td><td>high</td><td>No</td></tr><tr><td>1</td><td>335988</td><td>Kings XI Punjab</td><td>Chennai Super Kings</td><td>null</td><td>2008</td><td>Punjab Cricket Association Stadium, Mohali</td><td>Chandigarh</td><td>India</td><td>Chennai Super Kings</td><td>Chennai Super Kings</td><td>bat</td><td>runs</td><td>Result</td><td>MEK Hussey</td><td>33</td><td>1</td><td>null</td><td>null</td><td>null</td><td>low</td><td>No</td></tr><tr><td>2</td><td>335989</td><td>Delhi Daredevils</td><td>Rajasthan Royals</td><td>null</td><td>2008</td><td>Feroz Shah Kotla</td><td>Delhi</td><td>India</td><td>Rajasthan Royals</td><td>Delhi Daredevils</td><td>bat</td><td>wickets</td><td>Result</td><td>MF Maharoof</td><td>9</td><td>1</td><td>null</td><td>null</td><td>null</td><td>low</td><td>No</td></tr><tr><td>3</td><td>335990</td><td>Mumbai Indians</td><td>Royal Challengers Bangalore</td><td>null</td><td>2008</td><td>Wankhede Stadium</td><td>Mumbai</td><td>India</td><td>Mumbai Indians</td><td>Royal Challengers Bangalore</td><td>bat</td><td>wickets</td><td>Result</td><td>MV Boucher</td><td>5</td><td>1</td><td>null</td><td>null</td><td>null</td><td>low</td><td>No</td></tr><tr><td>4</td><td>335991</td><td>Kolkata Knight Riders</td><td>Deccan Chargers</td><td>null</td><td>2008</td><td>Eden Gardens</td><td>Kolkata</td><td>India</td><td>Deccan Chargers</td><td>Kolkata Knight Riders</td><td>bat</td><td>wickets</td><td>Result</td><td>DJ Hussey</td><td>5</td><td>1</td><td>null</td><td>null</td><td>null</td><td>low</td><td>No</td></tr></tbody></table></div>"
      ]
     },
     "metadata": {
      "application/vnd.databricks.v1+output": {
       "addedWidgets": {},
       "aggData": [],
       "aggError": "",
       "aggOverflow": false,
       "aggSchema": [],
       "aggSeriesLimitReached": false,
       "aggType": "",
       "arguments": {},
       "columnCustomDisplayInfos": {},
       "data": [
        [
         0,
         335987,
         "Royal Challengers Bangalore",
         "Kolkata Knight Riders",
         null,
         2008,
         "M Chinnaswamy Stadium",
         "Bangalore",
         "India",
         "Royal Challengers Bangalore",
         "Kolkata Knight Riders",
         "field",
         "runs",
         "Result",
         "BB McCullum",
         140,
         1,
         null,
         null,
         null,
         "high",
         "No"
        ],
        [
         1,
         335988,
         "Kings XI Punjab",
         "Chennai Super Kings",
         null,
         2008,
         "Punjab Cricket Association Stadium, Mohali",
         "Chandigarh",
         "India",
         "Chennai Super Kings",
         "Chennai Super Kings",
         "bat",
         "runs",
         "Result",
         "MEK Hussey",
         33,
         1,
         null,
         null,
         null,
         "low",
         "No"
        ],
        [
         2,
         335989,
         "Delhi Daredevils",
         "Rajasthan Royals",
         null,
         2008,
         "Feroz Shah Kotla",
         "Delhi",
         "India",
         "Rajasthan Royals",
         "Delhi Daredevils",
         "bat",
         "wickets",
         "Result",
         "MF Maharoof",
         9,
         1,
         null,
         null,
         null,
         "low",
         "No"
        ],
        [
         3,
         335990,
         "Mumbai Indians",
         "Royal Challengers Bangalore",
         null,
         2008,
         "Wankhede Stadium",
         "Mumbai",
         "India",
         "Mumbai Indians",
         "Royal Challengers Bangalore",
         "bat",
         "wickets",
         "Result",
         "MV Boucher",
         5,
         1,
         null,
         null,
         null,
         "low",
         "No"
        ],
        [
         4,
         335991,
         "Kolkata Knight Riders",
         "Deccan Chargers",
         null,
         2008,
         "Eden Gardens",
         "Kolkata",
         "India",
         "Deccan Chargers",
         "Kolkata Knight Riders",
         "bat",
         "wickets",
         "Result",
         "DJ Hussey",
         5,
         1,
         null,
         null,
         null,
         "low",
         "No"
        ]
       ],
       "datasetInfos": [],
       "dbfsResultPath": null,
       "isJsonSchema": true,
       "metadata": {},
       "overflow": false,
       "plotOptions": {
        "customPlotOptions": {},
        "displayType": "table",
        "pivotAggregation": null,
        "pivotColumns": null,
        "xColumns": null,
        "yColumns": null
       },
       "removedWidgets": [],
       "schema": [
        {
         "metadata": "{}",
         "name": "Match_SK",
         "type": "\"integer\""
        },
        {
         "metadata": "{}",
         "name": "match_id",
         "type": "\"integer\""
        },
        {
         "metadata": "{}",
         "name": "team1",
         "type": "\"string\""
        },
        {
         "metadata": "{}",
         "name": "team2",
         "type": "\"string\""
        },
        {
         "metadata": "{}",
         "name": "match_date",
         "type": "\"date\""
        },
        {
         "metadata": "{}",
         "name": "season_year",
         "type": "\"integer\""
        },
        {
         "metadata": "{}",
         "name": "venue_name",
         "type": "\"string\""
        },
        {
         "metadata": "{}",
         "name": "city_name",
         "type": "\"string\""
        },
        {
         "metadata": "{}",
         "name": "country_name",
         "type": "\"string\""
        },
        {
         "metadata": "{}",
         "name": "toss_winner",
         "type": "\"string\""
        },
        {
         "metadata": "{}",
         "name": "match_winner",
         "type": "\"string\""
        },
        {
         "metadata": "{}",
         "name": "toss_name",
         "type": "\"string\""
        },
        {
         "metadata": "{}",
         "name": "win_type",
         "type": "\"string\""
        },
        {
         "metadata": "{}",
         "name": "outcome_type",
         "type": "\"string\""
        },
        {
         "metadata": "{}",
         "name": "manofmach",
         "type": "\"string\""
        },
        {
         "metadata": "{}",
         "name": "win_margin",
         "type": "\"integer\""
        },
        {
         "metadata": "{}",
         "name": "country_id",
         "type": "\"integer\""
        },
        {
         "metadata": "{}",
         "name": "match_year",
         "type": "\"integer\""
        },
        {
         "metadata": "{}",
         "name": "match_month",
         "type": "\"integer\""
        },
        {
         "metadata": "{}",
         "name": "match_day",
         "type": "\"integer\""
        },
        {
         "metadata": "{}",
         "name": "win_margin_category",
         "type": "\"string\""
        },
        {
         "metadata": "{}",
         "name": "toss_decision_impact",
         "type": "\"string\""
        }
       ],
       "type": "table"
      }
     },
     "output_type": "display_data"
    }
   ],
   "source": [
    "# Extracting year, month, and day from the match date for more detailed time-based analysis \n",
    "match_df = match_df.withColumn(\"match_year\", year(col(\"match_date\")))\n",
    "match_df = match_df.withColumn(\"match_month\", month(col(\"match_date\")))\n",
    "match_df = match_df.withColumn(\"match_day\", dayofmonth(col(\"match_date\")))\n",
    "\n",
    "# High margin win : categorizing with margins into 'high' , 'medium' and 'low'\n",
    "match_df = match_df.withColumn(\"win_margin_category\", \n",
    "    when(col(\"win_margin\") >= 100, \"high\")\n",
    "    .when((col(\"win_margin\") > 50) & (col(\"win_margin\") <= 100), \"medium\")\n",
    "    .otherwise(\"low\")\n",
    ") \n",
    "\n",
    "# Analyze the impact of the toss decision on the outcome of the match\n",
    "match_df = match_df.withColumn(\"toss_decision_impact\", \n",
    "    when(col(\"toss_name\") == col(\"match_winner\"), \"Yes\")\n",
    "    .otherwise(\"No\")\n",
    ")\n",
    "\n",
    "display(match_df.limit(5))"
   ]
  },
  {
   "cell_type": "code",
   "execution_count": 0,
   "metadata": {
    "application/vnd.databricks.v1+cell": {
     "cellMetadata": {
      "byteLimit": 2048000,
      "rowLimit": 10000
     },
     "inputWidgets": {},
     "nuid": "ac7c6dfe-9658-4c49-9f95-fa1d467e6683",
     "showTitle": false,
     "tableResultSettingsMap": {},
     "title": ""
    }
   },
   "outputs": [
    {
     "output_type": "display_data",
     "data": {
      "text/html": [
       "<style scoped>\n",
       "  .table-result-container {\n",
       "    max-height: 300px;\n",
       "    overflow: auto;\n",
       "  }\n",
       "  table, th, td {\n",
       "    border: 1px solid black;\n",
       "    border-collapse: collapse;\n",
       "  }\n",
       "  th, td {\n",
       "    padding: 5px;\n",
       "  }\n",
       "  th {\n",
       "    text-align: left;\n",
       "  }\n",
       "</style><div class='table-result-container'><table class='table-result'><thead style='background-color: white'><tr><th>player_sk</th><th>player_id</th><th>player_name</th><th>dob</th><th>batting_hand</th><th>bowling_skill</th><th>country_name</th><th>batting_hand_category</th></tr></thead><tbody><tr><td>0</td><td>1</td><td>scganguly</td><td>null</td><td>Left-hand bat</td><td>Right-arm medium</td><td>India</td><td>Left-hand bat</td></tr><tr><td>1</td><td>2</td><td>bbmccullum</td><td>null</td><td>Right-hand bat</td><td>Right-arm medium</td><td>New Zealand</td><td>Right-hand bat</td></tr><tr><td>2</td><td>3</td><td>rtponting</td><td>null</td><td>Right-hand bat</td><td>Right-arm medium</td><td>Australia</td><td>Right-hand bat</td></tr><tr><td>3</td><td>4</td><td>djhussey</td><td>null</td><td>Right-hand bat</td><td>Right-arm offbreak</td><td>Australia</td><td>Right-hand bat</td></tr><tr><td>4</td><td>5</td><td>mohammadhafeez</td><td>null</td><td>Right-hand bat</td><td>Right-arm offbreak</td><td>Pakistan</td><td>Right-hand bat</td></tr></tbody></table></div>"
      ]
     },
     "metadata": {
      "application/vnd.databricks.v1+output": {
       "addedWidgets": {},
       "aggData": [],
       "aggError": "",
       "aggOverflow": false,
       "aggSchema": [],
       "aggSeriesLimitReached": false,
       "aggType": "",
       "arguments": {},
       "columnCustomDisplayInfos": {},
       "data": [
        [
         0,
         1,
         "scganguly",
         null,
         "Left-hand bat",
         "Right-arm medium",
         "India",
         "Left-hand bat"
        ],
        [
         1,
         2,
         "bbmccullum",
         null,
         "Right-hand bat",
         "Right-arm medium",
         "New Zealand",
         "Right-hand bat"
        ],
        [
         2,
         3,
         "rtponting",
         null,
         "Right-hand bat",
         "Right-arm medium",
         "Australia",
         "Right-hand bat"
        ],
        [
         3,
         4,
         "djhussey",
         null,
         "Right-hand bat",
         "Right-arm offbreak",
         "Australia",
         "Right-hand bat"
        ],
        [
         4,
         5,
         "mohammadhafeez",
         null,
         "Right-hand bat",
         "Right-arm offbreak",
         "Pakistan",
         "Right-hand bat"
        ]
       ],
       "datasetInfos": [],
       "dbfsResultPath": null,
       "isJsonSchema": true,
       "metadata": {},
       "overflow": false,
       "plotOptions": {
        "customPlotOptions": {},
        "displayType": "table",
        "pivotAggregation": null,
        "pivotColumns": null,
        "xColumns": null,
        "yColumns": null
       },
       "removedWidgets": [],
       "schema": [
        {
         "metadata": "{}",
         "name": "player_sk",
         "type": "\"integer\""
        },
        {
         "metadata": "{}",
         "name": "player_id",
         "type": "\"integer\""
        },
        {
         "metadata": "{}",
         "name": "player_name",
         "type": "\"string\""
        },
        {
         "metadata": "{}",
         "name": "dob",
         "type": "\"date\""
        },
        {
         "metadata": "{}",
         "name": "batting_hand",
         "type": "\"string\""
        },
        {
         "metadata": "{}",
         "name": "bowling_skill",
         "type": "\"string\""
        },
        {
         "metadata": "{}",
         "name": "country_name",
         "type": "\"string\""
        },
        {
         "metadata": "{}",
         "name": "batting_hand_category",
         "type": "\"string\""
        }
       ],
       "type": "table"
      }
     },
     "output_type": "display_data"
    }
   ],
   "source": [
    "# Normalize and clean player names \n",
    "player_df = player_df.withColumn(\"player_name\", lower(regexp_replace(\"player_name\", \"[^a-zA-Z0-9]\", \"\")))\n",
    "# Handle the missing values in 'batting_hand' and 'bowling_skill' columns with a default 'unknown' value\n",
    "player_df = player_df.na.fill({\"batting_hand\": \"unknown\", \"bowling_skill\": \"unknown\"}) \n",
    "\n",
    "# Categorizing players based on batting hand \n",
    "player_df = player_df.withColumn(\n",
    "    \"batting_hand_category\", \n",
    "    when(col(\"batting_hand\") == \"Right-hand bat\", \"Right-hand bat\").otherwise(\"Left-hand bat\"))\n",
    "\n",
    "display(player_df.limit(5))"
   ]
  },
  {
   "cell_type": "code",
   "execution_count": 0,
   "metadata": {
    "application/vnd.databricks.v1+cell": {
     "cellMetadata": {
      "byteLimit": 2048000,
      "rowLimit": 10000
     },
     "inputWidgets": {},
     "nuid": "98f2ae5f-dcf6-4bc8-8cc6-beebf9f42dda",
     "showTitle": false,
     "tableResultSettingsMap": {},
     "title": ""
    }
   },
   "outputs": [
    {
     "output_type": "display_data",
     "data": {
      "text/html": [
       "<style scoped>\n",
       "  .table-result-container {\n",
       "    max-height: 300px;\n",
       "    overflow: auto;\n",
       "  }\n",
       "  table, th, td {\n",
       "    border: 1px solid black;\n",
       "    border-collapse: collapse;\n",
       "  }\n",
       "  th, td {\n",
       "    padding: 5px;\n",
       "  }\n",
       "  th {\n",
       "    text-align: left;\n",
       "  }\n",
       "</style><div class='table-result-container'><table class='table-result'><thead style='background-color: white'><tr><th>player_match_sk</th><th>playermatch_key</th><th>match_id</th><th>player_id</th><th>player_name</th><th>dob</th><th>batting_hand</th><th>bowling_skill</th><th>country_name</th><th>role_desc</th><th>player_team</th><th>opposit_team</th><th>season_year</th><th>is_manofthematch</th><th>age_as_on_match</th><th>isplayers_team_won</th><th>batting_status</th><th>bowling_status</th><th>player_captain</th><th>opposit_captain</th><th>player_keeper</th><th>opposit_keeper</th><th>veteran_status</th><th>years_since_debut</th></tr></thead><tbody></tbody></table></div>"
      ]
     },
     "metadata": {
      "application/vnd.databricks.v1+output": {
       "addedWidgets": {},
       "aggData": [],
       "aggError": "",
       "aggOverflow": false,
       "aggSchema": [],
       "aggSeriesLimitReached": false,
       "aggType": "",
       "arguments": {},
       "columnCustomDisplayInfos": {},
       "data": [],
       "datasetInfos": [],
       "dbfsResultPath": null,
       "isJsonSchema": true,
       "metadata": {},
       "overflow": false,
       "plotOptions": {
        "customPlotOptions": {},
        "displayType": "table",
        "pivotAggregation": null,
        "pivotColumns": null,
        "xColumns": null,
        "yColumns": null
       },
       "removedWidgets": [],
       "schema": [
        {
         "metadata": "{}",
         "name": "player_match_sk",
         "type": "\"integer\""
        },
        {
         "metadata": "{}",
         "name": "playermatch_key",
         "type": "\"decimal(10,0)\""
        },
        {
         "metadata": "{}",
         "name": "match_id",
         "type": "\"integer\""
        },
        {
         "metadata": "{}",
         "name": "player_id",
         "type": "\"integer\""
        },
        {
         "metadata": "{}",
         "name": "player_name",
         "type": "\"string\""
        },
        {
         "metadata": "{}",
         "name": "dob",
         "type": "\"date\""
        },
        {
         "metadata": "{}",
         "name": "batting_hand",
         "type": "\"string\""
        },
        {
         "metadata": "{}",
         "name": "bowling_skill",
         "type": "\"string\""
        },
        {
         "metadata": "{}",
         "name": "country_name",
         "type": "\"string\""
        },
        {
         "metadata": "{}",
         "name": "role_desc",
         "type": "\"string\""
        },
        {
         "metadata": "{}",
         "name": "player_team",
         "type": "\"string\""
        },
        {
         "metadata": "{}",
         "name": "opposit_team",
         "type": "\"string\""
        },
        {
         "metadata": "{}",
         "name": "season_year",
         "type": "\"integer\""
        },
        {
         "metadata": "{}",
         "name": "is_manofthematch",
         "type": "\"boolean\""
        },
        {
         "metadata": "{}",
         "name": "age_as_on_match",
         "type": "\"integer\""
        },
        {
         "metadata": "{}",
         "name": "isplayers_team_won",
         "type": "\"boolean\""
        },
        {
         "metadata": "{}",
         "name": "batting_status",
         "type": "\"string\""
        },
        {
         "metadata": "{}",
         "name": "bowling_status",
         "type": "\"string\""
        },
        {
         "metadata": "{}",
         "name": "player_captain",
         "type": "\"string\""
        },
        {
         "metadata": "{}",
         "name": "opposit_captain",
         "type": "\"string\""
        },
        {
         "metadata": "{}",
         "name": "player_keeper",
         "type": "\"string\""
        },
        {
         "metadata": "{}",
         "name": "opposit_keeper",
         "type": "\"string\""
        },
        {
         "metadata": "{}",
         "name": "veteran_status",
         "type": "\"string\""
        },
        {
         "metadata": "{}",
         "name": "years_since_debut",
         "type": "\"integer\""
        }
       ],
       "type": "table"
      }
     },
     "output_type": "display_data"
    }
   ],
   "source": [
    "# Add a 'veteran_status' column based on player age \n",
    "player_match_df = player_match_df.withColumn(\"veteran_status\", when(col(\"age_as_on_match\") >= 35, \"Veteran\").otherwise(\"Non-Veteran\")) \n",
    "\n",
    "# Filter to include only the players who have played the match (excluding bench players)\n",
    "player_match_df = player_match_df.filter(col(\"batting_status\") != \"Did Not Bat\") \n",
    "\n",
    "# Dynamic column to calculate years since debut \n",
    "player_match_df = player_match_df.withColumn(\"years_since_debut\", (year(current_date()) - col(\"season_year\")))\n",
    "display(player_match_df.limit(5))"
   ]
  },
  {
   "cell_type": "code",
   "execution_count": 0,
   "metadata": {
    "application/vnd.databricks.v1+cell": {
     "cellMetadata": {
      "byteLimit": 2048000,
      "rowLimit": 10000
     },
     "inputWidgets": {},
     "nuid": "d47a61eb-0454-4331-86ce-65b86c1f1205",
     "showTitle": false,
     "tableResultSettingsMap": {},
     "title": ""
    }
   },
   "outputs": [
    {
     "output_type": "display_data",
     "data": {
      "text/html": [
       "<style scoped>\n",
       "  .table-result-container {\n",
       "    max-height: 300px;\n",
       "    overflow: auto;\n",
       "  }\n",
       "  table, th, td {\n",
       "    border: 1px solid black;\n",
       "    border-collapse: collapse;\n",
       "  }\n",
       "  th, td {\n",
       "    padding: 5px;\n",
       "  }\n",
       "  th {\n",
       "    text-align: left;\n",
       "  }\n",
       "</style><div class='table-result-container'><table class='table-result'><thead style='background-color: white'><tr><th>player_name</th><th>season_year</th><th>total_runs</th></tr></thead><tbody><tr><td>SE Marsh</td><td>2008</td><td>616</td></tr><tr><td>G Gambhir</td><td>2008</td><td>534</td></tr><tr><td>ST Jayasuriya</td><td>2008</td><td>514</td></tr><tr><td>SR Watson</td><td>2008</td><td>468</td></tr><tr><td>GC Smith</td><td>2008</td><td>441</td></tr><tr><td>AC Gilchrist</td><td>2008</td><td>436</td></tr><tr><td>YK Pathan</td><td>2008</td><td>435</td></tr><tr><td>SK Raina</td><td>2008</td><td>421</td></tr><tr><td>MS Dhoni</td><td>2008</td><td>414</td></tr><tr><td>V Sehwag</td><td>2008</td><td>406</td></tr><tr><td>RG Sharma</td><td>2008</td><td>404</td></tr><tr><td>R Dravid</td><td>2008</td><td>371</td></tr><tr><td>SC Ganguly</td><td>2008</td><td>349</td></tr><tr><td>S Dhawan</td><td>2008</td><td>340</td></tr><tr><td>RV Uthappa</td><td>2008</td><td>320</td></tr><tr><td>KC Sangakkara</td><td>2008</td><td>320</td></tr><tr><td>DJ Hussey</td><td>2008</td><td>319</td></tr><tr><td>SA Asnodkar</td><td>2008</td><td>311</td></tr><tr><td>PA Patel</td><td>2008</td><td>302</td></tr><tr><td>Yuvraj Singh</td><td>2008</td><td>299</td></tr><tr><td>Y Venugopal Rao</td><td>2008</td><td>288</td></tr><tr><td>JA Morkel</td><td>2008</td><td>241</td></tr><tr><td>MV Boucher</td><td>2008</td><td>225</td></tr><tr><td>JR Hopes</td><td>2008</td><td>221</td></tr><tr><td>AM Nayar</td><td>2008</td><td>206</td></tr><tr><td>JH Kallis</td><td>2008</td><td>199</td></tr><tr><td>SP Fleming</td><td>2008</td><td>196</td></tr><tr><td>Salman Butt</td><td>2008</td><td>193</td></tr><tr><td>S Badrinath</td><td>2008</td><td>192</td></tr><tr><td>ML Hayden</td><td>2008</td><td>189</td></tr><tr><td>SR Tendulkar</td><td>2008</td><td>188</td></tr><tr><td>BB McCullum</td><td>2008</td><td>188</td></tr><tr><td>DPMD Jayawardene</td><td>2008</td><td>179</td></tr><tr><td>DJ Bravo</td><td>2008</td><td>178</td></tr><tr><td>M Kaif</td><td>2008</td><td>176</td></tr><tr><td>MEK Hussey</td><td>2008</td><td>168</td></tr><tr><td>HH Gibbs</td><td>2008</td><td>167</td></tr><tr><td>V Kohli</td><td>2008</td><td>165</td></tr><tr><td>A Symonds</td><td>2008</td><td>161</td></tr><tr><td>WP Saha</td><td>2008</td><td>159</td></tr><tr><td>LR Shukla</td><td>2008</td><td>157</td></tr><tr><td>VVS Laxman</td><td>2008</td><td>155</td></tr><tr><td>LA Pomersbach</td><td>2008</td><td>152</td></tr><tr><td>LRPL Taylor</td><td>2008</td><td>149</td></tr><tr><td>SM Pollock</td><td>2008</td><td>147</td></tr><tr><td>KD Karthik</td><td>2008</td><td>145</td></tr><tr><td>S Vidyut</td><td>2008</td><td>145</td></tr><tr><td>RA Jadeja</td><td>2008</td><td>135</td></tr><tr><td>IK Pathan</td><td>2008</td><td>131</td></tr><tr><td>Kamran Akmal</td><td>2008</td><td>128</td></tr><tr><td>MF Maharoof</td><td>2008</td><td>125</td></tr><tr><td>Misbah-ul-Haq</td><td>2008</td><td>117</td></tr><tr><td>W Jaffer</td><td>2008</td><td>115</td></tr><tr><td>CL White</td><td>2008</td><td>114</td></tr><tr><td>SB Styris</td><td>2008</td><td>112</td></tr><tr><td>P Kumar</td><td>2008</td><td>112</td></tr><tr><td>DB Ravi Teja</td><td>2008</td><td>109</td></tr><tr><td>TM Dilshan</td><td>2008</td><td>104</td></tr><tr><td>MK Tiwary</td><td>2008</td><td>104</td></tr><tr><td>DB Das</td><td>2008</td><td>103</td></tr><tr><td>NK Patel</td><td>2008</td><td>103</td></tr><tr><td>SM Katich</td><td>2008</td><td>96</td></tr><tr><td>AB de Villiers</td><td>2008</td><td>95</td></tr><tr><td>PP Chawla</td><td>2008</td><td>90</td></tr><tr><td>SP Goswami</td><td>2008</td><td>82</td></tr><tr><td>Shahid Afridi</td><td>2008</td><td>81</td></tr><tr><td>K Goel</td><td>2008</td><td>76</td></tr><tr><td>RR Sarwan</td><td>2008</td><td>73</td></tr><tr><td>YV Takawale</td><td>2008</td><td>70</td></tr><tr><td>SK Warne</td><td>2008</td><td>70</td></tr><tr><td>Mohammad Hafeez</td><td>2008</td><td>64</td></tr><tr><td>AB Agarkar</td><td>2008</td><td>54</td></tr><tr><td>Shoaib Malik</td><td>2008</td><td>52</td></tr><tr><td>UT Yadav</td><td>2008</td><td>49</td></tr><tr><td>SB Bangar</td><td>2008</td><td>47</td></tr><tr><td>B Akhil</td><td>2008</td><td>46</td></tr><tr><td>DR Smith</td><td>2008</td><td>45</td></tr><tr><td>A Chopra</td><td>2008</td><td>42</td></tr><tr><td>LPC Silva</td><td>2008</td><td>40</td></tr><tr><td>DJ Thornely</td><td>2008</td><td>39</td></tr><tr><td>Umar Gul</td><td>2008</td><td>39</td></tr><tr><td>RT Ponting</td><td>2008</td><td>39</td></tr><tr><td>A Mishra</td><td>2008</td><td>37</td></tr><tr><td>Sohail Tanvir</td><td>2008</td><td>36</td></tr><tr><td>MS Gony</td><td>2008</td><td>35</td></tr><tr><td>L Ronchi</td><td>2008</td><td>34</td></tr><tr><td>M Rawat</td><td>2008</td><td>34</td></tr><tr><td>PR Shah</td><td>2008</td><td>34</td></tr><tr><td>R Bhatia</td><td>2008</td><td>34</td></tr><tr><td>Z Khan</td><td>2008</td><td>34</td></tr><tr><td>D Salunkhe</td><td>2008</td><td>33</td></tr><tr><td>T Taibu</td><td>2008</td><td>31</td></tr><tr><td>Harbhajan Singh</td><td>2008</td><td>30</td></tr><tr><td>M Kartik</td><td>2008</td><td>30</td></tr><tr><td>RR Powar</td><td>2008</td><td>28</td></tr><tr><td>RP Singh</td><td>2008</td><td>27</td></tr><tr><td>WA Mota</td><td>2008</td><td>26</td></tr><tr><td>SS Tiwary</td><td>2008</td><td>26</td></tr><tr><td>S Chanderpaul</td><td>2008</td><td>25</td></tr><tr><td>R Vinay Kumar</td><td>2008</td><td>25</td></tr><tr><td>MA Khote</td><td>2008</td><td>24</td></tr><tr><td>J Arunkumar</td><td>2008</td><td>23</td></tr><tr><td>WPUJC Vaas</td><td>2008</td><td>21</td></tr><tr><td>B Chipli</td><td>2008</td><td>20</td></tr><tr><td>JDP Oram</td><td>2008</td><td>18</td></tr><tr><td>SD Chitnis</td><td>2008</td><td>18</td></tr><tr><td>DS Lehmann</td><td>2008</td><td>18</td></tr><tr><td>B Lee</td><td>2008</td><td>17</td></tr><tr><td>CK Kapugedera</td><td>2008</td><td>16</td></tr><tr><td>Joginder Sharma</td><td>2008</td><td>16</td></tr><tr><td>VY Mahesh</td><td>2008</td><td>15</td></tr><tr><td>A Kumble</td><td>2008</td><td>13</td></tr><tr><td>DT Patil</td><td>2008</td><td>13</td></tr><tr><td>BJ Hodge</td><td>2008</td><td>12</td></tr><tr><td>I Sharma</td><td>2008</td><td>11</td></tr><tr><td>M Ntini</td><td>2008</td><td>11</td></tr><tr><td>DNT Zoysa</td><td>2008</td><td>11</td></tr><tr><td>T Kohli</td><td>2008</td><td>10</td></tr><tr><td>AA Noffke</td><td>2008</td><td>9</td></tr><tr><td>AD Mascarenhas</td><td>2008</td><td>9</td></tr><tr><td>RR Raje</td><td>2008</td><td>8</td></tr><tr><td>TM Srivastava</td><td>2008</td><td>8</td></tr><tr><td>SB Joshi</td><td>2008</td><td>6</td></tr><tr><td>Pankaj Singh</td><td>2008</td><td>5</td></tr><tr><td>SK Trivedi</td><td>2008</td><td>5</td></tr><tr><td>S Sohal</td><td>2008</td><td>4</td></tr><tr><td>AM Rahane</td><td>2008</td><td>4</td></tr><tr><td>GD McGrath</td><td>2008</td><td>4</td></tr><tr><td>VRV Singh</td><td>2008</td><td>4</td></tr><tr><td>MK Pandey</td><td>2008</td><td>3</td></tr><tr><td>D Kalyankrishna</td><td>2008</td><td>3</td></tr><tr><td>Mohammad Asif</td><td>2008</td><td>3</td></tr><tr><td>A Nehra</td><td>2008</td><td>3</td></tr><tr><td>Younis Khan</td><td>2008</td><td>3</td></tr><tr><td>DW Steyn</td><td>2008</td><td>2</td></tr><tr><td>PJ Sangwan</td><td>2008</td><td>2</td></tr><tr><td>Shoaib Akhtar</td><td>2008</td><td>2</td></tr><tr><td>H Das</td><td>2008</td><td>2</td></tr><tr><td>PP Ojha</td><td>2008</td><td>2</td></tr><tr><td>CRD Fernando</td><td>2008</td><td>2</td></tr><tr><td>VS Yeligati</td><td>2008</td><td>2</td></tr><tr><td>AB Dinda</td><td>2008</td><td>2</td></tr><tr><td>DS Kulkarni</td><td>2008</td><td>2</td></tr><tr><td>PM Sarvesh Kumar</td><td>2008</td><td>1</td></tr><tr><td>DP Vijaykumar</td><td>2008</td><td>1</td></tr><tr><td>Iqbal Abdulla</td><td>2008</td><td>1</td></tr><tr><td>S Anirudha</td><td>2008</td><td>1</td></tr><tr><td>U Kaul</td><td>2008</td><td>0</td></tr><tr><td>L Balaji</td><td>2008</td><td>0</td></tr><tr><td>Abdur Razzak</td><td>2008</td><td>0</td></tr><tr><td>A Mukund</td><td>2008</td><td>0</td></tr><tr><td>S Sreesanth</td><td>2008</td><td>0</td></tr><tr><td>M Muralitharan</td><td>2008</td><td>0</td></tr><tr><td>MM Patel</td><td>2008</td><td>0</td></tr><tr><td>ML Hayden</td><td>2009</td><td>572</td></tr><tr><td>AC Gilchrist</td><td>2009</td><td>495</td></tr><tr><td>AB de Villiers</td><td>2009</td><td>465</td></tr><tr><td>SK Raina</td><td>2009</td><td>434</td></tr><tr><td>TM Dilshan</td><td>2009</td><td>418</td></tr><tr><td>JP Duminy</td><td>2009</td><td>372</td></tr><tr><td>HH Gibbs</td><td>2009</td><td>371</td></tr><tr><td>BJ Hodge</td><td>2009</td><td>365</td></tr><tr><td>SR Tendulkar</td><td>2009</td><td>364</td></tr><tr><td>RG Sharma</td><td>2009</td><td>362</td></tr><tr><td>JH Kallis</td><td>2009</td><td>361</td></tr><tr><td>Yuvraj Singh</td><td>2009</td><td>340</td></tr><tr><td>KC Sangakkara</td><td>2009</td><td>332</td></tr><tr><td>MS Dhoni</td><td>2009</td><td>332</td></tr><tr><td>RA Jadeja</td><td>2009</td><td>295</td></tr><tr><td>KD Karthik</td><td>2009</td><td>288</td></tr><tr><td>BB McCullum</td><td>2009</td><td>286</td></tr><tr><td>G Gambhir</td><td>2009</td><td>286</td></tr><tr><td>LRPL Taylor</td><td>2009</td><td>280</td></tr><tr><td>R Dravid</td><td>2009</td><td>271</td></tr><tr><td>YK Pathan</td><td>2009</td><td>261</td></tr><tr><td>A Symonds</td><td>2009</td><td>249</td></tr><tr><td>V Kohli</td><td>2009</td><td>246</td></tr><tr><td>TL Suman</td><td>2009</td><td>237</td></tr><tr><td>ST Jayasuriya</td><td>2009</td><td>221</td></tr><tr><td>DPMD Jayawardene</td><td>2009</td><td>219</td></tr><tr><td>DJ Bravo</td><td>2009</td><td>218</td></tr><tr><td>DR Smith</td><td>2009</td><td>215</td></tr><tr><td>GC Smith</td><td>2009</td><td>212</td></tr><tr><td>V Sehwag</td><td>2009</td><td>198</td></tr><tr><td>IK Pathan</td><td>2009</td><td>196</td></tr><tr><td>AM Nayar</td><td>2009</td><td>193</td></tr><tr><td>SC Ganguly</td><td>2009</td><td>189</td></tr><tr><td>CH Gayle</td><td>2009</td><td>184</td></tr><tr><td>S Badrinath</td><td>2009</td><td>177</td></tr><tr><td>RV Uthappa</td><td>2009</td><td>175</td></tr><tr><td>MK Pandey</td><td>2009</td><td>168</td></tr><tr><td>NV Ojha</td><td>2009</td><td>168</td></tr><tr><td>MN van Wyk</td><td>2009</td><td>167</td></tr><tr><td>DA Warner</td><td>2009</td><td>163</td></tr><tr><td>MV Boucher</td><td>2009</td><td>150</td></tr><tr><td>AM Rahane</td><td>2009</td><td>144</td></tr><tr><td>PA Patel</td><td>2009</td><td>142</td></tr><tr><td>SM Katich</td><td>2009</td><td>141</td></tr><tr><td>RS Bopara</td><td>2009</td><td>138</td></tr><tr><td>Y Venugopal Rao</td><td>2009</td><td>124</td></tr><tr><td>K Goel</td><td>2009</td><td>124</td></tr><tr><td>RE van der Merwe</td><td>2009</td><td>122</td></tr><tr><td>S Sohal</td><td>2009</td><td>115</td></tr><tr><td>SK Warne</td><td>2009</td><td>108</td></tr><tr><td>RJ Quiney</td><td>2009</td><td>103</td></tr><tr><td>DJ Hussey</td><td>2009</td><td>98</td></tr><tr><td>SA Asnodkar</td><td>2009</td><td>98</td></tr><tr><td>JA Morkel</td><td>2009</td><td>97</td></tr><tr><td>KP Pietersen</td><td>2009</td><td>93</td></tr><tr><td>JDP Oram</td><td>2009</td><td>88</td></tr><tr><td>Harbhajan Singh</td><td>2009</td><td>84</td></tr><tr><td>LR Shukla</td><td>2009</td><td>83</td></tr><tr><td>LA Carseldine</td><td>2009</td><td>81</td></tr><tr><td>AS Raut</td><td>2009</td><td>78</td></tr><tr><td>M Manhas</td><td>2009</td><td>75</td></tr><tr><td>WP Saha</td><td>2009</td><td>72</td></tr><tr><td>AA Bilakhia</td><td>2009</td><td>67</td></tr><tr><td>AB Agarkar</td><td>2009</td><td>66</td></tr><tr><td>P Kumar</td><td>2009</td><td>65</td></tr><tr><td>DB Ravi Teja</td><td>2009</td><td>65</td></tr><tr><td>A Flintoff</td><td>2009</td><td>62</td></tr><tr><td>M Vijay</td><td>2009</td><td>60</td></tr><tr><td>JD Ryder</td><td>2009</td><td>56</td></tr><tr><td>PR Shah</td><td>2009</td><td>53</td></tr><tr><td>SP Goswami</td><td>2009</td><td>53</td></tr><tr><td>R Vinay Kumar</td><td>2009</td><td>47</td></tr><tr><td>Yashpal Singh</td><td>2009</td><td>47</td></tr><tr><td>J Botha</td><td>2009</td><td>47</td></tr><tr><td>GJ Bailey</td><td>2009</td><td>45</td></tr><tr><td>LA Pomersbach</td><td>2009</td><td>41</td></tr><tr><td>S Dhawan</td><td>2009</td><td>40</td></tr><tr><td>AD Mascarenhas</td><td>2009</td><td>39</td></tr><tr><td>MC Henriques</td><td>2009</td><td>38</td></tr><tr><td>DL Vettori</td><td>2009</td><td>34</td></tr><tr><td>MM Patel</td><td>2009</td><td>33</td></tr><tr><td>PP Chawla</td><td>2009</td><td>31</td></tr><tr><td>WPUJC Vaas</td><td>2009</td><td>30</td></tr><tr><td>WA Mota</td><td>2009</td><td>30</td></tr><tr><td>B Lee</td><td>2009</td><td>28</td></tr><tr><td>A Mishra</td><td>2009</td><td>26</td></tr><tr><td>RR Powar</td><td>2009</td><td>23</td></tr><tr><td>M Kartik</td><td>2009</td><td>21</td></tr><tr><td>RJ Harris</td><td>2009</td><td>21</td></tr><tr><td>MF Maharoof</td><td>2009</td><td>21</td></tr><tr><td>Y Nagar</td><td>2009</td><td>20</td></tr><tr><td>Joginder Sharma</td><td>2009</td><td>20</td></tr><tr><td>SB Jakati</td><td>2009</td><td>20</td></tr><tr><td>VVS Laxman</td><td>2009</td><td>19</td></tr><tr><td>R Bishnoi</td><td>2009</td><td>19</td></tr><tr><td>YV Takawale</td><td>2009</td><td>18</td></tr><tr><td>NK Patel</td><td>2009</td><td>18</td></tr><tr><td>B Akhil</td><td>2009</td><td>17</td></tr><tr><td>AD Mathews</td><td>2009</td><td>16</td></tr><tr><td>A Kumble</td><td>2009</td><td>16</td></tr><tr><td>I Sharma</td><td>2009</td><td>16</td></tr><tr><td>M Rawat</td><td>2009</td><td>16</td></tr><tr><td>GR Napier</td><td>2009</td><td>15</td></tr><tr><td>W Jaffer</td><td>2009</td><td>15</td></tr><tr><td>SB Styris</td><td>2009</td><td>14</td></tr><tr><td>SS Tiwary</td><td>2009</td><td>13</td></tr><tr><td>MS Gony</td><td>2009</td><td>13</td></tr><tr><td>RR Raje</td><td>2009</td><td>12</td></tr><tr><td>A Chopra</td><td>2009</td><td>11</td></tr><tr><td>T Henderson</td><td>2009</td><td>11</td></tr><tr><td>D du Preez</td><td>2009</td><td>10</td></tr><tr><td>DS Kulkarni</td><td>2009</td><td>9</td></tr><tr><td>SK Trivedi</td><td>2009</td><td>9</td></tr><tr><td>SM Harwood</td><td>2009</td><td>9</td></tr><tr><td>MK Tiwary</td><td>2009</td><td>9</td></tr><tr><td>RP Singh</td><td>2009</td><td>8</td></tr><tr><td>Z Khan</td><td>2009</td><td>8</td></tr><tr><td>R Ashwin</td><td>2009</td><td>8</td></tr><tr><td>M Morkel</td><td>2009</td><td>8</td></tr><tr><td>R Bhatia</td><td>2009</td><td>8</td></tr><tr><td>M Muralitharan</td><td>2009</td><td>8</td></tr><tr><td>AN Ghosh</td><td>2009</td><td>7</td></tr><tr><td>SS Shaikh</td><td>2009</td><td>6</td></tr><tr><td>PJ Sangwan</td><td>2009</td><td>6</td></tr><tr><td>PC Valthaty</td><td>2009</td><td>6</td></tr><tr><td>SD Chitnis</td><td>2009</td><td>6</td></tr><tr><td>S Sreesanth</td><td>2009</td><td>5</td></tr><tr><td>FH Edwards</td><td>2009</td><td>4</td></tr><tr><td>L Balaji</td><td>2009</td><td>4</td></tr><tr><td>Kamran Khan</td><td>2009</td><td>3</td></tr><tr><td>AB McDonald</td><td>2009</td><td>3</td></tr><tr><td>SB Bangar</td><td>2009</td><td>2</td></tr><tr><td>Mashrafe Mortaza</td><td>2009</td><td>2</td></tr><tr><td>AB Dinda</td><td>2009</td><td>2</td></tr><tr><td>Mohammad Ashraful</td><td>2009</td><td>2</td></tr><tr><td>T Thushara</td><td>2009</td><td>2</td></tr><tr><td>Pankaj Singh</td><td>2009</td><td>1</td></tr><tr><td>Shoaib Ahmed</td><td>2009</td><td>1</td></tr><tr><td>PP Ojha</td><td>2009</td><td>1</td></tr><tr><td>A Singh</td><td>2009</td><td>1</td></tr><tr><td>KV Sharma</td><td>2009</td><td>1</td></tr><tr><td>A Nehra</td><td>2009</td><td>1</td></tr><tr><td>T Kohli</td><td>2009</td><td>1</td></tr><tr><td>KP Appanna</td><td>2009</td><td>0</td></tr><tr><td>SL Malinga</td><td>2009</td><td>0</td></tr><tr><td>L Ronchi</td><td>2009</td><td>0</td></tr><tr><td>C Nanda</td><td>2009</td><td>0</td></tr><tr><td>DW Steyn</td><td>2009</td><td>0</td></tr><tr><td>BAW Mendis</td><td>2009</td><td>0</td></tr><tr><td>TM Srivastava</td><td>2009</td><td>0</td></tr><tr><td>SR Tendulkar</td><td>2010</td><td>617</td></tr><tr><td>JH Kallis</td><td>2010</td><td>572</td></tr><tr><td>SK Raina</td><td>2010</td><td>528</td></tr><tr><td>SC Ganguly</td><td>2010</td><td>493</td></tr><tr><td>M Vijay</td><td>2010</td><td>458</td></tr><tr><td>DPMD Jayawardene</td><td>2010</td><td>445</td></tr><tr><td>A Symonds</td><td>2010</td><td>429</td></tr><tr><td>SS Tiwary</td><td>2010</td><td>419</td></tr><tr><td>RG Sharma</td><td>2010</td><td>404</td></tr><tr><td>NV Ojha</td><td>2010</td><td>377</td></tr><tr><td>RV Uthappa</td><td>2010</td><td>374</td></tr><tr><td>KC Sangakkara</td><td>2010</td><td>357</td></tr><tr><td>S Badrinath</td><td>2010</td><td>356</td></tr><tr><td>V Sehwag</td><td>2010</td><td>356</td></tr><tr><td>AT Rayudu</td><td>2010</td><td>356</td></tr><tr><td>ML Hayden</td><td>2010</td><td>346</td></tr><tr><td>YK Pathan</td><td>2010</td><td>333</td></tr><tr><td>V Kohli</td><td>2010</td><td>307</td></tr><tr><td>TL Suman</td><td>2010</td><td>307</td></tr><tr><td>CH Gayle</td><td>2010</td><td>292</td></tr><tr><td>AC Gilchrist</td><td>2010</td><td>289</td></tr><tr><td>MS Dhoni</td><td>2010</td><td>287</td></tr><tr><td>DA Warner</td><td>2010</td><td>282</td></tr><tr><td>KD Karthik</td><td>2010</td><td>278</td></tr><tr><td>MJ Lumb</td><td>2010</td><td>278</td></tr><tr><td>G Gambhir</td><td>2010</td><td>277</td></tr><tr><td>IK Pathan</td><td>2010</td><td>276</td></tr><tr><td>KA Pollard</td><td>2010</td><td>273</td></tr><tr><td>HH Gibbs</td><td>2010</td><td>267</td></tr><tr><td>Yuvraj Singh</td><td>2010</td><td>259</td></tr><tr><td>R Dravid</td><td>2010</td><td>256</td></tr><tr><td>MK Pandey</td><td>2010</td><td>249</td></tr><tr><td>RS Bopara</td><td>2010</td><td>248</td></tr><tr><td>MK Tiwary</td><td>2010</td><td>237</td></tr><tr><td>KP Pietersen</td><td>2010</td><td>236</td></tr><tr><td>AD Mathews</td><td>2010</td><td>233</td></tr><tr><td>MS Bisla</td><td>2010</td><td>218</td></tr><tr><td>PD Collingwood</td><td>2010</td><td>203</td></tr><tr><td>JA Morkel</td><td>2010</td><td>199</td></tr><tr><td>S Dhawan</td><td>2010</td><td>191</td></tr><tr><td>SR Watson</td><td>2010</td><td>185</td></tr><tr><td>AA Jhunjhunwala</td><td>2010</td><td>183</td></tr><tr><td>AC Voges</td><td>2010</td><td>181</td></tr><tr><td>MD Mishra</td><td>2010</td><td>166</td></tr><tr><td>FY Fazal</td><td>2010</td><td>164</td></tr><tr><td>JP Duminy</td><td>2010</td><td>157</td></tr><tr><td>M Manhas</td><td>2010</td><td>157</td></tr><tr><td>SE Marsh</td><td>2010</td><td>147</td></tr><tr><td>CA Pujara</td><td>2010</td><td>122</td></tr><tr><td>OA Shah</td><td>2010</td><td>115</td></tr><tr><td>BB McCullum</td><td>2010</td><td>114</td></tr><tr><td>R Sathish</td><td>2010</td><td>112</td></tr><tr><td>AB de Villiers</td><td>2010</td><td>111</td></tr><tr><td>P Dogra</td><td>2010</td><td>107</td></tr><tr><td>Harbhajan Singh</td><td>2010</td><td>105</td></tr><tr><td>BJ Hodge</td><td>2010</td><td>99</td></tr><tr><td>DJ Hussey</td><td>2010</td><td>94</td></tr><tr><td>LRPL Taylor</td><td>2010</td><td>88</td></tr><tr><td>KM Jadhav</td><td>2010</td><td>76</td></tr><tr><td>PA Patel</td><td>2010</td><td>72</td></tr><tr><td>WP Saha</td><td>2010</td><td>67</td></tr><tr><td>R McLaren</td><td>2010</td><td>66</td></tr><tr><td>AB McDonald</td><td>2010</td><td>65</td></tr><tr><td>VVS Laxman</td><td>2010</td><td>64</td></tr><tr><td>Anirudh Singh</td><td>2010</td><td>63</td></tr><tr><td>PP Chawla</td><td>2010</td><td>62</td></tr><tr><td>DJ Bravo</td><td>2010</td><td>61</td></tr><tr><td>AM Nayar</td><td>2010</td><td>58</td></tr><tr><td>AS Raut</td><td>2010</td><td>56</td></tr><tr><td>AP Tare</td><td>2010</td><td>50</td></tr><tr><td>CL White</td><td>2010</td><td>48</td></tr><tr><td>RJ Harris</td><td>2010</td><td>45</td></tr><tr><td>TM Dilshan</td><td>2010</td><td>44</td></tr><tr><td>GC Smith</td><td>2010</td><td>44</td></tr><tr><td>AB Barath</td><td>2010</td><td>42</td></tr><tr><td>AB Agarkar</td><td>2010</td><td>40</td></tr><tr><td>A Mishra</td><td>2010</td><td>39</td></tr><tr><td>MEK Hussey</td><td>2010</td><td>37</td></tr><tr><td>LR Shukla</td><td>2010</td><td>36</td></tr><tr><td>EJG Morgan</td><td>2010</td><td>35</td></tr><tr><td>B Sumanth</td><td>2010</td><td>35</td></tr><tr><td>AP Dole</td><td>2010</td><td>34</td></tr><tr><td>Y Venugopal Rao</td><td>2010</td><td>34</td></tr><tr><td>ST Jayasuriya</td><td>2010</td><td>33</td></tr><tr><td>DL Vettori</td><td>2010</td><td>33</td></tr><tr><td>MF Maharoof</td><td>2010</td><td>31</td></tr><tr><td>S Anirudha</td><td>2010</td><td>30</td></tr><tr><td>R Ashwin</td><td>2010</td><td>30</td></tr><tr><td>WPUJC Vaas</td><td>2010</td><td>30</td></tr><tr><td>R Sharma</td><td>2010</td><td>29</td></tr><tr><td>M Kaif</td><td>2010</td><td>28</td></tr><tr><td>MR Marsh</td><td>2010</td><td>28</td></tr><tr><td>S Sriram</td><td>2010</td><td>27</td></tr><tr><td>R Vinay Kumar</td><td>2010</td><td>27</td></tr><tr><td>S Sreesanth</td><td>2010</td><td>27</td></tr><tr><td>JM Kemp</td><td>2010</td><td>26</td></tr><tr><td>R Bhatia</td><td>2010</td><td>24</td></tr><tr><td>Z Khan</td><td>2010</td><td>24</td></tr><tr><td>A Nehra</td><td>2010</td><td>23</td></tr><tr><td>M Kartik</td><td>2010</td><td>22</td></tr><tr><td>DR Smith</td><td>2010</td><td>22</td></tr><tr><td>AJ Finch</td><td>2010</td><td>21</td></tr><tr><td>SK Trivedi</td><td>2010</td><td>20</td></tr><tr><td>DR Martyn</td><td>2010</td><td>19</td></tr><tr><td>DE Bollinger</td><td>2010</td><td>18</td></tr><tr><td>K Goel</td><td>2010</td><td>18</td></tr><tr><td>GJ Bailey</td><td>2010</td><td>18</td></tr><tr><td>L Balaji</td><td>2010</td><td>18</td></tr><tr><td>C Madan</td><td>2010</td><td>15</td></tr><tr><td>S Narwal</td><td>2010</td><td>14</td></tr><tr><td>MV Boucher</td><td>2010</td><td>13</td></tr><tr><td>DW Steyn</td><td>2010</td><td>13</td></tr><tr><td>AD Mascarenhas</td><td>2010</td><td>12</td></tr><tr><td>SW Tait</td><td>2010</td><td>12</td></tr><tr><td>B Lee</td><td>2010</td><td>11</td></tr><tr><td>MC Henriques</td><td>2010</td><td>11</td></tr><tr><td>T Thushara</td><td>2010</td><td>10</td></tr><tr><td>KAJ Roach</td><td>2010</td><td>10</td></tr><tr><td>SK Warne</td><td>2010</td><td>10</td></tr><tr><td>PJ Sangwan</td><td>2010</td><td>10</td></tr><tr><td>RP Singh</td><td>2010</td><td>9</td></tr><tr><td>M Morkel</td><td>2010</td><td>9</td></tr><tr><td>Bipul Sharma</td><td>2010</td><td>9</td></tr><tr><td>SP Goswami</td><td>2010</td><td>8</td></tr><tr><td>STR Binny</td><td>2010</td><td>8</td></tr><tr><td>Jaskaran Singh</td><td>2010</td><td>8</td></tr><tr><td>A Kumble</td><td>2010</td><td>6</td></tr><tr><td>I Sharma</td><td>2010</td><td>6</td></tr><tr><td>VS Malik</td><td>2010</td><td>6</td></tr><tr><td>A Mithun</td><td>2010</td><td>5</td></tr><tr><td>SA Asnodkar</td><td>2010</td><td>5</td></tr><tr><td>RR Powar</td><td>2010</td><td>5</td></tr><tr><td>Mandeep Singh</td><td>2010</td><td>4</td></tr><tr><td>P Kumar</td><td>2010</td><td>4</td></tr><tr><td>DP Nannes</td><td>2010</td><td>4</td></tr><tr><td>MM Patel</td><td>2010</td><td>4</td></tr><tr><td>A Uniyal</td><td>2010</td><td>4</td></tr><tr><td>RS Sodhi</td><td>2010</td><td>4</td></tr><tr><td>AN Ahmed</td><td>2010</td><td>4</td></tr><tr><td>KB Arun Karthik</td><td>2010</td><td>3</td></tr><tr><td>S Tyagi</td><td>2010</td><td>3</td></tr><tr><td>PP Ojha</td><td>2010</td><td>3</td></tr><tr><td>UT Yadav</td><td>2010</td><td>3</td></tr><tr><td>RS Gavaskar</td><td>2010</td><td>2</td></tr><tr><td>MS Gony</td><td>2010</td><td>2</td></tr><tr><td>KP Appanna</td><td>2010</td><td>2</td></tr><tr><td>J Theron</td><td>2010</td><td>2</td></tr><tr><td>AA Bilakhia</td><td>2010</td><td>2</td></tr><tr><td>CRD Fernando</td><td>2010</td><td>2</td></tr><tr><td>Pankaj Singh</td><td>2010</td><td>1</td></tr><tr><td>RE van der Merwe</td><td>2010</td><td>1</td></tr><tr><td>BAW Mendis</td><td>2010</td><td>1</td></tr><tr><td>M Muralitharan</td><td>2010</td><td>1</td></tr><tr><td>SE Bond</td><td>2010</td><td>1</td></tr><tr><td>Y Nagar</td><td>2010</td><td>1</td></tr><tr><td>SJ Srivastava</td><td>2010</td><td>1</td></tr><tr><td>SL Malinga</td><td>2010</td><td>1</td></tr><tr><td>AB Dinda</td><td>2010</td><td>0</td></tr><tr><td>CK Langeveldt</td><td>2010</td><td>0</td></tr><tr><td>Iqbal Abdulla</td><td>2010</td><td>0</td></tr><tr><td>YA Abdulla</td><td>2010</td><td>0</td></tr><tr><td>S Ladda</td><td>2010</td><td>0</td></tr><tr><td>AG Paunikar</td><td>2010</td><td>0</td></tr><tr><td>Harmeet Singh</td><td>2010</td><td>0</td></tr><tr><td>CH Gayle</td><td>2011</td><td>604</td></tr><tr><td>V Kohli</td><td>2011</td><td>557</td></tr><tr><td>SR Tendulkar</td><td>2011</td><td>553</td></tr><tr><td>SE Marsh</td><td>2011</td><td>504</td></tr><tr><td>MEK Hussey</td><td>2011</td><td>492</td></tr><tr><td>PC Valthaty</td><td>2011</td><td>459</td></tr><tr><td>SK Raina</td><td>2011</td><td>438</td></tr><tr><td>M Vijay</td><td>2011</td><td>434</td></tr><tr><td>JH Kallis</td><td>2011</td><td>424</td></tr><tr><td>V Sehwag</td><td>2011</td><td>424</td></tr><tr><td>S Dhawan</td><td>2011</td><td>400</td></tr><tr><td>S Badrinath</td><td>2011</td><td>396</td></tr><tr><td>AT Rayudu</td><td>2011</td><td>395</td></tr><tr><td>MS Dhoni</td><td>2011</td><td>392</td></tr><tr><td>AC Gilchrist</td><td>2011</td><td>383</td></tr><tr><td>G Gambhir</td><td>2011</td><td>378</td></tr><tr><td>RG Sharma</td><td>2011</td><td>372</td></tr><tr><td>MK Tiwary</td><td>2011</td><td>359</td></tr><tr><td>KC Sangakkara</td><td>2011</td><td>358</td></tr><tr><td>BB McCullum</td><td>2011</td><td>357</td></tr><tr><td>Yuvraj Singh</td><td>2011</td><td>343</td></tr><tr><td>R Dravid</td><td>2011</td><td>339</td></tr><tr><td>Y Venugopal Rao</td><td>2011</td><td>336</td></tr><tr><td>SR Watson</td><td>2011</td><td>330</td></tr><tr><td>DA Warner</td><td>2011</td><td>324</td></tr><tr><td>AB de Villiers</td><td>2011</td><td>312</td></tr><tr><td>DPMD Jayawardene</td><td>2011</td><td>299</td></tr><tr><td>JD Ryder</td><td>2011</td><td>292</td></tr><tr><td>BJ Hodge</td><td>2011</td><td>285</td></tr><tr><td>YK Pathan</td><td>2011</td><td>283</td></tr><tr><td>RA Jadeja</td><td>2011</td><td>283</td></tr><tr><td>KD Karthik</td><td>2011</td><td>282</td></tr><tr><td>RV Uthappa</td><td>2011</td><td>264</td></tr><tr><td>S Sohal</td><td>2011</td><td>249</td></tr><tr><td>MK Pandey</td><td>2011</td><td>246</td></tr><tr><td>J Botha</td><td>2011</td><td>230</td></tr><tr><td>TM Dilshan</td><td>2011</td><td>226</td></tr><tr><td>B Chipli</td><td>2011</td><td>207</td></tr><tr><td>JP Duminy</td><td>2011</td><td>205</td></tr><tr><td>PA Patel</td><td>2011</td><td>202</td></tr><tr><td>JR Hopes</td><td>2011</td><td>196</td></tr><tr><td>DT Christian</td><td>2011</td><td>190</td></tr><tr><td>SS Tiwary</td><td>2011</td><td>187</td></tr><tr><td>DB Ravi Teja</td><td>2011</td><td>183</td></tr><tr><td>LRPL Taylor</td><td>2011</td><td>181</td></tr><tr><td>AL Menaria</td><td>2011</td><td>180</td></tr><tr><td>NV Ojha</td><td>2011</td><td>160</td></tr><tr><td>IK Pathan</td><td>2011</td><td>150</td></tr><tr><td>KA Pollard</td><td>2011</td><td>146</td></tr><tr><td>MA Agarwal</td><td>2011</td><td>141</td></tr><tr><td>JA Morkel</td><td>2011</td><td>138</td></tr><tr><td>EJG Morgan</td><td>2011</td><td>137</td></tr><tr><td>A Symonds</td><td>2011</td><td>135</td></tr><tr><td>AC Blizzard</td><td>2011</td><td>120</td></tr><tr><td>AM Rahane</td><td>2011</td><td>120</td></tr><tr><td>M Manhas</td><td>2011</td><td>114</td></tr><tr><td>Y Nagar</td><td>2011</td><td>111</td></tr><tr><td>RN ten Doeschate</td><td>2011</td><td>107</td></tr><tr><td>JEC Franklin</td><td>2011</td><td>107</td></tr><tr><td>CL White</td><td>2011</td><td>104</td></tr><tr><td>Harbhajan Singh</td><td>2011</td><td>103</td></tr><tr><td>DJ Jacobs</td><td>2011</td><td>92</td></tr><tr><td>R McLaren</td><td>2011</td><td>90</td></tr><tr><td>S Anirudha</td><td>2011</td><td>83</td></tr><tr><td>TR Birt</td><td>2011</td><td>75</td></tr><tr><td>M Klinger</td><td>2011</td><td>73</td></tr><tr><td>MS Bisla</td><td>2011</td><td>72</td></tr><tr><td>WP Saha</td><td>2011</td><td>68</td></tr><tr><td>A Mishra</td><td>2011</td><td>68</td></tr><tr><td>MD Mishra</td><td>2011</td><td>67</td></tr><tr><td>TL Suman</td><td>2011</td><td>65</td></tr><tr><td>DJ Hussey</td><td>2011</td><td>64</td></tr><tr><td>AM Nayar</td><td>2011</td><td>61</td></tr><tr><td>AS Raut</td><td>2011</td><td>60</td></tr><tr><td>LA Pomersbach</td><td>2011</td><td>51</td></tr><tr><td>MR Marsh</td><td>2011</td><td>50</td></tr><tr><td>R Vinay Kumar</td><td>2011</td><td>50</td></tr><tr><td>SC Ganguly</td><td>2011</td><td>50</td></tr><tr><td>AG Paunikar</td><td>2011</td><td>49</td></tr><tr><td>CJ Ferguson</td><td>2011</td><td>48</td></tr><tr><td>PP Chawla</td><td>2011</td><td>48</td></tr><tr><td>Mandeep Singh</td><td>2011</td><td>47</td></tr><tr><td>AJ Finch</td><td>2011</td><td>47</td></tr><tr><td>RV Gomez</td><td>2011</td><td>46</td></tr><tr><td>VVS Laxman</td><td>2011</td><td>44</td></tr><tr><td>Sunny Singh</td><td>2011</td><td>43</td></tr><tr><td>GC Smith</td><td>2011</td><td>42</td></tr><tr><td>M Kaif</td><td>2011</td><td>41</td></tr><tr><td>M Morkel</td><td>2011</td><td>40</td></tr><tr><td>WD Parnell</td><td>2011</td><td>37</td></tr><tr><td>STR Binny</td><td>2011</td><td>37</td></tr><tr><td>DW Steyn</td><td>2011</td><td>36</td></tr><tr><td>CA Pujara</td><td>2011</td><td>34</td></tr><tr><td>AUK Pathan</td><td>2011</td><td>33</td></tr><tr><td>RJ Harris</td><td>2011</td><td>31</td></tr><tr><td>SP Goswami</td><td>2011</td><td>29</td></tr><tr><td>Shakib Al Hasan</td><td>2011</td><td>29</td></tr><tr><td>IR Jaggi</td><td>2011</td><td>28</td></tr><tr><td>P Kumar</td><td>2011</td><td>27</td></tr><tr><td>A Mithun</td><td>2011</td><td>27</td></tr><tr><td>NL McCullum</td><td>2011</td><td>26</td></tr><tr><td>OA Shah</td><td>2011</td><td>26</td></tr><tr><td>R Bhatia</td><td>2011</td><td>25</td></tr><tr><td>R Sathish</td><td>2011</td><td>25</td></tr><tr><td>R Sharma</td><td>2011</td><td>24</td></tr><tr><td>Bipul Sharma</td><td>2011</td><td>23</td></tr><tr><td>DL Vettori</td><td>2011</td><td>23</td></tr><tr><td>NLTC Perera</td><td>2011</td><td>23</td></tr><tr><td>MS Wade</td><td>2011</td><td>22</td></tr><tr><td>Z Khan</td><td>2011</td><td>21</td></tr><tr><td>CA Ingram</td><td>2011</td><td>21</td></tr><tr><td>Y Gnaneswara Rao</td><td>2011</td><td>19</td></tr><tr><td>FY Fazal</td><td>2011</td><td>19</td></tr><tr><td>S Rana</td><td>2011</td><td>18</td></tr><tr><td>JJ van der Wath</td><td>2011</td><td>18</td></tr><tr><td>KM Jadhav</td><td>2011</td><td>18</td></tr><tr><td>BJ Haddin</td><td>2011</td><td>18</td></tr><tr><td>AN Ahmed</td><td>2011</td><td>18</td></tr><tr><td>DH Yagnik</td><td>2011</td><td>16</td></tr><tr><td>J Syed Mohammad</td><td>2011</td><td>15</td></tr><tr><td>Iqbal Abdulla</td><td>2011</td><td>15</td></tr><tr><td>Harpreet Singh</td><td>2011</td><td>14</td></tr><tr><td>RE van der Merwe</td><td>2011</td><td>14</td></tr><tr><td>LR Shukla</td><td>2011</td><td>14</td></tr><tr><td>S Aravind</td><td>2011</td><td>13</td></tr><tr><td>B Akhil</td><td>2011</td><td>13</td></tr><tr><td>M Kartik</td><td>2011</td><td>12</td></tr><tr><td>RR Powar</td><td>2011</td><td>11</td></tr><tr><td>DJ Bravo</td><td>2011</td><td>11</td></tr><tr><td>TD Paine</td><td>2011</td><td>10</td></tr><tr><td>AA Jhunjhunwala</td><td>2011</td><td>10</td></tr><tr><td>SK Warne</td><td>2011</td><td>10</td></tr><tr><td>SW Tait</td><td>2011</td><td>10</td></tr><tr><td>SD Chitnis</td><td>2011</td><td>9</td></tr><tr><td>SA Asnodkar</td><td>2011</td><td>9</td></tr><tr><td>CK Langeveldt</td><td>2011</td><td>8</td></tr><tr><td>AB McDonald</td><td>2011</td><td>8</td></tr><tr><td>SL Malinga</td><td>2011</td><td>8</td></tr><tr><td>KB Arun Karthik</td><td>2011</td><td>7</td></tr><tr><td>AB Agarkar</td><td>2011</td><td>7</td></tr><tr><td>I Malhotra</td><td>2011</td><td>7</td></tr><tr><td>MV Boucher</td><td>2011</td><td>6</td></tr><tr><td>SB Styris</td><td>2011</td><td>5</td></tr><tr><td>B Lee</td><td>2011</td><td>5</td></tr><tr><td>M Muralitharan</td><td>2011</td><td>5</td></tr><tr><td>PR Shah</td><td>2011</td><td>5</td></tr><tr><td>SJ Srivastava</td><td>2011</td><td>4</td></tr><tr><td>L Balaji</td><td>2011</td><td>4</td></tr><tr><td>I Sharma</td><td>2011</td><td>4</td></tr><tr><td>S Sriram</td><td>2011</td><td>4</td></tr><tr><td>R Ninan</td><td>2011</td><td>3</td></tr><tr><td>JE Taylor</td><td>2011</td><td>3</td></tr><tr><td>SB Wagh</td><td>2011</td><td>2</td></tr><tr><td>S Randiv</td><td>2011</td><td>2</td></tr><tr><td>R Ashwin</td><td>2011</td><td>2</td></tr><tr><td>RP Singh</td><td>2011</td><td>2</td></tr><tr><td>DS Kulkarni</td><td>2011</td><td>2</td></tr><tr><td>AG Murtaza</td><td>2011</td><td>2</td></tr><tr><td>UBT Chand</td><td>2011</td><td>2</td></tr><tr><td>S Sreesanth</td><td>2011</td><td>1</td></tr><tr><td>NJ Rimmington</td><td>2011</td><td>1</td></tr><tr><td>AC Thomas</td><td>2011</td><td>1</td></tr><tr><td>B Kumar</td><td>2011</td><td>1</td></tr><tr><td>AA Chavan</td><td>2011</td><td>1</td></tr><tr><td>P Parameswaran</td><td>2011</td><td>1</td></tr><tr><td>A Singh</td><td>2011</td><td>1</td></tr><tr><td>UT Yadav</td><td>2011</td><td>1</td></tr><tr><td>Joginder Sharma</td><td>2011</td><td>0</td></tr><tr><td>L Ablish</td><td>2011</td><td>0</td></tr><tr><td>DE Bollinger</td><td>2011</td><td>0</td></tr><tr><td>BA Bhatt</td><td>2011</td><td>0</td></tr><tr><td>VR Aaron</td><td>2011</td><td>0</td></tr><tr><td>MS Gony</td><td>2011</td><td>0</td></tr><tr><td>SK Trivedi</td><td>2011</td><td>0</td></tr><tr><td>MJ Lumb</td><td>2011</td><td>0</td></tr><tr><td>ND Doshi</td><td>2011</td><td>0</td></tr><tr><td>JDP Oram</td><td>2011</td><td>0</td></tr><tr><td>MM Patel</td><td>2011</td><td>0</td></tr><tr><td>AB Dinda</td><td>2011</td><td>0</td></tr><tr><td>S Nadeem</td><td>2011</td><td>0</td></tr><tr><td>CH Gayle</td><td>2012</td><td>733</td></tr><tr><td>G Gambhir</td><td>2012</td><td>590</td></tr><tr><td>S Dhawan</td><td>2012</td><td>569</td></tr><tr><td>AM Rahane</td><td>2012</td><td>560</td></tr><tr><td>V Sehwag</td><td>2012</td><td>495</td></tr><tr><td>CL White</td><td>2012</td><td>479</td></tr><tr><td>R Dravid</td><td>2012</td><td>462</td></tr><tr><td>SK Raina</td><td>2012</td><td>441</td></tr><tr><td>RG Sharma</td><td>2012</td><td>433</td></tr><tr><td>Mandeep Singh</td><td>2012</td><td>432</td></tr><tr><td>JH Kallis</td><td>2012</td><td>409</td></tr><tr><td>RV Uthappa</td><td>2012</td><td>405</td></tr><tr><td>F du Plessis</td><td>2012</td><td>398</td></tr><tr><td>DJ Hussey</td><td>2012</td><td>396</td></tr><tr><td>DJ Bravo</td><td>2012</td><td>371</td></tr><tr><td>SPD Smith</td><td>2012</td><td>362</td></tr><tr><td>V Kohli</td><td>2012</td><td>358</td></tr><tr><td>MS Dhoni</td><td>2012</td><td>357</td></tr><tr><td>OA Shah</td><td>2012</td><td>340</td></tr><tr><td>M Vijay</td><td>2012</td><td>336</td></tr><tr><td>SE Marsh</td><td>2012</td><td>336</td></tr><tr><td>DPMD Jayawardene</td><td>2012</td><td>335</td></tr><tr><td>AT Rayudu</td><td>2012</td><td>333</td></tr><tr><td>SR Tendulkar</td><td>2012</td><td>324</td></tr><tr><td>AB de Villiers</td><td>2012</td><td>319</td></tr><tr><td>KP Pietersen</td><td>2012</td><td>305</td></tr><tr><td>TM Dilshan</td><td>2012</td><td>291</td></tr><tr><td>BB McCullum</td><td>2012</td><td>289</td></tr><tr><td>SC Ganguly</td><td>2012</td><td>268</td></tr><tr><td>MEK Hussey</td><td>2012</td><td>261</td></tr><tr><td>MK Tiwary</td><td>2012</td><td>260</td></tr><tr><td>JD Ryder</td><td>2012</td><td>256</td></tr><tr><td>DA Warner</td><td>2012</td><td>256</td></tr><tr><td>NV Ojha</td><td>2012</td><td>255</td></tr><tr><td>SR Watson</td><td>2012</td><td>255</td></tr><tr><td>BJ Hodge</td><td>2012</td><td>245</td></tr><tr><td>JP Duminy</td><td>2012</td><td>244</td></tr><tr><td>KD Karthik</td><td>2012</td><td>238</td></tr><tr><td>MA Agarwal</td><td>2012</td><td>225</td></tr><tr><td>KA Pollard</td><td>2012</td><td>220</td></tr><tr><td>AL Menaria</td><td>2012</td><td>220</td></tr><tr><td>JEC Franklin</td><td>2012</td><td>214</td></tr><tr><td>MS Bisla</td><td>2012</td><td>213</td></tr><tr><td>KC Sangakkara</td><td>2012</td><td>200</td></tr><tr><td>LRPL Taylor</td><td>2012</td><td>197</td></tr><tr><td>S Badrinath</td><td>2012</td><td>196</td></tr><tr><td>YK Pathan</td><td>2012</td><td>194</td></tr><tr><td>PA Patel</td><td>2012</td><td>194</td></tr><tr><td>RA Jadeja</td><td>2012</td><td>191</td></tr><tr><td>Azhar Mahmood</td><td>2012</td><td>186</td></tr><tr><td>SS Tiwary</td><td>2012</td><td>185</td></tr><tr><td>IK Pathan</td><td>2012</td><td>176</td></tr><tr><td>AC Gilchrist</td><td>2012</td><td>172</td></tr><tr><td>DR Smith</td><td>2012</td><td>157</td></tr><tr><td>Y Nagar</td><td>2012</td><td>153</td></tr><tr><td>DT Christian</td><td>2012</td><td>145</td></tr><tr><td>MK Pandey</td><td>2012</td><td>143</td></tr><tr><td>N Saini</td><td>2012</td><td>140</td></tr><tr><td>Y Venugopal Rao</td><td>2012</td><td>132</td></tr><tr><td>AD Mathews</td><td>2012</td><td>127</td></tr><tr><td>DB Das</td><td>2012</td><td>126</td></tr><tr><td>MN Samuels</td><td>2012</td><td>124</td></tr><tr><td>M Manhas</td><td>2012</td><td>120</td></tr><tr><td>DJ Harris</td><td>2012</td><td>111</td></tr><tr><td>Harbhajan Singh</td><td>2012</td><td>108</td></tr><tr><td>JA Morkel</td><td>2012</td><td>107</td></tr><tr><td>PP Chawla</td><td>2012</td><td>106</td></tr><tr><td>MJ Clarke</td><td>2012</td><td>98</td></tr><tr><td>DA Miller</td><td>2012</td><td>98</td></tr><tr><td>Shakib Al Hasan</td><td>2012</td><td>91</td></tr><tr><td>STR Binny</td><td>2012</td><td>90</td></tr><tr><td>AP Majumdar</td><td>2012</td><td>87</td></tr><tr><td>Gurkeerat Singh</td><td>2012</td><td>86</td></tr><tr><td>RE Levi</td><td>2012</td><td>83</td></tr><tr><td>HH Gibbs</td><td>2012</td><td>81</td></tr><tr><td>LR Shukla</td><td>2012</td><td>75</td></tr><tr><td>PA Reddy</td><td>2012</td><td>73</td></tr><tr><td>Bipul Sharma</td><td>2012</td><td>72</td></tr><tr><td>SP Goswami</td><td>2012</td><td>69</td></tr><tr><td>R Vinay Kumar</td><td>2012</td><td>68</td></tr><tr><td>SD Chitnis</td><td>2012</td><td>66</td></tr><tr><td>J Botha</td><td>2012</td><td>58</td></tr><tr><td>SL Malinga</td><td>2012</td><td>55</td></tr><tr><td>AJ Finch</td><td>2012</td><td>55</td></tr><tr><td>CJ Ferguson</td><td>2012</td><td>50</td></tr><tr><td>AB McDonald</td><td>2012</td><td>47</td></tr><tr><td>AD Russell</td><td>2012</td><td>47</td></tr><tr><td>AM Nayar</td><td>2012</td><td>45</td></tr><tr><td>B Lee</td><td>2012</td><td>42</td></tr><tr><td>B Kumar</td><td>2012</td><td>40</td></tr><tr><td>KK Cooper</td><td>2012</td><td>38</td></tr><tr><td>B Chipli</td><td>2012</td><td>37</td></tr><tr><td>P Negi</td><td>2012</td><td>36</td></tr><tr><td>UBT Chand</td><td>2012</td><td>36</td></tr><tr><td>R Bhatia</td><td>2012</td><td>35</td></tr><tr><td>A Ashish Reddy</td><td>2012</td><td>35</td></tr><tr><td>P Kumar</td><td>2012</td><td>35</td></tr><tr><td>RJ Peterson</td><td>2012</td><td>32</td></tr><tr><td>DL Vettori</td><td>2012</td><td>31</td></tr><tr><td>PC Valthaty</td><td>2012</td><td>30</td></tr><tr><td>M Kartik</td><td>2012</td><td>26</td></tr><tr><td>DH Yagnik</td><td>2012</td><td>25</td></tr><tr><td>AA Jhunjhunwala</td><td>2012</td><td>24</td></tr><tr><td>RN ten Doeschate</td><td>2012</td><td>21</td></tr><tr><td>DW Steyn</td><td>2012</td><td>19</td></tr><tr><td>S Anirudha</td><td>2012</td><td>19</td></tr><tr><td>WD Parnell</td><td>2012</td><td>19</td></tr><tr><td>AC Thomas</td><td>2012</td><td>19</td></tr><tr><td>R Ashwin</td><td>2012</td><td>18</td></tr><tr><td>Ankit Sharma</td><td>2012</td><td>18</td></tr><tr><td>RJ Harris</td><td>2012</td><td>18</td></tr><tr><td>CA Pujara</td><td>2012</td><td>17</td></tr><tr><td>A Mishra</td><td>2012</td><td>16</td></tr><tr><td>IR Jaggi</td><td>2012</td><td>15</td></tr><tr><td>HV Patel</td><td>2012</td><td>15</td></tr><tr><td>TL Suman</td><td>2012</td><td>15</td></tr><tr><td>P Dogra</td><td>2012</td><td>15</td></tr><tr><td>Harmeet Singh</td><td>2012</td><td>15</td></tr><tr><td>GB Hogg</td><td>2012</td><td>15</td></tr><tr><td>S Aravind</td><td>2012</td><td>14</td></tr><tr><td>M Kaif</td><td>2012</td><td>14</td></tr><tr><td>AD Mascarenhas</td><td>2012</td><td>14</td></tr><tr><td>JP Faulkner</td><td>2012</td><td>14</td></tr><tr><td>Z Khan</td><td>2012</td><td>12</td></tr><tr><td>DAJ Bracewell</td><td>2012</td><td>12</td></tr><tr><td>K Upadhyay</td><td>2012</td><td>11</td></tr><tr><td>A Nehra</td><td>2012</td><td>11</td></tr><tr><td>AA Chavan</td><td>2012</td><td>11</td></tr><tr><td>DS Kulkarni</td><td>2012</td><td>10</td></tr><tr><td>SP Narine</td><td>2012</td><td>9</td></tr><tr><td>CJ McKay</td><td>2012</td><td>8</td></tr><tr><td>J Theron</td><td>2012</td><td>7</td></tr><tr><td>SB Jakati</td><td>2012</td><td>7</td></tr><tr><td>RP Singh</td><td>2012</td><td>6</td></tr><tr><td>WP Saha</td><td>2012</td><td>6</td></tr><tr><td>Harpreet Singh</td><td>2012</td><td>6</td></tr><tr><td>M Muralitharan</td><td>2012</td><td>6</td></tr><tr><td>AUK Pathan</td><td>2012</td><td>6</td></tr><tr><td>CA Lynn</td><td>2012</td><td>6</td></tr><tr><td>GJ Maxwell</td><td>2012</td><td>6</td></tr><tr><td>BA Bhatt</td><td>2012</td><td>6</td></tr><tr><td>KMDN Kulasekara</td><td>2012</td><td>5</td></tr><tr><td>SK Trivedi</td><td>2012</td><td>5</td></tr><tr><td>DB Ravi Teja</td><td>2012</td><td>4</td></tr><tr><td>MS Gony</td><td>2012</td><td>4</td></tr><tr><td>MD Mishra</td><td>2012</td><td>4</td></tr><tr><td>PP Ojha</td><td>2012</td><td>4</td></tr><tr><td>J Syed Mohammad</td><td>2012</td><td>4</td></tr><tr><td>P Awana</td><td>2012</td><td>4</td></tr><tr><td>NLTC Perera</td><td>2012</td><td>3</td></tr><tr><td>AG Murtaza</td><td>2012</td><td>3</td></tr><tr><td>M Morkel</td><td>2012</td><td>3</td></tr><tr><td>DE Bollinger</td><td>2012</td><td>3</td></tr><tr><td>R Sharma</td><td>2012</td><td>2</td></tr><tr><td>BB Samantray</td><td>2012</td><td>2</td></tr><tr><td>Iqbal Abdulla</td><td>2012</td><td>2</td></tr><tr><td>MM Patel</td><td>2012</td><td>2</td></tr><tr><td>AB Dinda</td><td>2012</td><td>2</td></tr><tr><td>UT Yadav</td><td>2012</td><td>2</td></tr><tr><td>VR Aaron</td><td>2012</td><td>1</td></tr><tr><td>DJ Jacobs</td><td>2012</td><td>0</td></tr><tr><td>AC Blizzard</td><td>2012</td><td>0</td></tr><tr><td>RR Bhatkal</td><td>2012</td><td>0</td></tr><tr><td>P Parameswaran</td><td>2012</td><td>0</td></tr><tr><td>V Pratap Singh</td><td>2012</td><td>0</td></tr><tr><td>SA Yadav</td><td>2012</td><td>0</td></tr><tr><td>Sunny Gupta</td><td>2012</td><td>0</td></tr><tr><td>A Chandila</td><td>2012</td><td>0</td></tr><tr><td>S Nadeem</td><td>2012</td><td>0</td></tr><tr><td>A Singh</td><td>2012</td><td>0</td></tr><tr><td>MEK Hussey</td><td>2013</td><td>733</td></tr><tr><td>CH Gayle</td><td>2013</td><td>720</td></tr><tr><td>V Kohli</td><td>2013</td><td>639</td></tr><tr><td>SK Raina</td><td>2013</td><td>548</td></tr><tr><td>SR Watson</td><td>2013</td><td>543</td></tr><tr><td>RG Sharma</td><td>2013</td><td>538</td></tr><tr><td>KD Karthik</td><td>2013</td><td>510</td></tr><tr><td>AM Rahane</td><td>2013</td><td>488</td></tr><tr><td>R Dravid</td><td>2013</td><td>471</td></tr><tr><td>MS Dhoni</td><td>2013</td><td>461</td></tr><tr><td>AJ Finch</td><td>2013</td><td>456</td></tr><tr><td>RV Uthappa</td><td>2013</td><td>434</td></tr><tr><td>KA Pollard</td><td>2013</td><td>420</td></tr><tr><td>DR Smith</td><td>2013</td><td>418</td></tr><tr><td>DA Miller</td><td>2013</td><td>418</td></tr><tr><td>DA Warner</td><td>2013</td><td>410</td></tr><tr><td>G Gambhir</td><td>2013</td><td>406</td></tr><tr><td>AB de Villiers</td><td>2013</td><td>373</td></tr><tr><td>YK Pathan</td><td>2013</td><td>332</td></tr><tr><td>DPMD Jayawardene</td><td>2013</td><td>331</td></tr><tr><td>M Vijay</td><td>2013</td><td>312</td></tr><tr><td>JH Kallis</td><td>2013</td><td>311</td></tr><tr><td>S Dhawan</td><td>2013</td><td>311</td></tr><tr><td>EJG Morgan</td><td>2013</td><td>307</td></tr><tr><td>SE Marsh</td><td>2013</td><td>300</td></tr><tr><td>V Sehwag</td><td>2013</td><td>295</td></tr><tr><td>AC Gilchrist</td><td>2013</td><td>294</td></tr><tr><td>PA Patel</td><td>2013</td><td>294</td></tr><tr><td>BJ Hodge</td><td>2013</td><td>293</td></tr><tr><td>STR Binny</td><td>2013</td><td>293</td></tr><tr><td>SR Tendulkar</td><td>2013</td><td>283</td></tr><tr><td>AT Rayudu</td><td>2013</td><td>265</td></tr><tr><td>Mandeep Singh</td><td>2013</td><td>260</td></tr><tr><td>MS Bisla</td><td>2013</td><td>255</td></tr><tr><td>GH Vihari</td><td>2013</td><td>241</td></tr><tr><td>Yuvraj Singh</td><td>2013</td><td>238</td></tr><tr><td>DJ Hussey</td><td>2013</td><td>235</td></tr><tr><td>NLTC Perera</td><td>2013</td><td>235</td></tr><tr><td>CL White</td><td>2013</td><td>226</td></tr><tr><td>SV Samson</td><td>2013</td><td>206</td></tr><tr><td>RA Jadeja</td><td>2013</td><td>201</td></tr><tr><td>Azhar Mahmood</td><td>2013</td><td>196</td></tr><tr><td>BJ Rohrer</td><td>2013</td><td>193</td></tr><tr><td>DJG Sammy</td><td>2013</td><td>174</td></tr><tr><td>AD Mathews</td><td>2013</td><td>172</td></tr><tr><td>MC Henriques</td><td>2013</td><td>165</td></tr><tr><td>M Vohra</td><td>2013</td><td>161</td></tr><tr><td>SPD Smith</td><td>2013</td><td>159</td></tr><tr><td>UBT Chand</td><td>2013</td><td>158</td></tr><tr><td>IK Pathan</td><td>2013</td><td>153</td></tr><tr><td>KM Jadhav</td><td>2013</td><td>152</td></tr><tr><td>MK Tiwary</td><td>2013</td><td>146</td></tr><tr><td>MR Marsh</td><td>2013</td><td>140</td></tr><tr><td>MK Pandey</td><td>2013</td><td>136</td></tr><tr><td>MC Juneja</td><td>2013</td><td>125</td></tr><tr><td>DH Yagnik</td><td>2013</td><td>125</td></tr><tr><td>A Ashish Reddy</td><td>2013</td><td>125</td></tr><tr><td>S Badrinath</td><td>2013</td><td>124</td></tr><tr><td>BB Samantray</td><td>2013</td><td>123</td></tr><tr><td>AP Tare</td><td>2013</td><td>123</td></tr><tr><td>DJ Bravo</td><td>2013</td><td>121</td></tr><tr><td>KC Sangakkara</td><td>2013</td><td>120</td></tr><tr><td>Harbhajan Singh</td><td>2013</td><td>116</td></tr><tr><td>SS Tiwary</td><td>2013</td><td>109</td></tr><tr><td>R Sathish</td><td>2013</td><td>109</td></tr><tr><td>Gurkeerat Singh</td><td>2013</td><td>108</td></tr><tr><td>LJ Wright</td><td>2013</td><td>106</td></tr><tr><td>R Bhatia</td><td>2013</td><td>99</td></tr><tr><td>CA Pujara</td><td>2013</td><td>92</td></tr><tr><td>PA Reddy</td><td>2013</td><td>91</td></tr><tr><td>A Mishra</td><td>2013</td><td>89</td></tr><tr><td>RN ten Doeschate</td><td>2013</td><td>85</td></tr><tr><td>KV Sharma</td><td>2013</td><td>85</td></tr><tr><td>TM Dilshan</td><td>2013</td><td>76</td></tr><tr><td>DB Das</td><td>2013</td><td>75</td></tr><tr><td>R Vinay Kumar</td><td>2013</td><td>70</td></tr><tr><td>WP Saha</td><td>2013</td><td>70</td></tr><tr><td>MA Agarwal</td><td>2013</td><td>67</td></tr><tr><td>AM Nayar</td><td>2013</td><td>66</td></tr><tr><td>PP Chawla</td><td>2013</td><td>64</td></tr><tr><td>LRPL Taylor</td><td>2013</td><td>63</td></tr><tr><td>LA Pomersbach</td><td>2013</td><td>58</td></tr><tr><td>JP Faulkner</td><td>2013</td><td>57</td></tr><tr><td>M Morkel</td><td>2013</td><td>57</td></tr><tr><td>DW Steyn</td><td>2013</td><td>53</td></tr><tr><td>RT Ponting</td><td>2013</td><td>52</td></tr><tr><td>TL Suman</td><td>2013</td><td>52</td></tr><tr><td>B Kumar</td><td>2013</td><td>52</td></tr><tr><td>P Kumar</td><td>2013</td><td>47</td></tr><tr><td>JA Morkel</td><td>2013</td><td>46</td></tr><tr><td>MS Gony</td><td>2013</td><td>45</td></tr><tr><td>CM Gautam</td><td>2013</td><td>44</td></tr><tr><td>J Botha</td><td>2013</td><td>43</td></tr><tr><td>KB Arun Karthik</td><td>2013</td><td>41</td></tr><tr><td>MG Johnson</td><td>2013</td><td>39</td></tr><tr><td>KK Cooper</td><td>2013</td><td>39</td></tr><tr><td>UT Yadav</td><td>2013</td><td>38</td></tr><tr><td>R Rampaul</td><td>2013</td><td>38</td></tr><tr><td>GJ Maxwell</td><td>2013</td><td>36</td></tr><tr><td>R Ashwin</td><td>2013</td><td>35</td></tr><tr><td>KW Richardson</td><td>2013</td><td>34</td></tr><tr><td>OA Shah</td><td>2013</td><td>25</td></tr><tr><td>BMAJ Mendis</td><td>2013</td><td>23</td></tr><tr><td>S Narwal</td><td>2013</td><td>23</td></tr><tr><td>RE van der Merwe</td><td>2013</td><td>22</td></tr><tr><td>B Lee</td><td>2013</td><td>21</td></tr><tr><td>SP Narine</td><td>2013</td><td>21</td></tr><tr><td>R Dhawan</td><td>2013</td><td>21</td></tr><tr><td>KL Rahul</td><td>2013</td><td>20</td></tr><tr><td>A Mukund</td><td>2013</td><td>19</td></tr><tr><td>B Chipli</td><td>2013</td><td>16</td></tr><tr><td>MDKJ Perera</td><td>2013</td><td>14</td></tr><tr><td>S Nadeem</td><td>2013</td><td>14</td></tr><tr><td>CH Morris</td><td>2013</td><td>14</td></tr><tr><td>DB Ravi Teja</td><td>2013</td><td>14</td></tr><tr><td>M Manhas</td><td>2013</td><td>13</td></tr><tr><td>AB Agarkar</td><td>2013</td><td>12</td></tr><tr><td>AD Russell</td><td>2013</td><td>11</td></tr><tr><td>R Sharma</td><td>2013</td><td>11</td></tr><tr><td>SMSM Senanayake</td><td>2013</td><td>10</td></tr><tr><td>X Thalaivan Sargunam</td><td>2013</td><td>10</td></tr><tr><td>J Syed Mohammad</td><td>2013</td><td>10</td></tr><tr><td>SL Malinga</td><td>2013</td><td>9</td></tr><tr><td>L Balaji</td><td>2013</td><td>9</td></tr><tr><td>NV Ojha</td><td>2013</td><td>9</td></tr><tr><td>NM Coulter-Nile</td><td>2013</td><td>9</td></tr><tr><td>KK Nair</td><td>2013</td><td>9</td></tr><tr><td>AB Dinda</td><td>2013</td><td>9</td></tr><tr><td>Iqbal Abdulla</td><td>2013</td><td>8</td></tr><tr><td>MN Samuels</td><td>2013</td><td>8</td></tr><tr><td>S Kaul</td><td>2013</td><td>7</td></tr><tr><td>UA Birla</td><td>2013</td><td>7</td></tr><tr><td>BB McCullum</td><td>2013</td><td>6</td></tr><tr><td>Q de Kock</td><td>2013</td><td>6</td></tr><tr><td>DT Christian</td><td>2013</td><td>6</td></tr><tr><td>PC Valthaty</td><td>2013</td><td>6</td></tr><tr><td>Mohammed Shami</td><td>2013</td><td>5</td></tr><tr><td>P Dogra</td><td>2013</td><td>5</td></tr><tr><td>AG Murtaza</td><td>2013</td><td>5</td></tr><tr><td>M Rawat</td><td>2013</td><td>5</td></tr><tr><td>WD Parnell</td><td>2013</td><td>5</td></tr><tr><td>Parvez Rasool</td><td>2013</td><td>5</td></tr><tr><td>AD Mascarenhas</td><td>2013</td><td>5</td></tr><tr><td>PJ Sangwan</td><td>2013</td><td>4</td></tr><tr><td>B Laughlin</td><td>2013</td><td>4</td></tr><tr><td>RV Gomez</td><td>2013</td><td>4</td></tr><tr><td>A Chandila</td><td>2013</td><td>4</td></tr><tr><td>SK Trivedi</td><td>2013</td><td>3</td></tr><tr><td>LR Shukla</td><td>2013</td><td>3</td></tr><tr><td>R McLaren</td><td>2013</td><td>3</td></tr><tr><td>Sachin Baby</td><td>2013</td><td>3</td></tr><tr><td>PV Tambe</td><td>2013</td><td>3</td></tr><tr><td>Harmeet Singh</td><td>2013</td><td>3</td></tr><tr><td>JD Unadkat</td><td>2013</td><td>2</td></tr><tr><td>A Mithun</td><td>2013</td><td>2</td></tr><tr><td>AS Rajpoot</td><td>2013</td><td>2</td></tr><tr><td>RJ Harris</td><td>2013</td><td>2</td></tr><tr><td>BAW Mendis</td><td>2013</td><td>2</td></tr><tr><td>PP Ojha</td><td>2013</td><td>2</td></tr><tr><td>M Kartik</td><td>2013</td><td>2</td></tr><tr><td>A Nehra</td><td>2013</td><td>1</td></tr><tr><td>AL Menaria</td><td>2013</td><td>1</td></tr><tr><td>R Shukla</td><td>2013</td><td>1</td></tr><tr><td>K Upadhyay</td><td>2013</td><td>1</td></tr><tr><td>P Awana</td><td>2013</td><td>1</td></tr><tr><td>SW Tait</td><td>2013</td><td>1</td></tr><tr><td>S Sreesanth</td><td>2013</td><td>1</td></tr><tr><td>MM Sharma</td><td>2013</td><td>0</td></tr><tr><td>AB McDonald</td><td>2013</td><td>0</td></tr><tr><td>S Anirudha</td><td>2013</td><td>0</td></tr><tr><td>IC Pandey</td><td>2013</td><td>0</td></tr><tr><td>Sandeep Sharma</td><td>2013</td><td>0</td></tr><tr><td>RV Uthappa</td><td>2014</td><td>660</td></tr><tr><td>DR Smith</td><td>2014</td><td>566</td></tr><tr><td>GJ Maxwell</td><td>2014</td><td>552</td></tr><tr><td>DA Warner</td><td>2014</td><td>528</td></tr><tr><td>SK Raina</td><td>2014</td><td>523</td></tr><tr><td>V Sehwag</td><td>2014</td><td>455</td></tr><tr><td>DA Miller</td><td>2014</td><td>446</td></tr><tr><td>JP Duminy</td><td>2014</td><td>410</td></tr><tr><td>MK Pandey</td><td>2014</td><td>409</td></tr><tr><td>BB McCullum</td><td>2014</td><td>405</td></tr><tr><td>AB de Villiers</td><td>2014</td><td>395</td></tr><tr><td>LMP Simmons</td><td>2014</td><td>394</td></tr><tr><td>RG Sharma</td><td>2014</td><td>390</td></tr><tr><td>S Dhawan</td><td>2014</td><td>377</td></tr><tr><td>Yuvraj Singh</td><td>2014</td><td>376</td></tr><tr><td>MS Dhoni</td><td>2014</td><td>371</td></tr><tr><td>WP Saha</td><td>2014</td><td>362</td></tr><tr><td>AT Rayudu</td><td>2014</td><td>361</td></tr><tr><td>V Kohli</td><td>2014</td><td>359</td></tr><tr><td>AM Rahane</td><td>2014</td><td>339</td></tr><tr><td>SV Samson</td><td>2014</td><td>339</td></tr><tr><td>G Gambhir</td><td>2014</td><td>335</td></tr><tr><td>KK Nair</td><td>2014</td><td>330</td></tr><tr><td>KD Karthik</td><td>2014</td><td>325</td></tr><tr><td>M Vohra</td><td>2014</td><td>324</td></tr><tr><td>AJ Finch</td><td>2014</td><td>309</td></tr><tr><td>F du Plessis</td><td>2014</td><td>303</td></tr><tr><td>KP Pietersen</td><td>2014</td><td>294</td></tr><tr><td>KA Pollard</td><td>2014</td><td>273</td></tr><tr><td>YK Pathan</td><td>2014</td><td>268</td></tr><tr><td>CJ Anderson</td><td>2014</td><td>265</td></tr><tr><td>GJ Bailey</td><td>2014</td><td>257</td></tr><tr><td>SR Watson</td><td>2014</td><td>246</td></tr><tr><td>NV Ojha</td><td>2014</td><td>232</td></tr><tr><td>Shakib Al Hasan</td><td>2014</td><td>229</td></tr><tr><td>MEK Hussey</td><td>2014</td><td>209</td></tr><tr><td>M Vijay</td><td>2014</td><td>207</td></tr><tr><td>PA Patel</td><td>2014</td><td>205</td></tr><tr><td>CH Gayle</td><td>2014</td><td>196</td></tr><tr><td>JP Faulkner</td><td>2014</td><td>181</td></tr><tr><td>KL Rahul</td><td>2014</td><td>166</td></tr><tr><td>SA Yadav</td><td>2014</td><td>164</td></tr><tr><td>Q de Kock</td><td>2014</td><td>153</td></tr><tr><td>MK Tiwary</td><td>2014</td><td>152</td></tr><tr><td>SPD Smith</td><td>2014</td><td>152</td></tr><tr><td>JH Kallis</td><td>2014</td><td>151</td></tr><tr><td>KM Jadhav</td><td>2014</td><td>149</td></tr><tr><td>RA Jadeja</td><td>2014</td><td>146</td></tr><tr><td>AP Tare</td><td>2014</td><td>126</td></tr><tr><td>CA Pujara</td><td>2014</td><td>125</td></tr><tr><td>STR Binny</td><td>2014</td><td>123</td></tr><tr><td>CM Gautam</td><td>2014</td><td>121</td></tr><tr><td>DJ Hussey</td><td>2014</td><td>116</td></tr><tr><td>MA Agarwal</td><td>2014</td><td>115</td></tr><tr><td>DJG Sammy</td><td>2014</td><td>108</td></tr><tr><td>YV Takawale</td><td>2014</td><td>104</td></tr><tr><td>BJ Hodge</td><td>2014</td><td>101</td></tr><tr><td>MA Starc</td><td>2014</td><td>85</td></tr><tr><td>R Dhawan</td><td>2014</td><td>82</td></tr><tr><td>S Rana</td><td>2014</td><td>73</td></tr><tr><td>Y Venugopal Rao</td><td>2014</td><td>71</td></tr><tr><td>SE Marsh</td><td>2014</td><td>70</td></tr><tr><td>R Bhatia</td><td>2014</td><td>67</td></tr><tr><td>AR Patel</td><td>2014</td><td>62</td></tr><tr><td>LRPL Taylor</td><td>2014</td><td>59</td></tr><tr><td>CA Lynn</td><td>2014</td><td>58</td></tr><tr><td>MG Johnson</td><td>2014</td><td>56</td></tr><tr><td>IK Pathan</td><td>2014</td><td>55</td></tr><tr><td>RN ten Doeschate</td><td>2014</td><td>52</td></tr><tr><td>R Ashwin</td><td>2014</td><td>45</td></tr><tr><td>JA Morkel</td><td>2014</td><td>45</td></tr><tr><td>AM Nayar</td><td>2014</td><td>43</td></tr><tr><td>KV Sharma</td><td>2014</td><td>42</td></tr><tr><td>JDS Neesham</td><td>2014</td><td>42</td></tr><tr><td>BR Dunk</td><td>2014</td><td>40</td></tr><tr><td>RR Rossouw</td><td>2014</td><td>39</td></tr><tr><td>KK Cooper</td><td>2014</td><td>39</td></tr><tr><td>VR Aaron</td><td>2014</td><td>35</td></tr><tr><td>M Manhas</td><td>2014</td><td>35</td></tr><tr><td>DS Kulkarni</td><td>2014</td><td>35</td></tr><tr><td>Ankit Sharma</td><td>2014</td><td>34</td></tr><tr><td>PP Chawla</td><td>2014</td><td>31</td></tr><tr><td>LR Shukla</td><td>2014</td><td>31</td></tr><tr><td>VH Zol</td><td>2014</td><td>29</td></tr><tr><td>Harbhajan Singh</td><td>2014</td><td>28</td></tr><tr><td>Mandeep Singh</td><td>2014</td><td>24</td></tr><tr><td>DW Steyn</td><td>2014</td><td>22</td></tr><tr><td>R Shukla</td><td>2014</td><td>18</td></tr><tr><td>NJ Maddinson</td><td>2014</td><td>16</td></tr><tr><td>JO Holder</td><td>2014</td><td>16</td></tr><tr><td>R Tewatia</td><td>2014</td><td>16</td></tr><tr><td>HV Patel</td><td>2014</td><td>13</td></tr><tr><td>R Rampaul</td><td>2014</td><td>13</td></tr><tr><td>S Gopal</td><td>2014</td><td>11</td></tr><tr><td>SP Narine</td><td>2014</td><td>10</td></tr><tr><td>MC Henriques</td><td>2014</td><td>9</td></tr><tr><td>Z Khan</td><td>2014</td><td>8</td></tr><tr><td>DJ Bravo</td><td>2014</td><td>8</td></tr><tr><td>BCJ Cutting</td><td>2014</td><td>8</td></tr><tr><td>Imran Tahir</td><td>2014</td><td>8</td></tr><tr><td>S Nadeem</td><td>2014</td><td>7</td></tr><tr><td>Shivam Sharma</td><td>2014</td><td>5</td></tr><tr><td>PV Tambe</td><td>2014</td><td>5</td></tr><tr><td>A Mishra</td><td>2014</td><td>4</td></tr><tr><td>AN Ahmed</td><td>2014</td><td>4</td></tr><tr><td>PP Ojha</td><td>2014</td><td>4</td></tr><tr><td>AB Dinda</td><td>2014</td><td>4</td></tr><tr><td>R Vinay Kumar</td><td>2014</td><td>4</td></tr><tr><td>DH Yagnik</td><td>2014</td><td>4</td></tr><tr><td>M Morkel</td><td>2014</td><td>4</td></tr><tr><td>TG Southee</td><td>2014</td><td>4</td></tr><tr><td>S Anirudha</td><td>2014</td><td>3</td></tr><tr><td>MS Bisla</td><td>2014</td><td>3</td></tr><tr><td>Mohammed Shami</td><td>2014</td><td>3</td></tr><tr><td>Sandeep Sharma</td><td>2014</td><td>2</td></tr><tr><td>UT Yadav</td><td>2014</td><td>2</td></tr><tr><td>WD Parnell</td><td>2014</td><td>2</td></tr><tr><td>SL Malinga</td><td>2014</td><td>2</td></tr><tr><td>S Kaul</td><td>2014</td><td>2</td></tr><tr><td>AD Russell</td><td>2014</td><td>2</td></tr><tr><td>UBT Chand</td><td>2014</td><td>2</td></tr><tr><td>B Kumar</td><td>2014</td><td>1</td></tr><tr><td>L Balaji</td><td>2014</td><td>1</td></tr><tr><td>YS Chahal</td><td>2014</td><td>1</td></tr><tr><td>P Kumar</td><td>2014</td><td>1</td></tr><tr><td>MM Sharma</td><td>2014</td><td>1</td></tr><tr><td>M de Lange</td><td>2014</td><td>1</td></tr><tr><td>JJ Bumrah</td><td>2014</td><td>1</td></tr><tr><td>Karanveer Singh</td><td>2014</td><td>1</td></tr><tr><td>KW Richardson</td><td>2014</td><td>1</td></tr><tr><td>JD Unadkat</td><td>2014</td><td>1</td></tr><tr><td>VS Malik</td><td>2014</td><td>1</td></tr><tr><td>BE Hendricks</td><td>2014</td><td>0</td></tr><tr><td>DA Warner</td><td>2015</td><td>562</td></tr><tr><td>AM Rahane</td><td>2015</td><td>540</td></tr><tr><td>LMP Simmons</td><td>2015</td><td>540</td></tr><tr><td>AB de Villiers</td><td>2015</td><td>513</td></tr><tr><td>V Kohli</td><td>2015</td><td>505</td></tr><tr><td>CH Gayle</td><td>2015</td><td>491</td></tr><tr><td>RG Sharma</td><td>2015</td><td>482</td></tr><tr><td>SS Iyer</td><td>2015</td><td>439</td></tr><tr><td>BB McCullum</td><td>2015</td><td>436</td></tr><tr><td>KA Pollard</td><td>2015</td><td>419</td></tr><tr><td>JP Duminy</td><td>2015</td><td>414</td></tr><tr><td>DR Smith</td><td>2015</td><td>399</td></tr><tr><td>F du Plessis</td><td>2015</td><td>380</td></tr><tr><td>SK Raina</td><td>2015</td><td>374</td></tr><tr><td>MS Dhoni</td><td>2015</td><td>372</td></tr><tr><td>RV Uthappa</td><td>2015</td><td>364</td></tr><tr><td>DA Miller</td><td>2015</td><td>357</td></tr><tr><td>S Dhawan</td><td>2015</td><td>353</td></tr><tr><td>SR Watson</td><td>2015</td><td>347</td></tr><tr><td>PA Patel</td><td>2015</td><td>339</td></tr><tr><td>G Gambhir</td><td>2015</td><td>327</td></tr><tr><td>AD Russell</td><td>2015</td><td>326</td></tr><tr><td>YK Pathan</td><td>2015</td><td>312</td></tr><tr><td>SPD Smith</td><td>2015</td><td>298</td></tr><tr><td>MC Henriques</td><td>2015</td><td>287</td></tr><tr><td>AT Rayudu</td><td>2015</td><td>281</td></tr><tr><td>GJ Bailey</td><td>2015</td><td>259</td></tr><tr><td>M Vijay</td><td>2015</td><td>251</td></tr><tr><td>WP Saha</td><td>2015</td><td>249</td></tr><tr><td>Yuvraj Singh</td><td>2015</td><td>248</td></tr><tr><td>MK Pandey</td><td>2015</td><td>225</td></tr><tr><td>MA Agarwal</td><td>2015</td><td>213</td></tr><tr><td>AR Patel</td><td>2015</td><td>206</td></tr><tr><td>SV Samson</td><td>2015</td><td>204</td></tr><tr><td>DJ Bravo</td><td>2015</td><td>195</td></tr><tr><td>KM Jadhav</td><td>2015</td><td>189</td></tr><tr><td>EJG Morgan</td><td>2015</td><td>187</td></tr><tr><td>KK Nair</td><td>2015</td><td>181</td></tr><tr><td>Mandeep Singh</td><td>2015</td><td>157</td></tr><tr><td>SA Yadav</td><td>2015</td><td>157</td></tr><tr><td>DJ Hooda</td><td>2015</td><td>151</td></tr><tr><td>GJ Maxwell</td><td>2015</td><td>146</td></tr><tr><td>RS Bopara</td><td>2015</td><td>145</td></tr><tr><td>JP Faulkner</td><td>2015</td><td>144</td></tr><tr><td>AD Mathews</td><td>2015</td><td>144</td></tr><tr><td>KL Rahul</td><td>2015</td><td>142</td></tr><tr><td>KD Karthik</td><td>2015</td><td>141</td></tr><tr><td>NV Ojha</td><td>2015</td><td>137</td></tr><tr><td>RA Jadeja</td><td>2015</td><td>132</td></tr><tr><td>Q de Kock</td><td>2015</td><td>122</td></tr><tr><td>D Wiese</td><td>2015</td><td>122</td></tr><tr><td>Harbhajan Singh</td><td>2015</td><td>117</td></tr><tr><td>P Negi</td><td>2015</td><td>116</td></tr><tr><td>CJ Anderson</td><td>2015</td><td>114</td></tr><tr><td>HH Pandya</td><td>2015</td><td>112</td></tr><tr><td>SN Khan</td><td>2015</td><td>111</td></tr><tr><td>SS Tiwary</td><td>2015</td><td>109</td></tr><tr><td>KV Sharma</td><td>2015</td><td>104</td></tr><tr><td>UBT Chand</td><td>2015</td><td>102</td></tr><tr><td>V Sehwag</td><td>2015</td><td>99</td></tr><tr><td>SE Marsh</td><td>2015</td><td>93</td></tr><tr><td>JA Morkel</td><td>2015</td><td>86</td></tr><tr><td>M Vohra</td><td>2015</td><td>82</td></tr><tr><td>MEK Hussey</td><td>2015</td><td>77</td></tr><tr><td>CH Morris</td><td>2015</td><td>76</td></tr><tr><td>STR Binny</td><td>2015</td><td>74</td></tr><tr><td>A Ashish Reddy</td><td>2015</td><td>73</td></tr><tr><td>RN ten Doeschate</td><td>2015</td><td>61</td></tr><tr><td>MK Tiwary</td><td>2015</td><td>57</td></tr><tr><td>PP Chawla</td><td>2015</td><td>54</td></tr><tr><td>R Ashwin</td><td>2015</td><td>52</td></tr><tr><td>J Suchith</td><td>2015</td><td>48</td></tr><tr><td>GH Vihari</td><td>2015</td><td>39</td></tr><tr><td>MS Bisla</td><td>2015</td><td>37</td></tr><tr><td>Shakib Al Hasan</td><td>2015</td><td>36</td></tr><tr><td>R Dhawan</td><td>2015</td><td>36</td></tr><tr><td>Gurkeerat Singh</td><td>2015</td><td>35</td></tr><tr><td>J Botha</td><td>2015</td><td>31</td></tr><tr><td>MG Johnson</td><td>2015</td><td>31</td></tr><tr><td>KS Williamson</td><td>2015</td><td>31</td></tr><tr><td>UT Yadav</td><td>2015</td><td>29</td></tr><tr><td>MM Sharma</td><td>2015</td><td>28</td></tr><tr><td>AJ Finch</td><td>2015</td><td>23</td></tr><tr><td>NM Coulter-Nile</td><td>2015</td><td>20</td></tr><tr><td>Iqbal Abdulla</td><td>2015</td><td>20</td></tr><tr><td>DW Steyn</td><td>2015</td><td>20</td></tr><tr><td>HV Patel</td><td>2015</td><td>19</td></tr><tr><td>Anureet Singh</td><td>2015</td><td>18</td></tr><tr><td>B Kumar</td><td>2015</td><td>17</td></tr><tr><td>P Kumar</td><td>2015</td><td>17</td></tr><tr><td>SA Abbott</td><td>2015</td><td>15</td></tr><tr><td>AP Tare</td><td>2015</td><td>14</td></tr><tr><td>RR Rossouw</td><td>2015</td><td>14</td></tr><tr><td>TG Southee</td><td>2015</td><td>13</td></tr><tr><td>DJG Sammy</td><td>2015</td><td>13</td></tr><tr><td>MJ McClenaghan</td><td>2015</td><td>13</td></tr><tr><td>NLTC Perera</td><td>2015</td><td>12</td></tr><tr><td>MA Starc</td><td>2015</td><td>11</td></tr><tr><td>Karanveer Singh</td><td>2015</td><td>11</td></tr><tr><td>AN Ahmed</td><td>2015</td><td>10</td></tr><tr><td>Sandeep Sharma</td><td>2015</td><td>9</td></tr><tr><td>A Mishra</td><td>2015</td><td>8</td></tr><tr><td>GB Hogg</td><td>2015</td><td>7</td></tr><tr><td>SN Thakur</td><td>2015</td><td>7</td></tr><tr><td>Ankit Sharma</td><td>2015</td><td>7</td></tr><tr><td>Azhar Mahmood</td><td>2015</td><td>6</td></tr><tr><td>SL Malinga</td><td>2015</td><td>6</td></tr><tr><td>VR Aaron</td><td>2015</td><td>6</td></tr><tr><td>Imran Tahir</td><td>2015</td><td>5</td></tr><tr><td>NJ Maddinson</td><td>2015</td><td>4</td></tr><tr><td>M Morkel</td><td>2015</td><td>4</td></tr><tr><td>CM Gautam</td><td>2015</td><td>4</td></tr><tr><td>DS Kulkarni</td><td>2015</td><td>4</td></tr><tr><td>PV Tambe</td><td>2015</td><td>3</td></tr><tr><td>S Nadeem</td><td>2015</td><td>2</td></tr><tr><td>Parvez Rasool</td><td>2015</td><td>2</td></tr><tr><td>RG More</td><td>2015</td><td>2</td></tr><tr><td>DJ Muthuswami</td><td>2015</td><td>1</td></tr><tr><td>S Gopal</td><td>2015</td><td>1</td></tr><tr><td>J Theron</td><td>2015</td><td>1</td></tr><tr><td>A Nehra</td><td>2015</td><td>1</td></tr><tr><td>Bipul Sharma</td><td>2015</td><td>1</td></tr><tr><td>YS Chahal</td><td>2015</td><td>1</td></tr><tr><td>BE Hendricks</td><td>2015</td><td>1</td></tr><tr><td>PJ Cummins</td><td>2015</td><td>0</td></tr><tr><td>SP Narine</td><td>2015</td><td>0</td></tr><tr><td>R Vinay Kumar</td><td>2015</td><td>0</td></tr><tr><td>S Aravind</td><td>2015</td><td>0</td></tr><tr><td>R Bhatia</td><td>2015</td><td>0</td></tr><tr><td>V Kohli</td><td>2016</td><td>969</td></tr><tr><td>DA Warner</td><td>2016</td><td>848</td></tr><tr><td>AB de Villiers</td><td>2016</td><td>687</td></tr><tr><td>G Gambhir</td><td>2016</td><td>501</td></tr><tr><td>S Dhawan</td><td>2016</td><td>501</td></tr><tr><td>RG Sharma</td><td>2016</td><td>489</td></tr><tr><td>AM Rahane</td><td>2016</td><td>480</td></tr><tr><td>M Vijay</td><td>2016</td><td>453</td></tr><tr><td>Q de Kock</td><td>2016</td><td>445</td></tr><tr><td>SK Raina</td><td>2016</td><td>399</td></tr><tr><td>KL Rahul</td><td>2016</td><td>397</td></tr><tr><td>RV Uthappa</td><td>2016</td><td>394</td></tr><tr><td>AJ Finch</td><td>2016</td><td>393</td></tr><tr><td>YK Pathan</td><td>2016</td><td>361</td></tr><tr><td>KK Nair</td><td>2016</td><td>357</td></tr><tr><td>BB McCullum</td><td>2016</td><td>354</td></tr><tr><td>KD Karthik</td><td>2016</td><td>335</td></tr><tr><td>AT Rayudu</td><td>2016</td><td>334</td></tr><tr><td>DR Smith</td><td>2016</td><td>324</td></tr><tr><td>SV Samson</td><td>2016</td><td>291</td></tr><tr><td>MS Dhoni</td><td>2016</td><td>284</td></tr><tr><td>WP Saha</td><td>2016</td><td>270</td></tr><tr><td>SPD Smith</td><td>2016</td><td>270</td></tr><tr><td>JC Buttler</td><td>2016</td><td>255</td></tr><tr><td>MK Pandey</td><td>2016</td><td>248</td></tr><tr><td>KH Pandya</td><td>2016</td><td>237</td></tr><tr><td>Yuvraj Singh</td><td>2016</td><td>236</td></tr><tr><td>CH Gayle</td><td>2016</td><td>227</td></tr><tr><td>KA Pollard</td><td>2016</td><td>208</td></tr><tr><td>F du Plessis</td><td>2016</td><td>206</td></tr><tr><td>RR Pant</td><td>2016</td><td>198</td></tr><tr><td>CH Morris</td><td>2016</td><td>195</td></tr><tr><td>RA Jadeja</td><td>2016</td><td>191</td></tr><tr><td>JP Duminy</td><td>2016</td><td>191</td></tr><tr><td>AD Russell</td><td>2016</td><td>188</td></tr><tr><td>SA Yadav</td><td>2016</td><td>182</td></tr><tr><td>MC Henriques</td><td>2016</td><td>182</td></tr><tr><td>GJ Maxwell</td><td>2016</td><td>179</td></tr><tr><td>SR Watson</td><td>2016</td><td>179</td></tr><tr><td>PA Patel</td><td>2016</td><td>177</td></tr><tr><td>SS Tiwary</td><td>2016</td><td>170</td></tr><tr><td>DA Miller</td><td>2016</td><td>161</td></tr><tr><td>M Vohra</td><td>2016</td><td>161</td></tr><tr><td>SE Marsh</td><td>2016</td><td>159</td></tr><tr><td>HM Amla</td><td>2016</td><td>157</td></tr><tr><td>NLTC Perera</td><td>2016</td><td>150</td></tr><tr><td>MP Stoinis</td><td>2016</td><td>146</td></tr><tr><td>DJ Hooda</td><td>2016</td><td>144</td></tr><tr><td>NV Ojha</td><td>2016</td><td>136</td></tr><tr><td>UT Khawaja</td><td>2016</td><td>127</td></tr><tr><td>KS Williamson</td><td>2016</td><td>124</td></tr><tr><td>EJG Morgan</td><td>2016</td><td>123</td></tr><tr><td>Sachin Baby</td><td>2016</td><td>119</td></tr><tr><td>Shakib Al Hasan</td><td>2016</td><td>114</td></tr><tr><td>Gurkeerat Singh</td><td>2016</td><td>113</td></tr><tr><td>AR Patel</td><td>2016</td><td>111</td></tr><tr><td>N Rana</td><td>2016</td><td>104</td></tr><tr><td>DJ Bravo</td><td>2016</td><td>99</td></tr><tr><td>Harbhajan Singh</td><td>2016</td><td>92</td></tr><tr><td>SW Billings</td><td>2016</td><td>88</td></tr><tr><td>GJ Bailey</td><td>2016</td><td>84</td></tr><tr><td>CR Brathwaite</td><td>2016</td><td>83</td></tr><tr><td>JP Faulkner</td><td>2016</td><td>77</td></tr><tr><td>KP Pietersen</td><td>2016</td><td>73</td></tr><tr><td>SN Khan</td><td>2016</td><td>66</td></tr><tr><td>BCJ Cutting</td><td>2016</td><td>65</td></tr><tr><td>STR Binny</td><td>2016</td><td>63</td></tr><tr><td>P Negi</td><td>2016</td><td>57</td></tr><tr><td>MJ Guptill</td><td>2016</td><td>57</td></tr><tr><td>TM Head</td><td>2016</td><td>54</td></tr><tr><td>Bipul Sharma</td><td>2016</td><td>51</td></tr><tr><td>A Ashish Reddy</td><td>2016</td><td>47</td></tr><tr><td>HH Pandya</td><td>2016</td><td>44</td></tr><tr><td>B Kumar</td><td>2016</td><td>43</td></tr><tr><td>Ishan Kishan</td><td>2016</td><td>42</td></tr><tr><td>KM Jadhav</td><td>2016</td><td>42</td></tr><tr><td>R Ashwin</td><td>2016</td><td>41</td></tr><tr><td>Iqbal Abdulla</td><td>2016</td><td>37</td></tr><tr><td>KV Sharma</td><td>2016</td><td>36</td></tr><tr><td>MJ McClenaghan</td><td>2016</td><td>34</td></tr><tr><td>R Bhatia</td><td>2016</td><td>34</td></tr><tr><td>MM Sharma</td><td>2016</td><td>32</td></tr><tr><td>SS Iyer</td><td>2016</td><td>30</td></tr><tr><td>TG Southee</td><td>2016</td><td>30</td></tr><tr><td>C Munro</td><td>2016</td><td>30</td></tr><tr><td>MA Agarwal</td><td>2016</td><td>27</td></tr><tr><td>DS Kulkarni</td><td>2016</td><td>27</td></tr><tr><td>PP Chawla</td><td>2016</td><td>27</td></tr><tr><td>CA Lynn</td><td>2016</td><td>25</td></tr><tr><td>ER Dwivedi</td><td>2016</td><td>24</td></tr><tr><td>P Kumar</td><td>2016</td><td>24</td></tr><tr><td>R Sathish</td><td>2016</td><td>24</td></tr><tr><td>NS Naik</td><td>2016</td><td>23</td></tr><tr><td>JO Holder</td><td>2016</td><td>22</td></tr><tr><td>AD Nath</td><td>2016</td><td>20</td></tr><tr><td>P Sahu</td><td>2016</td><td>19</td></tr><tr><td>JA Morkel</td><td>2016</td><td>16</td></tr><tr><td>F Behardien</td><td>2016</td><td>14</td></tr><tr><td>R Dhawan</td><td>2016</td><td>14</td></tr><tr><td>KC Cariappa</td><td>2016</td><td>13</td></tr><tr><td>KJ Abbott</td><td>2016</td><td>13</td></tr><tr><td>R Vinay Kumar</td><td>2016</td><td>13</td></tr><tr><td>IK Pathan</td><td>2016</td><td>11</td></tr><tr><td>Parvez Rasool</td><td>2016</td><td>10</td></tr><tr><td>NM Coulter-Nile</td><td>2016</td><td>9</td></tr><tr><td>UT Yadav</td><td>2016</td><td>9</td></tr><tr><td>Sandeep Sharma</td><td>2016</td><td>8</td></tr><tr><td>JJ Bumrah</td><td>2016</td><td>8</td></tr><tr><td>AP Tare</td><td>2016</td><td>8</td></tr><tr><td>LMP Simmons</td><td>2016</td><td>8</td></tr><tr><td>PV Tambe</td><td>2016</td><td>7</td></tr><tr><td>MR Marsh</td><td>2016</td><td>7</td></tr><tr><td>SP Narine</td><td>2016</td><td>7</td></tr><tr><td>J Yadav</td><td>2016</td><td>6</td></tr><tr><td>Z Khan</td><td>2016</td><td>6</td></tr><tr><td>PSP Handscomb</td><td>2016</td><td>6</td></tr><tr><td>MG Johnson</td><td>2016</td><td>5</td></tr><tr><td>Imran Tahir</td><td>2016</td><td>5</td></tr><tr><td>D Wiese</td><td>2016</td><td>5</td></tr><tr><td>A Mishra</td><td>2016</td><td>4</td></tr><tr><td>BB Sran</td><td>2016</td><td>4</td></tr><tr><td>Ankit Sharma</td><td>2016</td><td>3</td></tr><tr><td>CJ Jordan</td><td>2016</td><td>3</td></tr><tr><td>Mohammed Shami</td><td>2016</td><td>2</td></tr><tr><td>S Gopal</td><td>2016</td><td>2</td></tr><tr><td>SB Jakati</td><td>2016</td><td>1</td></tr><tr><td>S Nadeem</td><td>2016</td><td>1</td></tr><tr><td>DW Steyn</td><td>2016</td><td>1</td></tr><tr><td>M Morkel</td><td>2016</td><td>1</td></tr><tr><td>A Nehra</td><td>2016</td><td>1</td></tr><tr><td>KW Richardson</td><td>2016</td><td>1</td></tr><tr><td>S Kaushik</td><td>2016</td><td>0</td></tr><tr><td>UBT Chand</td><td>2016</td><td>0</td></tr><tr><td>Swapnil Singh</td><td>2016</td><td>0</td></tr><tr><td>M Ashwin</td><td>2016</td><td>0</td></tr><tr><td>A Zampa</td><td>2016</td><td>0</td></tr><tr><td>DA Warner</td><td>2017</td><td>641</td></tr><tr><td>G Gambhir</td><td>2017</td><td>498</td></tr><tr><td>S Dhawan</td><td>2017</td><td>479</td></tr><tr><td>SPD Smith</td><td>2017</td><td>472</td></tr><tr><td>SK Raina</td><td>2017</td><td>442</td></tr><tr><td>HM Amla</td><td>2017</td><td>420</td></tr><tr><td>MK Pandey</td><td>2017</td><td>396</td></tr><tr><td>PA Patel</td><td>2017</td><td>395</td></tr><tr><td>KA Pollard</td><td>2017</td><td>395</td></tr><tr><td>RA Tripathi</td><td>2017</td><td>391</td></tr><tr><td>RV Uthappa</td><td>2017</td><td>388</td></tr><tr><td>SV Samson</td><td>2017</td><td>386</td></tr><tr><td>AM Rahane</td><td>2017</td><td>382</td></tr><tr><td>RR Pant</td><td>2017</td><td>366</td></tr><tr><td>KD Karthik</td><td>2017</td><td>361</td></tr><tr><td>SS Iyer</td><td>2017</td><td>338</td></tr><tr><td>RG Sharma</td><td>2017</td><td>333</td></tr><tr><td>N Rana</td><td>2017</td><td>333</td></tr><tr><td>MK Tiwary</td><td>2017</td><td>324</td></tr><tr><td>BB McCullum</td><td>2017</td><td>320</td></tr><tr><td>BA Stokes</td><td>2017</td><td>316</td></tr><tr><td>GJ Maxwell</td><td>2017</td><td>310</td></tr><tr><td>V Kohli</td><td>2017</td><td>308</td></tr><tr><td>AJ Finch</td><td>2017</td><td>300</td></tr><tr><td>CA Lynn</td><td>2017</td><td>295</td></tr><tr><td>MS Dhoni</td><td>2017</td><td>290</td></tr><tr><td>KK Nair</td><td>2017</td><td>281</td></tr><tr><td>MC Henriques</td><td>2017</td><td>277</td></tr><tr><td>Ishan Kishan</td><td>2017</td><td>277</td></tr><tr><td>JC Buttler</td><td>2017</td><td>273</td></tr><tr><td>KM Jadhav</td><td>2017</td><td>267</td></tr><tr><td>SE Marsh</td><td>2017</td><td>264</td></tr><tr><td>KS Williamson</td><td>2017</td><td>256</td></tr><tr><td>Yuvraj Singh</td><td>2017</td><td>252</td></tr><tr><td>HH Pandya</td><td>2017</td><td>250</td></tr><tr><td>KH Pandya</td><td>2017</td><td>243</td></tr><tr><td>DR Smith</td><td>2017</td><td>239</td></tr><tr><td>WP Saha</td><td>2017</td><td>234</td></tr><tr><td>M Vohra</td><td>2017</td><td>229</td></tr><tr><td>AR Patel</td><td>2017</td><td>227</td></tr><tr><td>SP Narine</td><td>2017</td><td>224</td></tr><tr><td>AB de Villiers</td><td>2017</td><td>216</td></tr><tr><td>CH Gayle</td><td>2017</td><td>200</td></tr><tr><td>Mandeep Singh</td><td>2017</td><td>188</td></tr><tr><td>RA Jadeja</td><td>2017</td><td>158</td></tr><tr><td>CH Morris</td><td>2017</td><td>154</td></tr><tr><td>TM Head</td><td>2017</td><td>151</td></tr><tr><td>P Negi</td><td>2017</td><td>144</td></tr><tr><td>YK Pathan</td><td>2017</td><td>143</td></tr><tr><td>CJ Anderson</td><td>2017</td><td>142</td></tr><tr><td>SW Billings</td><td>2017</td><td>138</td></tr><tr><td>LMP Simmons</td><td>2017</td><td>137</td></tr><tr><td>MJ Guptill</td><td>2017</td><td>132</td></tr><tr><td>C de Grandhomme</td><td>2017</td><td>126</td></tr><tr><td>SA Yadav</td><td>2017</td><td>105</td></tr><tr><td>V Shankar</td><td>2017</td><td>101</td></tr><tr><td>AT Rayudu</td><td>2017</td><td>91</td></tr><tr><td>DA Miller</td><td>2017</td><td>83</td></tr><tr><td>NV Ojha</td><td>2017</td><td>79</td></tr><tr><td>DT Christian</td><td>2017</td><td>79</td></tr><tr><td>DJ Hooda</td><td>2017</td><td>78</td></tr><tr><td>STR Binny</td><td>2017</td><td>78</td></tr><tr><td>PJ Cummins</td><td>2017</td><td>77</td></tr><tr><td>SR Watson</td><td>2017</td><td>71</td></tr><tr><td>EJG Morgan</td><td>2017</td><td>65</td></tr><tr><td>JJ Roy</td><td>2017</td><td>59</td></tr><tr><td>K Rabada</td><td>2017</td><td>55</td></tr><tr><td>JP Faulkner</td><td>2017</td><td>54</td></tr><tr><td>AJ Tye</td><td>2017</td><td>53</td></tr><tr><td>SS Tiwary</td><td>2017</td><td>52</td></tr><tr><td>BCJ Cutting</td><td>2017</td><td>51</td></tr><tr><td>MM Sharma</td><td>2017</td><td>51</td></tr><tr><td>A Mishra</td><td>2017</td><td>49</td></tr><tr><td>KV Sharma</td><td>2017</td><td>49</td></tr><tr><td>CR Woakes</td><td>2017</td><td>46</td></tr><tr><td>SP Jackson</td><td>2017</td><td>38</td></tr><tr><td>Mohammed Shami</td><td>2017</td><td>36</td></tr><tr><td>IR Jaggi</td><td>2017</td><td>33</td></tr><tr><td>S Aravind</td><td>2017</td><td>32</td></tr><tr><td>AD Mathews</td><td>2017</td><td>32</td></tr><tr><td>Bipul Sharma</td><td>2017</td><td>31</td></tr><tr><td>MN Samuels</td><td>2017</td><td>29</td></tr><tr><td>Basil Thampi</td><td>2017</td><td>28</td></tr><tr><td>MA Agarwal</td><td>2017</td><td>26</td></tr><tr><td>A Choudhary</td><td>2017</td><td>25</td></tr><tr><td>Ankit Sharma</td><td>2017</td><td>25</td></tr><tr><td>MG Johnson</td><td>2017</td><td>20</td></tr><tr><td>Kuldeep Yadav</td><td>2017</td><td>20</td></tr><tr><td>Vishnu Vinod</td><td>2017</td><td>19</td></tr><tr><td>R Tewatia</td><td>2017</td><td>19</td></tr><tr><td>AP Tare</td><td>2017</td><td>18</td></tr><tr><td>MP Stoinis</td><td>2017</td><td>17</td></tr><tr><td>MJ McClenaghan</td><td>2017</td><td>16</td></tr><tr><td>Harbhajan Singh</td><td>2017</td><td>16</td></tr><tr><td>JJ Bumrah</td><td>2017</td><td>16</td></tr><tr><td>R Bhatia</td><td>2017</td><td>16</td></tr><tr><td>Sachin Baby</td><td>2017</td><td>15</td></tr><tr><td>Anureet Singh</td><td>2017</td><td>15</td></tr><tr><td>NM Coulter-Nile</td><td>2017</td><td>14</td></tr><tr><td>DL Chahar</td><td>2017</td><td>14</td></tr><tr><td>S Badree</td><td>2017</td><td>13</td></tr><tr><td>YS Chahal</td><td>2017</td><td>13</td></tr><tr><td>CR Brathwaite</td><td>2017</td><td>12</td></tr><tr><td>Swapnil Singh</td><td>2017</td><td>12</td></tr><tr><td>AR Bawne</td><td>2017</td><td>12</td></tr><tr><td>Rashid Khan</td><td>2017</td><td>11</td></tr><tr><td>UT Yadav</td><td>2017</td><td>10</td></tr><tr><td>Washington Sundar</td><td>2017</td><td>9</td></tr><tr><td>TS Mills</td><td>2017</td><td>8</td></tr><tr><td>F du Plessis</td><td>2017</td><td>8</td></tr><tr><td>I Sharma</td><td>2017</td><td>8</td></tr><tr><td>P Kumar</td><td>2017</td><td>8</td></tr><tr><td>SL Malinga</td><td>2017</td><td>7</td></tr><tr><td>TG Southee</td><td>2017</td><td>7</td></tr><tr><td>Ankit Soni</td><td>2017</td><td>7</td></tr><tr><td>AB Dinda</td><td>2017</td><td>7</td></tr><tr><td>Sandeep Sharma</td><td>2017</td><td>7</td></tr><tr><td>AF Milne</td><td>2017</td><td>7</td></tr><tr><td>DM Bravo</td><td>2017</td><td>6</td></tr><tr><td>TA Boult</td><td>2017</td><td>5</td></tr><tr><td>Iqbal Abdulla</td><td>2017</td><td>5</td></tr><tr><td>A Zampa</td><td>2017</td><td>5</td></tr><tr><td>Z Khan</td><td>2017</td><td>4</td></tr><tr><td>AS Rajpoot</td><td>2017</td><td>4</td></tr><tr><td>VR Aaron</td><td>2017</td><td>4</td></tr><tr><td>B Kumar</td><td>2017</td><td>4</td></tr><tr><td>RD Chahar</td><td>2017</td><td>3</td></tr><tr><td>PP Chawla</td><td>2017</td><td>2</td></tr><tr><td>Mohammad Nabi</td><td>2017</td><td>2</td></tr><tr><td>S Nadeem</td><td>2017</td><td>2</td></tr><tr><td>KC Cariappa</td><td>2017</td><td>2</td></tr><tr><td>JD Unadkat</td><td>2017</td><td>2</td></tr><tr><td>PJ Sangwan</td><td>2017</td><td>2</td></tr><tr><td>IK Pathan</td><td>2017</td><td>2</td></tr><tr><td>Shakib Al Hasan</td><td>2017</td><td>1</td></tr><tr><td>LH Ferguson</td><td>2017</td><td>1</td></tr><tr><td>DS Kulkarni</td><td>2017</td><td>1</td></tr><tr><td>CJ Jordan</td><td>2017</td><td>0</td></tr><tr><td>Imran Tahir</td><td>2017</td><td>0</td></tr><tr><td>AD Nath</td><td>2017</td><td>0</td></tr><tr><td>S Kaul</td><td>2017</td><td>0</td></tr><tr><td>SN Thakur</td><td>2017</td><td>0</td></tr><tr><td>MM Patel</td><td>2017</td><td>0</td></tr></tbody></table></div>"
      ]
     },
     "metadata": {
      "application/vnd.databricks.v1+output": {
       "addedWidgets": {},
       "aggData": [],
       "aggError": "",
       "aggOverflow": false,
       "aggSchema": [],
       "aggSeriesLimitReached": false,
       "aggType": "",
       "arguments": {},
       "columnCustomDisplayInfos": {},
       "data": [
        [
         "SE Marsh",
         2008,
         616
        ],
        [
         "G Gambhir",
         2008,
         534
        ],
        [
         "ST Jayasuriya",
         2008,
         514
        ],
        [
         "SR Watson",
         2008,
         468
        ],
        [
         "GC Smith",
         2008,
         441
        ],
        [
         "AC Gilchrist",
         2008,
         436
        ],
        [
         "YK Pathan",
         2008,
         435
        ],
        [
         "SK Raina",
         2008,
         421
        ],
        [
         "MS Dhoni",
         2008,
         414
        ],
        [
         "V Sehwag",
         2008,
         406
        ],
        [
         "RG Sharma",
         2008,
         404
        ],
        [
         "R Dravid",
         2008,
         371
        ],
        [
         "SC Ganguly",
         2008,
         349
        ],
        [
         "S Dhawan",
         2008,
         340
        ],
        [
         "RV Uthappa",
         2008,
         320
        ],
        [
         "KC Sangakkara",
         2008,
         320
        ],
        [
         "DJ Hussey",
         2008,
         319
        ],
        [
         "SA Asnodkar",
         2008,
         311
        ],
        [
         "PA Patel",
         2008,
         302
        ],
        [
         "Yuvraj Singh",
         2008,
         299
        ],
        [
         "Y Venugopal Rao",
         2008,
         288
        ],
        [
         "JA Morkel",
         2008,
         241
        ],
        [
         "MV Boucher",
         2008,
         225
        ],
        [
         "JR Hopes",
         2008,
         221
        ],
        [
         "AM Nayar",
         2008,
         206
        ],
        [
         "JH Kallis",
         2008,
         199
        ],
        [
         "SP Fleming",
         2008,
         196
        ],
        [
         "Salman Butt",
         2008,
         193
        ],
        [
         "S Badrinath",
         2008,
         192
        ],
        [
         "ML Hayden",
         2008,
         189
        ],
        [
         "SR Tendulkar",
         2008,
         188
        ],
        [
         "BB McCullum",
         2008,
         188
        ],
        [
         "DPMD Jayawardene",
         2008,
         179
        ],
        [
         "DJ Bravo",
         2008,
         178
        ],
        [
         "M Kaif",
         2008,
         176
        ],
        [
         "MEK Hussey",
         2008,
         168
        ],
        [
         "HH Gibbs",
         2008,
         167
        ],
        [
         "V Kohli",
         2008,
         165
        ],
        [
         "A Symonds",
         2008,
         161
        ],
        [
         "WP Saha",
         2008,
         159
        ],
        [
         "LR Shukla",
         2008,
         157
        ],
        [
         "VVS Laxman",
         2008,
         155
        ],
        [
         "LA Pomersbach",
         2008,
         152
        ],
        [
         "LRPL Taylor",
         2008,
         149
        ],
        [
         "SM Pollock",
         2008,
         147
        ],
        [
         "KD Karthik",
         2008,
         145
        ],
        [
         "S Vidyut",
         2008,
         145
        ],
        [
         "RA Jadeja",
         2008,
         135
        ],
        [
         "IK Pathan",
         2008,
         131
        ],
        [
         "Kamran Akmal",
         2008,
         128
        ],
        [
         "MF Maharoof",
         2008,
         125
        ],
        [
         "Misbah-ul-Haq",
         2008,
         117
        ],
        [
         "W Jaffer",
         2008,
         115
        ],
        [
         "CL White",
         2008,
         114
        ],
        [
         "SB Styris",
         2008,
         112
        ],
        [
         "P Kumar",
         2008,
         112
        ],
        [
         "DB Ravi Teja",
         2008,
         109
        ],
        [
         "TM Dilshan",
         2008,
         104
        ],
        [
         "MK Tiwary",
         2008,
         104
        ],
        [
         "DB Das",
         2008,
         103
        ],
        [
         "NK Patel",
         2008,
         103
        ],
        [
         "SM Katich",
         2008,
         96
        ],
        [
         "AB de Villiers",
         2008,
         95
        ],
        [
         "PP Chawla",
         2008,
         90
        ],
        [
         "SP Goswami",
         2008,
         82
        ],
        [
         "Shahid Afridi",
         2008,
         81
        ],
        [
         "K Goel",
         2008,
         76
        ],
        [
         "RR Sarwan",
         2008,
         73
        ],
        [
         "YV Takawale",
         2008,
         70
        ],
        [
         "SK Warne",
         2008,
         70
        ],
        [
         "Mohammad Hafeez",
         2008,
         64
        ],
        [
         "AB Agarkar",
         2008,
         54
        ],
        [
         "Shoaib Malik",
         2008,
         52
        ],
        [
         "UT Yadav",
         2008,
         49
        ],
        [
         "SB Bangar",
         2008,
         47
        ],
        [
         "B Akhil",
         2008,
         46
        ],
        [
         "DR Smith",
         2008,
         45
        ],
        [
         "A Chopra",
         2008,
         42
        ],
        [
         "LPC Silva",
         2008,
         40
        ],
        [
         "DJ Thornely",
         2008,
         39
        ],
        [
         "Umar Gul",
         2008,
         39
        ],
        [
         "RT Ponting",
         2008,
         39
        ],
        [
         "A Mishra",
         2008,
         37
        ],
        [
         "Sohail Tanvir",
         2008,
         36
        ],
        [
         "MS Gony",
         2008,
         35
        ],
        [
         "L Ronchi",
         2008,
         34
        ],
        [
         "M Rawat",
         2008,
         34
        ],
        [
         "PR Shah",
         2008,
         34
        ],
        [
         "R Bhatia",
         2008,
         34
        ],
        [
         "Z Khan",
         2008,
         34
        ],
        [
         "D Salunkhe",
         2008,
         33
        ],
        [
         "T Taibu",
         2008,
         31
        ],
        [
         "Harbhajan Singh",
         2008,
         30
        ],
        [
         "M Kartik",
         2008,
         30
        ],
        [
         "RR Powar",
         2008,
         28
        ],
        [
         "RP Singh",
         2008,
         27
        ],
        [
         "WA Mota",
         2008,
         26
        ],
        [
         "SS Tiwary",
         2008,
         26
        ],
        [
         "S Chanderpaul",
         2008,
         25
        ],
        [
         "R Vinay Kumar",
         2008,
         25
        ],
        [
         "MA Khote",
         2008,
         24
        ],
        [
         "J Arunkumar",
         2008,
         23
        ],
        [
         "WPUJC Vaas",
         2008,
         21
        ],
        [
         "B Chipli",
         2008,
         20
        ],
        [
         "JDP Oram",
         2008,
         18
        ],
        [
         "SD Chitnis",
         2008,
         18
        ],
        [
         "DS Lehmann",
         2008,
         18
        ],
        [
         "B Lee",
         2008,
         17
        ],
        [
         "CK Kapugedera",
         2008,
         16
        ],
        [
         "Joginder Sharma",
         2008,
         16
        ],
        [
         "VY Mahesh",
         2008,
         15
        ],
        [
         "A Kumble",
         2008,
         13
        ],
        [
         "DT Patil",
         2008,
         13
        ],
        [
         "BJ Hodge",
         2008,
         12
        ],
        [
         "I Sharma",
         2008,
         11
        ],
        [
         "M Ntini",
         2008,
         11
        ],
        [
         "DNT Zoysa",
         2008,
         11
        ],
        [
         "T Kohli",
         2008,
         10
        ],
        [
         "AA Noffke",
         2008,
         9
        ],
        [
         "AD Mascarenhas",
         2008,
         9
        ],
        [
         "RR Raje",
         2008,
         8
        ],
        [
         "TM Srivastava",
         2008,
         8
        ],
        [
         "SB Joshi",
         2008,
         6
        ],
        [
         "Pankaj Singh",
         2008,
         5
        ],
        [
         "SK Trivedi",
         2008,
         5
        ],
        [
         "S Sohal",
         2008,
         4
        ],
        [
         "AM Rahane",
         2008,
         4
        ],
        [
         "GD McGrath",
         2008,
         4
        ],
        [
         "VRV Singh",
         2008,
         4
        ],
        [
         "MK Pandey",
         2008,
         3
        ],
        [
         "D Kalyankrishna",
         2008,
         3
        ],
        [
         "Mohammad Asif",
         2008,
         3
        ],
        [
         "A Nehra",
         2008,
         3
        ],
        [
         "Younis Khan",
         2008,
         3
        ],
        [
         "DW Steyn",
         2008,
         2
        ],
        [
         "PJ Sangwan",
         2008,
         2
        ],
        [
         "Shoaib Akhtar",
         2008,
         2
        ],
        [
         "H Das",
         2008,
         2
        ],
        [
         "PP Ojha",
         2008,
         2
        ],
        [
         "CRD Fernando",
         2008,
         2
        ],
        [
         "VS Yeligati",
         2008,
         2
        ],
        [
         "AB Dinda",
         2008,
         2
        ],
        [
         "DS Kulkarni",
         2008,
         2
        ],
        [
         "PM Sarvesh Kumar",
         2008,
         1
        ],
        [
         "DP Vijaykumar",
         2008,
         1
        ],
        [
         "Iqbal Abdulla",
         2008,
         1
        ],
        [
         "S Anirudha",
         2008,
         1
        ],
        [
         "U Kaul",
         2008,
         0
        ],
        [
         "L Balaji",
         2008,
         0
        ],
        [
         "Abdur Razzak",
         2008,
         0
        ],
        [
         "A Mukund",
         2008,
         0
        ],
        [
         "S Sreesanth",
         2008,
         0
        ],
        [
         "M Muralitharan",
         2008,
         0
        ],
        [
         "MM Patel",
         2008,
         0
        ],
        [
         "ML Hayden",
         2009,
         572
        ],
        [
         "AC Gilchrist",
         2009,
         495
        ],
        [
         "AB de Villiers",
         2009,
         465
        ],
        [
         "SK Raina",
         2009,
         434
        ],
        [
         "TM Dilshan",
         2009,
         418
        ],
        [
         "JP Duminy",
         2009,
         372
        ],
        [
         "HH Gibbs",
         2009,
         371
        ],
        [
         "BJ Hodge",
         2009,
         365
        ],
        [
         "SR Tendulkar",
         2009,
         364
        ],
        [
         "RG Sharma",
         2009,
         362
        ],
        [
         "JH Kallis",
         2009,
         361
        ],
        [
         "Yuvraj Singh",
         2009,
         340
        ],
        [
         "KC Sangakkara",
         2009,
         332
        ],
        [
         "MS Dhoni",
         2009,
         332
        ],
        [
         "RA Jadeja",
         2009,
         295
        ],
        [
         "KD Karthik",
         2009,
         288
        ],
        [
         "BB McCullum",
         2009,
         286
        ],
        [
         "G Gambhir",
         2009,
         286
        ],
        [
         "LRPL Taylor",
         2009,
         280
        ],
        [
         "R Dravid",
         2009,
         271
        ],
        [
         "YK Pathan",
         2009,
         261
        ],
        [
         "A Symonds",
         2009,
         249
        ],
        [
         "V Kohli",
         2009,
         246
        ],
        [
         "TL Suman",
         2009,
         237
        ],
        [
         "ST Jayasuriya",
         2009,
         221
        ],
        [
         "DPMD Jayawardene",
         2009,
         219
        ],
        [
         "DJ Bravo",
         2009,
         218
        ],
        [
         "DR Smith",
         2009,
         215
        ],
        [
         "GC Smith",
         2009,
         212
        ],
        [
         "V Sehwag",
         2009,
         198
        ],
        [
         "IK Pathan",
         2009,
         196
        ],
        [
         "AM Nayar",
         2009,
         193
        ],
        [
         "SC Ganguly",
         2009,
         189
        ],
        [
         "CH Gayle",
         2009,
         184
        ],
        [
         "S Badrinath",
         2009,
         177
        ],
        [
         "RV Uthappa",
         2009,
         175
        ],
        [
         "MK Pandey",
         2009,
         168
        ],
        [
         "NV Ojha",
         2009,
         168
        ],
        [
         "MN van Wyk",
         2009,
         167
        ],
        [
         "DA Warner",
         2009,
         163
        ],
        [
         "MV Boucher",
         2009,
         150
        ],
        [
         "AM Rahane",
         2009,
         144
        ],
        [
         "PA Patel",
         2009,
         142
        ],
        [
         "SM Katich",
         2009,
         141
        ],
        [
         "RS Bopara",
         2009,
         138
        ],
        [
         "Y Venugopal Rao",
         2009,
         124
        ],
        [
         "K Goel",
         2009,
         124
        ],
        [
         "RE van der Merwe",
         2009,
         122
        ],
        [
         "S Sohal",
         2009,
         115
        ],
        [
         "SK Warne",
         2009,
         108
        ],
        [
         "RJ Quiney",
         2009,
         103
        ],
        [
         "DJ Hussey",
         2009,
         98
        ],
        [
         "SA Asnodkar",
         2009,
         98
        ],
        [
         "JA Morkel",
         2009,
         97
        ],
        [
         "KP Pietersen",
         2009,
         93
        ],
        [
         "JDP Oram",
         2009,
         88
        ],
        [
         "Harbhajan Singh",
         2009,
         84
        ],
        [
         "LR Shukla",
         2009,
         83
        ],
        [
         "LA Carseldine",
         2009,
         81
        ],
        [
         "AS Raut",
         2009,
         78
        ],
        [
         "M Manhas",
         2009,
         75
        ],
        [
         "WP Saha",
         2009,
         72
        ],
        [
         "AA Bilakhia",
         2009,
         67
        ],
        [
         "AB Agarkar",
         2009,
         66
        ],
        [
         "P Kumar",
         2009,
         65
        ],
        [
         "DB Ravi Teja",
         2009,
         65
        ],
        [
         "A Flintoff",
         2009,
         62
        ],
        [
         "M Vijay",
         2009,
         60
        ],
        [
         "JD Ryder",
         2009,
         56
        ],
        [
         "PR Shah",
         2009,
         53
        ],
        [
         "SP Goswami",
         2009,
         53
        ],
        [
         "R Vinay Kumar",
         2009,
         47
        ],
        [
         "Yashpal Singh",
         2009,
         47
        ],
        [
         "J Botha",
         2009,
         47
        ],
        [
         "GJ Bailey",
         2009,
         45
        ],
        [
         "LA Pomersbach",
         2009,
         41
        ],
        [
         "S Dhawan",
         2009,
         40
        ],
        [
         "AD Mascarenhas",
         2009,
         39
        ],
        [
         "MC Henriques",
         2009,
         38
        ],
        [
         "DL Vettori",
         2009,
         34
        ],
        [
         "MM Patel",
         2009,
         33
        ],
        [
         "PP Chawla",
         2009,
         31
        ],
        [
         "WPUJC Vaas",
         2009,
         30
        ],
        [
         "WA Mota",
         2009,
         30
        ],
        [
         "B Lee",
         2009,
         28
        ],
        [
         "A Mishra",
         2009,
         26
        ],
        [
         "RR Powar",
         2009,
         23
        ],
        [
         "M Kartik",
         2009,
         21
        ],
        [
         "RJ Harris",
         2009,
         21
        ],
        [
         "MF Maharoof",
         2009,
         21
        ],
        [
         "Y Nagar",
         2009,
         20
        ],
        [
         "Joginder Sharma",
         2009,
         20
        ],
        [
         "SB Jakati",
         2009,
         20
        ],
        [
         "VVS Laxman",
         2009,
         19
        ],
        [
         "R Bishnoi",
         2009,
         19
        ],
        [
         "YV Takawale",
         2009,
         18
        ],
        [
         "NK Patel",
         2009,
         18
        ],
        [
         "B Akhil",
         2009,
         17
        ],
        [
         "AD Mathews",
         2009,
         16
        ],
        [
         "A Kumble",
         2009,
         16
        ],
        [
         "I Sharma",
         2009,
         16
        ],
        [
         "M Rawat",
         2009,
         16
        ],
        [
         "GR Napier",
         2009,
         15
        ],
        [
         "W Jaffer",
         2009,
         15
        ],
        [
         "SB Styris",
         2009,
         14
        ],
        [
         "SS Tiwary",
         2009,
         13
        ],
        [
         "MS Gony",
         2009,
         13
        ],
        [
         "RR Raje",
         2009,
         12
        ],
        [
         "A Chopra",
         2009,
         11
        ],
        [
         "T Henderson",
         2009,
         11
        ],
        [
         "D du Preez",
         2009,
         10
        ],
        [
         "DS Kulkarni",
         2009,
         9
        ],
        [
         "SK Trivedi",
         2009,
         9
        ],
        [
         "SM Harwood",
         2009,
         9
        ],
        [
         "MK Tiwary",
         2009,
         9
        ],
        [
         "RP Singh",
         2009,
         8
        ],
        [
         "Z Khan",
         2009,
         8
        ],
        [
         "R Ashwin",
         2009,
         8
        ],
        [
         "M Morkel",
         2009,
         8
        ],
        [
         "R Bhatia",
         2009,
         8
        ],
        [
         "M Muralitharan",
         2009,
         8
        ],
        [
         "AN Ghosh",
         2009,
         7
        ],
        [
         "SS Shaikh",
         2009,
         6
        ],
        [
         "PJ Sangwan",
         2009,
         6
        ],
        [
         "PC Valthaty",
         2009,
         6
        ],
        [
         "SD Chitnis",
         2009,
         6
        ],
        [
         "S Sreesanth",
         2009,
         5
        ],
        [
         "FH Edwards",
         2009,
         4
        ],
        [
         "L Balaji",
         2009,
         4
        ],
        [
         "Kamran Khan",
         2009,
         3
        ],
        [
         "AB McDonald",
         2009,
         3
        ],
        [
         "SB Bangar",
         2009,
         2
        ],
        [
         "Mashrafe Mortaza",
         2009,
         2
        ],
        [
         "AB Dinda",
         2009,
         2
        ],
        [
         "Mohammad Ashraful",
         2009,
         2
        ],
        [
         "T Thushara",
         2009,
         2
        ],
        [
         "Pankaj Singh",
         2009,
         1
        ],
        [
         "Shoaib Ahmed",
         2009,
         1
        ],
        [
         "PP Ojha",
         2009,
         1
        ],
        [
         "A Singh",
         2009,
         1
        ],
        [
         "KV Sharma",
         2009,
         1
        ],
        [
         "A Nehra",
         2009,
         1
        ],
        [
         "T Kohli",
         2009,
         1
        ],
        [
         "KP Appanna",
         2009,
         0
        ],
        [
         "SL Malinga",
         2009,
         0
        ],
        [
         "L Ronchi",
         2009,
         0
        ],
        [
         "C Nanda",
         2009,
         0
        ],
        [
         "DW Steyn",
         2009,
         0
        ],
        [
         "BAW Mendis",
         2009,
         0
        ],
        [
         "TM Srivastava",
         2009,
         0
        ],
        [
         "SR Tendulkar",
         2010,
         617
        ],
        [
         "JH Kallis",
         2010,
         572
        ],
        [
         "SK Raina",
         2010,
         528
        ],
        [
         "SC Ganguly",
         2010,
         493
        ],
        [
         "M Vijay",
         2010,
         458
        ],
        [
         "DPMD Jayawardene",
         2010,
         445
        ],
        [
         "A Symonds",
         2010,
         429
        ],
        [
         "SS Tiwary",
         2010,
         419
        ],
        [
         "RG Sharma",
         2010,
         404
        ],
        [
         "NV Ojha",
         2010,
         377
        ],
        [
         "RV Uthappa",
         2010,
         374
        ],
        [
         "KC Sangakkara",
         2010,
         357
        ],
        [
         "S Badrinath",
         2010,
         356
        ],
        [
         "V Sehwag",
         2010,
         356
        ],
        [
         "AT Rayudu",
         2010,
         356
        ],
        [
         "ML Hayden",
         2010,
         346
        ],
        [
         "YK Pathan",
         2010,
         333
        ],
        [
         "V Kohli",
         2010,
         307
        ],
        [
         "TL Suman",
         2010,
         307
        ],
        [
         "CH Gayle",
         2010,
         292
        ],
        [
         "AC Gilchrist",
         2010,
         289
        ],
        [
         "MS Dhoni",
         2010,
         287
        ],
        [
         "DA Warner",
         2010,
         282
        ],
        [
         "KD Karthik",
         2010,
         278
        ],
        [
         "MJ Lumb",
         2010,
         278
        ],
        [
         "G Gambhir",
         2010,
         277
        ],
        [
         "IK Pathan",
         2010,
         276
        ],
        [
         "KA Pollard",
         2010,
         273
        ],
        [
         "HH Gibbs",
         2010,
         267
        ],
        [
         "Yuvraj Singh",
         2010,
         259
        ],
        [
         "R Dravid",
         2010,
         256
        ],
        [
         "MK Pandey",
         2010,
         249
        ],
        [
         "RS Bopara",
         2010,
         248
        ],
        [
         "MK Tiwary",
         2010,
         237
        ],
        [
         "KP Pietersen",
         2010,
         236
        ],
        [
         "AD Mathews",
         2010,
         233
        ],
        [
         "MS Bisla",
         2010,
         218
        ],
        [
         "PD Collingwood",
         2010,
         203
        ],
        [
         "JA Morkel",
         2010,
         199
        ],
        [
         "S Dhawan",
         2010,
         191
        ],
        [
         "SR Watson",
         2010,
         185
        ],
        [
         "AA Jhunjhunwala",
         2010,
         183
        ],
        [
         "AC Voges",
         2010,
         181
        ],
        [
         "MD Mishra",
         2010,
         166
        ],
        [
         "FY Fazal",
         2010,
         164
        ],
        [
         "JP Duminy",
         2010,
         157
        ],
        [
         "M Manhas",
         2010,
         157
        ],
        [
         "SE Marsh",
         2010,
         147
        ],
        [
         "CA Pujara",
         2010,
         122
        ],
        [
         "OA Shah",
         2010,
         115
        ],
        [
         "BB McCullum",
         2010,
         114
        ],
        [
         "R Sathish",
         2010,
         112
        ],
        [
         "AB de Villiers",
         2010,
         111
        ],
        [
         "P Dogra",
         2010,
         107
        ],
        [
         "Harbhajan Singh",
         2010,
         105
        ],
        [
         "BJ Hodge",
         2010,
         99
        ],
        [
         "DJ Hussey",
         2010,
         94
        ],
        [
         "LRPL Taylor",
         2010,
         88
        ],
        [
         "KM Jadhav",
         2010,
         76
        ],
        [
         "PA Patel",
         2010,
         72
        ],
        [
         "WP Saha",
         2010,
         67
        ],
        [
         "R McLaren",
         2010,
         66
        ],
        [
         "AB McDonald",
         2010,
         65
        ],
        [
         "VVS Laxman",
         2010,
         64
        ],
        [
         "Anirudh Singh",
         2010,
         63
        ],
        [
         "PP Chawla",
         2010,
         62
        ],
        [
         "DJ Bravo",
         2010,
         61
        ],
        [
         "AM Nayar",
         2010,
         58
        ],
        [
         "AS Raut",
         2010,
         56
        ],
        [
         "AP Tare",
         2010,
         50
        ],
        [
         "CL White",
         2010,
         48
        ],
        [
         "RJ Harris",
         2010,
         45
        ],
        [
         "TM Dilshan",
         2010,
         44
        ],
        [
         "GC Smith",
         2010,
         44
        ],
        [
         "AB Barath",
         2010,
         42
        ],
        [
         "AB Agarkar",
         2010,
         40
        ],
        [
         "A Mishra",
         2010,
         39
        ],
        [
         "MEK Hussey",
         2010,
         37
        ],
        [
         "LR Shukla",
         2010,
         36
        ],
        [
         "EJG Morgan",
         2010,
         35
        ],
        [
         "B Sumanth",
         2010,
         35
        ],
        [
         "AP Dole",
         2010,
         34
        ],
        [
         "Y Venugopal Rao",
         2010,
         34
        ],
        [
         "ST Jayasuriya",
         2010,
         33
        ],
        [
         "DL Vettori",
         2010,
         33
        ],
        [
         "MF Maharoof",
         2010,
         31
        ],
        [
         "S Anirudha",
         2010,
         30
        ],
        [
         "R Ashwin",
         2010,
         30
        ],
        [
         "WPUJC Vaas",
         2010,
         30
        ],
        [
         "R Sharma",
         2010,
         29
        ],
        [
         "M Kaif",
         2010,
         28
        ],
        [
         "MR Marsh",
         2010,
         28
        ],
        [
         "S Sriram",
         2010,
         27
        ],
        [
         "R Vinay Kumar",
         2010,
         27
        ],
        [
         "S Sreesanth",
         2010,
         27
        ],
        [
         "JM Kemp",
         2010,
         26
        ],
        [
         "R Bhatia",
         2010,
         24
        ],
        [
         "Z Khan",
         2010,
         24
        ],
        [
         "A Nehra",
         2010,
         23
        ],
        [
         "M Kartik",
         2010,
         22
        ],
        [
         "DR Smith",
         2010,
         22
        ],
        [
         "AJ Finch",
         2010,
         21
        ],
        [
         "SK Trivedi",
         2010,
         20
        ],
        [
         "DR Martyn",
         2010,
         19
        ],
        [
         "DE Bollinger",
         2010,
         18
        ],
        [
         "K Goel",
         2010,
         18
        ],
        [
         "GJ Bailey",
         2010,
         18
        ],
        [
         "L Balaji",
         2010,
         18
        ],
        [
         "C Madan",
         2010,
         15
        ],
        [
         "S Narwal",
         2010,
         14
        ],
        [
         "MV Boucher",
         2010,
         13
        ],
        [
         "DW Steyn",
         2010,
         13
        ],
        [
         "AD Mascarenhas",
         2010,
         12
        ],
        [
         "SW Tait",
         2010,
         12
        ],
        [
         "B Lee",
         2010,
         11
        ],
        [
         "MC Henriques",
         2010,
         11
        ],
        [
         "T Thushara",
         2010,
         10
        ],
        [
         "KAJ Roach",
         2010,
         10
        ],
        [
         "SK Warne",
         2010,
         10
        ],
        [
         "PJ Sangwan",
         2010,
         10
        ],
        [
         "RP Singh",
         2010,
         9
        ],
        [
         "M Morkel",
         2010,
         9
        ],
        [
         "Bipul Sharma",
         2010,
         9
        ],
        [
         "SP Goswami",
         2010,
         8
        ],
        [
         "STR Binny",
         2010,
         8
        ],
        [
         "Jaskaran Singh",
         2010,
         8
        ],
        [
         "A Kumble",
         2010,
         6
        ],
        [
         "I Sharma",
         2010,
         6
        ],
        [
         "VS Malik",
         2010,
         6
        ],
        [
         "A Mithun",
         2010,
         5
        ],
        [
         "SA Asnodkar",
         2010,
         5
        ],
        [
         "RR Powar",
         2010,
         5
        ],
        [
         "Mandeep Singh",
         2010,
         4
        ],
        [
         "P Kumar",
         2010,
         4
        ],
        [
         "DP Nannes",
         2010,
         4
        ],
        [
         "MM Patel",
         2010,
         4
        ],
        [
         "A Uniyal",
         2010,
         4
        ],
        [
         "RS Sodhi",
         2010,
         4
        ],
        [
         "AN Ahmed",
         2010,
         4
        ],
        [
         "KB Arun Karthik",
         2010,
         3
        ],
        [
         "S Tyagi",
         2010,
         3
        ],
        [
         "PP Ojha",
         2010,
         3
        ],
        [
         "UT Yadav",
         2010,
         3
        ],
        [
         "RS Gavaskar",
         2010,
         2
        ],
        [
         "MS Gony",
         2010,
         2
        ],
        [
         "KP Appanna",
         2010,
         2
        ],
        [
         "J Theron",
         2010,
         2
        ],
        [
         "AA Bilakhia",
         2010,
         2
        ],
        [
         "CRD Fernando",
         2010,
         2
        ],
        [
         "Pankaj Singh",
         2010,
         1
        ],
        [
         "RE van der Merwe",
         2010,
         1
        ],
        [
         "BAW Mendis",
         2010,
         1
        ],
        [
         "M Muralitharan",
         2010,
         1
        ],
        [
         "SE Bond",
         2010,
         1
        ],
        [
         "Y Nagar",
         2010,
         1
        ],
        [
         "SJ Srivastava",
         2010,
         1
        ],
        [
         "SL Malinga",
         2010,
         1
        ],
        [
         "AB Dinda",
         2010,
         0
        ],
        [
         "CK Langeveldt",
         2010,
         0
        ],
        [
         "Iqbal Abdulla",
         2010,
         0
        ],
        [
         "YA Abdulla",
         2010,
         0
        ],
        [
         "S Ladda",
         2010,
         0
        ],
        [
         "AG Paunikar",
         2010,
         0
        ],
        [
         "Harmeet Singh",
         2010,
         0
        ],
        [
         "CH Gayle",
         2011,
         604
        ],
        [
         "V Kohli",
         2011,
         557
        ],
        [
         "SR Tendulkar",
         2011,
         553
        ],
        [
         "SE Marsh",
         2011,
         504
        ],
        [
         "MEK Hussey",
         2011,
         492
        ],
        [
         "PC Valthaty",
         2011,
         459
        ],
        [
         "SK Raina",
         2011,
         438
        ],
        [
         "M Vijay",
         2011,
         434
        ],
        [
         "JH Kallis",
         2011,
         424
        ],
        [
         "V Sehwag",
         2011,
         424
        ],
        [
         "S Dhawan",
         2011,
         400
        ],
        [
         "S Badrinath",
         2011,
         396
        ],
        [
         "AT Rayudu",
         2011,
         395
        ],
        [
         "MS Dhoni",
         2011,
         392
        ],
        [
         "AC Gilchrist",
         2011,
         383
        ],
        [
         "G Gambhir",
         2011,
         378
        ],
        [
         "RG Sharma",
         2011,
         372
        ],
        [
         "MK Tiwary",
         2011,
         359
        ],
        [
         "KC Sangakkara",
         2011,
         358
        ],
        [
         "BB McCullum",
         2011,
         357
        ],
        [
         "Yuvraj Singh",
         2011,
         343
        ],
        [
         "R Dravid",
         2011,
         339
        ],
        [
         "Y Venugopal Rao",
         2011,
         336
        ],
        [
         "SR Watson",
         2011,
         330
        ],
        [
         "DA Warner",
         2011,
         324
        ],
        [
         "AB de Villiers",
         2011,
         312
        ],
        [
         "DPMD Jayawardene",
         2011,
         299
        ],
        [
         "JD Ryder",
         2011,
         292
        ],
        [
         "BJ Hodge",
         2011,
         285
        ],
        [
         "YK Pathan",
         2011,
         283
        ],
        [
         "RA Jadeja",
         2011,
         283
        ],
        [
         "KD Karthik",
         2011,
         282
        ],
        [
         "RV Uthappa",
         2011,
         264
        ],
        [
         "S Sohal",
         2011,
         249
        ],
        [
         "MK Pandey",
         2011,
         246
        ],
        [
         "J Botha",
         2011,
         230
        ],
        [
         "TM Dilshan",
         2011,
         226
        ],
        [
         "B Chipli",
         2011,
         207
        ],
        [
         "JP Duminy",
         2011,
         205
        ],
        [
         "PA Patel",
         2011,
         202
        ],
        [
         "JR Hopes",
         2011,
         196
        ],
        [
         "DT Christian",
         2011,
         190
        ],
        [
         "SS Tiwary",
         2011,
         187
        ],
        [
         "DB Ravi Teja",
         2011,
         183
        ],
        [
         "LRPL Taylor",
         2011,
         181
        ],
        [
         "AL Menaria",
         2011,
         180
        ],
        [
         "NV Ojha",
         2011,
         160
        ],
        [
         "IK Pathan",
         2011,
         150
        ],
        [
         "KA Pollard",
         2011,
         146
        ],
        [
         "MA Agarwal",
         2011,
         141
        ],
        [
         "JA Morkel",
         2011,
         138
        ],
        [
         "EJG Morgan",
         2011,
         137
        ],
        [
         "A Symonds",
         2011,
         135
        ],
        [
         "AC Blizzard",
         2011,
         120
        ],
        [
         "AM Rahane",
         2011,
         120
        ],
        [
         "M Manhas",
         2011,
         114
        ],
        [
         "Y Nagar",
         2011,
         111
        ],
        [
         "RN ten Doeschate",
         2011,
         107
        ],
        [
         "JEC Franklin",
         2011,
         107
        ],
        [
         "CL White",
         2011,
         104
        ],
        [
         "Harbhajan Singh",
         2011,
         103
        ],
        [
         "DJ Jacobs",
         2011,
         92
        ],
        [
         "R McLaren",
         2011,
         90
        ],
        [
         "S Anirudha",
         2011,
         83
        ],
        [
         "TR Birt",
         2011,
         75
        ],
        [
         "M Klinger",
         2011,
         73
        ],
        [
         "MS Bisla",
         2011,
         72
        ],
        [
         "WP Saha",
         2011,
         68
        ],
        [
         "A Mishra",
         2011,
         68
        ],
        [
         "MD Mishra",
         2011,
         67
        ],
        [
         "TL Suman",
         2011,
         65
        ],
        [
         "DJ Hussey",
         2011,
         64
        ],
        [
         "AM Nayar",
         2011,
         61
        ],
        [
         "AS Raut",
         2011,
         60
        ],
        [
         "LA Pomersbach",
         2011,
         51
        ],
        [
         "MR Marsh",
         2011,
         50
        ],
        [
         "R Vinay Kumar",
         2011,
         50
        ],
        [
         "SC Ganguly",
         2011,
         50
        ],
        [
         "AG Paunikar",
         2011,
         49
        ],
        [
         "CJ Ferguson",
         2011,
         48
        ],
        [
         "PP Chawla",
         2011,
         48
        ],
        [
         "Mandeep Singh",
         2011,
         47
        ],
        [
         "AJ Finch",
         2011,
         47
        ],
        [
         "RV Gomez",
         2011,
         46
        ],
        [
         "VVS Laxman",
         2011,
         44
        ],
        [
         "Sunny Singh",
         2011,
         43
        ],
        [
         "GC Smith",
         2011,
         42
        ],
        [
         "M Kaif",
         2011,
         41
        ],
        [
         "M Morkel",
         2011,
         40
        ],
        [
         "WD Parnell",
         2011,
         37
        ],
        [
         "STR Binny",
         2011,
         37
        ],
        [
         "DW Steyn",
         2011,
         36
        ],
        [
         "CA Pujara",
         2011,
         34
        ],
        [
         "AUK Pathan",
         2011,
         33
        ],
        [
         "RJ Harris",
         2011,
         31
        ],
        [
         "SP Goswami",
         2011,
         29
        ],
        [
         "Shakib Al Hasan",
         2011,
         29
        ],
        [
         "IR Jaggi",
         2011,
         28
        ],
        [
         "P Kumar",
         2011,
         27
        ],
        [
         "A Mithun",
         2011,
         27
        ],
        [
         "NL McCullum",
         2011,
         26
        ],
        [
         "OA Shah",
         2011,
         26
        ],
        [
         "R Bhatia",
         2011,
         25
        ],
        [
         "R Sathish",
         2011,
         25
        ],
        [
         "R Sharma",
         2011,
         24
        ],
        [
         "Bipul Sharma",
         2011,
         23
        ],
        [
         "DL Vettori",
         2011,
         23
        ],
        [
         "NLTC Perera",
         2011,
         23
        ],
        [
         "MS Wade",
         2011,
         22
        ],
        [
         "Z Khan",
         2011,
         21
        ],
        [
         "CA Ingram",
         2011,
         21
        ],
        [
         "Y Gnaneswara Rao",
         2011,
         19
        ],
        [
         "FY Fazal",
         2011,
         19
        ],
        [
         "S Rana",
         2011,
         18
        ],
        [
         "JJ van der Wath",
         2011,
         18
        ],
        [
         "KM Jadhav",
         2011,
         18
        ],
        [
         "BJ Haddin",
         2011,
         18
        ],
        [
         "AN Ahmed",
         2011,
         18
        ],
        [
         "DH Yagnik",
         2011,
         16
        ],
        [
         "J Syed Mohammad",
         2011,
         15
        ],
        [
         "Iqbal Abdulla",
         2011,
         15
        ],
        [
         "Harpreet Singh",
         2011,
         14
        ],
        [
         "RE van der Merwe",
         2011,
         14
        ],
        [
         "LR Shukla",
         2011,
         14
        ],
        [
         "S Aravind",
         2011,
         13
        ],
        [
         "B Akhil",
         2011,
         13
        ],
        [
         "M Kartik",
         2011,
         12
        ],
        [
         "RR Powar",
         2011,
         11
        ],
        [
         "DJ Bravo",
         2011,
         11
        ],
        [
         "TD Paine",
         2011,
         10
        ],
        [
         "AA Jhunjhunwala",
         2011,
         10
        ],
        [
         "SK Warne",
         2011,
         10
        ],
        [
         "SW Tait",
         2011,
         10
        ],
        [
         "SD Chitnis",
         2011,
         9
        ],
        [
         "SA Asnodkar",
         2011,
         9
        ],
        [
         "CK Langeveldt",
         2011,
         8
        ],
        [
         "AB McDonald",
         2011,
         8
        ],
        [
         "SL Malinga",
         2011,
         8
        ],
        [
         "KB Arun Karthik",
         2011,
         7
        ],
        [
         "AB Agarkar",
         2011,
         7
        ],
        [
         "I Malhotra",
         2011,
         7
        ],
        [
         "MV Boucher",
         2011,
         6
        ],
        [
         "SB Styris",
         2011,
         5
        ],
        [
         "B Lee",
         2011,
         5
        ],
        [
         "M Muralitharan",
         2011,
         5
        ],
        [
         "PR Shah",
         2011,
         5
        ],
        [
         "SJ Srivastava",
         2011,
         4
        ],
        [
         "L Balaji",
         2011,
         4
        ],
        [
         "I Sharma",
         2011,
         4
        ],
        [
         "S Sriram",
         2011,
         4
        ],
        [
         "R Ninan",
         2011,
         3
        ],
        [
         "JE Taylor",
         2011,
         3
        ],
        [
         "SB Wagh",
         2011,
         2
        ],
        [
         "S Randiv",
         2011,
         2
        ],
        [
         "R Ashwin",
         2011,
         2
        ],
        [
         "RP Singh",
         2011,
         2
        ],
        [
         "DS Kulkarni",
         2011,
         2
        ],
        [
         "AG Murtaza",
         2011,
         2
        ],
        [
         "UBT Chand",
         2011,
         2
        ],
        [
         "S Sreesanth",
         2011,
         1
        ],
        [
         "NJ Rimmington",
         2011,
         1
        ],
        [
         "AC Thomas",
         2011,
         1
        ],
        [
         "B Kumar",
         2011,
         1
        ],
        [
         "AA Chavan",
         2011,
         1
        ],
        [
         "P Parameswaran",
         2011,
         1
        ],
        [
         "A Singh",
         2011,
         1
        ],
        [
         "UT Yadav",
         2011,
         1
        ],
        [
         "Joginder Sharma",
         2011,
         0
        ],
        [
         "L Ablish",
         2011,
         0
        ],
        [
         "DE Bollinger",
         2011,
         0
        ],
        [
         "BA Bhatt",
         2011,
         0
        ],
        [
         "VR Aaron",
         2011,
         0
        ],
        [
         "MS Gony",
         2011,
         0
        ],
        [
         "SK Trivedi",
         2011,
         0
        ],
        [
         "MJ Lumb",
         2011,
         0
        ],
        [
         "ND Doshi",
         2011,
         0
        ],
        [
         "JDP Oram",
         2011,
         0
        ],
        [
         "MM Patel",
         2011,
         0
        ],
        [
         "AB Dinda",
         2011,
         0
        ],
        [
         "S Nadeem",
         2011,
         0
        ],
        [
         "CH Gayle",
         2012,
         733
        ],
        [
         "G Gambhir",
         2012,
         590
        ],
        [
         "S Dhawan",
         2012,
         569
        ],
        [
         "AM Rahane",
         2012,
         560
        ],
        [
         "V Sehwag",
         2012,
         495
        ],
        [
         "CL White",
         2012,
         479
        ],
        [
         "R Dravid",
         2012,
         462
        ],
        [
         "SK Raina",
         2012,
         441
        ],
        [
         "RG Sharma",
         2012,
         433
        ],
        [
         "Mandeep Singh",
         2012,
         432
        ],
        [
         "JH Kallis",
         2012,
         409
        ],
        [
         "RV Uthappa",
         2012,
         405
        ],
        [
         "F du Plessis",
         2012,
         398
        ],
        [
         "DJ Hussey",
         2012,
         396
        ],
        [
         "DJ Bravo",
         2012,
         371
        ],
        [
         "SPD Smith",
         2012,
         362
        ],
        [
         "V Kohli",
         2012,
         358
        ],
        [
         "MS Dhoni",
         2012,
         357
        ],
        [
         "OA Shah",
         2012,
         340
        ],
        [
         "M Vijay",
         2012,
         336
        ],
        [
         "SE Marsh",
         2012,
         336
        ],
        [
         "DPMD Jayawardene",
         2012,
         335
        ],
        [
         "AT Rayudu",
         2012,
         333
        ],
        [
         "SR Tendulkar",
         2012,
         324
        ],
        [
         "AB de Villiers",
         2012,
         319
        ],
        [
         "KP Pietersen",
         2012,
         305
        ],
        [
         "TM Dilshan",
         2012,
         291
        ],
        [
         "BB McCullum",
         2012,
         289
        ],
        [
         "SC Ganguly",
         2012,
         268
        ],
        [
         "MEK Hussey",
         2012,
         261
        ],
        [
         "MK Tiwary",
         2012,
         260
        ],
        [
         "JD Ryder",
         2012,
         256
        ],
        [
         "DA Warner",
         2012,
         256
        ],
        [
         "NV Ojha",
         2012,
         255
        ],
        [
         "SR Watson",
         2012,
         255
        ],
        [
         "BJ Hodge",
         2012,
         245
        ],
        [
         "JP Duminy",
         2012,
         244
        ],
        [
         "KD Karthik",
         2012,
         238
        ],
        [
         "MA Agarwal",
         2012,
         225
        ],
        [
         "KA Pollard",
         2012,
         220
        ],
        [
         "AL Menaria",
         2012,
         220
        ],
        [
         "JEC Franklin",
         2012,
         214
        ],
        [
         "MS Bisla",
         2012,
         213
        ],
        [
         "KC Sangakkara",
         2012,
         200
        ],
        [
         "LRPL Taylor",
         2012,
         197
        ],
        [
         "S Badrinath",
         2012,
         196
        ],
        [
         "YK Pathan",
         2012,
         194
        ],
        [
         "PA Patel",
         2012,
         194
        ],
        [
         "RA Jadeja",
         2012,
         191
        ],
        [
         "Azhar Mahmood",
         2012,
         186
        ],
        [
         "SS Tiwary",
         2012,
         185
        ],
        [
         "IK Pathan",
         2012,
         176
        ],
        [
         "AC Gilchrist",
         2012,
         172
        ],
        [
         "DR Smith",
         2012,
         157
        ],
        [
         "Y Nagar",
         2012,
         153
        ],
        [
         "DT Christian",
         2012,
         145
        ],
        [
         "MK Pandey",
         2012,
         143
        ],
        [
         "N Saini",
         2012,
         140
        ],
        [
         "Y Venugopal Rao",
         2012,
         132
        ],
        [
         "AD Mathews",
         2012,
         127
        ],
        [
         "DB Das",
         2012,
         126
        ],
        [
         "MN Samuels",
         2012,
         124
        ],
        [
         "M Manhas",
         2012,
         120
        ],
        [
         "DJ Harris",
         2012,
         111
        ],
        [
         "Harbhajan Singh",
         2012,
         108
        ],
        [
         "JA Morkel",
         2012,
         107
        ],
        [
         "PP Chawla",
         2012,
         106
        ],
        [
         "MJ Clarke",
         2012,
         98
        ],
        [
         "DA Miller",
         2012,
         98
        ],
        [
         "Shakib Al Hasan",
         2012,
         91
        ],
        [
         "STR Binny",
         2012,
         90
        ],
        [
         "AP Majumdar",
         2012,
         87
        ],
        [
         "Gurkeerat Singh",
         2012,
         86
        ],
        [
         "RE Levi",
         2012,
         83
        ],
        [
         "HH Gibbs",
         2012,
         81
        ],
        [
         "LR Shukla",
         2012,
         75
        ],
        [
         "PA Reddy",
         2012,
         73
        ],
        [
         "Bipul Sharma",
         2012,
         72
        ],
        [
         "SP Goswami",
         2012,
         69
        ],
        [
         "R Vinay Kumar",
         2012,
         68
        ],
        [
         "SD Chitnis",
         2012,
         66
        ],
        [
         "J Botha",
         2012,
         58
        ],
        [
         "SL Malinga",
         2012,
         55
        ],
        [
         "AJ Finch",
         2012,
         55
        ],
        [
         "CJ Ferguson",
         2012,
         50
        ],
        [
         "AB McDonald",
         2012,
         47
        ],
        [
         "AD Russell",
         2012,
         47
        ],
        [
         "AM Nayar",
         2012,
         45
        ],
        [
         "B Lee",
         2012,
         42
        ],
        [
         "B Kumar",
         2012,
         40
        ],
        [
         "KK Cooper",
         2012,
         38
        ],
        [
         "B Chipli",
         2012,
         37
        ],
        [
         "P Negi",
         2012,
         36
        ],
        [
         "UBT Chand",
         2012,
         36
        ],
        [
         "R Bhatia",
         2012,
         35
        ],
        [
         "A Ashish Reddy",
         2012,
         35
        ],
        [
         "P Kumar",
         2012,
         35
        ],
        [
         "RJ Peterson",
         2012,
         32
        ],
        [
         "DL Vettori",
         2012,
         31
        ],
        [
         "PC Valthaty",
         2012,
         30
        ],
        [
         "M Kartik",
         2012,
         26
        ],
        [
         "DH Yagnik",
         2012,
         25
        ],
        [
         "AA Jhunjhunwala",
         2012,
         24
        ],
        [
         "RN ten Doeschate",
         2012,
         21
        ],
        [
         "DW Steyn",
         2012,
         19
        ],
        [
         "S Anirudha",
         2012,
         19
        ],
        [
         "WD Parnell",
         2012,
         19
        ],
        [
         "AC Thomas",
         2012,
         19
        ],
        [
         "R Ashwin",
         2012,
         18
        ],
        [
         "Ankit Sharma",
         2012,
         18
        ],
        [
         "RJ Harris",
         2012,
         18
        ],
        [
         "CA Pujara",
         2012,
         17
        ],
        [
         "A Mishra",
         2012,
         16
        ],
        [
         "IR Jaggi",
         2012,
         15
        ],
        [
         "HV Patel",
         2012,
         15
        ],
        [
         "TL Suman",
         2012,
         15
        ],
        [
         "P Dogra",
         2012,
         15
        ],
        [
         "Harmeet Singh",
         2012,
         15
        ],
        [
         "GB Hogg",
         2012,
         15
        ],
        [
         "S Aravind",
         2012,
         14
        ],
        [
         "M Kaif",
         2012,
         14
        ],
        [
         "AD Mascarenhas",
         2012,
         14
        ],
        [
         "JP Faulkner",
         2012,
         14
        ],
        [
         "Z Khan",
         2012,
         12
        ],
        [
         "DAJ Bracewell",
         2012,
         12
        ],
        [
         "K Upadhyay",
         2012,
         11
        ],
        [
         "A Nehra",
         2012,
         11
        ],
        [
         "AA Chavan",
         2012,
         11
        ],
        [
         "DS Kulkarni",
         2012,
         10
        ],
        [
         "SP Narine",
         2012,
         9
        ],
        [
         "CJ McKay",
         2012,
         8
        ],
        [
         "J Theron",
         2012,
         7
        ],
        [
         "SB Jakati",
         2012,
         7
        ],
        [
         "RP Singh",
         2012,
         6
        ],
        [
         "WP Saha",
         2012,
         6
        ],
        [
         "Harpreet Singh",
         2012,
         6
        ],
        [
         "M Muralitharan",
         2012,
         6
        ],
        [
         "AUK Pathan",
         2012,
         6
        ],
        [
         "CA Lynn",
         2012,
         6
        ],
        [
         "GJ Maxwell",
         2012,
         6
        ],
        [
         "BA Bhatt",
         2012,
         6
        ],
        [
         "KMDN Kulasekara",
         2012,
         5
        ],
        [
         "SK Trivedi",
         2012,
         5
        ],
        [
         "DB Ravi Teja",
         2012,
         4
        ],
        [
         "MS Gony",
         2012,
         4
        ],
        [
         "MD Mishra",
         2012,
         4
        ],
        [
         "PP Ojha",
         2012,
         4
        ],
        [
         "J Syed Mohammad",
         2012,
         4
        ],
        [
         "P Awana",
         2012,
         4
        ],
        [
         "NLTC Perera",
         2012,
         3
        ],
        [
         "AG Murtaza",
         2012,
         3
        ],
        [
         "M Morkel",
         2012,
         3
        ],
        [
         "DE Bollinger",
         2012,
         3
        ],
        [
         "R Sharma",
         2012,
         2
        ],
        [
         "BB Samantray",
         2012,
         2
        ],
        [
         "Iqbal Abdulla",
         2012,
         2
        ],
        [
         "MM Patel",
         2012,
         2
        ],
        [
         "AB Dinda",
         2012,
         2
        ],
        [
         "UT Yadav",
         2012,
         2
        ],
        [
         "VR Aaron",
         2012,
         1
        ],
        [
         "DJ Jacobs",
         2012,
         0
        ],
        [
         "AC Blizzard",
         2012,
         0
        ],
        [
         "RR Bhatkal",
         2012,
         0
        ],
        [
         "P Parameswaran",
         2012,
         0
        ],
        [
         "V Pratap Singh",
         2012,
         0
        ],
        [
         "SA Yadav",
         2012,
         0
        ],
        [
         "Sunny Gupta",
         2012,
         0
        ],
        [
         "A Chandila",
         2012,
         0
        ],
        [
         "S Nadeem",
         2012,
         0
        ],
        [
         "A Singh",
         2012,
         0
        ],
        [
         "MEK Hussey",
         2013,
         733
        ],
        [
         "CH Gayle",
         2013,
         720
        ],
        [
         "V Kohli",
         2013,
         639
        ],
        [
         "SK Raina",
         2013,
         548
        ],
        [
         "SR Watson",
         2013,
         543
        ],
        [
         "RG Sharma",
         2013,
         538
        ],
        [
         "KD Karthik",
         2013,
         510
        ],
        [
         "AM Rahane",
         2013,
         488
        ],
        [
         "R Dravid",
         2013,
         471
        ],
        [
         "MS Dhoni",
         2013,
         461
        ],
        [
         "AJ Finch",
         2013,
         456
        ],
        [
         "RV Uthappa",
         2013,
         434
        ],
        [
         "KA Pollard",
         2013,
         420
        ],
        [
         "DR Smith",
         2013,
         418
        ],
        [
         "DA Miller",
         2013,
         418
        ],
        [
         "DA Warner",
         2013,
         410
        ],
        [
         "G Gambhir",
         2013,
         406
        ],
        [
         "AB de Villiers",
         2013,
         373
        ],
        [
         "YK Pathan",
         2013,
         332
        ],
        [
         "DPMD Jayawardene",
         2013,
         331
        ],
        [
         "M Vijay",
         2013,
         312
        ],
        [
         "JH Kallis",
         2013,
         311
        ],
        [
         "S Dhawan",
         2013,
         311
        ],
        [
         "EJG Morgan",
         2013,
         307
        ],
        [
         "SE Marsh",
         2013,
         300
        ],
        [
         "V Sehwag",
         2013,
         295
        ],
        [
         "AC Gilchrist",
         2013,
         294
        ],
        [
         "PA Patel",
         2013,
         294
        ],
        [
         "BJ Hodge",
         2013,
         293
        ],
        [
         "STR Binny",
         2013,
         293
        ],
        [
         "SR Tendulkar",
         2013,
         283
        ],
        [
         "AT Rayudu",
         2013,
         265
        ],
        [
         "Mandeep Singh",
         2013,
         260
        ],
        [
         "MS Bisla",
         2013,
         255
        ],
        [
         "GH Vihari",
         2013,
         241
        ],
        [
         "Yuvraj Singh",
         2013,
         238
        ],
        [
         "DJ Hussey",
         2013,
         235
        ],
        [
         "NLTC Perera",
         2013,
         235
        ],
        [
         "CL White",
         2013,
         226
        ],
        [
         "SV Samson",
         2013,
         206
        ],
        [
         "RA Jadeja",
         2013,
         201
        ],
        [
         "Azhar Mahmood",
         2013,
         196
        ],
        [
         "BJ Rohrer",
         2013,
         193
        ],
        [
         "DJG Sammy",
         2013,
         174
        ],
        [
         "AD Mathews",
         2013,
         172
        ],
        [
         "MC Henriques",
         2013,
         165
        ],
        [
         "M Vohra",
         2013,
         161
        ],
        [
         "SPD Smith",
         2013,
         159
        ],
        [
         "UBT Chand",
         2013,
         158
        ],
        [
         "IK Pathan",
         2013,
         153
        ],
        [
         "KM Jadhav",
         2013,
         152
        ],
        [
         "MK Tiwary",
         2013,
         146
        ],
        [
         "MR Marsh",
         2013,
         140
        ],
        [
         "MK Pandey",
         2013,
         136
        ],
        [
         "MC Juneja",
         2013,
         125
        ],
        [
         "DH Yagnik",
         2013,
         125
        ],
        [
         "A Ashish Reddy",
         2013,
         125
        ],
        [
         "S Badrinath",
         2013,
         124
        ],
        [
         "BB Samantray",
         2013,
         123
        ],
        [
         "AP Tare",
         2013,
         123
        ],
        [
         "DJ Bravo",
         2013,
         121
        ],
        [
         "KC Sangakkara",
         2013,
         120
        ],
        [
         "Harbhajan Singh",
         2013,
         116
        ],
        [
         "SS Tiwary",
         2013,
         109
        ],
        [
         "R Sathish",
         2013,
         109
        ],
        [
         "Gurkeerat Singh",
         2013,
         108
        ],
        [
         "LJ Wright",
         2013,
         106
        ],
        [
         "R Bhatia",
         2013,
         99
        ],
        [
         "CA Pujara",
         2013,
         92
        ],
        [
         "PA Reddy",
         2013,
         91
        ],
        [
         "A Mishra",
         2013,
         89
        ],
        [
         "RN ten Doeschate",
         2013,
         85
        ],
        [
         "KV Sharma",
         2013,
         85
        ],
        [
         "TM Dilshan",
         2013,
         76
        ],
        [
         "DB Das",
         2013,
         75
        ],
        [
         "R Vinay Kumar",
         2013,
         70
        ],
        [
         "WP Saha",
         2013,
         70
        ],
        [
         "MA Agarwal",
         2013,
         67
        ],
        [
         "AM Nayar",
         2013,
         66
        ],
        [
         "PP Chawla",
         2013,
         64
        ],
        [
         "LRPL Taylor",
         2013,
         63
        ],
        [
         "LA Pomersbach",
         2013,
         58
        ],
        [
         "JP Faulkner",
         2013,
         57
        ],
        [
         "M Morkel",
         2013,
         57
        ],
        [
         "DW Steyn",
         2013,
         53
        ],
        [
         "RT Ponting",
         2013,
         52
        ],
        [
         "TL Suman",
         2013,
         52
        ],
        [
         "B Kumar",
         2013,
         52
        ],
        [
         "P Kumar",
         2013,
         47
        ],
        [
         "JA Morkel",
         2013,
         46
        ],
        [
         "MS Gony",
         2013,
         45
        ],
        [
         "CM Gautam",
         2013,
         44
        ],
        [
         "J Botha",
         2013,
         43
        ],
        [
         "KB Arun Karthik",
         2013,
         41
        ],
        [
         "MG Johnson",
         2013,
         39
        ],
        [
         "KK Cooper",
         2013,
         39
        ],
        [
         "UT Yadav",
         2013,
         38
        ],
        [
         "R Rampaul",
         2013,
         38
        ],
        [
         "GJ Maxwell",
         2013,
         36
        ],
        [
         "R Ashwin",
         2013,
         35
        ],
        [
         "KW Richardson",
         2013,
         34
        ],
        [
         "OA Shah",
         2013,
         25
        ],
        [
         "BMAJ Mendis",
         2013,
         23
        ],
        [
         "S Narwal",
         2013,
         23
        ],
        [
         "RE van der Merwe",
         2013,
         22
        ],
        [
         "B Lee",
         2013,
         21
        ],
        [
         "SP Narine",
         2013,
         21
        ],
        [
         "R Dhawan",
         2013,
         21
        ],
        [
         "KL Rahul",
         2013,
         20
        ],
        [
         "A Mukund",
         2013,
         19
        ],
        [
         "B Chipli",
         2013,
         16
        ],
        [
         "MDKJ Perera",
         2013,
         14
        ],
        [
         "S Nadeem",
         2013,
         14
        ],
        [
         "CH Morris",
         2013,
         14
        ],
        [
         "DB Ravi Teja",
         2013,
         14
        ],
        [
         "M Manhas",
         2013,
         13
        ],
        [
         "AB Agarkar",
         2013,
         12
        ],
        [
         "AD Russell",
         2013,
         11
        ],
        [
         "R Sharma",
         2013,
         11
        ],
        [
         "SMSM Senanayake",
         2013,
         10
        ],
        [
         "X Thalaivan Sargunam",
         2013,
         10
        ],
        [
         "J Syed Mohammad",
         2013,
         10
        ],
        [
         "SL Malinga",
         2013,
         9
        ],
        [
         "L Balaji",
         2013,
         9
        ],
        [
         "NV Ojha",
         2013,
         9
        ],
        [
         "NM Coulter-Nile",
         2013,
         9
        ],
        [
         "KK Nair",
         2013,
         9
        ],
        [
         "AB Dinda",
         2013,
         9
        ],
        [
         "Iqbal Abdulla",
         2013,
         8
        ],
        [
         "MN Samuels",
         2013,
         8
        ],
        [
         "S Kaul",
         2013,
         7
        ],
        [
         "UA Birla",
         2013,
         7
        ],
        [
         "BB McCullum",
         2013,
         6
        ],
        [
         "Q de Kock",
         2013,
         6
        ],
        [
         "DT Christian",
         2013,
         6
        ],
        [
         "PC Valthaty",
         2013,
         6
        ],
        [
         "Mohammed Shami",
         2013,
         5
        ],
        [
         "P Dogra",
         2013,
         5
        ],
        [
         "AG Murtaza",
         2013,
         5
        ],
        [
         "M Rawat",
         2013,
         5
        ],
        [
         "WD Parnell",
         2013,
         5
        ],
        [
         "Parvez Rasool",
         2013,
         5
        ],
        [
         "AD Mascarenhas",
         2013,
         5
        ],
        [
         "PJ Sangwan",
         2013,
         4
        ],
        [
         "B Laughlin",
         2013,
         4
        ],
        [
         "RV Gomez",
         2013,
         4
        ],
        [
         "A Chandila",
         2013,
         4
        ],
        [
         "SK Trivedi",
         2013,
         3
        ],
        [
         "LR Shukla",
         2013,
         3
        ],
        [
         "R McLaren",
         2013,
         3
        ],
        [
         "Sachin Baby",
         2013,
         3
        ],
        [
         "PV Tambe",
         2013,
         3
        ],
        [
         "Harmeet Singh",
         2013,
         3
        ],
        [
         "JD Unadkat",
         2013,
         2
        ],
        [
         "A Mithun",
         2013,
         2
        ],
        [
         "AS Rajpoot",
         2013,
         2
        ],
        [
         "RJ Harris",
         2013,
         2
        ],
        [
         "BAW Mendis",
         2013,
         2
        ],
        [
         "PP Ojha",
         2013,
         2
        ],
        [
         "M Kartik",
         2013,
         2
        ],
        [
         "A Nehra",
         2013,
         1
        ],
        [
         "AL Menaria",
         2013,
         1
        ],
        [
         "R Shukla",
         2013,
         1
        ],
        [
         "K Upadhyay",
         2013,
         1
        ],
        [
         "P Awana",
         2013,
         1
        ],
        [
         "SW Tait",
         2013,
         1
        ],
        [
         "S Sreesanth",
         2013,
         1
        ],
        [
         "MM Sharma",
         2013,
         0
        ],
        [
         "AB McDonald",
         2013,
         0
        ],
        [
         "S Anirudha",
         2013,
         0
        ],
        [
         "IC Pandey",
         2013,
         0
        ],
        [
         "Sandeep Sharma",
         2013,
         0
        ],
        [
         "RV Uthappa",
         2014,
         660
        ],
        [
         "DR Smith",
         2014,
         566
        ],
        [
         "GJ Maxwell",
         2014,
         552
        ],
        [
         "DA Warner",
         2014,
         528
        ],
        [
         "SK Raina",
         2014,
         523
        ],
        [
         "V Sehwag",
         2014,
         455
        ],
        [
         "DA Miller",
         2014,
         446
        ],
        [
         "JP Duminy",
         2014,
         410
        ],
        [
         "MK Pandey",
         2014,
         409
        ],
        [
         "BB McCullum",
         2014,
         405
        ],
        [
         "AB de Villiers",
         2014,
         395
        ],
        [
         "LMP Simmons",
         2014,
         394
        ],
        [
         "RG Sharma",
         2014,
         390
        ],
        [
         "S Dhawan",
         2014,
         377
        ],
        [
         "Yuvraj Singh",
         2014,
         376
        ],
        [
         "MS Dhoni",
         2014,
         371
        ],
        [
         "WP Saha",
         2014,
         362
        ],
        [
         "AT Rayudu",
         2014,
         361
        ],
        [
         "V Kohli",
         2014,
         359
        ],
        [
         "AM Rahane",
         2014,
         339
        ],
        [
         "SV Samson",
         2014,
         339
        ],
        [
         "G Gambhir",
         2014,
         335
        ],
        [
         "KK Nair",
         2014,
         330
        ],
        [
         "KD Karthik",
         2014,
         325
        ],
        [
         "M Vohra",
         2014,
         324
        ],
        [
         "AJ Finch",
         2014,
         309
        ],
        [
         "F du Plessis",
         2014,
         303
        ],
        [
         "KP Pietersen",
         2014,
         294
        ],
        [
         "KA Pollard",
         2014,
         273
        ],
        [
         "YK Pathan",
         2014,
         268
        ],
        [
         "CJ Anderson",
         2014,
         265
        ],
        [
         "GJ Bailey",
         2014,
         257
        ],
        [
         "SR Watson",
         2014,
         246
        ],
        [
         "NV Ojha",
         2014,
         232
        ],
        [
         "Shakib Al Hasan",
         2014,
         229
        ],
        [
         "MEK Hussey",
         2014,
         209
        ],
        [
         "M Vijay",
         2014,
         207
        ],
        [
         "PA Patel",
         2014,
         205
        ],
        [
         "CH Gayle",
         2014,
         196
        ],
        [
         "JP Faulkner",
         2014,
         181
        ],
        [
         "KL Rahul",
         2014,
         166
        ],
        [
         "SA Yadav",
         2014,
         164
        ],
        [
         "Q de Kock",
         2014,
         153
        ],
        [
         "MK Tiwary",
         2014,
         152
        ],
        [
         "SPD Smith",
         2014,
         152
        ],
        [
         "JH Kallis",
         2014,
         151
        ],
        [
         "KM Jadhav",
         2014,
         149
        ],
        [
         "RA Jadeja",
         2014,
         146
        ],
        [
         "AP Tare",
         2014,
         126
        ],
        [
         "CA Pujara",
         2014,
         125
        ],
        [
         "STR Binny",
         2014,
         123
        ],
        [
         "CM Gautam",
         2014,
         121
        ],
        [
         "DJ Hussey",
         2014,
         116
        ],
        [
         "MA Agarwal",
         2014,
         115
        ],
        [
         "DJG Sammy",
         2014,
         108
        ],
        [
         "YV Takawale",
         2014,
         104
        ],
        [
         "BJ Hodge",
         2014,
         101
        ],
        [
         "MA Starc",
         2014,
         85
        ],
        [
         "R Dhawan",
         2014,
         82
        ],
        [
         "S Rana",
         2014,
         73
        ],
        [
         "Y Venugopal Rao",
         2014,
         71
        ],
        [
         "SE Marsh",
         2014,
         70
        ],
        [
         "R Bhatia",
         2014,
         67
        ],
        [
         "AR Patel",
         2014,
         62
        ],
        [
         "LRPL Taylor",
         2014,
         59
        ],
        [
         "CA Lynn",
         2014,
         58
        ],
        [
         "MG Johnson",
         2014,
         56
        ],
        [
         "IK Pathan",
         2014,
         55
        ],
        [
         "RN ten Doeschate",
         2014,
         52
        ],
        [
         "R Ashwin",
         2014,
         45
        ],
        [
         "JA Morkel",
         2014,
         45
        ],
        [
         "AM Nayar",
         2014,
         43
        ],
        [
         "KV Sharma",
         2014,
         42
        ],
        [
         "JDS Neesham",
         2014,
         42
        ],
        [
         "BR Dunk",
         2014,
         40
        ],
        [
         "RR Rossouw",
         2014,
         39
        ],
        [
         "KK Cooper",
         2014,
         39
        ],
        [
         "VR Aaron",
         2014,
         35
        ],
        [
         "M Manhas",
         2014,
         35
        ],
        [
         "DS Kulkarni",
         2014,
         35
        ],
        [
         "Ankit Sharma",
         2014,
         34
        ],
        [
         "PP Chawla",
         2014,
         31
        ],
        [
         "LR Shukla",
         2014,
         31
        ],
        [
         "VH Zol",
         2014,
         29
        ],
        [
         "Harbhajan Singh",
         2014,
         28
        ],
        [
         "Mandeep Singh",
         2014,
         24
        ],
        [
         "DW Steyn",
         2014,
         22
        ],
        [
         "R Shukla",
         2014,
         18
        ],
        [
         "NJ Maddinson",
         2014,
         16
        ],
        [
         "JO Holder",
         2014,
         16
        ],
        [
         "R Tewatia",
         2014,
         16
        ],
        [
         "HV Patel",
         2014,
         13
        ],
        [
         "R Rampaul",
         2014,
         13
        ],
        [
         "S Gopal",
         2014,
         11
        ],
        [
         "SP Narine",
         2014,
         10
        ],
        [
         "MC Henriques",
         2014,
         9
        ],
        [
         "Z Khan",
         2014,
         8
        ],
        [
         "DJ Bravo",
         2014,
         8
        ],
        [
         "BCJ Cutting",
         2014,
         8
        ],
        [
         "Imran Tahir",
         2014,
         8
        ],
        [
         "S Nadeem",
         2014,
         7
        ],
        [
         "Shivam Sharma",
         2014,
         5
        ],
        [
         "PV Tambe",
         2014,
         5
        ],
        [
         "A Mishra",
         2014,
         4
        ],
        [
         "AN Ahmed",
         2014,
         4
        ],
        [
         "PP Ojha",
         2014,
         4
        ],
        [
         "AB Dinda",
         2014,
         4
        ],
        [
         "R Vinay Kumar",
         2014,
         4
        ],
        [
         "DH Yagnik",
         2014,
         4
        ],
        [
         "M Morkel",
         2014,
         4
        ],
        [
         "TG Southee",
         2014,
         4
        ],
        [
         "S Anirudha",
         2014,
         3
        ],
        [
         "MS Bisla",
         2014,
         3
        ],
        [
         "Mohammed Shami",
         2014,
         3
        ],
        [
         "Sandeep Sharma",
         2014,
         2
        ],
        [
         "UT Yadav",
         2014,
         2
        ],
        [
         "WD Parnell",
         2014,
         2
        ],
        [
         "SL Malinga",
         2014,
         2
        ],
        [
         "S Kaul",
         2014,
         2
        ],
        [
         "AD Russell",
         2014,
         2
        ],
        [
         "UBT Chand",
         2014,
         2
        ],
        [
         "B Kumar",
         2014,
         1
        ],
        [
         "L Balaji",
         2014,
         1
        ],
        [
         "YS Chahal",
         2014,
         1
        ],
        [
         "P Kumar",
         2014,
         1
        ],
        [
         "MM Sharma",
         2014,
         1
        ],
        [
         "M de Lange",
         2014,
         1
        ],
        [
         "JJ Bumrah",
         2014,
         1
        ],
        [
         "Karanveer Singh",
         2014,
         1
        ],
        [
         "KW Richardson",
         2014,
         1
        ],
        [
         "JD Unadkat",
         2014,
         1
        ],
        [
         "VS Malik",
         2014,
         1
        ],
        [
         "BE Hendricks",
         2014,
         0
        ],
        [
         "DA Warner",
         2015,
         562
        ],
        [
         "AM Rahane",
         2015,
         540
        ],
        [
         "LMP Simmons",
         2015,
         540
        ],
        [
         "AB de Villiers",
         2015,
         513
        ],
        [
         "V Kohli",
         2015,
         505
        ],
        [
         "CH Gayle",
         2015,
         491
        ],
        [
         "RG Sharma",
         2015,
         482
        ],
        [
         "SS Iyer",
         2015,
         439
        ],
        [
         "BB McCullum",
         2015,
         436
        ],
        [
         "KA Pollard",
         2015,
         419
        ],
        [
         "JP Duminy",
         2015,
         414
        ],
        [
         "DR Smith",
         2015,
         399
        ],
        [
         "F du Plessis",
         2015,
         380
        ],
        [
         "SK Raina",
         2015,
         374
        ],
        [
         "MS Dhoni",
         2015,
         372
        ],
        [
         "RV Uthappa",
         2015,
         364
        ],
        [
         "DA Miller",
         2015,
         357
        ],
        [
         "S Dhawan",
         2015,
         353
        ],
        [
         "SR Watson",
         2015,
         347
        ],
        [
         "PA Patel",
         2015,
         339
        ],
        [
         "G Gambhir",
         2015,
         327
        ],
        [
         "AD Russell",
         2015,
         326
        ],
        [
         "YK Pathan",
         2015,
         312
        ],
        [
         "SPD Smith",
         2015,
         298
        ],
        [
         "MC Henriques",
         2015,
         287
        ],
        [
         "AT Rayudu",
         2015,
         281
        ],
        [
         "GJ Bailey",
         2015,
         259
        ],
        [
         "M Vijay",
         2015,
         251
        ],
        [
         "WP Saha",
         2015,
         249
        ],
        [
         "Yuvraj Singh",
         2015,
         248
        ],
        [
         "MK Pandey",
         2015,
         225
        ],
        [
         "MA Agarwal",
         2015,
         213
        ],
        [
         "AR Patel",
         2015,
         206
        ],
        [
         "SV Samson",
         2015,
         204
        ],
        [
         "DJ Bravo",
         2015,
         195
        ],
        [
         "KM Jadhav",
         2015,
         189
        ],
        [
         "EJG Morgan",
         2015,
         187
        ],
        [
         "KK Nair",
         2015,
         181
        ],
        [
         "Mandeep Singh",
         2015,
         157
        ],
        [
         "SA Yadav",
         2015,
         157
        ],
        [
         "DJ Hooda",
         2015,
         151
        ],
        [
         "GJ Maxwell",
         2015,
         146
        ],
        [
         "RS Bopara",
         2015,
         145
        ],
        [
         "JP Faulkner",
         2015,
         144
        ],
        [
         "AD Mathews",
         2015,
         144
        ],
        [
         "KL Rahul",
         2015,
         142
        ],
        [
         "KD Karthik",
         2015,
         141
        ],
        [
         "NV Ojha",
         2015,
         137
        ],
        [
         "RA Jadeja",
         2015,
         132
        ],
        [
         "Q de Kock",
         2015,
         122
        ],
        [
         "D Wiese",
         2015,
         122
        ],
        [
         "Harbhajan Singh",
         2015,
         117
        ],
        [
         "P Negi",
         2015,
         116
        ],
        [
         "CJ Anderson",
         2015,
         114
        ],
        [
         "HH Pandya",
         2015,
         112
        ],
        [
         "SN Khan",
         2015,
         111
        ],
        [
         "SS Tiwary",
         2015,
         109
        ],
        [
         "KV Sharma",
         2015,
         104
        ],
        [
         "UBT Chand",
         2015,
         102
        ],
        [
         "V Sehwag",
         2015,
         99
        ],
        [
         "SE Marsh",
         2015,
         93
        ],
        [
         "JA Morkel",
         2015,
         86
        ],
        [
         "M Vohra",
         2015,
         82
        ],
        [
         "MEK Hussey",
         2015,
         77
        ],
        [
         "CH Morris",
         2015,
         76
        ],
        [
         "STR Binny",
         2015,
         74
        ],
        [
         "A Ashish Reddy",
         2015,
         73
        ],
        [
         "RN ten Doeschate",
         2015,
         61
        ],
        [
         "MK Tiwary",
         2015,
         57
        ],
        [
         "PP Chawla",
         2015,
         54
        ],
        [
         "R Ashwin",
         2015,
         52
        ],
        [
         "J Suchith",
         2015,
         48
        ],
        [
         "GH Vihari",
         2015,
         39
        ],
        [
         "MS Bisla",
         2015,
         37
        ],
        [
         "Shakib Al Hasan",
         2015,
         36
        ],
        [
         "R Dhawan",
         2015,
         36
        ],
        [
         "Gurkeerat Singh",
         2015,
         35
        ],
        [
         "J Botha",
         2015,
         31
        ],
        [
         "MG Johnson",
         2015,
         31
        ],
        [
         "KS Williamson",
         2015,
         31
        ],
        [
         "UT Yadav",
         2015,
         29
        ],
        [
         "MM Sharma",
         2015,
         28
        ],
        [
         "AJ Finch",
         2015,
         23
        ],
        [
         "NM Coulter-Nile",
         2015,
         20
        ],
        [
         "Iqbal Abdulla",
         2015,
         20
        ],
        [
         "DW Steyn",
         2015,
         20
        ],
        [
         "HV Patel",
         2015,
         19
        ],
        [
         "Anureet Singh",
         2015,
         18
        ],
        [
         "B Kumar",
         2015,
         17
        ],
        [
         "P Kumar",
         2015,
         17
        ],
        [
         "SA Abbott",
         2015,
         15
        ],
        [
         "AP Tare",
         2015,
         14
        ],
        [
         "RR Rossouw",
         2015,
         14
        ],
        [
         "TG Southee",
         2015,
         13
        ],
        [
         "DJG Sammy",
         2015,
         13
        ],
        [
         "MJ McClenaghan",
         2015,
         13
        ],
        [
         "NLTC Perera",
         2015,
         12
        ],
        [
         "MA Starc",
         2015,
         11
        ],
        [
         "Karanveer Singh",
         2015,
         11
        ],
        [
         "AN Ahmed",
         2015,
         10
        ],
        [
         "Sandeep Sharma",
         2015,
         9
        ],
        [
         "A Mishra",
         2015,
         8
        ],
        [
         "GB Hogg",
         2015,
         7
        ],
        [
         "SN Thakur",
         2015,
         7
        ],
        [
         "Ankit Sharma",
         2015,
         7
        ],
        [
         "Azhar Mahmood",
         2015,
         6
        ],
        [
         "SL Malinga",
         2015,
         6
        ],
        [
         "VR Aaron",
         2015,
         6
        ],
        [
         "Imran Tahir",
         2015,
         5
        ],
        [
         "NJ Maddinson",
         2015,
         4
        ],
        [
         "M Morkel",
         2015,
         4
        ],
        [
         "CM Gautam",
         2015,
         4
        ],
        [
         "DS Kulkarni",
         2015,
         4
        ],
        [
         "PV Tambe",
         2015,
         3
        ],
        [
         "S Nadeem",
         2015,
         2
        ],
        [
         "Parvez Rasool",
         2015,
         2
        ],
        [
         "RG More",
         2015,
         2
        ],
        [
         "DJ Muthuswami",
         2015,
         1
        ],
        [
         "S Gopal",
         2015,
         1
        ],
        [
         "J Theron",
         2015,
         1
        ],
        [
         "A Nehra",
         2015,
         1
        ],
        [
         "Bipul Sharma",
         2015,
         1
        ],
        [
         "YS Chahal",
         2015,
         1
        ],
        [
         "BE Hendricks",
         2015,
         1
        ],
        [
         "PJ Cummins",
         2015,
         0
        ],
        [
         "SP Narine",
         2015,
         0
        ],
        [
         "R Vinay Kumar",
         2015,
         0
        ],
        [
         "S Aravind",
         2015,
         0
        ],
        [
         "R Bhatia",
         2015,
         0
        ],
        [
         "V Kohli",
         2016,
         969
        ],
        [
         "DA Warner",
         2016,
         848
        ],
        [
         "AB de Villiers",
         2016,
         687
        ],
        [
         "G Gambhir",
         2016,
         501
        ],
        [
         "S Dhawan",
         2016,
         501
        ],
        [
         "RG Sharma",
         2016,
         489
        ],
        [
         "AM Rahane",
         2016,
         480
        ],
        [
         "M Vijay",
         2016,
         453
        ],
        [
         "Q de Kock",
         2016,
         445
        ],
        [
         "SK Raina",
         2016,
         399
        ],
        [
         "KL Rahul",
         2016,
         397
        ],
        [
         "RV Uthappa",
         2016,
         394
        ],
        [
         "AJ Finch",
         2016,
         393
        ],
        [
         "YK Pathan",
         2016,
         361
        ],
        [
         "KK Nair",
         2016,
         357
        ],
        [
         "BB McCullum",
         2016,
         354
        ],
        [
         "KD Karthik",
         2016,
         335
        ],
        [
         "AT Rayudu",
         2016,
         334
        ],
        [
         "DR Smith",
         2016,
         324
        ],
        [
         "SV Samson",
         2016,
         291
        ],
        [
         "MS Dhoni",
         2016,
         284
        ],
        [
         "WP Saha",
         2016,
         270
        ],
        [
         "SPD Smith",
         2016,
         270
        ],
        [
         "JC Buttler",
         2016,
         255
        ],
        [
         "MK Pandey",
         2016,
         248
        ],
        [
         "KH Pandya",
         2016,
         237
        ],
        [
         "Yuvraj Singh",
         2016,
         236
        ],
        [
         "CH Gayle",
         2016,
         227
        ],
        [
         "KA Pollard",
         2016,
         208
        ],
        [
         "F du Plessis",
         2016,
         206
        ],
        [
         "RR Pant",
         2016,
         198
        ],
        [
         "CH Morris",
         2016,
         195
        ],
        [
         "RA Jadeja",
         2016,
         191
        ],
        [
         "JP Duminy",
         2016,
         191
        ],
        [
         "AD Russell",
         2016,
         188
        ],
        [
         "SA Yadav",
         2016,
         182
        ],
        [
         "MC Henriques",
         2016,
         182
        ],
        [
         "GJ Maxwell",
         2016,
         179
        ],
        [
         "SR Watson",
         2016,
         179
        ],
        [
         "PA Patel",
         2016,
         177
        ],
        [
         "SS Tiwary",
         2016,
         170
        ],
        [
         "DA Miller",
         2016,
         161
        ],
        [
         "M Vohra",
         2016,
         161
        ],
        [
         "SE Marsh",
         2016,
         159
        ],
        [
         "HM Amla",
         2016,
         157
        ],
        [
         "NLTC Perera",
         2016,
         150
        ],
        [
         "MP Stoinis",
         2016,
         146
        ],
        [
         "DJ Hooda",
         2016,
         144
        ],
        [
         "NV Ojha",
         2016,
         136
        ],
        [
         "UT Khawaja",
         2016,
         127
        ],
        [
         "KS Williamson",
         2016,
         124
        ],
        [
         "EJG Morgan",
         2016,
         123
        ],
        [
         "Sachin Baby",
         2016,
         119
        ],
        [
         "Shakib Al Hasan",
         2016,
         114
        ],
        [
         "Gurkeerat Singh",
         2016,
         113
        ],
        [
         "AR Patel",
         2016,
         111
        ],
        [
         "N Rana",
         2016,
         104
        ],
        [
         "DJ Bravo",
         2016,
         99
        ],
        [
         "Harbhajan Singh",
         2016,
         92
        ],
        [
         "SW Billings",
         2016,
         88
        ],
        [
         "GJ Bailey",
         2016,
         84
        ],
        [
         "CR Brathwaite",
         2016,
         83
        ],
        [
         "JP Faulkner",
         2016,
         77
        ],
        [
         "KP Pietersen",
         2016,
         73
        ],
        [
         "SN Khan",
         2016,
         66
        ],
        [
         "BCJ Cutting",
         2016,
         65
        ],
        [
         "STR Binny",
         2016,
         63
        ],
        [
         "P Negi",
         2016,
         57
        ],
        [
         "MJ Guptill",
         2016,
         57
        ],
        [
         "TM Head",
         2016,
         54
        ],
        [
         "Bipul Sharma",
         2016,
         51
        ],
        [
         "A Ashish Reddy",
         2016,
         47
        ],
        [
         "HH Pandya",
         2016,
         44
        ],
        [
         "B Kumar",
         2016,
         43
        ],
        [
         "Ishan Kishan",
         2016,
         42
        ],
        [
         "KM Jadhav",
         2016,
         42
        ],
        [
         "R Ashwin",
         2016,
         41
        ],
        [
         "Iqbal Abdulla",
         2016,
         37
        ],
        [
         "KV Sharma",
         2016,
         36
        ],
        [
         "MJ McClenaghan",
         2016,
         34
        ],
        [
         "R Bhatia",
         2016,
         34
        ],
        [
         "MM Sharma",
         2016,
         32
        ],
        [
         "SS Iyer",
         2016,
         30
        ],
        [
         "TG Southee",
         2016,
         30
        ],
        [
         "C Munro",
         2016,
         30
        ],
        [
         "MA Agarwal",
         2016,
         27
        ],
        [
         "DS Kulkarni",
         2016,
         27
        ],
        [
         "PP Chawla",
         2016,
         27
        ],
        [
         "CA Lynn",
         2016,
         25
        ],
        [
         "ER Dwivedi",
         2016,
         24
        ],
        [
         "P Kumar",
         2016,
         24
        ],
        [
         "R Sathish",
         2016,
         24
        ],
        [
         "NS Naik",
         2016,
         23
        ],
        [
         "JO Holder",
         2016,
         22
        ],
        [
         "AD Nath",
         2016,
         20
        ],
        [
         "P Sahu",
         2016,
         19
        ],
        [
         "JA Morkel",
         2016,
         16
        ],
        [
         "F Behardien",
         2016,
         14
        ],
        [
         "R Dhawan",
         2016,
         14
        ],
        [
         "KC Cariappa",
         2016,
         13
        ],
        [
         "KJ Abbott",
         2016,
         13
        ],
        [
         "R Vinay Kumar",
         2016,
         13
        ],
        [
         "IK Pathan",
         2016,
         11
        ],
        [
         "Parvez Rasool",
         2016,
         10
        ],
        [
         "NM Coulter-Nile",
         2016,
         9
        ],
        [
         "UT Yadav",
         2016,
         9
        ],
        [
         "Sandeep Sharma",
         2016,
         8
        ],
        [
         "JJ Bumrah",
         2016,
         8
        ],
        [
         "AP Tare",
         2016,
         8
        ],
        [
         "LMP Simmons",
         2016,
         8
        ],
        [
         "PV Tambe",
         2016,
         7
        ],
        [
         "MR Marsh",
         2016,
         7
        ],
        [
         "SP Narine",
         2016,
         7
        ],
        [
         "J Yadav",
         2016,
         6
        ],
        [
         "Z Khan",
         2016,
         6
        ],
        [
         "PSP Handscomb",
         2016,
         6
        ],
        [
         "MG Johnson",
         2016,
         5
        ],
        [
         "Imran Tahir",
         2016,
         5
        ],
        [
         "D Wiese",
         2016,
         5
        ],
        [
         "A Mishra",
         2016,
         4
        ],
        [
         "BB Sran",
         2016,
         4
        ],
        [
         "Ankit Sharma",
         2016,
         3
        ],
        [
         "CJ Jordan",
         2016,
         3
        ],
        [
         "Mohammed Shami",
         2016,
         2
        ],
        [
         "S Gopal",
         2016,
         2
        ],
        [
         "SB Jakati",
         2016,
         1
        ],
        [
         "S Nadeem",
         2016,
         1
        ],
        [
         "DW Steyn",
         2016,
         1
        ],
        [
         "M Morkel",
         2016,
         1
        ],
        [
         "A Nehra",
         2016,
         1
        ],
        [
         "KW Richardson",
         2016,
         1
        ],
        [
         "S Kaushik",
         2016,
         0
        ],
        [
         "UBT Chand",
         2016,
         0
        ],
        [
         "Swapnil Singh",
         2016,
         0
        ],
        [
         "M Ashwin",
         2016,
         0
        ],
        [
         "A Zampa",
         2016,
         0
        ],
        [
         "DA Warner",
         2017,
         641
        ],
        [
         "G Gambhir",
         2017,
         498
        ],
        [
         "S Dhawan",
         2017,
         479
        ],
        [
         "SPD Smith",
         2017,
         472
        ],
        [
         "SK Raina",
         2017,
         442
        ],
        [
         "HM Amla",
         2017,
         420
        ],
        [
         "MK Pandey",
         2017,
         396
        ],
        [
         "PA Patel",
         2017,
         395
        ],
        [
         "KA Pollard",
         2017,
         395
        ],
        [
         "RA Tripathi",
         2017,
         391
        ],
        [
         "RV Uthappa",
         2017,
         388
        ],
        [
         "SV Samson",
         2017,
         386
        ],
        [
         "AM Rahane",
         2017,
         382
        ],
        [
         "RR Pant",
         2017,
         366
        ],
        [
         "KD Karthik",
         2017,
         361
        ],
        [
         "SS Iyer",
         2017,
         338
        ],
        [
         "RG Sharma",
         2017,
         333
        ],
        [
         "N Rana",
         2017,
         333
        ],
        [
         "MK Tiwary",
         2017,
         324
        ],
        [
         "BB McCullum",
         2017,
         320
        ],
        [
         "BA Stokes",
         2017,
         316
        ],
        [
         "GJ Maxwell",
         2017,
         310
        ],
        [
         "V Kohli",
         2017,
         308
        ],
        [
         "AJ Finch",
         2017,
         300
        ],
        [
         "CA Lynn",
         2017,
         295
        ],
        [
         "MS Dhoni",
         2017,
         290
        ],
        [
         "KK Nair",
         2017,
         281
        ],
        [
         "MC Henriques",
         2017,
         277
        ],
        [
         "Ishan Kishan",
         2017,
         277
        ],
        [
         "JC Buttler",
         2017,
         273
        ],
        [
         "KM Jadhav",
         2017,
         267
        ],
        [
         "SE Marsh",
         2017,
         264
        ],
        [
         "KS Williamson",
         2017,
         256
        ],
        [
         "Yuvraj Singh",
         2017,
         252
        ],
        [
         "HH Pandya",
         2017,
         250
        ],
        [
         "KH Pandya",
         2017,
         243
        ],
        [
         "DR Smith",
         2017,
         239
        ],
        [
         "WP Saha",
         2017,
         234
        ],
        [
         "M Vohra",
         2017,
         229
        ],
        [
         "AR Patel",
         2017,
         227
        ],
        [
         "SP Narine",
         2017,
         224
        ],
        [
         "AB de Villiers",
         2017,
         216
        ],
        [
         "CH Gayle",
         2017,
         200
        ],
        [
         "Mandeep Singh",
         2017,
         188
        ],
        [
         "RA Jadeja",
         2017,
         158
        ],
        [
         "CH Morris",
         2017,
         154
        ],
        [
         "TM Head",
         2017,
         151
        ],
        [
         "P Negi",
         2017,
         144
        ],
        [
         "YK Pathan",
         2017,
         143
        ],
        [
         "CJ Anderson",
         2017,
         142
        ],
        [
         "SW Billings",
         2017,
         138
        ],
        [
         "LMP Simmons",
         2017,
         137
        ],
        [
         "MJ Guptill",
         2017,
         132
        ],
        [
         "C de Grandhomme",
         2017,
         126
        ],
        [
         "SA Yadav",
         2017,
         105
        ],
        [
         "V Shankar",
         2017,
         101
        ],
        [
         "AT Rayudu",
         2017,
         91
        ],
        [
         "DA Miller",
         2017,
         83
        ],
        [
         "NV Ojha",
         2017,
         79
        ],
        [
         "DT Christian",
         2017,
         79
        ],
        [
         "DJ Hooda",
         2017,
         78
        ],
        [
         "STR Binny",
         2017,
         78
        ],
        [
         "PJ Cummins",
         2017,
         77
        ],
        [
         "SR Watson",
         2017,
         71
        ],
        [
         "EJG Morgan",
         2017,
         65
        ],
        [
         "JJ Roy",
         2017,
         59
        ],
        [
         "K Rabada",
         2017,
         55
        ],
        [
         "JP Faulkner",
         2017,
         54
        ],
        [
         "AJ Tye",
         2017,
         53
        ],
        [
         "SS Tiwary",
         2017,
         52
        ],
        [
         "BCJ Cutting",
         2017,
         51
        ],
        [
         "MM Sharma",
         2017,
         51
        ],
        [
         "A Mishra",
         2017,
         49
        ],
        [
         "KV Sharma",
         2017,
         49
        ],
        [
         "CR Woakes",
         2017,
         46
        ],
        [
         "SP Jackson",
         2017,
         38
        ],
        [
         "Mohammed Shami",
         2017,
         36
        ],
        [
         "IR Jaggi",
         2017,
         33
        ],
        [
         "S Aravind",
         2017,
         32
        ],
        [
         "AD Mathews",
         2017,
         32
        ],
        [
         "Bipul Sharma",
         2017,
         31
        ],
        [
         "MN Samuels",
         2017,
         29
        ],
        [
         "Basil Thampi",
         2017,
         28
        ],
        [
         "MA Agarwal",
         2017,
         26
        ],
        [
         "A Choudhary",
         2017,
         25
        ],
        [
         "Ankit Sharma",
         2017,
         25
        ],
        [
         "MG Johnson",
         2017,
         20
        ],
        [
         "Kuldeep Yadav",
         2017,
         20
        ],
        [
         "Vishnu Vinod",
         2017,
         19
        ],
        [
         "R Tewatia",
         2017,
         19
        ],
        [
         "AP Tare",
         2017,
         18
        ],
        [
         "MP Stoinis",
         2017,
         17
        ],
        [
         "MJ McClenaghan",
         2017,
         16
        ],
        [
         "Harbhajan Singh",
         2017,
         16
        ],
        [
         "JJ Bumrah",
         2017,
         16
        ],
        [
         "R Bhatia",
         2017,
         16
        ],
        [
         "Sachin Baby",
         2017,
         15
        ],
        [
         "Anureet Singh",
         2017,
         15
        ],
        [
         "NM Coulter-Nile",
         2017,
         14
        ],
        [
         "DL Chahar",
         2017,
         14
        ],
        [
         "S Badree",
         2017,
         13
        ],
        [
         "YS Chahal",
         2017,
         13
        ],
        [
         "CR Brathwaite",
         2017,
         12
        ],
        [
         "Swapnil Singh",
         2017,
         12
        ],
        [
         "AR Bawne",
         2017,
         12
        ],
        [
         "Rashid Khan",
         2017,
         11
        ],
        [
         "UT Yadav",
         2017,
         10
        ],
        [
         "Washington Sundar",
         2017,
         9
        ],
        [
         "TS Mills",
         2017,
         8
        ],
        [
         "F du Plessis",
         2017,
         8
        ],
        [
         "I Sharma",
         2017,
         8
        ],
        [
         "P Kumar",
         2017,
         8
        ],
        [
         "SL Malinga",
         2017,
         7
        ],
        [
         "TG Southee",
         2017,
         7
        ],
        [
         "Ankit Soni",
         2017,
         7
        ],
        [
         "AB Dinda",
         2017,
         7
        ],
        [
         "Sandeep Sharma",
         2017,
         7
        ],
        [
         "AF Milne",
         2017,
         7
        ],
        [
         "DM Bravo",
         2017,
         6
        ],
        [
         "TA Boult",
         2017,
         5
        ],
        [
         "Iqbal Abdulla",
         2017,
         5
        ],
        [
         "A Zampa",
         2017,
         5
        ],
        [
         "Z Khan",
         2017,
         4
        ],
        [
         "AS Rajpoot",
         2017,
         4
        ],
        [
         "VR Aaron",
         2017,
         4
        ],
        [
         "B Kumar",
         2017,
         4
        ],
        [
         "RD Chahar",
         2017,
         3
        ],
        [
         "PP Chawla",
         2017,
         2
        ],
        [
         "Mohammad Nabi",
         2017,
         2
        ],
        [
         "S Nadeem",
         2017,
         2
        ],
        [
         "KC Cariappa",
         2017,
         2
        ],
        [
         "JD Unadkat",
         2017,
         2
        ],
        [
         "PJ Sangwan",
         2017,
         2
        ],
        [
         "IK Pathan",
         2017,
         2
        ],
        [
         "Shakib Al Hasan",
         2017,
         1
        ],
        [
         "LH Ferguson",
         2017,
         1
        ],
        [
         "DS Kulkarni",
         2017,
         1
        ],
        [
         "CJ Jordan",
         2017,
         0
        ],
        [
         "Imran Tahir",
         2017,
         0
        ],
        [
         "AD Nath",
         2017,
         0
        ],
        [
         "S Kaul",
         2017,
         0
        ],
        [
         "SN Thakur",
         2017,
         0
        ],
        [
         "MM Patel",
         2017,
         0
        ]
       ],
       "datasetInfos": [],
       "dbfsResultPath": null,
       "isJsonSchema": true,
       "metadata": {},
       "overflow": false,
       "plotOptions": {
        "customPlotOptions": {},
        "displayType": "table",
        "pivotAggregation": null,
        "pivotColumns": null,
        "xColumns": null,
        "yColumns": null
       },
       "removedWidgets": [],
       "schema": [
        {
         "metadata": "{}",
         "name": "player_name",
         "type": "\"string\""
        },
        {
         "metadata": "{}",
         "name": "season_year",
         "type": "\"integer\""
        },
        {
         "metadata": "{}",
         "name": "total_runs",
         "type": "\"long\""
        }
       ],
       "type": "table"
      }
     },
     "output_type": "display_data"
    }
   ],
   "source": [
    "# Define the SQL query\n",
    "query = \"\"\"\n",
    "SELECT \n",
    "    pm.player_name,\n",
    "    m.season_year AS season_year,\n",
    "    SUM(b.runs_scored) AS total_runs\n",
    "FROM df b\n",
    "JOIN match m ON b.match_id = m.match_id\n",
    "JOIN player_match pm ON m.match_id = pm.match_id AND b.striker = pm.player_id\n",
    "GROUP BY pm.player_name, m.season_year\n",
    "ORDER BY m.season_year, total_runs DESC\n",
    "\"\"\"\n",
    "\n",
    "# Execute the query and store the result in a DataFrame\n",
    "top_scoring_batsmen_per_season = spark.sql(query)\n",
    "\n",
    "# Display the DataFrame\n",
    "display(top_scoring_batsmen_per_season)"
   ]
  },
  {
   "cell_type": "code",
   "execution_count": 0,
   "metadata": {
    "application/vnd.databricks.v1+cell": {
     "cellMetadata": {
      "byteLimit": 2048000,
      "rowLimit": 10000
     },
     "inputWidgets": {},
     "nuid": "31f64a5c-9348-4a2f-a758-5d8cc6a2bc77",
     "showTitle": false,
     "tableResultSettingsMap": {},
     "title": ""
    }
   },
   "outputs": [
    {
     "output_type": "display_data",
     "data": {
      "text/html": [
       "<style scoped>\n",
       "  .table-result-container {\n",
       "    max-height: 300px;\n",
       "    overflow: auto;\n",
       "  }\n",
       "  table, th, td {\n",
       "    border: 1px solid black;\n",
       "    border-collapse: collapse;\n",
       "  }\n",
       "  th, td {\n",
       "    padding: 5px;\n",
       "  }\n",
       "  th {\n",
       "    text-align: left;\n",
       "  }\n",
       "</style><div class='table-result-container'><table class='table-result'><thead style='background-color: white'><tr><th>player_name</th><th>avg_runs_per_ball</th><th>total_wickets</th></tr></thead><tbody><tr><td>T Henderson</td><td>0.7171052631578947</td><td>0</td></tr><tr><td>DT Patil</td><td>0.821656050955414</td><td>0</td></tr><tr><td>D du Preez</td><td>0.8410596026490066</td><td>0</td></tr><tr><td>JJ van der Wath</td><td>0.8508771929824561</td><td>0</td></tr><tr><td>DJ Jacobs</td><td>0.8709055876685935</td><td>0</td></tr><tr><td>B Laughlin</td><td>0.88</td><td>0</td></tr><tr><td>CJ McKay</td><td>0.9</td><td>0</td></tr><tr><td>LA Carseldine</td><td>0.9164420485175202</td><td>0</td></tr><tr><td>NK Patel</td><td>0.917037037037037</td><td>0</td></tr><tr><td>BMAJ Mendis</td><td>0.9244444444444444</td><td>0</td></tr><tr><td>R Ninan</td><td>0.9266666666666666</td><td>0</td></tr><tr><td>RE Levi</td><td>0.9352678571428571</td><td>0</td></tr><tr><td>TR Birt</td><td>0.9381443298969072</td><td>0</td></tr><tr><td>CJ Ferguson</td><td>0.939873417721519</td><td>0</td></tr><tr><td>B Akhil</td><td>0.9416445623342176</td><td>0</td></tr><tr><td>Shoaib Akhtar</td><td>0.9434782608695652</td><td>0</td></tr><tr><td>GS Sandhu</td><td>0.9489795918367347</td><td>0</td></tr><tr><td>RJ Quiney</td><td>0.9517625231910947</td><td>0</td></tr><tr><td>Misbah-ul-Haq</td><td>0.9523809523809523</td><td>0</td></tr><tr><td>JDS Neesham</td><td>0.9531772575250836</td><td>0</td></tr><tr><td>B Sumanth</td><td>0.9601063829787234</td><td>0</td></tr><tr><td>J Arunkumar</td><td>0.9605263157894737</td><td>0</td></tr><tr><td>SS Sarkar</td><td>0.9605263157894737</td><td>0</td></tr><tr><td>IR Jaggi</td><td>0.9650485436893204</td><td>0</td></tr><tr><td>Mohammad Hafeez</td><td>0.9670510708401977</td><td>0</td></tr><tr><td>SM Harwood</td><td>0.9683257918552036</td><td>0</td></tr><tr><td>S Rana</td><td>0.9731113956466069</td><td>0</td></tr><tr><td>AD Mascarenhas</td><td>0.9747729566094854</td><td>0</td></tr><tr><td>AG Murtaza</td><td>0.97669256381798</td><td>0</td></tr><tr><td>BB Samantray</td><td>0.9774096385542169</td><td>0</td></tr><tr><td>C Nanda</td><td>0.9779735682819384</td><td>0</td></tr><tr><td>W Jaffer</td><td>0.9834710743801653</td><td>0</td></tr><tr><td>AG Paunikar</td><td>0.9841269841269841</td><td>0</td></tr><tr><td>SMSM Senanayake</td><td>0.9949409780775716</td><td>0</td></tr><tr><td>RT Ponting</td><td>1.0</td><td>0</td></tr><tr><td>TD Paine</td><td>1.0</td><td>0</td></tr><tr><td>RR Raje</td><td>1.0039113428943938</td><td>0</td></tr><tr><td>CM Gautam</td><td>1.0040858018386107</td><td>0</td></tr><tr><td>UBT Chand</td><td>1.008827238335435</td><td>0</td></tr><tr><td>PA Reddy</td><td>1.009922822491731</td><td>0</td></tr><tr><td>JEC Franklin</td><td>1.012072434607646</td><td>0</td></tr><tr><td>T Taibu</td><td>1.013157894736842</td><td>0</td></tr><tr><td>JE Taylor</td><td>1.0134048257372654</td><td>0</td></tr><tr><td>SS Shaikh</td><td>1.0135135135135136</td><td>0</td></tr><tr><td>CA Ingram</td><td>1.016304347826087</td><td>0</td></tr><tr><td>SA Asnodkar</td><td>1.0165016501650166</td><td>0</td></tr><tr><td>MN van Wyk</td><td>1.018181818181818</td><td>0</td></tr><tr><td>WA Mota</td><td>1.0271739130434783</td><td>0</td></tr><tr><td>MM Patel</td><td>1.0304890959136142</td><td>0</td></tr><tr><td>SR Tendulkar</td><td>1.0312765595784463</td><td>0</td></tr><tr><td>YV Takawale</td><td>1.031404958677686</td><td>0</td></tr><tr><td>NJ Maddinson</td><td>1.0316742081447965</td><td>0</td></tr><tr><td>Salman Butt</td><td>1.0317164179104477</td><td>0</td></tr><tr><td>RE van der Merwe</td><td>1.0322173089071383</td><td>0</td></tr><tr><td>M Rawat</td><td>1.0327510917030567</td><td>0</td></tr><tr><td>CRD Fernando</td><td>1.036939313984169</td><td>0</td></tr><tr><td>A Singh</td><td>1.0373395565927654</td><td>0</td></tr><tr><td>CL White</td><td>1.037938844847112</td><td>0</td></tr><tr><td>GH Vihari</td><td>1.0380894800483675</td><td>0</td></tr><tr><td>NLTC Perera</td><td>1.0381569474442045</td><td>0</td></tr><tr><td>MV Boucher</td><td>1.0392826643894109</td><td>0</td></tr><tr><td>AN Ahmed</td><td>1.0400943396226414</td><td>0</td></tr><tr><td>A Chopra</td><td>1.0411985018726593</td><td>0</td></tr><tr><td>DB Das</td><td>1.0412725709372312</td><td>0</td></tr><tr><td>A Kumble</td><td>1.0424394844388558</td><td>0</td></tr><tr><td>A Symonds</td><td>1.0443837487196996</td><td>0</td></tr><tr><td>DJG Sammy</td><td>1.044930176077717</td><td>0</td></tr><tr><td>S Randiv</td><td>1.0452261306532664</td><td>0</td></tr><tr><td>RV Gomez</td><td>1.0454086781029264</td><td>0</td></tr><tr><td>JD Ryder</td><td>1.0457697642163661</td><td>0</td></tr><tr><td>Umar Gul</td><td>1.0458515283842795</td><td>0</td></tr><tr><td>Kamran Khan</td><td>1.0474137931034482</td><td>0</td></tr><tr><td>MD Mishra</td><td>1.0487084870848709</td><td>0</td></tr><tr><td>L Ronchi</td><td>1.0494791666666667</td><td>0</td></tr><tr><td>AC Blizzard</td><td>1.05</td><td>0</td></tr><tr><td>Anirudh Singh</td><td>1.05</td><td>0</td></tr><tr><td>AM Nayar</td><td>1.0500882612533098</td><td>0</td></tr><tr><td>SL Malinga</td><td>1.0500963391136802</td><td>0</td></tr><tr><td>GC Smith</td><td>1.0501138952164009</td><td>0</td></tr><tr><td>DH Yagnik</td><td>1.0507207688200748</td><td>0</td></tr><tr><td>S Anirudha</td><td>1.0507682030728123</td><td>0</td></tr><tr><td>B Chipli</td><td>1.0513856812933025</td><td>0</td></tr><tr><td>PR Shah</td><td>1.051681706316653</td><td>0</td></tr><tr><td>KW Richardson</td><td>1.051789077212806</td><td>0</td></tr><tr><td>AM Salvi</td><td>1.053030303030303</td><td>0</td></tr><tr><td>Anand Rajan</td><td>1.053781512605042</td><td>0</td></tr><tr><td>Harmeet Singh</td><td>1.0538351595998094</td><td>0</td></tr><tr><td>JH Kallis</td><td>1.0563762027374983</td><td>0</td></tr><tr><td>PC Valthaty</td><td>1.0593659942363112</td><td>0</td></tr><tr><td>KP Appanna</td><td>1.0597165991902835</td><td>0</td></tr><tr><td>RJ Harris</td><td>1.0597923379878267</td><td>0</td></tr><tr><td>AUK Pathan</td><td>1.06</td><td>0</td></tr><tr><td>BJ Rohrer</td><td>1.0601626016260162</td><td>0</td></tr><tr><td>AT Rayudu</td><td>1.0625365967911933</td><td>0</td></tr><tr><td>Vishnu Vinod</td><td>1.063063063063063</td><td>0</td></tr><tr><td>TL Suman</td><td>1.0639751552795031</td><td>0</td></tr><tr><td>J Botha</td><td>1.0649862150452933</td><td>0</td></tr><tr><td>DJ Muthuswami</td><td>1.065217391304348</td><td>0</td></tr><tr><td>R Dravid</td><td>1.0655517395848888</td><td>0</td></tr><tr><td>WD Parnell</td><td>1.0655737704918034</td><td>0</td></tr><tr><td>AB Agarkar</td><td>1.065978736710444</td><td>0</td></tr><tr><td>JP Duminy</td><td>1.0661803022407503</td><td>0</td></tr><tr><td>M Kartik</td><td>1.0666192508297772</td><td>0</td></tr><tr><td>LJ Wright</td><td>1.066793893129771</td><td>0</td></tr><tr><td>M Ntini</td><td>1.0668647845468053</td><td>0</td></tr><tr><td>LR Shukla</td><td>1.0678109172763084</td><td>0</td></tr><tr><td>A Ashish Reddy</td><td>1.0681233933161953</td><td>0</td></tr><tr><td>RR Sarwan</td><td>1.0681818181818181</td><td>0</td></tr><tr><td>Iqbal Abdulla</td><td>1.0685930326762085</td><td>0</td></tr><tr><td>Harpreet Singh</td><td>1.07</td><td>0</td></tr><tr><td>Harbhajan Singh</td><td>1.0713170731707318</td><td>0</td></tr><tr><td>M Morkel</td><td>1.0730507191521574</td><td>0</td></tr><tr><td>DE Bollinger</td><td>1.0731586752348</td><td>0</td></tr><tr><td>SD Chitnis</td><td>1.0734394124847002</td><td>0</td></tr><tr><td>AS Raut</td><td>1.0735206216377764</td><td>0</td></tr><tr><td>ST Jayasuriya</td><td>1.0738636363636365</td><td>0</td></tr><tr><td>MC Juneja</td><td>1.074766355140187</td><td>0</td></tr><tr><td>NL McCullum</td><td>1.0748299319727892</td><td>0</td></tr><tr><td>S Sohal</td><td>1.0749850029994001</td><td>0</td></tr><tr><td>Azhar Mahmood</td><td>1.0750733137829913</td><td>0</td></tr><tr><td>DW Steyn</td><td>1.0750923872875093</td><td>0</td></tr><tr><td>KK Cooper</td><td>1.0753093060785368</td><td>0</td></tr><tr><td>I Sharma</td><td>1.0759603685033896</td><td>0</td></tr><tr><td>VS Malik</td><td>1.0759753593429158</td><td>0</td></tr><tr><td>R Sharma</td><td>1.076519592718297</td><td>0</td></tr><tr><td>SK Trivedi</td><td>1.077988082719944</td><td>0</td></tr><tr><td>YA Abdulla</td><td>1.0789473684210527</td><td>0</td></tr><tr><td>MS Bisla</td><td>1.079054054054054</td><td>0</td></tr><tr><td>A Chandila</td><td>1.0799112097669257</td><td>0</td></tr><tr><td>BJ Hodge</td><td>1.081661316211878</td><td>0</td></tr><tr><td>MR Marsh</td><td>1.0818553888130968</td><td>0</td></tr><tr><td>RS Gavaskar</td><td>1.082191780821918</td><td>0</td></tr><tr><td>SC Ganguly</td><td>1.082392776523702</td><td>0</td></tr><tr><td>KA Pollard</td><td>1.0838744588744589</td><td>0</td></tr><tr><td>S Vidyut</td><td>1.0839469808541973</td><td>0</td></tr><tr><td>Q de Kock</td><td>1.084126984126984</td><td>0</td></tr><tr><td>N Saini</td><td>1.0845637583892618</td><td>0</td></tr><tr><td>DB Ravi Teja</td><td>1.085168259243872</td><td>0</td></tr><tr><td>RG Sharma</td><td>1.085599531419965</td><td>0</td></tr><tr><td>MEK Hussey</td><td>1.0862967157417893</td><td>0</td></tr><tr><td>AB Dinda</td><td>1.0866425992779782</td><td>0</td></tr><tr><td>DJ Hussey</td><td>1.0874191529313582</td><td>0</td></tr><tr><td>RN ten Doeschate</td><td>1.0882217090069284</td><td>0</td></tr><tr><td>AC Gilchrist</td><td>1.0886075949367089</td><td>0</td></tr><tr><td>PP Ojha</td><td>1.0886149383611312</td><td>0</td></tr><tr><td>B Lee</td><td>1.08937960042061</td><td>0</td></tr><tr><td>ER Dwivedi</td><td>1.0894039735099337</td><td>0</td></tr><tr><td>Sohail Tanvir</td><td>1.0905797101449275</td><td>0</td></tr><tr><td>AC Thomas</td><td>1.0908248378127896</td><td>0</td></tr><tr><td>MA Agarwal</td><td>1.0912343470483006</td><td>0</td></tr><tr><td>V Pratap Singh</td><td>1.091454272863568</td><td>0</td></tr><tr><td>LRPL Taylor</td><td>1.0916383082158483</td><td>0</td></tr><tr><td>BR Dunk</td><td>1.0921052631578947</td><td>0</td></tr><tr><td>R Vinay Kumar</td><td>1.0922518787250584</td><td>0</td></tr><tr><td>DT Christian</td><td>1.0948660714285714</td><td>0</td></tr><tr><td>ND Doshi</td><td>1.0957095709570956</td><td>0</td></tr><tr><td>TG Southee</td><td>1.0966682308775222</td><td>0</td></tr><tr><td>STR Binny</td><td>1.0966823056300268</td><td>0</td></tr><tr><td>FH Edwards</td><td>1.0969162995594715</td><td>0</td></tr><tr><td>SP Goswami</td><td>1.09696261682243</td><td>0</td></tr><tr><td>AL Menaria</td><td>1.0980211688909343</td><td>0</td></tr><tr><td>M Manhas</td><td>1.0983207593088342</td><td>0</td></tr><tr><td>BW Hilfenhaus</td><td>1.0992063492063493</td><td>0</td></tr><tr><td>RR Rossouw</td><td>1.1</td><td>0</td></tr><tr><td>SK Warne</td><td>1.10086663456909</td><td>0</td></tr><tr><td>AP Majumdar</td><td>1.1013513513513513</td><td>0</td></tr><tr><td>B Stanlake</td><td>1.1013513513513513</td><td>0</td></tr><tr><td>KB Arun Karthik</td><td>1.1017733230531996</td><td>0</td></tr><tr><td>RP Singh</td><td>1.1021297192642787</td><td>0</td></tr><tr><td>AM Rahane</td><td>1.1026877184524526</td><td>0</td></tr><tr><td>P Suyal</td><td>1.1031746031746033</td><td>0</td></tr><tr><td>Y Venugopal Rao</td><td>1.1034766508948777</td><td>0</td></tr><tr><td>PV Tambe</td><td>1.103986847513358</td><td>0</td></tr><tr><td>BA Bhatt</td><td>1.1041831097079715</td><td>0</td></tr><tr><td>A Mithun</td><td>1.1045643153526972</td><td>0</td></tr><tr><td>EJG Morgan</td><td>1.1049398515485027</td><td>0</td></tr><tr><td>R Sathish</td><td>1.1054702872884692</td><td>0</td></tr><tr><td>PD Collingwood</td><td>1.1064891846921796</td><td>0</td></tr><tr><td>SJ Srivastava</td><td>1.1076066790352506</td><td>0</td></tr><tr><td>KC Sangakkara</td><td>1.1084808946877913</td><td>0</td></tr><tr><td>Z Khan</td><td>1.1085752869682648</td><td>0</td></tr><tr><td>VH Zol</td><td>1.1090909090909091</td><td>0</td></tr><tr><td>PA Patel</td><td>1.109601247493874</td><td>0</td></tr><tr><td>RV Uthappa</td><td>1.1098871574422353</td><td>0</td></tr><tr><td>Shakib Al Hasan</td><td>1.1099720410065237</td><td>0</td></tr><tr><td>S Sriram</td><td>1.1103896103896105</td><td>0</td></tr><tr><td>S Chanderpaul</td><td>1.1111111111111112</td><td>0</td></tr><tr><td>CK Langeveldt</td><td>1.111531190926276</td><td>0</td></tr><tr><td>AP Tare</td><td>1.1115749525616698</td><td>0</td></tr><tr><td>KM Jadhav</td><td>1.1118793211816467</td><td>0</td></tr><tr><td>L Balaji</td><td>1.1119824913368594</td><td>0</td></tr><tr><td>DJ Thornely</td><td>1.1120879120879121</td><td>0</td></tr><tr><td>S Nadeem</td><td>1.1123650637880276</td><td>0</td></tr><tr><td>SM Pollock</td><td>1.1124620060790273</td><td>0</td></tr><tr><td>HH Gibbs</td><td>1.1126656848306333</td><td>0</td></tr><tr><td>SS Tiwary</td><td>1.1128736016029388</td><td>0</td></tr><tr><td>Y Nagar</td><td>1.1138509968520462</td><td>0</td></tr><tr><td>V Kohli</td><td>1.11420310805927</td><td>0</td></tr><tr><td>MN Samuels</td><td>1.1143114311431144</td><td>0</td></tr><tr><td>TS Mills</td><td>1.1143617021276595</td><td>0</td></tr><tr><td>NM Coulter-Nile</td><td>1.1146366427840328</td><td>0</td></tr><tr><td>A Mishra</td><td>1.1157304559399133</td><td>0</td></tr><tr><td>BB Sran</td><td>1.1162207357859533</td><td>0</td></tr><tr><td>JA Morkel</td><td>1.1163684755286116</td><td>0</td></tr><tr><td>DS Kulkarni</td><td>1.116430700447094</td><td>0</td></tr><tr><td>R Bhatia</td><td>1.1167342373829163</td><td>0</td></tr><tr><td>Yuvraj Singh</td><td>1.1169642857142856</td><td>0</td></tr><tr><td>MJ Clarke</td><td>1.1180400890868596</td><td>0</td></tr><tr><td>RJ Peterson</td><td>1.1185983827493262</td><td>0</td></tr><tr><td>MG Johnson</td><td>1.1191135734072022</td><td>0</td></tr><tr><td>RR Powar</td><td>1.1193957115009747</td><td>0</td></tr><tr><td>KV Sharma</td><td>1.119980879541109</td><td>0</td></tr><tr><td>CK Kapugedera</td><td>1.1210526315789473</td><td>0</td></tr><tr><td>Mohammad Nabi</td><td>1.1210762331838564</td><td>0</td></tr><tr><td>M Vijay</td><td>1.1225634178905206</td><td>0</td></tr><tr><td>AA Chavan</td><td>1.1228070175438596</td><td>0</td></tr><tr><td>SM Katich</td><td>1.1228915662650603</td><td>0</td></tr><tr><td>P Kumar</td><td>1.123695139746324</td><td>0</td></tr><tr><td>SB Styris</td><td>1.1237458193979932</td><td>0</td></tr><tr><td>DPMD Jayawardene</td><td>1.1241538715535744</td><td>0</td></tr><tr><td>MK Pandey</td><td>1.1243839169909209</td><td>0</td></tr><tr><td>IK Pathan</td><td>1.1246290801186944</td><td>0</td></tr><tr><td>R Ashwin</td><td>1.124665205746287</td><td>0</td></tr><tr><td>SR Watson</td><td>1.1248688352570828</td><td>0</td></tr><tr><td>Gagandeep Singh</td><td>1.1258278145695364</td><td>0</td></tr><tr><td>MA Starc</td><td>1.1260891850333163</td><td>0</td></tr><tr><td>KMDN Kulasekara</td><td>1.1263440860215055</td><td>0</td></tr><tr><td>YK Pathan</td><td>1.1265189421015012</td><td>0</td></tr><tr><td>Mandeep Singh</td><td>1.1268151016456922</td><td>0</td></tr><tr><td>S Badree</td><td>1.1268237934904601</td><td>0</td></tr><tr><td>LH Ferguson</td><td>1.1275167785234899</td><td>0</td></tr><tr><td>SS Iyer</td><td>1.1277495769881556</td><td>0</td></tr><tr><td>DNT Zoysa</td><td>1.1283185840707965</td><td>0</td></tr><tr><td>SV Samson</td><td>1.1285976729944887</td><td>0</td></tr><tr><td>AD Mathews</td><td>1.1289531079607416</td><td>0</td></tr><tr><td>PP Chawla</td><td>1.1292846114256305</td><td>0</td></tr><tr><td>KP Pietersen</td><td>1.1298846296985485</td><td>0</td></tr><tr><td>Sachin Baby</td><td>1.1299183370452859</td><td>0</td></tr><tr><td>MK Tiwary</td><td>1.1304410285878466</td><td>0</td></tr><tr><td>JD Unadkat</td><td>1.1308279174908167</td><td>0</td></tr><tr><td>MF Maharoof</td><td>1.1311258278145695</td><td>0</td></tr><tr><td>UT Khawaja</td><td>1.132882882882883</td><td>0</td></tr><tr><td>DJ Bravo</td><td>1.133367139959432</td><td>0</td></tr><tr><td>SP Fleming</td><td>1.1334214002642007</td><td>0</td></tr><tr><td>K Goel</td><td>1.1342925659472423</td><td>0</td></tr><tr><td>R Rampaul</td><td>1.1346578366445916</td><td>0</td></tr><tr><td>CH Morris</td><td>1.1352562307476897</td><td>0</td></tr><tr><td>AN Ghosh</td><td>1.135483870967742</td><td>0</td></tr><tr><td>M Muralitharan</td><td>1.135842221775005</td><td>0</td></tr><tr><td>P Awana</td><td>1.1362709098327213</td><td>0</td></tr><tr><td>SPD Smith</td><td>1.136425648021828</td><td>0</td></tr><tr><td>VY Mahesh</td><td>1.1364705882352941</td><td>0</td></tr><tr><td>Mustafizur Rahman</td><td>1.1367588932806325</td><td>0</td></tr><tr><td>VR Aaron</td><td>1.1372804163955759</td><td>0</td></tr><tr><td>MA Khote</td><td>1.138157894736842</td><td>0</td></tr><tr><td>S Sreesanth</td><td>1.1385488205434457</td><td>0</td></tr><tr><td>JJ Bumrah</td><td>1.1386696730552424</td><td>0</td></tr><tr><td>TM Dilshan</td><td>1.138723843967967</td><td>0</td></tr><tr><td>SP Narine</td><td>1.1390739236393177</td><td>0</td></tr><tr><td>G Gambhir</td><td>1.1392359550561797</td><td>0</td></tr><tr><td>SB Wagh</td><td>1.1394957983193277</td><td>0</td></tr><tr><td>JR Hopes</td><td>1.139654067905189</td><td>0</td></tr><tr><td>VVS Laxman</td><td>1.1397350993377484</td><td>0</td></tr><tr><td>CJ Anderson</td><td>1.1398809523809523</td><td>0</td></tr><tr><td>WPUJC Vaas</td><td>1.1406570841889117</td><td>0</td></tr><tr><td>S Dhawan</td><td>1.1406776094276094</td><td>0</td></tr><tr><td>M Kaif</td><td>1.1409090909090909</td><td>0</td></tr><tr><td>S Badrinath</td><td>1.1410964725881854</td><td>0</td></tr><tr><td>A Zampa</td><td>1.1412911084043849</td><td>0</td></tr><tr><td>R Shukla</td><td>1.142300194931774</td><td>0</td></tr><tr><td>UT Yadav</td><td>1.1424628729136548</td><td>0</td></tr><tr><td>KH Pandya</td><td>1.1430084745762712</td><td>0</td></tr><tr><td>M Klinger</td><td>1.1433224755700326</td><td>0</td></tr><tr><td>C Munro</td><td>1.1442953020134228</td><td>0</td></tr><tr><td>CH Gayle</td><td>1.1453550453817405</td><td>0</td></tr><tr><td>DL Vettori</td><td>1.1460055096418733</td><td>0</td></tr><tr><td>Shoaib Ahmed</td><td>1.1466227347611202</td><td>0</td></tr><tr><td>B Kumar</td><td>1.1468791896320571</td><td>0</td></tr><tr><td>J Suchith</td><td>1.1474480151228734</td><td>0</td></tr><tr><td>SE Marsh</td><td>1.1477443609022557</td><td>0</td></tr><tr><td>A Nehra</td><td>1.1477944520236472</td><td>0</td></tr><tr><td>RS Bopara</td><td>1.1479064709081022</td><td>0</td></tr><tr><td>DA Warner</td><td>1.147908834586466</td><td>0</td></tr><tr><td>LMP Simmons</td><td>1.1479963570127505</td><td>0</td></tr><tr><td>RA Jadeja</td><td>1.1482852689010132</td><td>0</td></tr><tr><td>IC Pandey</td><td>1.1488900920411478</td><td>0</td></tr><tr><td>JP Faulkner</td><td>1.1498871331828442</td><td>0</td></tr><tr><td>Jaskaran Singh</td><td>1.1501650165016502</td><td>0</td></tr><tr><td>AB de Villiers</td><td>1.1513247460467064</td><td>0</td></tr><tr><td>KK Nair</td><td>1.1513447432762836</td><td>0</td></tr><tr><td>KD Karthik</td><td>1.152312036710201</td><td>0</td></tr><tr><td>DJ Harris</td><td>1.1538461538461537</td><td>0</td></tr><tr><td>J Yadav</td><td>1.1541725601131543</td><td>0</td></tr><tr><td>SA Yadav</td><td>1.15453446191052</td><td>0</td></tr><tr><td>OA Shah</td><td>1.156737998843262</td><td>0</td></tr><tr><td>MS Gony</td><td>1.1573373676248109</td><td>0</td></tr><tr><td>DP Nannes</td><td>1.1576062128825948</td><td>0</td></tr><tr><td>Washington Sundar</td><td>1.1577017114914425</td><td>0</td></tr><tr><td>CA Pujara</td><td>1.1579646017699115</td><td>0</td></tr><tr><td>HH Pandya</td><td>1.1591880341880343</td><td>0</td></tr><tr><td>LA Pomersbach</td><td>1.1598746081504703</td><td>0</td></tr><tr><td>CR Brathwaite</td><td>1.1603773584905661</td><td>0</td></tr><tr><td>GB Hogg</td><td>1.1607369758576873</td><td>0</td></tr><tr><td>NV Ojha</td><td>1.1607485604606527</td><td>0</td></tr><tr><td>MS Dhoni</td><td>1.1623750635270202</td><td>0</td></tr><tr><td>R McLaren</td><td>1.162380602498163</td><td>0</td></tr><tr><td>Mohammed Shami</td><td>1.1626898047722343</td><td>0</td></tr><tr><td>V Sehwag</td><td>1.1629506943559689</td><td>0</td></tr><tr><td>MJ McClenaghan</td><td>1.1629825140217749</td><td>0</td></tr><tr><td>DP Vijaykumar</td><td>1.163716814159292</td><td>0</td></tr><tr><td>HV Patel</td><td>1.165821303160359</td><td>0</td></tr><tr><td>J Syed Mohammad</td><td>1.1668667466986795</td><td>0</td></tr><tr><td>S Tyagi</td><td>1.1677725118483413</td><td>0</td></tr><tr><td>Shahid Afridi</td><td>1.1677762982689748</td><td>0</td></tr><tr><td>AD Russell</td><td>1.1680473372781066</td><td>0</td></tr><tr><td>WP Saha</td><td>1.1681267714506571</td><td>0</td></tr><tr><td>SE Bond</td><td>1.1683168316831682</td><td>0</td></tr><tr><td>JM Kemp</td><td>1.1692708333333333</td><td>0</td></tr><tr><td>RS Sodhi</td><td>1.1696428571428572</td><td>0</td></tr><tr><td>SB Jakati</td><td>1.1702898550724639</td><td>0</td></tr><tr><td>TP Sudhindra</td><td>1.1704035874439462</td><td>0</td></tr><tr><td>PM Sarvesh Kumar</td><td>1.1710526315789473</td><td>0</td></tr><tr><td>BB McCullum</td><td>1.1711851278079008</td><td>0</td></tr><tr><td>DR Smith</td><td>1.1714748307329996</td><td>0</td></tr><tr><td>Gurkeerat Singh</td><td>1.1716216216216215</td><td>0</td></tr><tr><td>DJ Hooda</td><td>1.171740569159497</td><td>0</td></tr><tr><td>Yashpal Singh</td><td>1.172859450726979</td><td>0</td></tr><tr><td>MDKJ Perera</td><td>1.1733333333333333</td><td>0</td></tr><tr><td>SW Tait</td><td>1.1734758013827782</td><td>0</td></tr><tr><td>AJ Finch</td><td>1.1737967914438503</td><td>0</td></tr><tr><td>Bipul Sharma</td><td>1.174089068825911</td><td>0</td></tr><tr><td>BAW Mendis</td><td>1.1750972762645915</td><td>0</td></tr><tr><td>KL Rahul</td><td>1.175929082850324</td><td>0</td></tr><tr><td>JC Buttler</td><td>1.1763085399449036</td><td>0</td></tr><tr><td>YS Chahal</td><td>1.1763419965994657</td><td>0</td></tr><tr><td>AP Dole</td><td>1.1767241379310345</td><td>0</td></tr><tr><td>Ankit Sharma</td><td>1.1772151898734178</td><td>0</td></tr><tr><td>SB Bangar</td><td>1.1773127753303965</td><td>0</td></tr><tr><td>V Shankar</td><td>1.178082191780822</td><td>0</td></tr><tr><td>R Bishnoi</td><td>1.1785714285714286</td><td>0</td></tr><tr><td>SK Raina</td><td>1.1795171664856736</td><td>0</td></tr><tr><td>T Thushara</td><td>1.1804008908685968</td><td>0</td></tr><tr><td>AB Barath</td><td>1.1809954751131222</td><td>0</td></tr><tr><td>T Natarajan</td><td>1.18140589569161</td><td>0</td></tr><tr><td>AB McDonald</td><td>1.181456953642384</td><td>0</td></tr><tr><td>NB Singh</td><td>1.1824324324324325</td><td>0</td></tr><tr><td>R Dhawan</td><td>1.1838085539714867</td><td>0</td></tr><tr><td>AA Bilakhia</td><td>1.1838649155722327</td><td>0</td></tr><tr><td>SN Thakur</td><td>1.1840744570837642</td><td>0</td></tr><tr><td>S Kaul</td><td>1.185473411154345</td><td>0</td></tr><tr><td>L Ablish</td><td>1.1855203619909502</td><td>0</td></tr><tr><td>TM Srivastava</td><td>1.1866666666666668</td><td>0</td></tr><tr><td>DA Miller</td><td>1.1872090669904878</td><td>0</td></tr><tr><td>S Aravind</td><td>1.187214611872146</td><td>0</td></tr><tr><td>JDP Oram</td><td>1.1872686898593634</td><td>0</td></tr><tr><td>Pankaj Singh</td><td>1.18828125</td><td>0</td></tr><tr><td>ML Hayden</td><td>1.1886870355078447</td><td>0</td></tr><tr><td>P Negi</td><td>1.1887721602101116</td><td>0</td></tr><tr><td>T Shamsi</td><td>1.1893687707641196</td><td>0</td></tr><tr><td>CJ Jordan</td><td>1.1900269541778976</td><td>0</td></tr><tr><td>SB Joshi</td><td>1.1946308724832215</td><td>0</td></tr><tr><td>VRV Singh</td><td>1.1950034698126302</td><td>0</td></tr><tr><td>U Kaul</td><td>1.1968911917098446</td><td>0</td></tr><tr><td>DL Chahar</td><td>1.1973684210526316</td><td>0</td></tr><tr><td>P Sahu</td><td>1.1978319783197833</td><td>0</td></tr><tr><td>Imran Tahir</td><td>1.1985785953177257</td><td>0</td></tr><tr><td>SW Billings</td><td>1.199017199017199</td><td>0</td></tr><tr><td>MM Sharma</td><td>1.2006466678641998</td><td>0</td></tr><tr><td>MC Henriques</td><td>1.2012223789374705</td><td>0</td></tr><tr><td>K Santokie</td><td>1.2012987012987013</td><td>0</td></tr><tr><td>KAJ Roach</td><td>1.2026143790849673</td><td>0</td></tr><tr><td>S Gopal</td><td>1.206208425720621</td><td>0</td></tr><tr><td>Parvez Rasool</td><td>1.2068126520681266</td><td>0</td></tr><tr><td>N Rana</td><td>1.2080433101314771</td><td>0</td></tr><tr><td>P Parameswaran</td><td>1.2085385878489328</td><td>0</td></tr><tr><td>F du Plessis</td><td>1.208558906934777</td><td>0</td></tr><tr><td>UA Birla</td><td>1.2091503267973855</td><td>0</td></tr><tr><td>RA Tripathi</td><td>1.2095693779904306</td><td>0</td></tr><tr><td>S Kaushik</td><td>1.210242587601078</td><td>0</td></tr><tr><td>RR Pant</td><td>1.2109111361079865</td><td>0</td></tr><tr><td>NS Naik</td><td>1.2123287671232876</td><td>0</td></tr><tr><td>K Rabada</td><td>1.2130044843049328</td><td>0</td></tr><tr><td>P Amarnath</td><td>1.2130434782608697</td><td>0</td></tr><tr><td>GJ Bailey</td><td>1.213218199933577</td><td>0</td></tr><tr><td>LPC Silva</td><td>1.2142857142857142</td><td>0</td></tr><tr><td>Sandeep Sharma</td><td>1.2144217039504999</td><td>0</td></tr><tr><td>JO Holder</td><td>1.2146341463414634</td><td>0</td></tr><tr><td>D Wiese</td><td>1.2146892655367232</td><td>0</td></tr><tr><td>S Narwal</td><td>1.2155009451795842</td><td>0</td></tr><tr><td>DS Lehmann</td><td>1.2156862745098038</td><td>0</td></tr><tr><td>Swapnil Singh</td><td>1.2183288409703503</td><td>0</td></tr><tr><td>M Ashwin</td><td>1.2186666666666666</td><td>0</td></tr><tr><td>P Dogra</td><td>1.219164118246687</td><td>0</td></tr><tr><td>TA Boult</td><td>1.222429906542056</td><td>0</td></tr><tr><td>GJ Maxwell</td><td>1.2255498362189985</td><td>0</td></tr><tr><td>HM Amla</td><td>1.2267002518891688</td><td>0</td></tr><tr><td>PJ Sangwan</td><td>1.2277158774373258</td><td>0</td></tr><tr><td>KC Cariappa</td><td>1.2300405953991882</td><td>0</td></tr><tr><td>AS Rajpoot</td><td>1.2315151515151515</td><td>0</td></tr><tr><td>CA Lynn</td><td>1.2320441988950277</td><td>0</td></tr><tr><td>M Vohra</td><td>1.2329257381449448</td><td>0</td></tr><tr><td>J Theron</td><td>1.2344559585492227</td><td>0</td></tr><tr><td>VS Yeligati</td><td>1.2352941176470589</td><td>0</td></tr><tr><td>AR Patel</td><td>1.2374181900248251</td><td>0</td></tr><tr><td>BCJ Cutting</td><td>1.2413793103448276</td><td>0</td></tr><tr><td>AD Nath</td><td>1.2418478260869565</td><td>0</td></tr><tr><td>KS Williamson</td><td>1.2418478260869565</td><td>0</td></tr><tr><td>Sunny Singh</td><td>1.2455752212389382</td><td>0</td></tr><tr><td>Anureet Singh</td><td>1.2475247524752475</td><td>0</td></tr><tr><td>MJ Lumb</td><td>1.2497237569060773</td><td>0</td></tr><tr><td>R Tewatia</td><td>1.25</td><td>0</td></tr><tr><td>PJ Cummins</td><td>1.2510460251046025</td><td>0</td></tr><tr><td>GD McGrath</td><td>1.2511893434823977</td><td>0</td></tr><tr><td>MP Stoinis</td><td>1.2514029180695847</td><td>0</td></tr><tr><td>AA Jhunjhunwala</td><td>1.2578814627994956</td><td>0</td></tr><tr><td>SN Khan</td><td>1.259953161592506</td><td>0</td></tr><tr><td>A Mukund</td><td>1.261061946902655</td><td>0</td></tr><tr><td>Y Gnaneswara Rao</td><td>1.261744966442953</td><td>0</td></tr><tr><td>Joginder Sharma</td><td>1.2650205761316873</td><td>0</td></tr><tr><td>JW Hastings</td><td>1.2654867256637168</td><td>0</td></tr><tr><td>Kamran Akmal</td><td>1.2660753880266076</td><td>0</td></tr><tr><td>Mohammad Asif</td><td>1.2763819095477387</td><td>0</td></tr><tr><td>FY Fazal</td><td>1.2792494481236203</td><td>0</td></tr><tr><td>S Ladda</td><td>1.2795216741405082</td><td>0</td></tr><tr><td>AC Voges</td><td>1.279823269513991</td><td>0</td></tr><tr><td>MJ Guptill</td><td>1.2799461641991925</td><td>0</td></tr><tr><td>M de Lange</td><td>1.2819148936170213</td><td>0</td></tr><tr><td>AF Milne</td><td>1.2845528455284554</td><td>0</td></tr><tr><td>Karanveer Singh</td><td>1.2897473997028233</td><td>0</td></tr><tr><td>Rashid Khan</td><td>1.2918287937743191</td><td>0</td></tr><tr><td>K Upadhyay</td><td>1.293859649122807</td><td>0</td></tr><tr><td>MS Wade</td><td>1.297872340425532</td><td>0</td></tr><tr><td>C de Grandhomme</td><td>1.299778761061947</td><td>0</td></tr><tr><td>SA Abbott</td><td>1.3</td><td>0</td></tr><tr><td>BA Stokes</td><td>1.3001119820828668</td><td>0</td></tr><tr><td>Kuldeep Yadav</td><td>1.3038086802480071</td><td>0</td></tr><tr><td>Shivam Sharma</td><td>1.311720698254364</td><td>0</td></tr><tr><td>A Flintoff</td><td>1.3125</td><td>0</td></tr><tr><td>AJ Tye</td><td>1.3153347732181426</td><td>0</td></tr><tr><td>SM Boland</td><td>1.3175675675675675</td><td>0</td></tr><tr><td>A Uniyal</td><td>1.3181818181818181</td><td>0</td></tr><tr><td>TM Head</td><td>1.3257065948855988</td><td>0</td></tr><tr><td>D Kalyankrishna</td><td>1.3258928571428572</td><td>0</td></tr><tr><td>KJ Abbott</td><td>1.327127659574468</td><td>0</td></tr><tr><td>Shoaib Malik</td><td>1.344168260038241</td><td>0</td></tr><tr><td>Ankit Soni</td><td>1.348314606741573</td><td>0</td></tr><tr><td>BE Hendricks</td><td>1.3483992467043315</td><td>0</td></tr><tr><td>F Behardien</td><td>1.3508771929824561</td><td>0</td></tr><tr><td>JJ Roy</td><td>1.3584070796460177</td><td>0</td></tr><tr><td>B Geeves</td><td>1.364864864864865</td><td>0</td></tr><tr><td>RD Chahar</td><td>1.364864864864865</td><td>0</td></tr><tr><td>A Choudhary</td><td>1.3699731903485255</td><td>0</td></tr><tr><td>Ishan Kishan</td><td>1.3805970149253732</td><td>0</td></tr><tr><td>D Salunkhe</td><td>1.3853006681514477</td><td>0</td></tr><tr><td>Mohammed Siraj</td><td>1.3877551020408163</td><td>0</td></tr><tr><td>Basil Thampi</td><td>1.3900552486187845</td><td>0</td></tr><tr><td>CR Woakes</td><td>1.3973577235772359</td><td>0</td></tr><tr><td>PSP Handscomb</td><td>1.4172185430463575</td><td>0</td></tr><tr><td>T Kohli</td><td>1.4425675675675675</td><td>0</td></tr><tr><td>RG More</td><td>1.4701986754966887</td><td>0</td></tr><tr><td>SP Jackson</td><td>1.5117845117845117</td><td>0</td></tr><tr><td>MJ Henry</td><td>1.5364238410596027</td><td>0</td></tr></tbody></table></div>"
      ]
     },
     "metadata": {
      "application/vnd.databricks.v1+output": {
       "addedWidgets": {},
       "aggData": [],
       "aggError": "",
       "aggOverflow": false,
       "aggSchema": [],
       "aggSeriesLimitReached": false,
       "aggType": "",
       "arguments": {},
       "columnCustomDisplayInfos": {},
       "data": [
        [
         "T Henderson",
         0.7171052631578947,
         0
        ],
        [
         "DT Patil",
         0.821656050955414,
         0
        ],
        [
         "D du Preez",
         0.8410596026490066,
         0
        ],
        [
         "JJ van der Wath",
         0.8508771929824561,
         0
        ],
        [
         "DJ Jacobs",
         0.8709055876685935,
         0
        ],
        [
         "B Laughlin",
         0.88,
         0
        ],
        [
         "CJ McKay",
         0.9,
         0
        ],
        [
         "LA Carseldine",
         0.9164420485175202,
         0
        ],
        [
         "NK Patel",
         0.917037037037037,
         0
        ],
        [
         "BMAJ Mendis",
         0.9244444444444444,
         0
        ],
        [
         "R Ninan",
         0.9266666666666666,
         0
        ],
        [
         "RE Levi",
         0.9352678571428571,
         0
        ],
        [
         "TR Birt",
         0.9381443298969072,
         0
        ],
        [
         "CJ Ferguson",
         0.939873417721519,
         0
        ],
        [
         "B Akhil",
         0.9416445623342176,
         0
        ],
        [
         "Shoaib Akhtar",
         0.9434782608695652,
         0
        ],
        [
         "GS Sandhu",
         0.9489795918367347,
         0
        ],
        [
         "RJ Quiney",
         0.9517625231910947,
         0
        ],
        [
         "Misbah-ul-Haq",
         0.9523809523809523,
         0
        ],
        [
         "JDS Neesham",
         0.9531772575250836,
         0
        ],
        [
         "B Sumanth",
         0.9601063829787234,
         0
        ],
        [
         "J Arunkumar",
         0.9605263157894737,
         0
        ],
        [
         "SS Sarkar",
         0.9605263157894737,
         0
        ],
        [
         "IR Jaggi",
         0.9650485436893204,
         0
        ],
        [
         "Mohammad Hafeez",
         0.9670510708401977,
         0
        ],
        [
         "SM Harwood",
         0.9683257918552036,
         0
        ],
        [
         "S Rana",
         0.9731113956466069,
         0
        ],
        [
         "AD Mascarenhas",
         0.9747729566094854,
         0
        ],
        [
         "AG Murtaza",
         0.97669256381798,
         0
        ],
        [
         "BB Samantray",
         0.9774096385542169,
         0
        ],
        [
         "C Nanda",
         0.9779735682819384,
         0
        ],
        [
         "W Jaffer",
         0.9834710743801653,
         0
        ],
        [
         "AG Paunikar",
         0.9841269841269841,
         0
        ],
        [
         "SMSM Senanayake",
         0.9949409780775716,
         0
        ],
        [
         "RT Ponting",
         1.0,
         0
        ],
        [
         "TD Paine",
         1.0,
         0
        ],
        [
         "RR Raje",
         1.0039113428943938,
         0
        ],
        [
         "CM Gautam",
         1.0040858018386107,
         0
        ],
        [
         "UBT Chand",
         1.008827238335435,
         0
        ],
        [
         "PA Reddy",
         1.009922822491731,
         0
        ],
        [
         "JEC Franklin",
         1.012072434607646,
         0
        ],
        [
         "T Taibu",
         1.013157894736842,
         0
        ],
        [
         "JE Taylor",
         1.0134048257372654,
         0
        ],
        [
         "SS Shaikh",
         1.0135135135135136,
         0
        ],
        [
         "CA Ingram",
         1.016304347826087,
         0
        ],
        [
         "SA Asnodkar",
         1.0165016501650166,
         0
        ],
        [
         "MN van Wyk",
         1.018181818181818,
         0
        ],
        [
         "WA Mota",
         1.0271739130434783,
         0
        ],
        [
         "MM Patel",
         1.0304890959136142,
         0
        ],
        [
         "SR Tendulkar",
         1.0312765595784463,
         0
        ],
        [
         "YV Takawale",
         1.031404958677686,
         0
        ],
        [
         "NJ Maddinson",
         1.0316742081447965,
         0
        ],
        [
         "Salman Butt",
         1.0317164179104477,
         0
        ],
        [
         "RE van der Merwe",
         1.0322173089071383,
         0
        ],
        [
         "M Rawat",
         1.0327510917030567,
         0
        ],
        [
         "CRD Fernando",
         1.036939313984169,
         0
        ],
        [
         "A Singh",
         1.0373395565927654,
         0
        ],
        [
         "CL White",
         1.037938844847112,
         0
        ],
        [
         "GH Vihari",
         1.0380894800483675,
         0
        ],
        [
         "NLTC Perera",
         1.0381569474442045,
         0
        ],
        [
         "MV Boucher",
         1.0392826643894109,
         0
        ],
        [
         "AN Ahmed",
         1.0400943396226414,
         0
        ],
        [
         "A Chopra",
         1.0411985018726593,
         0
        ],
        [
         "DB Das",
         1.0412725709372312,
         0
        ],
        [
         "A Kumble",
         1.0424394844388558,
         0
        ],
        [
         "A Symonds",
         1.0443837487196996,
         0
        ],
        [
         "DJG Sammy",
         1.044930176077717,
         0
        ],
        [
         "S Randiv",
         1.0452261306532664,
         0
        ],
        [
         "RV Gomez",
         1.0454086781029264,
         0
        ],
        [
         "JD Ryder",
         1.0457697642163661,
         0
        ],
        [
         "Umar Gul",
         1.0458515283842795,
         0
        ],
        [
         "Kamran Khan",
         1.0474137931034482,
         0
        ],
        [
         "MD Mishra",
         1.0487084870848709,
         0
        ],
        [
         "L Ronchi",
         1.0494791666666667,
         0
        ],
        [
         "AC Blizzard",
         1.05,
         0
        ],
        [
         "Anirudh Singh",
         1.05,
         0
        ],
        [
         "AM Nayar",
         1.0500882612533098,
         0
        ],
        [
         "SL Malinga",
         1.0500963391136802,
         0
        ],
        [
         "GC Smith",
         1.0501138952164009,
         0
        ],
        [
         "DH Yagnik",
         1.0507207688200748,
         0
        ],
        [
         "S Anirudha",
         1.0507682030728123,
         0
        ],
        [
         "B Chipli",
         1.0513856812933025,
         0
        ],
        [
         "PR Shah",
         1.051681706316653,
         0
        ],
        [
         "KW Richardson",
         1.051789077212806,
         0
        ],
        [
         "AM Salvi",
         1.053030303030303,
         0
        ],
        [
         "Anand Rajan",
         1.053781512605042,
         0
        ],
        [
         "Harmeet Singh",
         1.0538351595998094,
         0
        ],
        [
         "JH Kallis",
         1.0563762027374983,
         0
        ],
        [
         "PC Valthaty",
         1.0593659942363112,
         0
        ],
        [
         "KP Appanna",
         1.0597165991902835,
         0
        ],
        [
         "RJ Harris",
         1.0597923379878267,
         0
        ],
        [
         "AUK Pathan",
         1.06,
         0
        ],
        [
         "BJ Rohrer",
         1.0601626016260162,
         0
        ],
        [
         "AT Rayudu",
         1.0625365967911933,
         0
        ],
        [
         "Vishnu Vinod",
         1.063063063063063,
         0
        ],
        [
         "TL Suman",
         1.0639751552795031,
         0
        ],
        [
         "J Botha",
         1.0649862150452933,
         0
        ],
        [
         "DJ Muthuswami",
         1.065217391304348,
         0
        ],
        [
         "R Dravid",
         1.0655517395848888,
         0
        ],
        [
         "WD Parnell",
         1.0655737704918034,
         0
        ],
        [
         "AB Agarkar",
         1.065978736710444,
         0
        ],
        [
         "JP Duminy",
         1.0661803022407503,
         0
        ],
        [
         "M Kartik",
         1.0666192508297772,
         0
        ],
        [
         "LJ Wright",
         1.066793893129771,
         0
        ],
        [
         "M Ntini",
         1.0668647845468053,
         0
        ],
        [
         "LR Shukla",
         1.0678109172763084,
         0
        ],
        [
         "A Ashish Reddy",
         1.0681233933161953,
         0
        ],
        [
         "RR Sarwan",
         1.0681818181818181,
         0
        ],
        [
         "Iqbal Abdulla",
         1.0685930326762085,
         0
        ],
        [
         "Harpreet Singh",
         1.07,
         0
        ],
        [
         "Harbhajan Singh",
         1.0713170731707318,
         0
        ],
        [
         "M Morkel",
         1.0730507191521574,
         0
        ],
        [
         "DE Bollinger",
         1.0731586752348,
         0
        ],
        [
         "SD Chitnis",
         1.0734394124847002,
         0
        ],
        [
         "AS Raut",
         1.0735206216377764,
         0
        ],
        [
         "ST Jayasuriya",
         1.0738636363636365,
         0
        ],
        [
         "MC Juneja",
         1.074766355140187,
         0
        ],
        [
         "NL McCullum",
         1.0748299319727892,
         0
        ],
        [
         "S Sohal",
         1.0749850029994001,
         0
        ],
        [
         "Azhar Mahmood",
         1.0750733137829913,
         0
        ],
        [
         "DW Steyn",
         1.0750923872875093,
         0
        ],
        [
         "KK Cooper",
         1.0753093060785368,
         0
        ],
        [
         "I Sharma",
         1.0759603685033896,
         0
        ],
        [
         "VS Malik",
         1.0759753593429158,
         0
        ],
        [
         "R Sharma",
         1.076519592718297,
         0
        ],
        [
         "SK Trivedi",
         1.077988082719944,
         0
        ],
        [
         "YA Abdulla",
         1.0789473684210527,
         0
        ],
        [
         "MS Bisla",
         1.079054054054054,
         0
        ],
        [
         "A Chandila",
         1.0799112097669257,
         0
        ],
        [
         "BJ Hodge",
         1.081661316211878,
         0
        ],
        [
         "MR Marsh",
         1.0818553888130968,
         0
        ],
        [
         "RS Gavaskar",
         1.082191780821918,
         0
        ],
        [
         "SC Ganguly",
         1.082392776523702,
         0
        ],
        [
         "KA Pollard",
         1.0838744588744589,
         0
        ],
        [
         "S Vidyut",
         1.0839469808541973,
         0
        ],
        [
         "Q de Kock",
         1.084126984126984,
         0
        ],
        [
         "N Saini",
         1.0845637583892618,
         0
        ],
        [
         "DB Ravi Teja",
         1.085168259243872,
         0
        ],
        [
         "RG Sharma",
         1.085599531419965,
         0
        ],
        [
         "MEK Hussey",
         1.0862967157417893,
         0
        ],
        [
         "AB Dinda",
         1.0866425992779782,
         0
        ],
        [
         "DJ Hussey",
         1.0874191529313582,
         0
        ],
        [
         "RN ten Doeschate",
         1.0882217090069284,
         0
        ],
        [
         "AC Gilchrist",
         1.0886075949367089,
         0
        ],
        [
         "PP Ojha",
         1.0886149383611312,
         0
        ],
        [
         "B Lee",
         1.08937960042061,
         0
        ],
        [
         "ER Dwivedi",
         1.0894039735099337,
         0
        ],
        [
         "Sohail Tanvir",
         1.0905797101449275,
         0
        ],
        [
         "AC Thomas",
         1.0908248378127896,
         0
        ],
        [
         "MA Agarwal",
         1.0912343470483006,
         0
        ],
        [
         "V Pratap Singh",
         1.091454272863568,
         0
        ],
        [
         "LRPL Taylor",
         1.0916383082158483,
         0
        ],
        [
         "BR Dunk",
         1.0921052631578947,
         0
        ],
        [
         "R Vinay Kumar",
         1.0922518787250584,
         0
        ],
        [
         "DT Christian",
         1.0948660714285714,
         0
        ],
        [
         "ND Doshi",
         1.0957095709570956,
         0
        ],
        [
         "TG Southee",
         1.0966682308775222,
         0
        ],
        [
         "STR Binny",
         1.0966823056300268,
         0
        ],
        [
         "FH Edwards",
         1.0969162995594715,
         0
        ],
        [
         "SP Goswami",
         1.09696261682243,
         0
        ],
        [
         "AL Menaria",
         1.0980211688909343,
         0
        ],
        [
         "M Manhas",
         1.0983207593088342,
         0
        ],
        [
         "BW Hilfenhaus",
         1.0992063492063493,
         0
        ],
        [
         "RR Rossouw",
         1.1,
         0
        ],
        [
         "SK Warne",
         1.10086663456909,
         0
        ],
        [
         "AP Majumdar",
         1.1013513513513513,
         0
        ],
        [
         "B Stanlake",
         1.1013513513513513,
         0
        ],
        [
         "KB Arun Karthik",
         1.1017733230531996,
         0
        ],
        [
         "RP Singh",
         1.1021297192642787,
         0
        ],
        [
         "AM Rahane",
         1.1026877184524526,
         0
        ],
        [
         "P Suyal",
         1.1031746031746033,
         0
        ],
        [
         "Y Venugopal Rao",
         1.1034766508948777,
         0
        ],
        [
         "PV Tambe",
         1.103986847513358,
         0
        ],
        [
         "BA Bhatt",
         1.1041831097079715,
         0
        ],
        [
         "A Mithun",
         1.1045643153526972,
         0
        ],
        [
         "EJG Morgan",
         1.1049398515485027,
         0
        ],
        [
         "R Sathish",
         1.1054702872884692,
         0
        ],
        [
         "PD Collingwood",
         1.1064891846921796,
         0
        ],
        [
         "SJ Srivastava",
         1.1076066790352506,
         0
        ],
        [
         "KC Sangakkara",
         1.1084808946877913,
         0
        ],
        [
         "Z Khan",
         1.1085752869682648,
         0
        ],
        [
         "VH Zol",
         1.1090909090909091,
         0
        ],
        [
         "PA Patel",
         1.109601247493874,
         0
        ],
        [
         "RV Uthappa",
         1.1098871574422353,
         0
        ],
        [
         "Shakib Al Hasan",
         1.1099720410065237,
         0
        ],
        [
         "S Sriram",
         1.1103896103896105,
         0
        ],
        [
         "S Chanderpaul",
         1.1111111111111112,
         0
        ],
        [
         "CK Langeveldt",
         1.111531190926276,
         0
        ],
        [
         "AP Tare",
         1.1115749525616698,
         0
        ],
        [
         "KM Jadhav",
         1.1118793211816467,
         0
        ],
        [
         "L Balaji",
         1.1119824913368594,
         0
        ],
        [
         "DJ Thornely",
         1.1120879120879121,
         0
        ],
        [
         "S Nadeem",
         1.1123650637880276,
         0
        ],
        [
         "SM Pollock",
         1.1124620060790273,
         0
        ],
        [
         "HH Gibbs",
         1.1126656848306333,
         0
        ],
        [
         "SS Tiwary",
         1.1128736016029388,
         0
        ],
        [
         "Y Nagar",
         1.1138509968520462,
         0
        ],
        [
         "V Kohli",
         1.11420310805927,
         0
        ],
        [
         "MN Samuels",
         1.1143114311431144,
         0
        ],
        [
         "TS Mills",
         1.1143617021276595,
         0
        ],
        [
         "NM Coulter-Nile",
         1.1146366427840328,
         0
        ],
        [
         "A Mishra",
         1.1157304559399133,
         0
        ],
        [
         "BB Sran",
         1.1162207357859533,
         0
        ],
        [
         "JA Morkel",
         1.1163684755286116,
         0
        ],
        [
         "DS Kulkarni",
         1.116430700447094,
         0
        ],
        [
         "R Bhatia",
         1.1167342373829163,
         0
        ],
        [
         "Yuvraj Singh",
         1.1169642857142856,
         0
        ],
        [
         "MJ Clarke",
         1.1180400890868596,
         0
        ],
        [
         "RJ Peterson",
         1.1185983827493262,
         0
        ],
        [
         "MG Johnson",
         1.1191135734072022,
         0
        ],
        [
         "RR Powar",
         1.1193957115009747,
         0
        ],
        [
         "KV Sharma",
         1.119980879541109,
         0
        ],
        [
         "CK Kapugedera",
         1.1210526315789473,
         0
        ],
        [
         "Mohammad Nabi",
         1.1210762331838564,
         0
        ],
        [
         "M Vijay",
         1.1225634178905206,
         0
        ],
        [
         "AA Chavan",
         1.1228070175438596,
         0
        ],
        [
         "SM Katich",
         1.1228915662650603,
         0
        ],
        [
         "P Kumar",
         1.123695139746324,
         0
        ],
        [
         "SB Styris",
         1.1237458193979932,
         0
        ],
        [
         "DPMD Jayawardene",
         1.1241538715535744,
         0
        ],
        [
         "MK Pandey",
         1.1243839169909209,
         0
        ],
        [
         "IK Pathan",
         1.1246290801186944,
         0
        ],
        [
         "R Ashwin",
         1.124665205746287,
         0
        ],
        [
         "SR Watson",
         1.1248688352570828,
         0
        ],
        [
         "Gagandeep Singh",
         1.1258278145695364,
         0
        ],
        [
         "MA Starc",
         1.1260891850333163,
         0
        ],
        [
         "KMDN Kulasekara",
         1.1263440860215055,
         0
        ],
        [
         "YK Pathan",
         1.1265189421015012,
         0
        ],
        [
         "Mandeep Singh",
         1.1268151016456922,
         0
        ],
        [
         "S Badree",
         1.1268237934904601,
         0
        ],
        [
         "LH Ferguson",
         1.1275167785234899,
         0
        ],
        [
         "SS Iyer",
         1.1277495769881556,
         0
        ],
        [
         "DNT Zoysa",
         1.1283185840707965,
         0
        ],
        [
         "SV Samson",
         1.1285976729944887,
         0
        ],
        [
         "AD Mathews",
         1.1289531079607416,
         0
        ],
        [
         "PP Chawla",
         1.1292846114256305,
         0
        ],
        [
         "KP Pietersen",
         1.1298846296985485,
         0
        ],
        [
         "Sachin Baby",
         1.1299183370452859,
         0
        ],
        [
         "MK Tiwary",
         1.1304410285878466,
         0
        ],
        [
         "JD Unadkat",
         1.1308279174908167,
         0
        ],
        [
         "MF Maharoof",
         1.1311258278145695,
         0
        ],
        [
         "UT Khawaja",
         1.132882882882883,
         0
        ],
        [
         "DJ Bravo",
         1.133367139959432,
         0
        ],
        [
         "SP Fleming",
         1.1334214002642007,
         0
        ],
        [
         "K Goel",
         1.1342925659472423,
         0
        ],
        [
         "R Rampaul",
         1.1346578366445916,
         0
        ],
        [
         "CH Morris",
         1.1352562307476897,
         0
        ],
        [
         "AN Ghosh",
         1.135483870967742,
         0
        ],
        [
         "M Muralitharan",
         1.135842221775005,
         0
        ],
        [
         "P Awana",
         1.1362709098327213,
         0
        ],
        [
         "SPD Smith",
         1.136425648021828,
         0
        ],
        [
         "VY Mahesh",
         1.1364705882352941,
         0
        ],
        [
         "Mustafizur Rahman",
         1.1367588932806325,
         0
        ],
        [
         "VR Aaron",
         1.1372804163955759,
         0
        ],
        [
         "MA Khote",
         1.138157894736842,
         0
        ],
        [
         "S Sreesanth",
         1.1385488205434457,
         0
        ],
        [
         "JJ Bumrah",
         1.1386696730552424,
         0
        ],
        [
         "TM Dilshan",
         1.138723843967967,
         0
        ],
        [
         "SP Narine",
         1.1390739236393177,
         0
        ],
        [
         "G Gambhir",
         1.1392359550561797,
         0
        ],
        [
         "SB Wagh",
         1.1394957983193277,
         0
        ],
        [
         "JR Hopes",
         1.139654067905189,
         0
        ],
        [
         "VVS Laxman",
         1.1397350993377484,
         0
        ],
        [
         "CJ Anderson",
         1.1398809523809523,
         0
        ],
        [
         "WPUJC Vaas",
         1.1406570841889117,
         0
        ],
        [
         "S Dhawan",
         1.1406776094276094,
         0
        ],
        [
         "M Kaif",
         1.1409090909090909,
         0
        ],
        [
         "S Badrinath",
         1.1410964725881854,
         0
        ],
        [
         "A Zampa",
         1.1412911084043849,
         0
        ],
        [
         "R Shukla",
         1.142300194931774,
         0
        ],
        [
         "UT Yadav",
         1.1424628729136548,
         0
        ],
        [
         "KH Pandya",
         1.1430084745762712,
         0
        ],
        [
         "M Klinger",
         1.1433224755700326,
         0
        ],
        [
         "C Munro",
         1.1442953020134228,
         0
        ],
        [
         "CH Gayle",
         1.1453550453817405,
         0
        ],
        [
         "DL Vettori",
         1.1460055096418733,
         0
        ],
        [
         "Shoaib Ahmed",
         1.1466227347611202,
         0
        ],
        [
         "B Kumar",
         1.1468791896320571,
         0
        ],
        [
         "J Suchith",
         1.1474480151228734,
         0
        ],
        [
         "SE Marsh",
         1.1477443609022557,
         0
        ],
        [
         "A Nehra",
         1.1477944520236472,
         0
        ],
        [
         "RS Bopara",
         1.1479064709081022,
         0
        ],
        [
         "DA Warner",
         1.147908834586466,
         0
        ],
        [
         "LMP Simmons",
         1.1479963570127505,
         0
        ],
        [
         "RA Jadeja",
         1.1482852689010132,
         0
        ],
        [
         "IC Pandey",
         1.1488900920411478,
         0
        ],
        [
         "JP Faulkner",
         1.1498871331828442,
         0
        ],
        [
         "Jaskaran Singh",
         1.1501650165016502,
         0
        ],
        [
         "AB de Villiers",
         1.1513247460467064,
         0
        ],
        [
         "KK Nair",
         1.1513447432762836,
         0
        ],
        [
         "KD Karthik",
         1.152312036710201,
         0
        ],
        [
         "DJ Harris",
         1.1538461538461537,
         0
        ],
        [
         "J Yadav",
         1.1541725601131543,
         0
        ],
        [
         "SA Yadav",
         1.15453446191052,
         0
        ],
        [
         "OA Shah",
         1.156737998843262,
         0
        ],
        [
         "MS Gony",
         1.1573373676248109,
         0
        ],
        [
         "DP Nannes",
         1.1576062128825948,
         0
        ],
        [
         "Washington Sundar",
         1.1577017114914425,
         0
        ],
        [
         "CA Pujara",
         1.1579646017699115,
         0
        ],
        [
         "HH Pandya",
         1.1591880341880343,
         0
        ],
        [
         "LA Pomersbach",
         1.1598746081504703,
         0
        ],
        [
         "CR Brathwaite",
         1.1603773584905661,
         0
        ],
        [
         "GB Hogg",
         1.1607369758576873,
         0
        ],
        [
         "NV Ojha",
         1.1607485604606527,
         0
        ],
        [
         "MS Dhoni",
         1.1623750635270202,
         0
        ],
        [
         "R McLaren",
         1.162380602498163,
         0
        ],
        [
         "Mohammed Shami",
         1.1626898047722343,
         0
        ],
        [
         "V Sehwag",
         1.1629506943559689,
         0
        ],
        [
         "MJ McClenaghan",
         1.1629825140217749,
         0
        ],
        [
         "DP Vijaykumar",
         1.163716814159292,
         0
        ],
        [
         "HV Patel",
         1.165821303160359,
         0
        ],
        [
         "J Syed Mohammad",
         1.1668667466986795,
         0
        ],
        [
         "S Tyagi",
         1.1677725118483413,
         0
        ],
        [
         "Shahid Afridi",
         1.1677762982689748,
         0
        ],
        [
         "AD Russell",
         1.1680473372781066,
         0
        ],
        [
         "WP Saha",
         1.1681267714506571,
         0
        ],
        [
         "SE Bond",
         1.1683168316831682,
         0
        ],
        [
         "JM Kemp",
         1.1692708333333333,
         0
        ],
        [
         "RS Sodhi",
         1.1696428571428572,
         0
        ],
        [
         "SB Jakati",
         1.1702898550724639,
         0
        ],
        [
         "TP Sudhindra",
         1.1704035874439462,
         0
        ],
        [
         "PM Sarvesh Kumar",
         1.1710526315789473,
         0
        ],
        [
         "BB McCullum",
         1.1711851278079008,
         0
        ],
        [
         "DR Smith",
         1.1714748307329996,
         0
        ],
        [
         "Gurkeerat Singh",
         1.1716216216216215,
         0
        ],
        [
         "DJ Hooda",
         1.171740569159497,
         0
        ],
        [
         "Yashpal Singh",
         1.172859450726979,
         0
        ],
        [
         "MDKJ Perera",
         1.1733333333333333,
         0
        ],
        [
         "SW Tait",
         1.1734758013827782,
         0
        ],
        [
         "AJ Finch",
         1.1737967914438503,
         0
        ],
        [
         "Bipul Sharma",
         1.174089068825911,
         0
        ],
        [
         "BAW Mendis",
         1.1750972762645915,
         0
        ],
        [
         "KL Rahul",
         1.175929082850324,
         0
        ],
        [
         "JC Buttler",
         1.1763085399449036,
         0
        ],
        [
         "YS Chahal",
         1.1763419965994657,
         0
        ],
        [
         "AP Dole",
         1.1767241379310345,
         0
        ],
        [
         "Ankit Sharma",
         1.1772151898734178,
         0
        ],
        [
         "SB Bangar",
         1.1773127753303965,
         0
        ],
        [
         "V Shankar",
         1.178082191780822,
         0
        ],
        [
         "R Bishnoi",
         1.1785714285714286,
         0
        ],
        [
         "SK Raina",
         1.1795171664856736,
         0
        ],
        [
         "T Thushara",
         1.1804008908685968,
         0
        ],
        [
         "AB Barath",
         1.1809954751131222,
         0
        ],
        [
         "T Natarajan",
         1.18140589569161,
         0
        ],
        [
         "AB McDonald",
         1.181456953642384,
         0
        ],
        [
         "NB Singh",
         1.1824324324324325,
         0
        ],
        [
         "R Dhawan",
         1.1838085539714867,
         0
        ],
        [
         "AA Bilakhia",
         1.1838649155722327,
         0
        ],
        [
         "SN Thakur",
         1.1840744570837642,
         0
        ],
        [
         "S Kaul",
         1.185473411154345,
         0
        ],
        [
         "L Ablish",
         1.1855203619909502,
         0
        ],
        [
         "TM Srivastava",
         1.1866666666666668,
         0
        ],
        [
         "DA Miller",
         1.1872090669904878,
         0
        ],
        [
         "S Aravind",
         1.187214611872146,
         0
        ],
        [
         "JDP Oram",
         1.1872686898593634,
         0
        ],
        [
         "Pankaj Singh",
         1.18828125,
         0
        ],
        [
         "ML Hayden",
         1.1886870355078447,
         0
        ],
        [
         "P Negi",
         1.1887721602101116,
         0
        ],
        [
         "T Shamsi",
         1.1893687707641196,
         0
        ],
        [
         "CJ Jordan",
         1.1900269541778976,
         0
        ],
        [
         "SB Joshi",
         1.1946308724832215,
         0
        ],
        [
         "VRV Singh",
         1.1950034698126302,
         0
        ],
        [
         "U Kaul",
         1.1968911917098446,
         0
        ],
        [
         "DL Chahar",
         1.1973684210526316,
         0
        ],
        [
         "P Sahu",
         1.1978319783197833,
         0
        ],
        [
         "Imran Tahir",
         1.1985785953177257,
         0
        ],
        [
         "SW Billings",
         1.199017199017199,
         0
        ],
        [
         "MM Sharma",
         1.2006466678641998,
         0
        ],
        [
         "MC Henriques",
         1.2012223789374705,
         0
        ],
        [
         "K Santokie",
         1.2012987012987013,
         0
        ],
        [
         "KAJ Roach",
         1.2026143790849673,
         0
        ],
        [
         "S Gopal",
         1.206208425720621,
         0
        ],
        [
         "Parvez Rasool",
         1.2068126520681266,
         0
        ],
        [
         "N Rana",
         1.2080433101314771,
         0
        ],
        [
         "P Parameswaran",
         1.2085385878489328,
         0
        ],
        [
         "F du Plessis",
         1.208558906934777,
         0
        ],
        [
         "UA Birla",
         1.2091503267973855,
         0
        ],
        [
         "RA Tripathi",
         1.2095693779904306,
         0
        ],
        [
         "S Kaushik",
         1.210242587601078,
         0
        ],
        [
         "RR Pant",
         1.2109111361079865,
         0
        ],
        [
         "NS Naik",
         1.2123287671232876,
         0
        ],
        [
         "K Rabada",
         1.2130044843049328,
         0
        ],
        [
         "P Amarnath",
         1.2130434782608697,
         0
        ],
        [
         "GJ Bailey",
         1.213218199933577,
         0
        ],
        [
         "LPC Silva",
         1.2142857142857142,
         0
        ],
        [
         "Sandeep Sharma",
         1.2144217039504999,
         0
        ],
        [
         "JO Holder",
         1.2146341463414634,
         0
        ],
        [
         "D Wiese",
         1.2146892655367232,
         0
        ],
        [
         "S Narwal",
         1.2155009451795842,
         0
        ],
        [
         "DS Lehmann",
         1.2156862745098038,
         0
        ],
        [
         "Swapnil Singh",
         1.2183288409703503,
         0
        ],
        [
         "M Ashwin",
         1.2186666666666666,
         0
        ],
        [
         "P Dogra",
         1.219164118246687,
         0
        ],
        [
         "TA Boult",
         1.222429906542056,
         0
        ],
        [
         "GJ Maxwell",
         1.2255498362189985,
         0
        ],
        [
         "HM Amla",
         1.2267002518891688,
         0
        ],
        [
         "PJ Sangwan",
         1.2277158774373258,
         0
        ],
        [
         "KC Cariappa",
         1.2300405953991882,
         0
        ],
        [
         "AS Rajpoot",
         1.2315151515151515,
         0
        ],
        [
         "CA Lynn",
         1.2320441988950277,
         0
        ],
        [
         "M Vohra",
         1.2329257381449448,
         0
        ],
        [
         "J Theron",
         1.2344559585492227,
         0
        ],
        [
         "VS Yeligati",
         1.2352941176470589,
         0
        ],
        [
         "AR Patel",
         1.2374181900248251,
         0
        ],
        [
         "BCJ Cutting",
         1.2413793103448276,
         0
        ],
        [
         "AD Nath",
         1.2418478260869565,
         0
        ],
        [
         "KS Williamson",
         1.2418478260869565,
         0
        ],
        [
         "Sunny Singh",
         1.2455752212389382,
         0
        ],
        [
         "Anureet Singh",
         1.2475247524752475,
         0
        ],
        [
         "MJ Lumb",
         1.2497237569060773,
         0
        ],
        [
         "R Tewatia",
         1.25,
         0
        ],
        [
         "PJ Cummins",
         1.2510460251046025,
         0
        ],
        [
         "GD McGrath",
         1.2511893434823977,
         0
        ],
        [
         "MP Stoinis",
         1.2514029180695847,
         0
        ],
        [
         "AA Jhunjhunwala",
         1.2578814627994956,
         0
        ],
        [
         "SN Khan",
         1.259953161592506,
         0
        ],
        [
         "A Mukund",
         1.261061946902655,
         0
        ],
        [
         "Y Gnaneswara Rao",
         1.261744966442953,
         0
        ],
        [
         "Joginder Sharma",
         1.2650205761316873,
         0
        ],
        [
         "JW Hastings",
         1.2654867256637168,
         0
        ],
        [
         "Kamran Akmal",
         1.2660753880266076,
         0
        ],
        [
         "Mohammad Asif",
         1.2763819095477387,
         0
        ],
        [
         "FY Fazal",
         1.2792494481236203,
         0
        ],
        [
         "S Ladda",
         1.2795216741405082,
         0
        ],
        [
         "AC Voges",
         1.279823269513991,
         0
        ],
        [
         "MJ Guptill",
         1.2799461641991925,
         0
        ],
        [
         "M de Lange",
         1.2819148936170213,
         0
        ],
        [
         "AF Milne",
         1.2845528455284554,
         0
        ],
        [
         "Karanveer Singh",
         1.2897473997028233,
         0
        ],
        [
         "Rashid Khan",
         1.2918287937743191,
         0
        ],
        [
         "K Upadhyay",
         1.293859649122807,
         0
        ],
        [
         "MS Wade",
         1.297872340425532,
         0
        ],
        [
         "C de Grandhomme",
         1.299778761061947,
         0
        ],
        [
         "SA Abbott",
         1.3,
         0
        ],
        [
         "BA Stokes",
         1.3001119820828668,
         0
        ],
        [
         "Kuldeep Yadav",
         1.3038086802480071,
         0
        ],
        [
         "Shivam Sharma",
         1.311720698254364,
         0
        ],
        [
         "A Flintoff",
         1.3125,
         0
        ],
        [
         "AJ Tye",
         1.3153347732181426,
         0
        ],
        [
         "SM Boland",
         1.3175675675675675,
         0
        ],
        [
         "A Uniyal",
         1.3181818181818181,
         0
        ],
        [
         "TM Head",
         1.3257065948855988,
         0
        ],
        [
         "D Kalyankrishna",
         1.3258928571428572,
         0
        ],
        [
         "KJ Abbott",
         1.327127659574468,
         0
        ],
        [
         "Shoaib Malik",
         1.344168260038241,
         0
        ],
        [
         "Ankit Soni",
         1.348314606741573,
         0
        ],
        [
         "BE Hendricks",
         1.3483992467043315,
         0
        ],
        [
         "F Behardien",
         1.3508771929824561,
         0
        ],
        [
         "JJ Roy",
         1.3584070796460177,
         0
        ],
        [
         "B Geeves",
         1.364864864864865,
         0
        ],
        [
         "RD Chahar",
         1.364864864864865,
         0
        ],
        [
         "A Choudhary",
         1.3699731903485255,
         0
        ],
        [
         "Ishan Kishan",
         1.3805970149253732,
         0
        ],
        [
         "D Salunkhe",
         1.3853006681514477,
         0
        ],
        [
         "Mohammed Siraj",
         1.3877551020408163,
         0
        ],
        [
         "Basil Thampi",
         1.3900552486187845,
         0
        ],
        [
         "CR Woakes",
         1.3973577235772359,
         0
        ],
        [
         "PSP Handscomb",
         1.4172185430463575,
         0
        ],
        [
         "T Kohli",
         1.4425675675675675,
         0
        ],
        [
         "RG More",
         1.4701986754966887,
         0
        ],
        [
         "SP Jackson",
         1.5117845117845117,
         0
        ],
        [
         "MJ Henry",
         1.5364238410596027,
         0
        ]
       ],
       "datasetInfos": [],
       "dbfsResultPath": null,
       "isJsonSchema": true,
       "metadata": {},
       "overflow": false,
       "plotOptions": {
        "customPlotOptions": {},
        "displayType": "table",
        "pivotAggregation": null,
        "pivotColumns": null,
        "xColumns": null,
        "yColumns": null
       },
       "removedWidgets": [],
       "schema": [
        {
         "metadata": "{}",
         "name": "player_name",
         "type": "\"string\""
        },
        {
         "metadata": "{}",
         "name": "avg_runs_per_ball",
         "type": "\"double\""
        },
        {
         "metadata": "{}",
         "name": "total_wickets",
         "type": "\"long\""
        }
       ],
       "type": "table"
      }
     },
     "output_type": "display_data"
    }
   ],
   "source": [
    "economical_bowlers_powerplay = spark.sql(\"\"\"\n",
    "  SELECT pm.player_name, \n",
    "         AVG(df.runs_scored) AS avg_runs_per_ball, \n",
    "         COUNT(df.bowler_wicket) AS total_wickets \n",
    "  FROM df \n",
    "  JOIN player_match pm ON df.match_id = pm.match_id\n",
    "  WHERE df.over_id <= 6 \n",
    "  GROUP BY pm.player_name\n",
    "  HAVING COUNT(*) > 120\n",
    "  ORDER BY avg_runs_per_ball, total_wickets DESC                                   \n",
    "\"\"\")\n",
    "display(economical_bowlers_powerplay)"
   ]
  },
  {
   "cell_type": "code",
   "execution_count": 0,
   "metadata": {
    "application/vnd.databricks.v1+cell": {
     "cellMetadata": {
      "byteLimit": 2048000,
      "rowLimit": 10000
     },
     "inputWidgets": {},
     "nuid": "f4d72113-bc46-4293-b0be-437095abbbe9",
     "showTitle": false,
     "tableResultSettingsMap": {},
     "title": ""
    }
   },
   "outputs": [
    {
     "output_type": "display_data",
     "data": {
      "text/html": [
       "<style scoped>\n",
       "  .table-result-container {\n",
       "    max-height: 300px;\n",
       "    overflow: auto;\n",
       "  }\n",
       "  table, th, td {\n",
       "    border: 1px solid black;\n",
       "    border-collapse: collapse;\n",
       "  }\n",
       "  th, td {\n",
       "    padding: 5px;\n",
       "  }\n",
       "  th {\n",
       "    text-align: left;\n",
       "  }\n",
       "</style><div class='table-result-container'><table class='table-result'><thead style='background-color: white'><tr><th>match_id</th><th>toss_winner</th><th>toss_name</th><th>match_winner</th><th>match_impact</th></tr></thead><tbody><tr><td>335987</td><td>Royal Challengers Bangalore</td><td>field</td><td>Kolkata Knight Riders</td><td>Lost</td></tr><tr><td>335988</td><td>Chennai Super Kings</td><td>bat</td><td>Chennai Super Kings</td><td>Won</td></tr><tr><td>335989</td><td>Rajasthan Royals</td><td>bat</td><td>Delhi Daredevils</td><td>Lost</td></tr><tr><td>335990</td><td>Mumbai Indians</td><td>bat</td><td>Royal Challengers Bangalore</td><td>Lost</td></tr><tr><td>335991</td><td>Deccan Chargers</td><td>bat</td><td>Kolkata Knight Riders</td><td>Lost</td></tr><tr><td>335992</td><td>Kings XI Punjab</td><td>bat</td><td>Rajasthan Royals</td><td>Lost</td></tr><tr><td>335993</td><td>Deccan Chargers</td><td>bat</td><td>Delhi Daredevils</td><td>Lost</td></tr><tr><td>335994</td><td>Mumbai Indians</td><td>field</td><td>Chennai Super Kings</td><td>Lost</td></tr><tr><td>335995</td><td>Rajasthan Royals</td><td>field</td><td>Rajasthan Royals</td><td>Won</td></tr><tr><td>335996</td><td>Mumbai Indians</td><td>field</td><td>Kings XI Punjab</td><td>Lost</td></tr><tr><td>335997</td><td>Rajasthan Royals</td><td>field</td><td>Rajasthan Royals</td><td>Won</td></tr><tr><td>335998</td><td>Kolkata Knight Riders</td><td>bat</td><td>Chennai Super Kings</td><td>Lost</td></tr><tr><td>335999</td><td>Deccan Chargers</td><td>field</td><td>Deccan Chargers</td><td>Won</td></tr><tr><td>336000</td><td>Delhi Daredevils</td><td>bat</td><td>Kings XI Punjab</td><td>Lost</td></tr><tr><td>336001</td><td>Chennai Super Kings</td><td>bat</td><td>Chennai Super Kings</td><td>Won</td></tr><tr><td>336002</td><td>Kolkata Knight Riders</td><td>bat</td><td>Mumbai Indians</td><td>Lost</td></tr><tr><td>336003</td><td>Royal Challengers Bangalore</td><td>field</td><td>Delhi Daredevils</td><td>Lost</td></tr><tr><td>336004</td><td>Kings XI Punjab</td><td>field</td><td>Kings XI Punjab</td><td>Won</td></tr><tr><td>336005</td><td>Rajasthan Royals</td><td>bat</td><td>Rajasthan Royals</td><td>Won</td></tr><tr><td>336006</td><td>Chennai Super Kings</td><td>bat</td><td>Delhi Daredevils</td><td>Lost</td></tr><tr><td>336007</td><td>Deccan Chargers</td><td>bat</td><td>Royal Challengers Bangalore</td><td>Lost</td></tr><tr><td>336008</td><td>Kings XI Punjab</td><td>bat</td><td>Kings XI Punjab</td><td>Won</td></tr><tr><td>336009</td><td>Delhi Daredevils</td><td>field</td><td>Mumbai Indians</td><td>Lost</td></tr><tr><td>336010</td><td>Chennai Super Kings</td><td>bat</td><td>Rajasthan Royals</td><td>Lost</td></tr><tr><td>336011</td><td>Kings XI Punjab</td><td>field</td><td>Kings XI Punjab</td><td>Won</td></tr><tr><td>336012</td><td>Deccan Chargers</td><td>field</td><td>Deccan Chargers</td><td>Won</td></tr><tr><td>336013</td><td>Mumbai Indians</td><td>field</td><td>Mumbai Indians</td><td>Won</td></tr><tr><td>336014</td><td>Chennai Super Kings</td><td>field</td><td>Chennai Super Kings</td><td>Won</td></tr><tr><td>336015</td><td>Kolkata Knight Riders</td><td>bat</td><td>Kolkata Knight Riders</td><td>Won</td></tr><tr><td>336016</td><td>Rajasthan Royals</td><td>field</td><td>Rajasthan Royals</td><td>Won</td></tr><tr><td>336017</td><td>Mumbai Indians</td><td>field</td><td>Mumbai Indians</td><td>Won</td></tr><tr><td>336018</td><td>Kings XI Punjab</td><td>field</td><td>Chennai Super Kings</td><td>Lost</td></tr><tr><td>336019</td><td>Kolkata Knight Riders</td><td>bat</td><td>Kolkata Knight Riders</td><td>Won</td></tr><tr><td>336020</td><td>Rajasthan Royals</td><td>field</td><td>Rajasthan Royals</td><td>Won</td></tr><tr><td>336021</td><td>Royal Challengers Bangalore</td><td>bat</td><td>Kings XI Punjab</td><td>Lost</td></tr><tr><td>336022</td><td>Kolkata Knight Riders</td><td>bat</td><td>Kolkata Knight Riders</td><td>Won</td></tr><tr><td>336023</td><td>Mumbai Indians</td><td>field</td><td>Mumbai Indians</td><td>Won</td></tr><tr><td>336024</td><td>Rajasthan Royals</td><td>field</td><td>Kings XI Punjab</td><td>Lost</td></tr><tr><td>336025</td><td>Deccan Chargers</td><td>field</td><td>Delhi Daredevils</td><td>Lost</td></tr><tr><td>336026</td><td>Mumbai Indians</td><td>field</td><td>Mumbai Indians</td><td>Won</td></tr><tr><td>336027</td><td>Delhi Daredevils</td><td>bat</td><td>Kings XI Punjab</td><td>Lost</td></tr><tr><td>336028</td><td>Royal Challengers Bangalore</td><td>field</td><td>Rajasthan Royals</td><td>Lost</td></tr><tr><td>336029</td><td>Deccan Chargers</td><td>field</td><td>Mumbai Indians</td><td>Lost</td></tr><tr><td>336030</td><td>Kolkata Knight Riders</td><td>bat</td><td>Chennai Super Kings</td><td>Lost</td></tr><tr><td>336031</td><td>Delhi Daredevils</td><td>field</td><td>Delhi Daredevils</td><td>Won</td></tr><tr><td>336032</td><td>Rajasthan Royals</td><td>field</td><td>Rajasthan Royals</td><td>Won</td></tr><tr><td>336033</td><td>Mumbai Indians</td><td>field</td><td>Kings XI Punjab</td><td>Lost</td></tr><tr><td>336034</td><td>Royal Challengers Bangalore</td><td>bat</td><td>Royal Challengers Bangalore</td><td>Won</td></tr><tr><td>336036</td><td>Kings XI Punjab</td><td>field</td><td>Kings XI Punjab</td><td>Won</td></tr><tr><td>336037</td><td>Delhi Daredevils</td><td>field</td><td>Delhi Daredevils</td><td>Won</td></tr><tr><td>336038</td><td>Rajasthan Royals</td><td>bat</td><td>Rajasthan Royals</td><td>Won</td></tr><tr><td>336039</td><td>Deccan Chargers</td><td>field</td><td>Royal Challengers Bangalore</td><td>Lost</td></tr><tr><td>336040</td><td>Kings XI Punjab</td><td>bat</td><td>Kolkata Knight Riders</td><td>Lost</td></tr><tr><td>336041</td><td>Rajasthan Royals</td><td>field</td><td>Rajasthan Royals</td><td>Won</td></tr><tr><td>336042</td><td>Deccan Chargers</td><td>bat</td><td>Chennai Super Kings</td><td>Lost</td></tr><tr><td>336043</td><td>Delhi Daredevils</td><td>field</td><td>Rajasthan Royals</td><td>Lost</td></tr><tr><td>336044</td><td>Kings XI Punjab</td><td>bat</td><td>Chennai Super Kings</td><td>Lost</td></tr><tr><td>336045</td><td>Rajasthan Royals</td><td>field</td><td>Rajasthan Royals</td><td>Won</td></tr><tr><td>392186</td><td>Chennai Super Kings</td><td>field</td><td>Mumbai Indians</td><td>Lost</td></tr><tr><td>392187</td><td>Royal Challengers Bangalore</td><td>bat</td><td>Royal Challengers Bangalore</td><td>Won</td></tr><tr><td>392188</td><td>Delhi Daredevils</td><td>field</td><td>Delhi Daredevils</td><td>Won</td></tr><tr><td>392189</td><td>Kolkata Knight Riders</td><td>bat</td><td>Deccan Chargers</td><td>Lost</td></tr><tr><td>392190</td><td>Chennai Super Kings</td><td>bat</td><td>Chennai Super Kings</td><td>Won</td></tr><tr><td>392191</td><td>Kolkata Knight Riders</td><td>field</td><td>Kolkata Knight Riders</td><td>Won</td></tr><tr><td>392193</td><td>Deccan Chargers</td><td>bat</td><td>Deccan Chargers</td><td>Won</td></tr><tr><td>392194</td><td>Delhi Daredevils</td><td>bat</td><td>Delhi Daredevils</td><td>Won</td></tr><tr><td>392195</td><td>Kolkata Knight Riders</td><td>field</td><td>Rajasthan Royals</td><td>Lost</td></tr><tr><td>392196</td><td>Royal Challengers Bangalore</td><td>bat</td><td>Kings XI Punjab</td><td>Lost</td></tr><tr><td>392197</td><td>Deccan Chargers</td><td>bat</td><td>Deccan Chargers</td><td>Won</td></tr><tr><td>392199</td><td>Royal Challengers Bangalore</td><td>bat</td><td>Delhi Daredevils</td><td>Lost</td></tr><tr><td>392200</td><td>Kings XI Punjab</td><td>bat</td><td>Kings XI Punjab</td><td>Won</td></tr><tr><td>392201</td><td>Deccan Chargers</td><td>field</td><td>Deccan Chargers</td><td>Won</td></tr><tr><td>392202</td><td>Mumbai Indians</td><td>bat</td><td>Mumbai Indians</td><td>Won</td></tr><tr><td>392203</td><td>Delhi Daredevils</td><td>bat</td><td>Rajasthan Royals</td><td>Lost</td></tr><tr><td>392204</td><td>Kolkata Knight Riders</td><td>bat</td><td>Royal Challengers Bangalore</td><td>Lost</td></tr><tr><td>392205</td><td>Kings XI Punjab</td><td>bat</td><td>Kings XI Punjab</td><td>Won</td></tr><tr><td>392206</td><td>Delhi Daredevils</td><td>field</td><td>Delhi Daredevils</td><td>Won</td></tr><tr><td>392207</td><td>Rajasthan Royals</td><td>field</td><td>Chennai Super Kings</td><td>Lost</td></tr><tr><td>392208</td><td>Mumbai Indians</td><td>bat</td><td>Mumbai Indians</td><td>Won</td></tr><tr><td>392209</td><td>Royal Challengers Bangalore</td><td>bat</td><td>Royal Challengers Bangalore</td><td>Won</td></tr><tr><td>392210</td><td>Deccan Chargers</td><td>bat</td><td>Rajasthan Royals</td><td>Lost</td></tr><tr><td>392211</td><td>Delhi Daredevils</td><td>field</td><td>Chennai Super Kings</td><td>Lost</td></tr><tr><td>392212</td><td>Kolkata Knight Riders</td><td>bat</td><td>Kings XI Punjab</td><td>Lost</td></tr><tr><td>392213</td><td>Mumbai Indians</td><td>bat</td><td>Royal Challengers Bangalore</td><td>Lost</td></tr><tr><td>392214</td><td>Chennai Super Kings</td><td>bat</td><td>Chennai Super Kings</td><td>Won</td></tr><tr><td>392215</td><td>Kings XI Punjab</td><td>field</td><td>Rajasthan Royals</td><td>Lost</td></tr><tr><td>392216</td><td>Kolkata Knight Riders</td><td>bat</td><td>Delhi Daredevils</td><td>Lost</td></tr><tr><td>392217</td><td>Deccan Chargers</td><td>bat</td><td>Deccan Chargers</td><td>Won</td></tr><tr><td>392218</td><td>Rajasthan Royals</td><td>field</td><td>Rajasthan Royals</td><td>Won</td></tr><tr><td>392219</td><td>Chennai Super Kings</td><td>bat</td><td>Chennai Super Kings</td><td>Won</td></tr><tr><td>392220</td><td>Mumbai Indians</td><td>bat</td><td>Delhi Daredevils</td><td>Lost</td></tr><tr><td>392221</td><td>Kings XI Punjab</td><td>field</td><td>Kings XI Punjab</td><td>Won</td></tr><tr><td>392222</td><td>Rajasthan Royals</td><td>bat</td><td>Chennai Super Kings</td><td>Lost</td></tr><tr><td>392223</td><td>Mumbai Indians</td><td>bat</td><td>Mumbai Indians</td><td>Won</td></tr><tr><td>392224</td><td>Delhi Daredevils</td><td>field</td><td>Delhi Daredevils</td><td>Won</td></tr><tr><td>392225</td><td>Deccan Chargers</td><td>bat</td><td>Deccan Chargers</td><td>Won</td></tr><tr><td>392226</td><td>Royal Challengers Bangalore</td><td>field</td><td>Royal Challengers Bangalore</td><td>Won</td></tr><tr><td>392227</td><td>Kings XI Punjab</td><td>bat</td><td>Mumbai Indians</td><td>Lost</td></tr><tr><td>392228</td><td>Deccan Chargers</td><td>field</td><td>Delhi Daredevils</td><td>Lost</td></tr><tr><td>392229</td><td>Chennai Super Kings</td><td>bat</td><td>Royal Challengers Bangalore</td><td>Lost</td></tr><tr><td>392230</td><td>Rajasthan Royals</td><td>bat</td><td>Rajasthan Royals</td><td>Won</td></tr><tr><td>392231</td><td>Kings XI Punjab</td><td>field</td><td>Kings XI Punjab</td><td>Won</td></tr><tr><td>392232</td><td>Mumbai Indians</td><td>bat</td><td>Chennai Super Kings</td><td>Lost</td></tr><tr><td>392233</td><td>Deccan Chargers</td><td>field</td><td>Deccan Chargers</td><td>Won</td></tr><tr><td>392234</td><td>Deccan Chargers</td><td>field</td><td>Kings XI Punjab</td><td>Lost</td></tr><tr><td>392235</td><td>Delhi Daredevils</td><td>bat</td><td>Delhi Daredevils</td><td>Won</td></tr><tr><td>392236</td><td>Chennai Super Kings</td><td>bat</td><td>Kolkata Knight Riders</td><td>Lost</td></tr><tr><td>392237</td><td>Delhi Daredevils</td><td>bat</td><td>Royal Challengers Bangalore</td><td>Lost</td></tr><tr><td>392238</td><td>Kolkata Knight Riders</td><td>field</td><td>Kolkata Knight Riders</td><td>Won</td></tr><tr><td>392239</td><td>Chennai Super Kings</td><td>bat</td><td>Chennai Super Kings</td><td>Won</td></tr><tr><td>392240</td><td>Delhi Daredevils</td><td>field</td><td>Delhi Daredevils</td><td>Won</td></tr><tr><td>392241</td><td>Royal Challengers Bangalore</td><td>bat</td><td>Royal Challengers Bangalore</td><td>Won</td></tr><tr><td>392242</td><td>Deccan Chargers</td><td>field</td><td>Deccan Chargers</td><td>Won</td></tr><tr><td>392243</td><td>Royal Challengers Bangalore</td><td>field</td><td>Royal Challengers Bangalore</td><td>Won</td></tr><tr><td>392244</td><td>Royal Challengers Bangalore</td><td>field</td><td>Deccan Chargers</td><td>Lost</td></tr><tr><td>419111</td><td>Deccan Chargers</td><td>field</td><td>Kolkata Knight Riders</td><td>Lost</td></tr><tr><td>419112</td><td>Mumbai Indians</td><td>bat</td><td>Mumbai Indians</td><td>Won</td></tr><tr><td>419113</td><td>Delhi Daredevils</td><td>field</td><td>Delhi Daredevils</td><td>Won</td></tr><tr><td>419114</td><td>Kolkata Knight Riders</td><td>field</td><td>Kolkata Knight Riders</td><td>Won</td></tr><tr><td>419115</td><td>Deccan Chargers</td><td>bat</td><td>Deccan Chargers</td><td>Won</td></tr><tr><td>419116</td><td>Delhi Daredevils</td><td>field</td><td>Delhi Daredevils</td><td>Won</td></tr><tr><td>419117</td><td>Kings XI Punjab</td><td>bat</td><td>Royal Challengers Bangalore</td><td>Lost</td></tr><tr><td>419118</td><td>Chennai Super Kings</td><td>bat</td><td>Chennai Super Kings</td><td>Won</td></tr><tr><td>419119</td><td>Delhi Daredevils</td><td>field</td><td>Mumbai Indians</td><td>Lost</td></tr><tr><td>419120</td><td>Royal Challengers Bangalore</td><td>field</td><td>Royal Challengers Bangalore</td><td>Won</td></tr><tr><td>419121</td><td>Delhi Daredevils</td><td>bat</td><td>Chennai Super Kings</td><td>Lost</td></tr><tr><td>419122</td><td>Kings XI Punjab</td><td>field</td><td>Deccan Chargers</td><td>Lost</td></tr><tr><td>419123</td><td>Rajasthan Royals</td><td>bat</td><td>Rajasthan Royals</td><td>Won</td></tr><tr><td>419124</td><td>Mumbai Indians</td><td>bat</td><td>Royal Challengers Bangalore</td><td>Lost</td></tr><tr><td>419125</td><td>Deccan Chargers</td><td>bat</td><td>Deccan Chargers</td><td>Won</td></tr><tr><td>419126</td><td>Chennai Super Kings</td><td>field</td><td>Kings XI Punjab</td><td>Lost</td></tr><tr><td>419127</td><td>Kolkata Knight Riders</td><td>bat</td><td>Mumbai Indians</td><td>Lost</td></tr><tr><td>419128</td><td>Chennai Super Kings</td><td>field</td><td>Royal Challengers Bangalore</td><td>Lost</td></tr><tr><td>419129</td><td>Kings XI Punjab</td><td>field</td><td>Rajasthan Royals</td><td>Lost</td></tr><tr><td>419130</td><td>Mumbai Indians</td><td>field</td><td>Mumbai Indians</td><td>Won</td></tr><tr><td>419131</td><td>Deccan Chargers</td><td>bat</td><td>Rajasthan Royals</td><td>Lost</td></tr><tr><td>419132</td><td>Kolkata Knight Riders</td><td>bat</td><td>Kolkata Knight Riders</td><td>Won</td></tr><tr><td>419133</td><td>Royal Challengers Bangalore</td><td>field</td><td>Delhi Daredevils</td><td>Lost</td></tr><tr><td>419134</td><td>Rajasthan Royals</td><td>bat</td><td>Rajasthan Royals</td><td>Won</td></tr><tr><td>419135</td><td>Deccan Chargers</td><td>field</td><td>Mumbai Indians</td><td>Lost</td></tr><tr><td>419136</td><td>Delhi Daredevils</td><td>bat</td><td>Delhi Daredevils</td><td>Won</td></tr><tr><td>419137</td><td>Mumbai Indians</td><td>field</td><td>Mumbai Indians</td><td>Won</td></tr><tr><td>419138</td><td>Royal Challengers Bangalore</td><td>bat</td><td>Chennai Super Kings</td><td>Lost</td></tr><tr><td>419139</td><td>Delhi Daredevils</td><td>bat</td><td>Delhi Daredevils</td><td>Won</td></tr><tr><td>419140</td><td>Kolkata Knight Riders</td><td>bat</td><td>Kolkata Knight Riders</td><td>Won</td></tr><tr><td>419141</td><td>Kings XI Punjab</td><td>bat</td><td>Royal Challengers Bangalore</td><td>Lost</td></tr><tr><td>419142</td><td>Chennai Super Kings</td><td>bat</td><td>Chennai Super Kings</td><td>Won</td></tr><tr><td>419143</td><td>Mumbai Indians</td><td>bat</td><td>Mumbai Indians</td><td>Won</td></tr><tr><td>419144</td><td>Kolkata Knight Riders</td><td>bat</td><td>Kings XI Punjab</td><td>Lost</td></tr><tr><td>419145</td><td>Delhi Daredevils</td><td>bat</td><td>Delhi Daredevils</td><td>Won</td></tr><tr><td>419146</td><td>Rajasthan Royals</td><td>bat</td><td>Rajasthan Royals</td><td>Won</td></tr><tr><td>419147</td><td>Chennai Super Kings</td><td>bat</td><td>Chennai Super Kings</td><td>Won</td></tr><tr><td>419148</td><td>Kings XI Punjab</td><td>bat</td><td>Rajasthan Royals</td><td>Lost</td></tr><tr><td>419149</td><td>Kolkata Knight Riders</td><td>bat</td><td>Kolkata Knight Riders</td><td>Won</td></tr><tr><td>419150</td><td>Deccan Chargers</td><td>field</td><td>Deccan Chargers</td><td>Won</td></tr><tr><td>419151</td><td>Mumbai Indians</td><td>bat</td><td>Kings XI Punjab</td><td>Lost</td></tr><tr><td>419152</td><td>Chennai Super Kings</td><td>bat</td><td>Deccan Chargers</td><td>Lost</td></tr><tr><td>419153</td><td>Royal Challengers Bangalore</td><td>field</td><td>Royal Challengers Bangalore</td><td>Won</td></tr><tr><td>419154</td><td>Delhi Daredevils</td><td>bat</td><td>Kings XI Punjab</td><td>Lost</td></tr><tr><td>419155</td><td>Rajasthan Royals</td><td>field</td><td>Mumbai Indians</td><td>Lost</td></tr><tr><td>419156</td><td>Royal Challengers Bangalore</td><td>field</td><td>Deccan Chargers</td><td>Lost</td></tr><tr><td>419157</td><td>Mumbai Indians</td><td>bat</td><td>Mumbai Indians</td><td>Won</td></tr><tr><td>419158</td><td>Kolkata Knight Riders</td><td>bat</td><td>Chennai Super Kings</td><td>Lost</td></tr><tr><td>419159</td><td>Rajasthan Royals</td><td>bat</td><td>Royal Challengers Bangalore</td><td>Lost</td></tr><tr><td>419160</td><td>Chennai Super Kings</td><td>bat</td><td>Delhi Daredevils</td><td>Lost</td></tr><tr><td>419161</td><td>Deccan Chargers</td><td>field</td><td>Deccan Chargers</td><td>Won</td></tr><tr><td>419162</td><td>Royal Challengers Bangalore</td><td>field</td><td>Mumbai Indians</td><td>Lost</td></tr><tr><td>419163</td><td>Rajasthan Royals</td><td>bat</td><td>Kolkata Knight Riders</td><td>Lost</td></tr><tr><td>419164</td><td>Chennai Super Kings</td><td>field</td><td>Chennai Super Kings</td><td>Won</td></tr><tr><td>419165</td><td>Deccan Chargers</td><td>bat</td><td>Deccan Chargers</td><td>Won</td></tr><tr><td>419166</td><td>Mumbai Indians</td><td>bat</td><td>Kolkata Knight Riders</td><td>Lost</td></tr><tr><td>419167</td><td>Mumbai Indians</td><td>bat</td><td>Mumbai Indians</td><td>Won</td></tr><tr><td>419168</td><td>Chennai Super Kings</td><td>bat</td><td>Chennai Super Kings</td><td>Won</td></tr><tr><td>419169</td><td>Deccan Chargers</td><td>bat</td><td>Royal Challengers Bangalore</td><td>Lost</td></tr><tr><td>419170</td><td>Chennai Super Kings</td><td>bat</td><td>Chennai Super Kings</td><td>Won</td></tr><tr><td>501203</td><td>Chennai Super Kings</td><td>bat</td><td>Chennai Super Kings</td><td>Won</td></tr><tr><td>501204</td><td>Rajasthan Royals</td><td>field</td><td>Rajasthan Royals</td><td>Won</td></tr><tr><td>501205</td><td>Kochi Tuskers Kerala</td><td>bat</td><td>Royal Challengers Bangalore</td><td>Lost</td></tr><tr><td>501206</td><td>Delhi Daredevils</td><td>bat</td><td>Mumbai Indians</td><td>Lost</td></tr><tr><td>501207</td><td>Kings XI Punjab</td><td>bat</td><td>Pune Warriors</td><td>Lost</td></tr><tr><td>501208</td><td>Kolkata Knight Riders</td><td>bat</td><td>Kolkata Knight Riders</td><td>Won</td></tr><tr><td>501209</td><td>Delhi Daredevils</td><td>bat</td><td>Rajasthan Royals</td><td>Lost</td></tr><tr><td>501210</td><td>Mumbai Indians</td><td>field</td><td>Mumbai Indians</td><td>Won</td></tr><tr><td>501211</td><td>Kings XI Punjab</td><td>field</td><td>Kings XI Punjab</td><td>Won</td></tr><tr><td>501212</td><td>Kochi Tuskers Kerala</td><td>bat</td><td>Pune Warriors</td><td>Lost</td></tr><tr><td>501213</td><td>Royal Challengers Bangalore</td><td>field</td><td>Deccan Chargers</td><td>Lost</td></tr><tr><td>501214</td><td>Kolkata Knight Riders</td><td>field</td><td>Kolkata Knight Riders</td><td>Won</td></tr><tr><td>501215</td><td>Kochi Tuskers Kerala</td><td>field</td><td>Kochi Tuskers Kerala</td><td>Won</td></tr><tr><td>501216</td><td>Chennai Super Kings</td><td>bat</td><td>Chennai Super Kings</td><td>Won</td></tr><tr><td>501217</td><td>Kings XI Punjab</td><td>field</td><td>Kings XI Punjab</td><td>Won</td></tr><tr><td>501218</td><td>Delhi Daredevils</td><td>field</td><td>Delhi Daredevils</td><td>Won</td></tr><tr><td>501219</td><td>Kolkata Knight Riders</td><td>field</td><td>Kolkata Knight Riders</td><td>Won</td></tr><tr><td>501220</td><td>Kochi Tuskers Kerala</td><td>field</td><td>Kochi Tuskers Kerala</td><td>Won</td></tr><tr><td>501221</td><td>Deccan Chargers</td><td>bat</td><td>Deccan Chargers</td><td>Won</td></tr><tr><td>501223</td><td>Pune Warriors</td><td>bat</td><td>Mumbai Indians</td><td>Lost</td></tr><tr><td>501224</td><td>Kolkata Knight Riders</td><td>field</td><td>Kochi Tuskers Kerala</td><td>Lost</td></tr><tr><td>501225</td><td>Rajasthan Royals</td><td>field</td><td>Kings XI Punjab</td><td>Lost</td></tr><tr><td>501226</td><td>Chennai Super Kings</td><td>field</td><td>Mumbai Indians</td><td>Lost</td></tr><tr><td>501227</td><td>Royal Challengers Bangalore</td><td>field</td><td>Royal Challengers Bangalore</td><td>Won</td></tr><tr><td>501228</td><td>Kings XI Punjab</td><td>field</td><td>Delhi Daredevils</td><td>Lost</td></tr><tr><td>501229</td><td>Deccan Chargers</td><td>field</td><td>Mumbai Indians</td><td>Lost</td></tr><tr><td>501230</td><td>Rajasthan Royals</td><td>field</td><td>Rajasthan Royals</td><td>Won</td></tr><tr><td>501231</td><td>Pune Warriors</td><td>field</td><td>Chennai Super Kings</td><td>Lost</td></tr><tr><td>501232</td><td>Royal Challengers Bangalore</td><td>field</td><td>Royal Challengers Bangalore</td><td>Won</td></tr><tr><td>501233</td><td>Pune Warriors</td><td>bat</td><td>Chennai Super Kings</td><td>Lost</td></tr><tr><td>501234</td><td>Kochi Tuskers Kerala</td><td>field</td><td>Deccan Chargers</td><td>Lost</td></tr><tr><td>501235</td><td>Delhi Daredevils</td><td>field</td><td>Kolkata Knight Riders</td><td>Lost</td></tr><tr><td>501236</td><td>Rajasthan Royals</td><td>field</td><td>Rajasthan Royals</td><td>Won</td></tr><tr><td>501237</td><td>Pune Warriors</td><td>field</td><td>Royal Challengers Bangalore</td><td>Lost</td></tr><tr><td>501238</td><td>Delhi Daredevils</td><td>bat</td><td>Delhi Daredevils</td><td>Won</td></tr><tr><td>501239</td><td>Kolkata Knight Riders</td><td>field</td><td>Kolkata Knight Riders</td><td>Won</td></tr><tr><td>501240</td><td>Rajasthan Royals</td><td>field</td><td>Rajasthan Royals</td><td>Won</td></tr><tr><td>501241</td><td>Chennai Super Kings</td><td>bat</td><td>Chennai Super Kings</td><td>Won</td></tr><tr><td>501242</td><td>Kings XI Punjab</td><td>field</td><td>Mumbai Indians</td><td>Lost</td></tr><tr><td>501243</td><td>Kochi Tuskers Kerala</td><td>field</td><td>Kochi Tuskers Kerala</td><td>Won</td></tr><tr><td>501244</td><td>Deccan Chargers</td><td>field</td><td>Kolkata Knight Riders</td><td>Lost</td></tr><tr><td>501245</td><td>Rajasthan Royals</td><td>bat</td><td>Chennai Super Kings</td><td>Lost</td></tr><tr><td>501246</td><td>Pune Warriors</td><td>field</td><td>Mumbai Indians</td><td>Lost</td></tr><tr><td>501247</td><td>Kolkata Knight Riders</td><td>field</td><td>Kochi Tuskers Kerala</td><td>Lost</td></tr><tr><td>501248</td><td>Delhi Daredevils</td><td>field</td><td>Delhi Daredevils</td><td>Won</td></tr><tr><td>501249</td><td>Kings XI Punjab</td><td>field</td><td>Royal Challengers Bangalore</td><td>Lost</td></tr><tr><td>501250</td><td>Chennai Super Kings</td><td>bat</td><td>Kolkata Knight Riders</td><td>Lost</td></tr><tr><td>501251</td><td>Delhi Daredevils</td><td>field</td><td>Mumbai Indians</td><td>Lost</td></tr><tr><td>501252</td><td>Kochi Tuskers Kerala</td><td>bat</td><td>Royal Challengers Bangalore</td><td>Lost</td></tr><tr><td>501253</td><td>Kings XI Punjab</td><td>bat</td><td>Pune Warriors</td><td>Lost</td></tr><tr><td>501254</td><td>Rajasthan Royals</td><td>field</td><td>Chennai Super Kings</td><td>Lost</td></tr><tr><td>501255</td><td>Deccan Chargers</td><td>bat</td><td>Pune Warriors</td><td>Lost</td></tr><tr><td>501256</td><td>Mumbai Indians</td><td>field</td><td>Kings XI Punjab</td><td>Lost</td></tr><tr><td>501257</td><td>Royal Challengers Bangalore</td><td>field</td><td>Royal Challengers Bangalore</td><td>Won</td></tr><tr><td>501258</td><td>Chennai Super Kings</td><td>bat</td><td>Chennai Super Kings</td><td>Won</td></tr><tr><td>501259</td><td>Kings XI Punjab</td><td>field</td><td>Kings XI Punjab</td><td>Won</td></tr><tr><td>501260</td><td>Royal Challengers Bangalore</td><td>field</td><td>Royal Challengers Bangalore</td><td>Won</td></tr><tr><td>501261</td><td>Deccan Chargers</td><td>bat</td><td>Deccan Chargers</td><td>Won</td></tr><tr><td>501262</td><td>Delhi Daredevils</td><td>field</td><td>Kings XI Punjab</td><td>Lost</td></tr><tr><td>501263</td><td>Kochi Tuskers Kerala</td><td>field</td><td>Kochi Tuskers Kerala</td><td>Won</td></tr><tr><td>501264</td><td>Deccan Chargers</td><td>field</td><td>Deccan Chargers</td><td>Won</td></tr><tr><td>501265</td><td>Kings XI Punjab</td><td>bat</td><td>Kings XI Punjab</td><td>Won</td></tr><tr><td>501266</td><td>Chennai Super Kings</td><td>bat</td><td>Chennai Super Kings</td><td>Won</td></tr><tr><td>501267</td><td>Kolkata Knight Riders</td><td>field</td><td>Kolkata Knight Riders</td><td>Won</td></tr><tr><td>501268</td><td>Mumbai Indians</td><td>bat</td><td>Rajasthan Royals</td><td>Lost</td></tr><tr><td>501269</td><td>Kings XI Punjab</td><td>field</td><td>Deccan Chargers</td><td>Lost</td></tr><tr><td>501270</td><td>Delhi Daredevils</td><td>bat</td><td>NULL</td><td>Lost</td></tr><tr><td>501271</td><td>Royal Challengers Bangalore</td><td>field</td><td>Royal Challengers Bangalore</td><td>Won</td></tr><tr><td>501272</td><td>Mumbai Indians</td><td>field</td><td>Mumbai Indians</td><td>Won</td></tr><tr><td>501273</td><td>Chennai Super Kings</td><td>field</td><td>Chennai Super Kings</td><td>Won</td></tr><tr><td>501274</td><td>Mumbai Indians</td><td>field</td><td>Mumbai Indians</td><td>Won</td></tr><tr><td>501275</td><td>Mumbai Indians</td><td>field</td><td>Royal Challengers Bangalore</td><td>Lost</td></tr><tr><td>501276</td><td>Chennai Super Kings</td><td>bat</td><td>Chennai Super Kings</td><td>Won</td></tr><tr><td>548311</td><td>Mumbai Indians</td><td>field</td><td>Mumbai Indians</td><td>Won</td></tr><tr><td>548312</td><td>Delhi Daredevils</td><td>field</td><td>Delhi Daredevils</td><td>Won</td></tr><tr><td>548313</td><td>Mumbai Indians</td><td>field</td><td>Pune Warriors</td><td>Lost</td></tr><tr><td>548314</td><td>Kings XI Punjab</td><td>field</td><td>Rajasthan Royals</td><td>Lost</td></tr><tr><td>548315</td><td>Delhi Daredevils</td><td>field</td><td>Royal Challengers Bangalore</td><td>Lost</td></tr><tr><td>548316</td><td>Deccan Chargers</td><td>field</td><td>Chennai Super Kings</td><td>Lost</td></tr><tr><td>548317</td><td>Kolkata Knight Riders</td><td>field</td><td>Rajasthan Royals</td><td>Lost</td></tr><tr><td>548318</td><td>Pune Warriors</td><td>bat</td><td>Pune Warriors</td><td>Won</td></tr><tr><td>548319</td><td>Deccan Chargers</td><td>bat</td><td>Mumbai Indians</td><td>Lost</td></tr><tr><td>548320</td><td>Royal Challengers Bangalore</td><td>field</td><td>Kolkata Knight Riders</td><td>Lost</td></tr><tr><td>548321</td><td>Delhi Daredevils</td><td>field</td><td>Delhi Daredevils</td><td>Won</td></tr><tr><td>548322</td><td>Rajasthan Royals</td><td>field</td><td>Mumbai Indians</td><td>Lost</td></tr><tr><td>548323</td><td>Royal Challengers Bangalore</td><td>bat</td><td>Chennai Super Kings</td><td>Lost</td></tr><tr><td>548324</td><td>Kings XI Punjab</td><td>field</td><td>Kings XI Punjab</td><td>Won</td></tr><tr><td>548325</td><td>Rajasthan Royals</td><td>bat</td><td>Kolkata Knight Riders</td><td>Lost</td></tr><tr><td>548326</td><td>Deccan Chargers</td><td>bat</td><td>Delhi Daredevils</td><td>Lost</td></tr><tr><td>548327</td><td>Chennai Super Kings</td><td>bat</td><td>Pune Warriors</td><td>Lost</td></tr><tr><td>548328</td><td>Kolkata Knight Riders</td><td>field</td><td>Kings XI Punjab</td><td>Lost</td></tr><tr><td>548329</td><td>Rajasthan Royals</td><td>bat</td><td>Rajasthan Royals</td><td>Won</td></tr><tr><td>548330</td><td>Delhi Daredevils</td><td>field</td><td>Delhi Daredevils</td><td>Won</td></tr><tr><td>548331</td><td>Deccan Chargers</td><td>bat</td><td>Rajasthan Royals</td><td>Lost</td></tr><tr><td>548332</td><td>Pune Warriors</td><td>bat</td><td>Royal Challengers Bangalore</td><td>Lost</td></tr><tr><td>548333</td><td>Kings XI Punjab</td><td>bat</td><td>Kolkata Knight Riders</td><td>Lost</td></tr><tr><td>548334</td><td>Deccan Chargers</td><td>bat</td><td>Delhi Daredevils</td><td>Lost</td></tr><tr><td>548335</td><td>Pune Warriors</td><td>field</td><td>Chennai Super Kings</td><td>Lost</td></tr><tr><td>548336</td><td>Royal Challengers Bangalore</td><td>field</td><td>Royal Challengers Bangalore</td><td>Won</td></tr><tr><td>548337</td><td>Rajasthan Royals</td><td>bat</td><td>Chennai Super Kings</td><td>Lost</td></tr><tr><td>548338</td><td>Delhi Daredevils</td><td>field</td><td>Pune Warriors</td><td>Lost</td></tr><tr><td>548339</td><td>Mumbai Indians</td><td>bat</td><td>Kings XI Punjab</td><td>Lost</td></tr><tr><td>548340</td><td>Kolkata Knight Riders</td><td>field</td><td>Kolkata Knight Riders</td><td>Won</td></tr><tr><td>548341</td><td>Rajasthan Royals</td><td>field</td><td>Royal Challengers Bangalore</td><td>Lost</td></tr><tr><td>548342</td><td>Pune Warriors</td><td>bat</td><td>Delhi Daredevils</td><td>Lost</td></tr><tr><td>548344</td><td>Kings XI Punjab</td><td>bat</td><td>Mumbai Indians</td><td>Lost</td></tr><tr><td>548346</td><td>Deccan Chargers</td><td>bat</td><td>Deccan Chargers</td><td>Won</td></tr><tr><td>548347</td><td>Mumbai Indians</td><td>field</td><td>Delhi Daredevils</td><td>Lost</td></tr><tr><td>548348</td><td>Kings XI Punjab</td><td>bat</td><td>Kings XI Punjab</td><td>Won</td></tr><tr><td>548349</td><td>Kolkata Knight Riders</td><td>bat</td><td>Kolkata Knight Riders</td><td>Won</td></tr><tr><td>548350</td><td>Delhi Daredevils</td><td>bat</td><td>Delhi Daredevils</td><td>Won</td></tr><tr><td>548351</td><td>Mumbai Indians</td><td>field</td><td>Mumbai Indians</td><td>Won</td></tr><tr><td>548352</td><td>Chennai Super Kings</td><td>bat</td><td>Kolkata Knight Riders</td><td>Lost</td></tr><tr><td>548353</td><td>Deccan Chargers</td><td>bat</td><td>Deccan Chargers</td><td>Won</td></tr><tr><td>548354</td><td>Rajasthan Royals</td><td>bat</td><td>Delhi Daredevils</td><td>Lost</td></tr><tr><td>548355</td><td>Kings XI Punjab</td><td>field</td><td>Kings XI Punjab</td><td>Won</td></tr><tr><td>548356</td><td>Mumbai Indians</td><td>bat</td><td>Mumbai Indians</td><td>Won</td></tr><tr><td>548357</td><td>Chennai Super Kings</td><td>bat</td><td>Chennai Super Kings</td><td>Won</td></tr><tr><td>548358</td><td>Kolkata Knight Riders</td><td>bat</td><td>Kolkata Knight Riders</td><td>Won</td></tr><tr><td>548359</td><td>Rajasthan Royals</td><td>bat</td><td>Rajasthan Royals</td><td>Won</td></tr><tr><td>548360</td><td>Mumbai Indians</td><td>field</td><td>Mumbai Indians</td><td>Won</td></tr><tr><td>548361</td><td>Royal Challengers Bangalore</td><td>field</td><td>Royal Challengers Bangalore</td><td>Won</td></tr><tr><td>548362</td><td>Delhi Daredevils</td><td>bat</td><td>Kolkata Knight Riders</td><td>Lost</td></tr><tr><td>548363</td><td>Pune Warriors</td><td>bat</td><td>Rajasthan Royals</td><td>Lost</td></tr><tr><td>548364</td><td>Deccan Chargers</td><td>field</td><td>Kings XI Punjab</td><td>Lost</td></tr><tr><td>548365</td><td>Royal Challengers Bangalore</td><td>field</td><td>Royal Challengers Bangalore</td><td>Won</td></tr><tr><td>548366</td><td>Chennai Super Kings</td><td>field</td><td>Chennai Super Kings</td><td>Won</td></tr><tr><td>548367</td><td>Pune Warriors</td><td>field</td><td>Royal Challengers Bangalore</td><td>Lost</td></tr><tr><td>548368</td><td>Mumbai Indians</td><td>bat</td><td>Mumbai Indians</td><td>Won</td></tr><tr><td>548369</td><td>Chennai Super Kings</td><td>field</td><td>Chennai Super Kings</td><td>Won</td></tr><tr><td>548370</td><td>Rajasthan Royals</td><td>bat</td><td>Rajasthan Royals</td><td>Won</td></tr><tr><td>548371</td><td>Deccan Chargers</td><td>bat</td><td>Kings XI Punjab</td><td>Lost</td></tr><tr><td>548372</td><td>Mumbai Indians</td><td>field</td><td>Mumbai Indians</td><td>Won</td></tr><tr><td>548373</td><td>Chennai Super Kings</td><td>field</td><td>Chennai Super Kings</td><td>Won</td></tr><tr><td>548374</td><td>Kings XI Punjab</td><td>bat</td><td>Delhi Daredevils</td><td>Lost</td></tr><tr><td>548375</td><td>Mumbai Indians</td><td>field</td><td>Kolkata Knight Riders</td><td>Lost</td></tr><tr><td>548376</td><td>Kings XI Punjab</td><td>field</td><td>Kings XI Punjab</td><td>Won</td></tr><tr><td>548377</td><td>Delhi Daredevils</td><td>field</td><td>Royal Challengers Bangalore</td><td>Lost</td></tr><tr><td>548378</td><td>Rajasthan Royals</td><td>bat</td><td>Deccan Chargers</td><td>Lost</td></tr><tr><td>548379</td><td>Delhi Daredevils</td><td>field</td><td>Delhi Daredevils</td><td>Won</td></tr><tr><td>548380</td><td>Kolkata Knight Riders</td><td>bat</td><td>Kolkata Knight Riders</td><td>Won</td></tr><tr><td>548381</td><td>Royal Challengers Bangalore</td><td>field</td><td>Deccan Chargers</td><td>Lost</td></tr><tr><td>548382</td><td>Rajasthan Royals</td><td>bat</td><td>Mumbai Indians</td><td>Lost</td></tr><tr><td>548383</td><td>Kolkata Knight Riders</td><td>bat</td><td>Kolkata Knight Riders</td><td>Won</td></tr><tr><td>548384</td><td>Mumbai Indians</td><td>field</td><td>Chennai Super Kings</td><td>Lost</td></tr><tr><td>548385</td><td>Delhi Daredevils</td><td>field</td><td>Chennai Super Kings</td><td>Lost</td></tr><tr><td>548386</td><td>Chennai Super Kings</td><td>bat</td><td>Kolkata Knight Riders</td><td>Lost</td></tr><tr><td>598003</td><td>Kolkata Knight Riders</td><td>field</td><td>Kolkata Knight Riders</td><td>Won</td></tr><tr><td>598004</td><td>Mumbai Indians</td><td>field</td><td>Royal Challengers Bangalore</td><td>Lost</td></tr><tr><td>598005</td><td>Pune Warriors</td><td>field</td><td>Sunrisers Hyderabad</td><td>Lost</td></tr><tr><td>598006</td><td>Rajasthan Royals</td><td>bat</td><td>Rajasthan Royals</td><td>Won</td></tr><tr><td>598007</td><td>Mumbai Indians</td><td>bat</td><td>Mumbai Indians</td><td>Won</td></tr><tr><td>598008</td><td>Pune Warriors</td><td>bat</td><td>Kings XI Punjab</td><td>Lost</td></tr><tr><td>598009</td><td>Royal Challengers Bangalore</td><td>bat</td><td>Sunrisers Hyderabad</td><td>Lost</td></tr><tr><td>598010</td><td>Kolkata Knight Riders</td><td>field</td><td>Rajasthan Royals</td><td>Lost</td></tr><tr><td>598011</td><td>Mumbai Indians</td><td>bat</td><td>Mumbai Indians</td><td>Won</td></tr><tr><td>598012</td><td>Chennai Super Kings</td><td>field</td><td>Chennai Super Kings</td><td>Won</td></tr><tr><td>598013</td><td>Royal Challengers Bangalore</td><td>field</td><td>Royal Challengers Bangalore</td><td>Won</td></tr><tr><td>598014</td><td>Rajasthan Royals</td><td>bat</td><td>Pune Warriors</td><td>Lost</td></tr><tr><td>598015</td><td>Delhi Daredevils</td><td>bat</td><td>Sunrisers Hyderabad</td><td>Lost</td></tr><tr><td>598016</td><td>Mumbai Indians</td><td>bat</td><td>Mumbai Indians</td><td>Won</td></tr><tr><td>598017</td><td>Chennai Super Kings</td><td>field</td><td>Chennai Super Kings</td><td>Won</td></tr><tr><td>598018</td><td>Kolkata Knight Riders</td><td>bat</td><td>Kolkata Knight Riders</td><td>Won</td></tr><tr><td>598019</td><td>Rajasthan Royals</td><td>field</td><td>Rajasthan Royals</td><td>Won</td></tr><tr><td>598020</td><td>Pune Warriors</td><td>bat</td><td>Pune Warriors</td><td>Won</td></tr><tr><td>598021</td><td>Kolkata Knight Riders</td><td>field</td><td>Kings XI Punjab</td><td>Lost</td></tr><tr><td>598022</td><td>Royal Challengers Bangalore</td><td>field</td><td>Royal Challengers Bangalore</td><td>Won</td></tr><tr><td>598023</td><td>Pune Warriors</td><td>field</td><td>Sunrisers Hyderabad</td><td>Lost</td></tr><tr><td>598024</td><td>Rajasthan Royals</td><td>bat</td><td>Rajasthan Royals</td><td>Won</td></tr><tr><td>598025</td><td>Chennai Super Kings</td><td>bat</td><td>Chennai Super Kings</td><td>Won</td></tr><tr><td>598026</td><td>Kings XI Punjab</td><td>bat</td><td>Sunrisers Hyderabad</td><td>Lost</td></tr><tr><td>598027</td><td>Kolkata Knight Riders</td><td>bat</td><td>Chennai Super Kings</td><td>Lost</td></tr><tr><td>598028</td><td>Royal Challengers Bangalore</td><td>field</td><td>Royal Challengers Bangalore</td><td>Won</td></tr><tr><td>598029</td><td>Mumbai Indians</td><td>bat</td><td>Delhi Daredevils</td><td>Lost</td></tr><tr><td>598030</td><td>Kings XI Punjab</td><td>field</td><td>Kings XI Punjab</td><td>Won</td></tr><tr><td>598031</td><td>Rajasthan Royals</td><td>bat</td><td>Chennai Super Kings</td><td>Lost</td></tr><tr><td>598032</td><td>Pune Warriors</td><td>field</td><td>Royal Challengers Bangalore</td><td>Lost</td></tr><tr><td>598033</td><td>Delhi Daredevils</td><td>field</td><td>Kings XI Punjab</td><td>Lost</td></tr><tr><td>598034</td><td>Kolkata Knight Riders</td><td>bat</td><td>Mumbai Indians</td><td>Lost</td></tr><tr><td>598035</td><td>Sunrisers Hyderabad</td><td>bat</td><td>Chennai Super Kings</td><td>Lost</td></tr><tr><td>598036</td><td>Kings XI Punjab</td><td>bat</td><td>Kolkata Knight Riders</td><td>Lost</td></tr><tr><td>598037</td><td>Sunrisers Hyderabad</td><td>bat</td><td>Rajasthan Royals</td><td>Lost</td></tr><tr><td>598038</td><td>Mumbai Indians</td><td>bat</td><td>Mumbai Indians</td><td>Won</td></tr><tr><td>598039</td><td>Kolkata Knight Riders</td><td>field</td><td>Chennai Super Kings</td><td>Lost</td></tr><tr><td>598040</td><td>Pune Warriors</td><td>field</td><td>Delhi Daredevils</td><td>Lost</td></tr><tr><td>598041</td><td>Rajasthan Royals</td><td>field</td><td>Rajasthan Royals</td><td>Won</td></tr><tr><td>598042</td><td>Mumbai Indians</td><td>bat</td><td>Mumbai Indians</td><td>Won</td></tr><tr><td>598043</td><td>Chennai Super Kings</td><td>bat</td><td>Chennai Super Kings</td><td>Won</td></tr><tr><td>598044</td><td>Mumbai Indians</td><td>bat</td><td>Sunrisers Hyderabad</td><td>Lost</td></tr><tr><td>598045</td><td>Kolkata Knight Riders</td><td>bat</td><td>Delhi Daredevils</td><td>Lost</td></tr><tr><td>598046</td><td>Chennai Super Kings</td><td>bat</td><td>Chennai Super Kings</td><td>Won</td></tr><tr><td>598047</td><td>Royal Challengers Bangalore</td><td>bat</td><td>Royal Challengers Bangalore</td><td>Won</td></tr><tr><td>598048</td><td>Rajasthan Royals</td><td>bat</td><td>Kolkata Knight Riders</td><td>Lost</td></tr><tr><td>598049</td><td>Delhi Daredevils</td><td>bat</td><td>Sunrisers Hyderabad</td><td>Lost</td></tr><tr><td>598050</td><td>Kings XI Punjab</td><td>field</td><td>Kings XI Punjab</td><td>Won</td></tr><tr><td>598051</td><td>Mumbai Indians</td><td>bat</td><td>Mumbai Indians</td><td>Won</td></tr><tr><td>598052</td><td>Pune Warriors</td><td>bat</td><td>Rajasthan Royals</td><td>Lost</td></tr><tr><td>598053</td><td>Sunrisers Hyderabad</td><td>bat</td><td>Royal Challengers Bangalore</td><td>Lost</td></tr><tr><td>598054</td><td>Delhi Daredevils</td><td>bat</td><td>Rajasthan Royals</td><td>Lost</td></tr><tr><td>598055</td><td>Mumbai Indians</td><td>bat</td><td>Mumbai Indians</td><td>Won</td></tr><tr><td>598056</td><td>Sunrisers Hyderabad</td><td>field</td><td>Chennai Super Kings</td><td>Lost</td></tr><tr><td>598057</td><td>Rajasthan Royals</td><td>field</td><td>Rajasthan Royals</td><td>Won</td></tr><tr><td>598058</td><td>Kolkata Knight Riders</td><td>bat</td><td>Kolkata Knight Riders</td><td>Won</td></tr><tr><td>598059</td><td>Delhi Daredevils</td><td>field</td><td>Royal Challengers Bangalore</td><td>Lost</td></tr><tr><td>598060</td><td>Pune Warriors</td><td>bat</td><td>Mumbai Indians</td><td>Lost</td></tr><tr><td>598061</td><td>Kings XI Punjab</td><td>field</td><td>Sunrisers Hyderabad</td><td>Lost</td></tr><tr><td>598062</td><td>Kolkata Knight Riders</td><td>field</td><td>Kolkata Knight Riders</td><td>Won</td></tr><tr><td>598063</td><td>Rajasthan Royals</td><td>field</td><td>Rajasthan Royals</td><td>Won</td></tr><tr><td>598064</td><td>Kings XI Punjab</td><td>field</td><td>Kings XI Punjab</td><td>Won</td></tr><tr><td>598065</td><td>Sunrisers Hyderabad</td><td>bat</td><td>Mumbai Indians</td><td>Lost</td></tr><tr><td>598066</td><td>Kolkata Knight Riders</td><td>field</td><td>Pune Warriors</td><td>Lost</td></tr><tr><td>598067</td><td>Chennai Super Kings</td><td>bat</td><td>Chennai Super Kings</td><td>Won</td></tr><tr><td>598068</td><td>Rajasthan Royals</td><td>field</td><td>Mumbai Indians</td><td>Lost</td></tr><tr><td>598069</td><td>Kings XI Punjab</td><td>field</td><td>Kings XI Punjab</td><td>Won</td></tr><tr><td>598070</td><td>Sunrisers Hyderabad</td><td>bat</td><td>Sunrisers Hyderabad</td><td>Won</td></tr><tr><td>598071</td><td>Mumbai Indians</td><td>field</td><td>Kings XI Punjab</td><td>Lost</td></tr><tr><td>598072</td><td>Pune Warriors</td><td>bat</td><td>Pune Warriors</td><td>Won</td></tr><tr><td>598073</td><td>Chennai Super Kings</td><td>field</td><td>Royal Challengers Bangalore</td><td>Lost</td></tr><tr><td>598074</td><td>Kolkata Knight Riders</td><td>bat</td><td>Sunrisers Hyderabad</td><td>Lost</td></tr><tr><td>598075</td><td>Chennai Super Kings</td><td>bat</td><td>Chennai Super Kings</td><td>Won</td></tr><tr><td>598076</td><td>Sunrisers Hyderabad</td><td>bat</td><td>Rajasthan Royals</td><td>Lost</td></tr><tr><td>598077</td><td>Rajasthan Royals</td><td>bat</td><td>Mumbai Indians</td><td>Lost</td></tr><tr><td>598078</td><td>Mumbai Indians</td><td>bat</td><td>Mumbai Indians</td><td>Won</td></tr><tr><td>729284</td><td>Kolkata Knight Riders</td><td>bat</td><td>Kolkata Knight Riders</td><td>Won</td></tr><tr><td>729286</td><td>Royal Challengers Bangalore</td><td>field</td><td>Royal Challengers Bangalore</td><td>Won</td></tr><tr><td>729288</td><td>Chennai Super Kings</td><td>bat</td><td>Kings XI Punjab</td><td>Lost</td></tr><tr><td>729290</td><td>Rajasthan Royals</td><td>field</td><td>Rajasthan Royals</td><td>Won</td></tr><tr><td>729292</td><td>Royal Challengers Bangalore</td><td>field</td><td>Royal Challengers Bangalore</td><td>Won</td></tr><tr><td>729294</td><td>Kolkata Knight Riders</td><td>bat</td><td>Delhi Daredevils</td><td>Lost</td></tr><tr><td>729296</td><td>Kings XI Punjab</td><td>field</td><td>Kings XI Punjab</td><td>Won</td></tr><tr><td>729298</td><td>Chennai Super Kings</td><td>bat</td><td>Chennai Super Kings</td><td>Won</td></tr><tr><td>729300</td><td>Sunrisers Hyderabad</td><td>field</td><td>Kings XI Punjab</td><td>Lost</td></tr><tr><td>729302</td><td>Rajasthan Royals</td><td>field</td><td>Chennai Super Kings</td><td>Lost</td></tr><tr><td>729304</td><td>Royal Challengers Bangalore</td><td>field</td><td>Kolkata Knight Riders</td><td>Lost</td></tr><tr><td>729306</td><td>Sunrisers Hyderabad</td><td>bat</td><td>Sunrisers Hyderabad</td><td>Won</td></tr><tr><td>729308</td><td>Mumbai Indians</td><td>bat</td><td>Chennai Super Kings</td><td>Lost</td></tr><tr><td>729310</td><td>Rajasthan Royals</td><td>field</td><td>Rajasthan Royals</td><td>Won</td></tr><tr><td>729312</td><td>Kolkata Knight Riders</td><td>field</td><td>Kings XI Punjab</td><td>Lost</td></tr><tr><td>729314</td><td>Mumbai Indians</td><td>bat</td><td>Delhi Daredevils</td><td>Lost</td></tr><tr><td>729316</td><td>Sunrisers Hyderabad</td><td>bat</td><td>Chennai Super Kings</td><td>Lost</td></tr><tr><td>729318</td><td>Kings XI Punjab</td><td>field</td><td>Kings XI Punjab</td><td>Won</td></tr><tr><td>729320</td><td>Rajasthan Royals</td><td>bat</td><td>Rajasthan Royals</td><td>Won</td></tr><tr><td>729322</td><td>Mumbai Indians</td><td>field</td><td>Sunrisers Hyderabad</td><td>Lost</td></tr><tr><td>733976</td><td>Chennai Super Kings</td><td>bat</td><td>Chennai Super Kings</td><td>Won</td></tr><tr><td>733978</td><td>Kings XI Punjab</td><td>bat</td><td>Mumbai Indians</td><td>Lost</td></tr><tr><td>733980</td><td>Rajasthan Royals</td><td>field</td><td>Rajasthan Royals</td><td>Won</td></tr><tr><td>733982</td><td>Royal Challengers Bangalore</td><td>field</td><td>Royal Challengers Bangalore</td><td>Won</td></tr><tr><td>733984</td><td>Kolkata Knight Riders</td><td>field</td><td>Rajasthan Royals</td><td>Lost</td></tr><tr><td>733986</td><td>Chennai Super Kings</td><td>field</td><td>Chennai Super Kings</td><td>Won</td></tr><tr><td>733988</td><td>Royal Challengers Bangalore</td><td>field</td><td>Mumbai Indians</td><td>Lost</td></tr><tr><td>733990</td><td>Delhi Daredevils</td><td>bat</td><td>Kolkata Knight Riders</td><td>Lost</td></tr><tr><td>733992</td><td>Chennai Super Kings</td><td>field</td><td>Kings XI Punjab</td><td>Lost</td></tr><tr><td>733994</td><td>Rajasthan Royals</td><td>field</td><td>Sunrisers Hyderabad</td><td>Lost</td></tr><tr><td>733996</td><td>Royal Challengers Bangalore</td><td>field</td><td>Kings XI Punjab</td><td>Lost</td></tr><tr><td>733998</td><td>Sunrisers Hyderabad</td><td>field</td><td>Sunrisers Hyderabad</td><td>Won</td></tr><tr><td>734000</td><td>Chennai Super Kings</td><td>field</td><td>Chennai Super Kings</td><td>Won</td></tr><tr><td>734002</td><td>Kolkata Knight Riders</td><td>field</td><td>Kolkata Knight Riders</td><td>Won</td></tr><tr><td>734004</td><td>Royal Challengers Bangalore</td><td>bat</td><td>Rajasthan Royals</td><td>Lost</td></tr><tr><td>734006</td><td>Sunrisers Hyderabad</td><td>bat</td><td>Mumbai Indians</td><td>Lost</td></tr><tr><td>734008</td><td>Rajasthan Royals</td><td>bat</td><td>Chennai Super Kings</td><td>Lost</td></tr><tr><td>734010</td><td>Delhi Daredevils</td><td>field</td><td>Royal Challengers Bangalore</td><td>Lost</td></tr><tr><td>734012</td><td>Kings XI Punjab</td><td>field</td><td>Kings XI Punjab</td><td>Won</td></tr><tr><td>734014</td><td>Kolkata Knight Riders</td><td>field</td><td>Kolkata Knight Riders</td><td>Won</td></tr><tr><td>734016</td><td>Delhi Daredevils</td><td>field</td><td>Rajasthan Royals</td><td>Lost</td></tr><tr><td>734018</td><td>Chennai Super Kings</td><td>bat</td><td>Royal Challengers Bangalore</td><td>Lost</td></tr><tr><td>734020</td><td>Sunrisers Hyderabad</td><td>bat</td><td>Kolkata Knight Riders</td><td>Lost</td></tr><tr><td>734022</td><td>Mumbai Indians</td><td>bat</td><td>Mumbai Indians</td><td>Won</td></tr><tr><td>734024</td><td>Kings XI Punjab</td><td>field</td><td>Kings XI Punjab</td><td>Won</td></tr><tr><td>734026</td><td>Royal Challengers Bangalore</td><td>bat</td><td>Sunrisers Hyderabad</td><td>Lost</td></tr><tr><td>734028</td><td>Kolkata Knight Riders</td><td>field</td><td>Kolkata Knight Riders</td><td>Won</td></tr><tr><td>734030</td><td>Mumbai Indians</td><td>field</td><td>Mumbai Indians</td><td>Won</td></tr><tr><td>734032</td><td>Royal Challengers Bangalore</td><td>field</td><td>Kolkata Knight Riders</td><td>Lost</td></tr><tr><td>734034</td><td>Sunrisers Hyderabad</td><td>field</td><td>Sunrisers Hyderabad</td><td>Won</td></tr><tr><td>734036</td><td>Delhi Daredevils</td><td>field</td><td>Mumbai Indians</td><td>Lost</td></tr><tr><td>734038</td><td>Rajasthan Royals</td><td>field</td><td>Kings XI Punjab</td><td>Lost</td></tr><tr><td>734040</td><td>Chennai Super Kings</td><td>field</td><td>Chennai Super Kings</td><td>Won</td></tr><tr><td>734042</td><td>Kolkata Knight Riders</td><td>field</td><td>Kolkata Knight Riders</td><td>Won</td></tr><tr><td>734044</td><td>Kings XI Punjab</td><td>field</td><td>Kings XI Punjab</td><td>Won</td></tr><tr><td>734046</td><td>Mumbai Indians</td><td>field</td><td>Mumbai Indians</td><td>Won</td></tr><tr><td>734048</td><td>Kings XI Punjab</td><td>field</td><td>Kolkata Knight Riders</td><td>Lost</td></tr><tr><td>734050</td><td>Chennai Super Kings</td><td>field</td><td>Chennai Super Kings</td><td>Won</td></tr><tr><td>734052</td><td>Chennai Super Kings</td><td>field</td><td>Kings XI Punjab</td><td>Lost</td></tr><tr><td>734054</td><td>Kolkata Knight Riders</td><td>field</td><td>Kolkata Knight Riders</td><td>Won</td></tr><tr><td>829710</td><td>Kolkata Knight Riders</td><td>field</td><td>Kolkata Knight Riders</td><td>Won</td></tr><tr><td>829712</td><td>Delhi Daredevils</td><td>field</td><td>Chennai Super Kings</td><td>Lost</td></tr><tr><td>829714</td><td>Kings XI Punjab</td><td>field</td><td>Rajasthan Royals</td><td>Lost</td></tr><tr><td>829716</td><td>Chennai Super Kings</td><td>bat</td><td>Chennai Super Kings</td><td>Won</td></tr><tr><td>829718</td><td>Royal Challengers Bangalore</td><td>field</td><td>Royal Challengers Bangalore</td><td>Won</td></tr><tr><td>829720</td><td>Rajasthan Royals</td><td>field</td><td>Rajasthan Royals</td><td>Won</td></tr><tr><td>829722</td><td>Mumbai Indians</td><td>field</td><td>Kings XI Punjab</td><td>Lost</td></tr><tr><td>829724</td><td>Sunrisers Hyderabad</td><td>field</td><td>Sunrisers Hyderabad</td><td>Won</td></tr><tr><td>829726</td><td>Mumbai Indians</td><td>bat</td><td>Rajasthan Royals</td><td>Lost</td></tr><tr><td>829728</td><td>Kolkata Knight Riders</td><td>field</td><td>Kolkata Knight Riders</td><td>Won</td></tr><tr><td>829730</td><td>Kings XI Punjab</td><td>bat</td><td>Delhi Daredevils</td><td>Lost</td></tr><tr><td>829732</td><td>Rajasthan Royals</td><td>field</td><td>Rajasthan Royals</td><td>Won</td></tr><tr><td>829734</td><td>Mumbai Indians</td><td>bat</td><td>Chennai Super Kings</td><td>Lost</td></tr><tr><td>829736</td><td>Delhi Daredevils</td><td>bat</td><td>Delhi Daredevils</td><td>Won</td></tr><tr><td>829738</td><td>Kolkata Knight Riders</td><td>field</td><td>Kolkata Knight Riders</td><td>Won</td></tr><tr><td>829740</td><td>Chennai Super Kings</td><td>bat</td><td>Rajasthan Royals</td><td>Lost</td></tr><tr><td>829742</td><td>Royal Challengers Bangalore</td><td>field</td><td>Mumbai Indians</td><td>Lost</td></tr><tr><td>829744</td><td>Kolkata Knight Riders</td><td>field</td><td>Kolkata Knight Riders</td><td>Won</td></tr><tr><td>829746</td><td>Kings XI Punjab</td><td>field</td><td>Kings XI Punjab</td><td>Won</td></tr><tr><td>829748</td><td>Kolkata Knight Riders</td><td>field</td><td>Sunrisers Hyderabad</td><td>Lost</td></tr><tr><td>829750</td><td>Royal Challengers Bangalore</td><td>field</td><td>Chennai Super Kings</td><td>Lost</td></tr><tr><td>829752</td><td>Mumbai Indians</td><td>field</td><td>Delhi Daredevils</td><td>Lost</td></tr><tr><td>829754</td><td>Royal Challengers Bangalore</td><td>field</td><td>Royal Challengers Bangalore</td><td>Won</td></tr><tr><td>829756</td><td>Mumbai Indians</td><td>bat</td><td>Mumbai Indians</td><td>Won</td></tr><tr><td>829758</td><td>Chennai Super Kings</td><td>bat</td><td>Chennai Super Kings</td><td>Won</td></tr><tr><td>829762</td><td>Royal Challengers Bangalore</td><td>field</td><td>Royal Challengers Bangalore</td><td>Won</td></tr><tr><td>829764</td><td>Kings XI Punjab</td><td>field</td><td>Sunrisers Hyderabad</td><td>Lost</td></tr><tr><td>829766</td><td>Kolkata Knight Riders</td><td>bat</td><td>Kolkata Knight Riders</td><td>Won</td></tr><tr><td>829768</td><td>Rajasthan Royals</td><td>field</td><td>NULL</td><td>Lost</td></tr><tr><td>829770</td><td>Kolkata Knight Riders</td><td>field</td><td>Chennai Super Kings</td><td>Lost</td></tr><tr><td>829772</td><td>Delhi Daredevils</td><td>field</td><td>Delhi Daredevils</td><td>Won</td></tr><tr><td>829774</td><td>Rajasthan Royals</td><td>field</td><td>Mumbai Indians</td><td>Lost</td></tr><tr><td>829776</td><td>Royal Challengers Bangalore</td><td>field</td><td>Royal Challengers Bangalore</td><td>Won</td></tr><tr><td>829778</td><td>Chennai Super Kings</td><td>field</td><td>Sunrisers Hyderabad</td><td>Lost</td></tr><tr><td>829780</td><td>Mumbai Indians</td><td>bat</td><td>Mumbai Indians</td><td>Won</td></tr><tr><td>829782</td><td>Delhi Daredevils</td><td>field</td><td>Rajasthan Royals</td><td>Lost</td></tr><tr><td>829784</td><td>Chennai Super Kings</td><td>bat</td><td>Chennai Super Kings</td><td>Won</td></tr><tr><td>829786</td><td>Sunrisers Hyderabad</td><td>field</td><td>Kolkata Knight Riders</td><td>Lost</td></tr><tr><td>829788</td><td>Delhi Daredevils</td><td>bat</td><td>Mumbai Indians</td><td>Lost</td></tr><tr><td>829790</td><td>Kings XI Punjab</td><td>field</td><td>Royal Challengers Bangalore</td><td>Lost</td></tr><tr><td>829792</td><td>Rajasthan Royals</td><td>field</td><td>Sunrisers Hyderabad</td><td>Lost</td></tr><tr><td>829794</td><td>Chennai Super Kings</td><td>bat</td><td>Mumbai Indians</td><td>Lost</td></tr><tr><td>829796</td><td>Kings XI Punjab</td><td>bat</td><td>Kolkata Knight Riders</td><td>Lost</td></tr><tr><td>829798</td><td>Sunrisers Hyderabad</td><td>bat</td><td>Sunrisers Hyderabad</td><td>Won</td></tr><tr><td>829800</td><td>Royal Challengers Bangalore</td><td>bat</td><td>Royal Challengers Bangalore</td><td>Won</td></tr><tr><td>829802</td><td>Chennai Super Kings</td><td>bat</td><td>Chennai Super Kings</td><td>Won</td></tr><tr><td>829804</td><td>Sunrisers Hyderabad</td><td>bat</td><td>Sunrisers Hyderabad</td><td>Won</td></tr><tr><td>829806</td><td>Chennai Super Kings</td><td>bat</td><td>Delhi Daredevils</td><td>Lost</td></tr><tr><td>829808</td><td>Royal Challengers Bangalore</td><td>field</td><td>Kings XI Punjab</td><td>Lost</td></tr><tr><td>829810</td><td>Kolkata Knight Riders</td><td>field</td><td>Mumbai Indians</td><td>Lost</td></tr><tr><td>829812</td><td>Sunrisers Hyderabad</td><td>bat</td><td>Royal Challengers Bangalore</td><td>Lost</td></tr><tr><td>829814</td><td>Kings XI Punjab</td><td>bat</td><td>Chennai Super Kings</td><td>Lost</td></tr><tr><td>829816</td><td>Rajasthan Royals</td><td>bat</td><td>Rajasthan Royals</td><td>Won</td></tr><tr><td>829818</td><td>Royal Challengers Bangalore</td><td>field</td><td>NULL</td><td>Lost</td></tr><tr><td>829820</td><td>Sunrisers Hyderabad</td><td>bat</td><td>Mumbai Indians</td><td>Lost</td></tr><tr><td>829822</td><td>Mumbai Indians</td><td>bat</td><td>Mumbai Indians</td><td>Won</td></tr><tr><td>829824</td><td>Royal Challengers Bangalore</td><td>bat</td><td>Royal Challengers Bangalore</td><td>Won</td></tr><tr><td>829826</td><td>Chennai Super Kings</td><td>field</td><td>Chennai Super Kings</td><td>Won</td></tr><tr><td>829828</td><td>Chennai Super Kings</td><td>field</td><td>Mumbai Indians</td><td>Lost</td></tr><tr><td>980906</td><td>Mumbai Indians</td><td>bat</td><td>Rising Pune Supergiants</td><td>Lost</td></tr><tr><td>980908</td><td>Kolkata Knight Riders</td><td>field</td><td>Kolkata Knight Riders</td><td>Won</td></tr><tr><td>980910</td><td>Gujarat Lions</td><td>field</td><td>Gujarat Lions</td><td>Won</td></tr><tr><td>980912</td><td>Sunrisers Hyderabad</td><td>field</td><td>Royal Challengers Bangalore</td><td>Lost</td></tr><tr><td>980914</td><td>Mumbai Indians</td><td>field</td><td>Mumbai Indians</td><td>Won</td></tr><tr><td>980916</td><td>Rising Pune Supergiants</td><td>bat</td><td>Gujarat Lions</td><td>Lost</td></tr><tr><td>980918</td><td>Delhi Daredevils</td><td>field</td><td>Delhi Daredevils</td><td>Won</td></tr><tr><td>980920</td><td>Sunrisers Hyderabad</td><td>bat</td><td>Kolkata Knight Riders</td><td>Lost</td></tr><tr><td>980922</td><td>Gujarat Lions</td><td>field</td><td>Gujarat Lions</td><td>Won</td></tr><tr><td>980924</td><td>Rising Pune Supergiants</td><td>bat</td><td>Kings XI Punjab</td><td>Lost</td></tr><tr><td>980926</td><td>Delhi Daredevils</td><td>field</td><td>Delhi Daredevils</td><td>Won</td></tr><tr><td>980928</td><td>Sunrisers Hyderabad</td><td>field</td><td>Sunrisers Hyderabad</td><td>Won</td></tr><tr><td>980930</td><td>Kolkata Knight Riders</td><td>field</td><td>Kolkata Knight Riders</td><td>Won</td></tr><tr><td>980932</td><td>Mumbai Indians</td><td>field</td><td>Mumbai Indians</td><td>Won</td></tr><tr><td>980934</td><td>Sunrisers Hyderabad</td><td>field</td><td>Sunrisers Hyderabad</td><td>Won</td></tr><tr><td>980936</td><td>Rising Pune Supergiants</td><td>field</td><td>Royal Challengers Bangalore</td><td>Lost</td></tr><tr><td>980938</td><td>Mumbai Indians</td><td>field</td><td>Delhi Daredevils</td><td>Lost</td></tr><tr><td>980940</td><td>Sunrisers Hyderabad</td><td>field</td><td>Sunrisers Hyderabad</td><td>Won</td></tr><tr><td>980942</td><td>Royal Challengers Bangalore</td><td>bat</td><td>Gujarat Lions</td><td>Lost</td></tr><tr><td>980944</td><td>Kolkata Knight Riders</td><td>field</td><td>Kolkata Knight Riders</td><td>Won</td></tr><tr><td>980946</td><td>Kings XI Punjab</td><td>field</td><td>Mumbai Indians</td><td>Lost</td></tr><tr><td>980948</td><td>Rising Pune Supergiants</td><td>field</td><td>Rising Pune Supergiants</td><td>Won</td></tr><tr><td>980950</td><td>Delhi Daredevils</td><td>field</td><td>Gujarat Lions</td><td>Lost</td></tr><tr><td>980952</td><td>Mumbai Indians</td><td>field</td><td>Mumbai Indians</td><td>Won</td></tr><tr><td>980954</td><td>Gujarat Lions</td><td>field</td><td>Gujarat Lions</td><td>Won</td></tr><tr><td>980956</td><td>Kolkata Knight Riders</td><td>field</td><td>Delhi Daredevils</td><td>Lost</td></tr><tr><td>980958</td><td>Royal Challengers Bangalore</td><td>field</td><td>Sunrisers Hyderabad</td><td>Lost</td></tr><tr><td>980960</td><td>Gujarat Lions</td><td>field</td><td>Kings XI Punjab</td><td>Lost</td></tr><tr><td>980962</td><td>Mumbai Indians</td><td>field</td><td>Mumbai Indians</td><td>Won</td></tr><tr><td>980964</td><td>Kolkata Knight Riders</td><td>field</td><td>Kolkata Knight Riders</td><td>Won</td></tr><tr><td>980966</td><td>Delhi Daredevils</td><td>field</td><td>Delhi Daredevils</td><td>Won</td></tr><tr><td>980968</td><td>Kings XI Punjab</td><td>field</td><td>Kolkata Knight Riders</td><td>Lost</td></tr><tr><td>980970</td><td>Rising Pune Supergiants</td><td>field</td><td>Rising Pune Supergiants</td><td>Won</td></tr><tr><td>980972</td><td>Sunrisers Hyderabad</td><td>field</td><td>Sunrisers Hyderabad</td><td>Won</td></tr><tr><td>980974</td><td>Royal Challengers Bangalore</td><td>field</td><td>Royal Challengers Bangalore</td><td>Won</td></tr><tr><td>980976</td><td>Delhi Daredevils</td><td>field</td><td>Kings XI Punjab</td><td>Lost</td></tr><tr><td>980978</td><td>Mumbai Indians</td><td>field</td><td>Sunrisers Hyderabad</td><td>Lost</td></tr><tr><td>980980</td><td>Gujarat Lions</td><td>field</td><td>Gujarat Lions</td><td>Won</td></tr><tr><td>980982</td><td>Kings XI Punjab</td><td>field</td><td>Royal Challengers Bangalore</td><td>Lost</td></tr><tr><td>980984</td><td>Sunrisers Hyderabad</td><td>bat</td><td>Sunrisers Hyderabad</td><td>Won</td></tr><tr><td>980986</td><td>Mumbai Indians</td><td>field</td><td>Mumbai Indians</td><td>Won</td></tr><tr><td>980988</td><td>Delhi Daredevils</td><td>field</td><td>Delhi Daredevils</td><td>Won</td></tr><tr><td>980990</td><td>Mumbai Indians</td><td>bat</td><td>Kings XI Punjab</td><td>Lost</td></tr><tr><td>980992</td><td>Gujarat Lions</td><td>field</td><td>Royal Challengers Bangalore</td><td>Lost</td></tr><tr><td>980994</td><td>Rising Pune Supergiants</td><td>bat</td><td>Kolkata Knight Riders</td><td>Lost</td></tr><tr><td>980996</td><td>Kings XI Punjab</td><td>bat</td><td>Sunrisers Hyderabad</td><td>Lost</td></tr><tr><td>980998</td><td>Delhi Daredevils</td><td>field</td><td>Mumbai Indians</td><td>Lost</td></tr><tr><td>981000</td><td>Royal Challengers Bangalore</td><td>field</td><td>Royal Challengers Bangalore</td><td>Won</td></tr><tr><td>981002</td><td>Rising Pune Supergiants</td><td>field</td><td>Rising Pune Supergiants</td><td>Won</td></tr><tr><td>981004</td><td>Kings XI Punjab</td><td>field</td><td>Royal Challengers Bangalore</td><td>Lost</td></tr><tr><td>981006</td><td>Gujarat Lions</td><td>field</td><td>Gujarat Lions</td><td>Won</td></tr><tr><td>981008</td><td>Delhi Daredevils</td><td>field</td><td>Delhi Daredevils</td><td>Won</td></tr><tr><td>981010</td><td>Kings XI Punjab</td><td>bat</td><td>Rising Pune Supergiants</td><td>Lost</td></tr><tr><td>981012</td><td>Gujarat Lions</td><td>field</td><td>Gujarat Lions</td><td>Won</td></tr><tr><td>981014</td><td>Sunrisers Hyderabad</td><td>field</td><td>Kolkata Knight Riders</td><td>Lost</td></tr><tr><td>981016</td><td>Royal Challengers Bangalore</td><td>field</td><td>Royal Challengers Bangalore</td><td>Won</td></tr><tr><td>981018</td><td>Royal Challengers Bangalore</td><td>field</td><td>Royal Challengers Bangalore</td><td>Won</td></tr><tr><td>981020</td><td>Kolkata Knight Riders</td><td>field</td><td>Sunrisers Hyderabad</td><td>Lost</td></tr><tr><td>981022</td><td>Sunrisers Hyderabad</td><td>field</td><td>Sunrisers Hyderabad</td><td>Won</td></tr><tr><td>981024</td><td>Sunrisers Hyderabad</td><td>bat</td><td>Sunrisers Hyderabad</td><td>Won</td></tr><tr><td>1082591</td><td>Royal Challengers Bangalore</td><td>Field</td><td>Sunrisers Hyderabad</td><td>Lost</td></tr><tr><td>1082592</td><td>Rising Pune Supergiant</td><td>Field</td><td>Rising Pune Supergiants</td><td>Lost</td></tr><tr><td>1082593</td><td>Kolkata Knight Riders</td><td>Field</td><td>Kolkata Knight Riders</td><td>Won</td></tr><tr><td>1082594</td><td>Kings XI Punjab</td><td>Field</td><td>Kings XI Punjab</td><td>Won</td></tr><tr><td>1082595</td><td>Royal Challengers Bangalore</td><td>Bat</td><td>Royal Challengers Bangalore</td><td>Won</td></tr><tr><td>1082596</td><td>Sunrisers Hyderabad</td><td>Field</td><td>Sunrisers Hyderabad</td><td>Won</td></tr><tr><td>1082597</td><td>Mumbai Indians</td><td>Field</td><td>Mumbai Indians</td><td>Won</td></tr><tr><td>1082598</td><td>Royal Challengers Bangalore</td><td>Bat</td><td>Kings XI Punjab</td><td>Lost</td></tr><tr><td>1082599</td><td>Rising Pune Supergiants</td><td>Field</td><td>Delhi Daredevils</td><td>Lost</td></tr><tr><td>1082600</td><td>Mumbai Indians</td><td>Field</td><td>Mumbai Indians</td><td>Won</td></tr><tr><td>1082601</td><td>Kolkata Knight Riders</td><td>Field</td><td>Kolkata Knight Riders</td><td>Won</td></tr><tr><td>1082602</td><td>Mumbai Indians</td><td>Field</td><td>Mumbai Indians</td><td>Won</td></tr><tr><td>1082603</td><td>Gujarat Lions</td><td>Field</td><td>Gujarat Lions</td><td>Won</td></tr><tr><td>1082604</td><td>Sunrisers Hyderabad</td><td>Field</td><td>Kolkata Knight Riders</td><td>Lost</td></tr><tr><td>1082605</td><td>Delhi Daredevils</td><td>Bat</td><td>Delhi Daredevils</td><td>Won</td></tr><tr><td>1082606</td><td>Mumbai Indians</td><td>Field</td><td>Mumbai Indians</td><td>Won</td></tr><tr><td>1082607</td><td>Royal Challengers Bangalore</td><td>Field</td><td>Rising Pune Supergiants</td><td>Lost</td></tr><tr><td>1082608</td><td>Delhi Daredevils</td><td>Bat</td><td>Kolkata Knight Riders</td><td>Lost</td></tr><tr><td>1082609</td><td>Kings XI Punjab</td><td>Field</td><td>Sunrisers Hyderabad</td><td>Lost</td></tr><tr><td>1082610</td><td>Gujarat Lions</td><td>Field</td><td>Royal Challengers Bangalore</td><td>Lost</td></tr><tr><td>1082611</td><td>Sunrisers Hyderabad</td><td>Bat</td><td>Sunrisers Hyderabad</td><td>Won</td></tr><tr><td>1082612</td><td>Mumbai Indians</td><td>Field</td><td>Mumbai Indians</td><td>Won</td></tr><tr><td>1082613</td><td>Gujarat Lions</td><td>Field</td><td>Gujarat Lions</td><td>Won</td></tr><tr><td>1082614</td><td>Delhi Daredevils</td><td>Field</td><td>Mumbai Indians</td><td>Lost</td></tr><tr><td>1082615</td><td>Rising Pune Supergiants</td><td>Field</td><td>Rising Pune Supergiants</td><td>Won</td></tr><tr><td>1082616</td><td>Gujarat Lions</td><td>Field</td><td>Kings XI Punjab</td><td>Lost</td></tr><tr><td>1082617</td><td>Royal Challengers Bangalore</td><td>Field</td><td>Kolkata Knight Riders</td><td>Lost</td></tr><tr><td>1082618</td><td>Mumbai Indians</td><td>Field</td><td>Rising Pune Supergiants</td><td>Lost</td></tr><tr><td>1082619</td><td>null</td><td>NA</td><td>abandoned</td><td>Lost</td></tr><tr><td>1082620</td><td>Kolkata Knight Riders</td><td>Field</td><td>Kolkata Knight Riders</td><td>Won</td></tr><tr><td>1082621</td><td>Gujarat Lions</td><td>Field</td><td>Gujarat Lions</td><td>Won</td></tr><tr><td>1082622</td><td>Kolkata Knight Riders</td><td>Field</td><td>Kolkata Knight Riders</td><td>Won</td></tr><tr><td>1082623</td><td>Kings XI Punjab</td><td>Field</td><td>Sunrisers Hyderabad</td><td>Lost</td></tr><tr><td>1082624</td><td>Royal Challengers Bangalore</td><td>Field</td><td>Rising Pune Supergiants</td><td>Lost</td></tr><tr><td>1082625</td><td>Gujarat Lions</td><td>Bat</td><td>tied</td><td>Lost</td></tr><tr><td>1082626</td><td>Kings XI Punjab</td><td>Field</td><td>Kings XI Punjab</td><td>Won</td></tr><tr><td>1082627</td><td>Kolkata Knight Riders</td><td>Field</td><td>Sunrisers Hyderabad</td><td>Lost</td></tr><tr><td>1082628</td><td>Royal Challengers Bangalore</td><td>Bat</td><td>Mumbai Indians</td><td>Lost</td></tr><tr><td>1082629</td><td>Rising Pune Supergiants</td><td>Field</td><td>Rising Pune Supergiants</td><td>Won</td></tr><tr><td>1082630</td><td>Delhi Daredevils</td><td>Field</td><td>Delhi Daredevils</td><td>Won</td></tr><tr><td>1082631</td><td>Rising Pune Supergiants</td><td>Field</td><td>Rising Pune Supergiants</td><td>Won</td></tr><tr><td>1082632</td><td>Delhi Daredevils</td><td>Field</td><td>Delhi Daredevils</td><td>Won</td></tr><tr><td>1082633</td><td>Royal Challengers Bangalore</td><td>Field</td><td>Kings XI Punjab</td><td>Lost</td></tr><tr><td>1082634</td><td>Sunrisers Hyderabad</td><td>Field</td><td>Rising Pune Supergiants</td><td>Lost</td></tr><tr><td>1082635</td><td>Delhi Daredevils</td><td>Field</td><td>Mumbai Indians</td><td>Lost</td></tr><tr><td>1082636</td><td>Kolkata Knight Riders</td><td>Field</td><td>Kolkata Knight Riders</td><td>Won</td></tr><tr><td>1082637</td><td>Gujarat Lions</td><td>Field</td><td>Gujarat Lions</td><td>Won</td></tr><tr><td>1082638</td><td>Mumbai Indians</td><td>Bat</td><td>Sunrisers Hyderabad</td><td>Lost</td></tr><tr><td>1082639</td><td>Kolkata Knight Riders</td><td>Field</td><td>Kings XI Punjab</td><td>Lost</td></tr><tr><td>1082640</td><td>Delhi Daredevils</td><td>Field</td><td>Delhi Daredevils</td><td>Won</td></tr><tr><td>1082641</td><td>Mumbai Indians</td><td>Field</td><td>Kings XI Punjab</td><td>Lost</td></tr><tr><td>1082642</td><td>Delhi Daredevils</td><td>Bat</td><td>Delhi Daredevils</td><td>Won</td></tr><tr><td>1082643</td><td>Sunrisers Hyderabad</td><td>Field</td><td>Sunrisers Hyderabad</td><td>Won</td></tr><tr><td>1082644</td><td>Kolkata Knight Riders</td><td>Field</td><td>Mumbai Indians</td><td>Lost</td></tr><tr><td>1082645</td><td>Rising Pune Supergiants</td><td>Field</td><td>Rising Pune Supergiants</td><td>Won</td></tr><tr><td>1082646</td><td>Royal Challengers Bangalore</td><td>Bat</td><td>Royal Challengers Bangalore</td><td>Won</td></tr><tr><td>1082647</td><td>Mumbai Indians</td><td>Field</td><td>Rising Pune Supergiants</td><td>Lost</td></tr><tr><td>1082648</td><td>Kolkata Knight Riders</td><td>Field</td><td>Kolkata Knight Riders</td><td>Won</td></tr><tr><td>1082649</td><td>Mumbai Indians</td><td>Field</td><td>Mumbai Indians</td><td>Won</td></tr><tr><td>1082650</td><td>Mumbai Indians</td><td>Bat</td><td>Mumbai Indians</td><td>Won</td></tr></tbody></table></div>"
      ]
     },
     "metadata": {
      "application/vnd.databricks.v1+output": {
       "addedWidgets": {},
       "aggData": [],
       "aggError": "",
       "aggOverflow": false,
       "aggSchema": [],
       "aggSeriesLimitReached": false,
       "aggType": "",
       "arguments": {},
       "columnCustomDisplayInfos": {},
       "data": [
        [
         335987,
         "Royal Challengers Bangalore",
         "field",
         "Kolkata Knight Riders",
         "Lost"
        ],
        [
         335988,
         "Chennai Super Kings",
         "bat",
         "Chennai Super Kings",
         "Won"
        ],
        [
         335989,
         "Rajasthan Royals",
         "bat",
         "Delhi Daredevils",
         "Lost"
        ],
        [
         335990,
         "Mumbai Indians",
         "bat",
         "Royal Challengers Bangalore",
         "Lost"
        ],
        [
         335991,
         "Deccan Chargers",
         "bat",
         "Kolkata Knight Riders",
         "Lost"
        ],
        [
         335992,
         "Kings XI Punjab",
         "bat",
         "Rajasthan Royals",
         "Lost"
        ],
        [
         335993,
         "Deccan Chargers",
         "bat",
         "Delhi Daredevils",
         "Lost"
        ],
        [
         335994,
         "Mumbai Indians",
         "field",
         "Chennai Super Kings",
         "Lost"
        ],
        [
         335995,
         "Rajasthan Royals",
         "field",
         "Rajasthan Royals",
         "Won"
        ],
        [
         335996,
         "Mumbai Indians",
         "field",
         "Kings XI Punjab",
         "Lost"
        ],
        [
         335997,
         "Rajasthan Royals",
         "field",
         "Rajasthan Royals",
         "Won"
        ],
        [
         335998,
         "Kolkata Knight Riders",
         "bat",
         "Chennai Super Kings",
         "Lost"
        ],
        [
         335999,
         "Deccan Chargers",
         "field",
         "Deccan Chargers",
         "Won"
        ],
        [
         336000,
         "Delhi Daredevils",
         "bat",
         "Kings XI Punjab",
         "Lost"
        ],
        [
         336001,
         "Chennai Super Kings",
         "bat",
         "Chennai Super Kings",
         "Won"
        ],
        [
         336002,
         "Kolkata Knight Riders",
         "bat",
         "Mumbai Indians",
         "Lost"
        ],
        [
         336003,
         "Royal Challengers Bangalore",
         "field",
         "Delhi Daredevils",
         "Lost"
        ],
        [
         336004,
         "Kings XI Punjab",
         "field",
         "Kings XI Punjab",
         "Won"
        ],
        [
         336005,
         "Rajasthan Royals",
         "bat",
         "Rajasthan Royals",
         "Won"
        ],
        [
         336006,
         "Chennai Super Kings",
         "bat",
         "Delhi Daredevils",
         "Lost"
        ],
        [
         336007,
         "Deccan Chargers",
         "bat",
         "Royal Challengers Bangalore",
         "Lost"
        ],
        [
         336008,
         "Kings XI Punjab",
         "bat",
         "Kings XI Punjab",
         "Won"
        ],
        [
         336009,
         "Delhi Daredevils",
         "field",
         "Mumbai Indians",
         "Lost"
        ],
        [
         336010,
         "Chennai Super Kings",
         "bat",
         "Rajasthan Royals",
         "Lost"
        ],
        [
         336011,
         "Kings XI Punjab",
         "field",
         "Kings XI Punjab",
         "Won"
        ],
        [
         336012,
         "Deccan Chargers",
         "field",
         "Deccan Chargers",
         "Won"
        ],
        [
         336013,
         "Mumbai Indians",
         "field",
         "Mumbai Indians",
         "Won"
        ],
        [
         336014,
         "Chennai Super Kings",
         "field",
         "Chennai Super Kings",
         "Won"
        ],
        [
         336015,
         "Kolkata Knight Riders",
         "bat",
         "Kolkata Knight Riders",
         "Won"
        ],
        [
         336016,
         "Rajasthan Royals",
         "field",
         "Rajasthan Royals",
         "Won"
        ],
        [
         336017,
         "Mumbai Indians",
         "field",
         "Mumbai Indians",
         "Won"
        ],
        [
         336018,
         "Kings XI Punjab",
         "field",
         "Chennai Super Kings",
         "Lost"
        ],
        [
         336019,
         "Kolkata Knight Riders",
         "bat",
         "Kolkata Knight Riders",
         "Won"
        ],
        [
         336020,
         "Rajasthan Royals",
         "field",
         "Rajasthan Royals",
         "Won"
        ],
        [
         336021,
         "Royal Challengers Bangalore",
         "bat",
         "Kings XI Punjab",
         "Lost"
        ],
        [
         336022,
         "Kolkata Knight Riders",
         "bat",
         "Kolkata Knight Riders",
         "Won"
        ],
        [
         336023,
         "Mumbai Indians",
         "field",
         "Mumbai Indians",
         "Won"
        ],
        [
         336024,
         "Rajasthan Royals",
         "field",
         "Kings XI Punjab",
         "Lost"
        ],
        [
         336025,
         "Deccan Chargers",
         "field",
         "Delhi Daredevils",
         "Lost"
        ],
        [
         336026,
         "Mumbai Indians",
         "field",
         "Mumbai Indians",
         "Won"
        ],
        [
         336027,
         "Delhi Daredevils",
         "bat",
         "Kings XI Punjab",
         "Lost"
        ],
        [
         336028,
         "Royal Challengers Bangalore",
         "field",
         "Rajasthan Royals",
         "Lost"
        ],
        [
         336029,
         "Deccan Chargers",
         "field",
         "Mumbai Indians",
         "Lost"
        ],
        [
         336030,
         "Kolkata Knight Riders",
         "bat",
         "Chennai Super Kings",
         "Lost"
        ],
        [
         336031,
         "Delhi Daredevils",
         "field",
         "Delhi Daredevils",
         "Won"
        ],
        [
         336032,
         "Rajasthan Royals",
         "field",
         "Rajasthan Royals",
         "Won"
        ],
        [
         336033,
         "Mumbai Indians",
         "field",
         "Kings XI Punjab",
         "Lost"
        ],
        [
         336034,
         "Royal Challengers Bangalore",
         "bat",
         "Royal Challengers Bangalore",
         "Won"
        ],
        [
         336036,
         "Kings XI Punjab",
         "field",
         "Kings XI Punjab",
         "Won"
        ],
        [
         336037,
         "Delhi Daredevils",
         "field",
         "Delhi Daredevils",
         "Won"
        ],
        [
         336038,
         "Rajasthan Royals",
         "bat",
         "Rajasthan Royals",
         "Won"
        ],
        [
         336039,
         "Deccan Chargers",
         "field",
         "Royal Challengers Bangalore",
         "Lost"
        ],
        [
         336040,
         "Kings XI Punjab",
         "bat",
         "Kolkata Knight Riders",
         "Lost"
        ],
        [
         336041,
         "Rajasthan Royals",
         "field",
         "Rajasthan Royals",
         "Won"
        ],
        [
         336042,
         "Deccan Chargers",
         "bat",
         "Chennai Super Kings",
         "Lost"
        ],
        [
         336043,
         "Delhi Daredevils",
         "field",
         "Rajasthan Royals",
         "Lost"
        ],
        [
         336044,
         "Kings XI Punjab",
         "bat",
         "Chennai Super Kings",
         "Lost"
        ],
        [
         336045,
         "Rajasthan Royals",
         "field",
         "Rajasthan Royals",
         "Won"
        ],
        [
         392186,
         "Chennai Super Kings",
         "field",
         "Mumbai Indians",
         "Lost"
        ],
        [
         392187,
         "Royal Challengers Bangalore",
         "bat",
         "Royal Challengers Bangalore",
         "Won"
        ],
        [
         392188,
         "Delhi Daredevils",
         "field",
         "Delhi Daredevils",
         "Won"
        ],
        [
         392189,
         "Kolkata Knight Riders",
         "bat",
         "Deccan Chargers",
         "Lost"
        ],
        [
         392190,
         "Chennai Super Kings",
         "bat",
         "Chennai Super Kings",
         "Won"
        ],
        [
         392191,
         "Kolkata Knight Riders",
         "field",
         "Kolkata Knight Riders",
         "Won"
        ],
        [
         392193,
         "Deccan Chargers",
         "bat",
         "Deccan Chargers",
         "Won"
        ],
        [
         392194,
         "Delhi Daredevils",
         "bat",
         "Delhi Daredevils",
         "Won"
        ],
        [
         392195,
         "Kolkata Knight Riders",
         "field",
         "Rajasthan Royals",
         "Lost"
        ],
        [
         392196,
         "Royal Challengers Bangalore",
         "bat",
         "Kings XI Punjab",
         "Lost"
        ],
        [
         392197,
         "Deccan Chargers",
         "bat",
         "Deccan Chargers",
         "Won"
        ],
        [
         392199,
         "Royal Challengers Bangalore",
         "bat",
         "Delhi Daredevils",
         "Lost"
        ],
        [
         392200,
         "Kings XI Punjab",
         "bat",
         "Kings XI Punjab",
         "Won"
        ],
        [
         392201,
         "Deccan Chargers",
         "field",
         "Deccan Chargers",
         "Won"
        ],
        [
         392202,
         "Mumbai Indians",
         "bat",
         "Mumbai Indians",
         "Won"
        ],
        [
         392203,
         "Delhi Daredevils",
         "bat",
         "Rajasthan Royals",
         "Lost"
        ],
        [
         392204,
         "Kolkata Knight Riders",
         "bat",
         "Royal Challengers Bangalore",
         "Lost"
        ],
        [
         392205,
         "Kings XI Punjab",
         "bat",
         "Kings XI Punjab",
         "Won"
        ],
        [
         392206,
         "Delhi Daredevils",
         "field",
         "Delhi Daredevils",
         "Won"
        ],
        [
         392207,
         "Rajasthan Royals",
         "field",
         "Chennai Super Kings",
         "Lost"
        ],
        [
         392208,
         "Mumbai Indians",
         "bat",
         "Mumbai Indians",
         "Won"
        ],
        [
         392209,
         "Royal Challengers Bangalore",
         "bat",
         "Royal Challengers Bangalore",
         "Won"
        ],
        [
         392210,
         "Deccan Chargers",
         "bat",
         "Rajasthan Royals",
         "Lost"
        ],
        [
         392211,
         "Delhi Daredevils",
         "field",
         "Chennai Super Kings",
         "Lost"
        ],
        [
         392212,
         "Kolkata Knight Riders",
         "bat",
         "Kings XI Punjab",
         "Lost"
        ],
        [
         392213,
         "Mumbai Indians",
         "bat",
         "Royal Challengers Bangalore",
         "Lost"
        ],
        [
         392214,
         "Chennai Super Kings",
         "bat",
         "Chennai Super Kings",
         "Won"
        ],
        [
         392215,
         "Kings XI Punjab",
         "field",
         "Rajasthan Royals",
         "Lost"
        ],
        [
         392216,
         "Kolkata Knight Riders",
         "bat",
         "Delhi Daredevils",
         "Lost"
        ],
        [
         392217,
         "Deccan Chargers",
         "bat",
         "Deccan Chargers",
         "Won"
        ],
        [
         392218,
         "Rajasthan Royals",
         "field",
         "Rajasthan Royals",
         "Won"
        ],
        [
         392219,
         "Chennai Super Kings",
         "bat",
         "Chennai Super Kings",
         "Won"
        ],
        [
         392220,
         "Mumbai Indians",
         "bat",
         "Delhi Daredevils",
         "Lost"
        ],
        [
         392221,
         "Kings XI Punjab",
         "field",
         "Kings XI Punjab",
         "Won"
        ],
        [
         392222,
         "Rajasthan Royals",
         "bat",
         "Chennai Super Kings",
         "Lost"
        ],
        [
         392223,
         "Mumbai Indians",
         "bat",
         "Mumbai Indians",
         "Won"
        ],
        [
         392224,
         "Delhi Daredevils",
         "field",
         "Delhi Daredevils",
         "Won"
        ],
        [
         392225,
         "Deccan Chargers",
         "bat",
         "Deccan Chargers",
         "Won"
        ],
        [
         392226,
         "Royal Challengers Bangalore",
         "field",
         "Royal Challengers Bangalore",
         "Won"
        ],
        [
         392227,
         "Kings XI Punjab",
         "bat",
         "Mumbai Indians",
         "Lost"
        ],
        [
         392228,
         "Deccan Chargers",
         "field",
         "Delhi Daredevils",
         "Lost"
        ],
        [
         392229,
         "Chennai Super Kings",
         "bat",
         "Royal Challengers Bangalore",
         "Lost"
        ],
        [
         392230,
         "Rajasthan Royals",
         "bat",
         "Rajasthan Royals",
         "Won"
        ],
        [
         392231,
         "Kings XI Punjab",
         "field",
         "Kings XI Punjab",
         "Won"
        ],
        [
         392232,
         "Mumbai Indians",
         "bat",
         "Chennai Super Kings",
         "Lost"
        ],
        [
         392233,
         "Deccan Chargers",
         "field",
         "Deccan Chargers",
         "Won"
        ],
        [
         392234,
         "Deccan Chargers",
         "field",
         "Kings XI Punjab",
         "Lost"
        ],
        [
         392235,
         "Delhi Daredevils",
         "bat",
         "Delhi Daredevils",
         "Won"
        ],
        [
         392236,
         "Chennai Super Kings",
         "bat",
         "Kolkata Knight Riders",
         "Lost"
        ],
        [
         392237,
         "Delhi Daredevils",
         "bat",
         "Royal Challengers Bangalore",
         "Lost"
        ],
        [
         392238,
         "Kolkata Knight Riders",
         "field",
         "Kolkata Knight Riders",
         "Won"
        ],
        [
         392239,
         "Chennai Super Kings",
         "bat",
         "Chennai Super Kings",
         "Won"
        ],
        [
         392240,
         "Delhi Daredevils",
         "field",
         "Delhi Daredevils",
         "Won"
        ],
        [
         392241,
         "Royal Challengers Bangalore",
         "bat",
         "Royal Challengers Bangalore",
         "Won"
        ],
        [
         392242,
         "Deccan Chargers",
         "field",
         "Deccan Chargers",
         "Won"
        ],
        [
         392243,
         "Royal Challengers Bangalore",
         "field",
         "Royal Challengers Bangalore",
         "Won"
        ],
        [
         392244,
         "Royal Challengers Bangalore",
         "field",
         "Deccan Chargers",
         "Lost"
        ],
        [
         419111,
         "Deccan Chargers",
         "field",
         "Kolkata Knight Riders",
         "Lost"
        ],
        [
         419112,
         "Mumbai Indians",
         "bat",
         "Mumbai Indians",
         "Won"
        ],
        [
         419113,
         "Delhi Daredevils",
         "field",
         "Delhi Daredevils",
         "Won"
        ],
        [
         419114,
         "Kolkata Knight Riders",
         "field",
         "Kolkata Knight Riders",
         "Won"
        ],
        [
         419115,
         "Deccan Chargers",
         "bat",
         "Deccan Chargers",
         "Won"
        ],
        [
         419116,
         "Delhi Daredevils",
         "field",
         "Delhi Daredevils",
         "Won"
        ],
        [
         419117,
         "Kings XI Punjab",
         "bat",
         "Royal Challengers Bangalore",
         "Lost"
        ],
        [
         419118,
         "Chennai Super Kings",
         "bat",
         "Chennai Super Kings",
         "Won"
        ],
        [
         419119,
         "Delhi Daredevils",
         "field",
         "Mumbai Indians",
         "Lost"
        ],
        [
         419120,
         "Royal Challengers Bangalore",
         "field",
         "Royal Challengers Bangalore",
         "Won"
        ],
        [
         419121,
         "Delhi Daredevils",
         "bat",
         "Chennai Super Kings",
         "Lost"
        ],
        [
         419122,
         "Kings XI Punjab",
         "field",
         "Deccan Chargers",
         "Lost"
        ],
        [
         419123,
         "Rajasthan Royals",
         "bat",
         "Rajasthan Royals",
         "Won"
        ],
        [
         419124,
         "Mumbai Indians",
         "bat",
         "Royal Challengers Bangalore",
         "Lost"
        ],
        [
         419125,
         "Deccan Chargers",
         "bat",
         "Deccan Chargers",
         "Won"
        ],
        [
         419126,
         "Chennai Super Kings",
         "field",
         "Kings XI Punjab",
         "Lost"
        ],
        [
         419127,
         "Kolkata Knight Riders",
         "bat",
         "Mumbai Indians",
         "Lost"
        ],
        [
         419128,
         "Chennai Super Kings",
         "field",
         "Royal Challengers Bangalore",
         "Lost"
        ],
        [
         419129,
         "Kings XI Punjab",
         "field",
         "Rajasthan Royals",
         "Lost"
        ],
        [
         419130,
         "Mumbai Indians",
         "field",
         "Mumbai Indians",
         "Won"
        ],
        [
         419131,
         "Deccan Chargers",
         "bat",
         "Rajasthan Royals",
         "Lost"
        ],
        [
         419132,
         "Kolkata Knight Riders",
         "bat",
         "Kolkata Knight Riders",
         "Won"
        ],
        [
         419133,
         "Royal Challengers Bangalore",
         "field",
         "Delhi Daredevils",
         "Lost"
        ],
        [
         419134,
         "Rajasthan Royals",
         "bat",
         "Rajasthan Royals",
         "Won"
        ],
        [
         419135,
         "Deccan Chargers",
         "field",
         "Mumbai Indians",
         "Lost"
        ],
        [
         419136,
         "Delhi Daredevils",
         "bat",
         "Delhi Daredevils",
         "Won"
        ],
        [
         419137,
         "Mumbai Indians",
         "field",
         "Mumbai Indians",
         "Won"
        ],
        [
         419138,
         "Royal Challengers Bangalore",
         "bat",
         "Chennai Super Kings",
         "Lost"
        ],
        [
         419139,
         "Delhi Daredevils",
         "bat",
         "Delhi Daredevils",
         "Won"
        ],
        [
         419140,
         "Kolkata Knight Riders",
         "bat",
         "Kolkata Knight Riders",
         "Won"
        ],
        [
         419141,
         "Kings XI Punjab",
         "bat",
         "Royal Challengers Bangalore",
         "Lost"
        ],
        [
         419142,
         "Chennai Super Kings",
         "bat",
         "Chennai Super Kings",
         "Won"
        ],
        [
         419143,
         "Mumbai Indians",
         "bat",
         "Mumbai Indians",
         "Won"
        ],
        [
         419144,
         "Kolkata Knight Riders",
         "bat",
         "Kings XI Punjab",
         "Lost"
        ],
        [
         419145,
         "Delhi Daredevils",
         "bat",
         "Delhi Daredevils",
         "Won"
        ],
        [
         419146,
         "Rajasthan Royals",
         "bat",
         "Rajasthan Royals",
         "Won"
        ],
        [
         419147,
         "Chennai Super Kings",
         "bat",
         "Chennai Super Kings",
         "Won"
        ],
        [
         419148,
         "Kings XI Punjab",
         "bat",
         "Rajasthan Royals",
         "Lost"
        ],
        [
         419149,
         "Kolkata Knight Riders",
         "bat",
         "Kolkata Knight Riders",
         "Won"
        ],
        [
         419150,
         "Deccan Chargers",
         "field",
         "Deccan Chargers",
         "Won"
        ],
        [
         419151,
         "Mumbai Indians",
         "bat",
         "Kings XI Punjab",
         "Lost"
        ],
        [
         419152,
         "Chennai Super Kings",
         "bat",
         "Deccan Chargers",
         "Lost"
        ],
        [
         419153,
         "Royal Challengers Bangalore",
         "field",
         "Royal Challengers Bangalore",
         "Won"
        ],
        [
         419154,
         "Delhi Daredevils",
         "bat",
         "Kings XI Punjab",
         "Lost"
        ],
        [
         419155,
         "Rajasthan Royals",
         "field",
         "Mumbai Indians",
         "Lost"
        ],
        [
         419156,
         "Royal Challengers Bangalore",
         "field",
         "Deccan Chargers",
         "Lost"
        ],
        [
         419157,
         "Mumbai Indians",
         "bat",
         "Mumbai Indians",
         "Won"
        ],
        [
         419158,
         "Kolkata Knight Riders",
         "bat",
         "Chennai Super Kings",
         "Lost"
        ],
        [
         419159,
         "Rajasthan Royals",
         "bat",
         "Royal Challengers Bangalore",
         "Lost"
        ],
        [
         419160,
         "Chennai Super Kings",
         "bat",
         "Delhi Daredevils",
         "Lost"
        ],
        [
         419161,
         "Deccan Chargers",
         "field",
         "Deccan Chargers",
         "Won"
        ],
        [
         419162,
         "Royal Challengers Bangalore",
         "field",
         "Mumbai Indians",
         "Lost"
        ],
        [
         419163,
         "Rajasthan Royals",
         "bat",
         "Kolkata Knight Riders",
         "Lost"
        ],
        [
         419164,
         "Chennai Super Kings",
         "field",
         "Chennai Super Kings",
         "Won"
        ],
        [
         419165,
         "Deccan Chargers",
         "bat",
         "Deccan Chargers",
         "Won"
        ],
        [
         419166,
         "Mumbai Indians",
         "bat",
         "Kolkata Knight Riders",
         "Lost"
        ],
        [
         419167,
         "Mumbai Indians",
         "bat",
         "Mumbai Indians",
         "Won"
        ],
        [
         419168,
         "Chennai Super Kings",
         "bat",
         "Chennai Super Kings",
         "Won"
        ],
        [
         419169,
         "Deccan Chargers",
         "bat",
         "Royal Challengers Bangalore",
         "Lost"
        ],
        [
         419170,
         "Chennai Super Kings",
         "bat",
         "Chennai Super Kings",
         "Won"
        ],
        [
         501203,
         "Chennai Super Kings",
         "bat",
         "Chennai Super Kings",
         "Won"
        ],
        [
         501204,
         "Rajasthan Royals",
         "field",
         "Rajasthan Royals",
         "Won"
        ],
        [
         501205,
         "Kochi Tuskers Kerala",
         "bat",
         "Royal Challengers Bangalore",
         "Lost"
        ],
        [
         501206,
         "Delhi Daredevils",
         "bat",
         "Mumbai Indians",
         "Lost"
        ],
        [
         501207,
         "Kings XI Punjab",
         "bat",
         "Pune Warriors",
         "Lost"
        ],
        [
         501208,
         "Kolkata Knight Riders",
         "bat",
         "Kolkata Knight Riders",
         "Won"
        ],
        [
         501209,
         "Delhi Daredevils",
         "bat",
         "Rajasthan Royals",
         "Lost"
        ],
        [
         501210,
         "Mumbai Indians",
         "field",
         "Mumbai Indians",
         "Won"
        ],
        [
         501211,
         "Kings XI Punjab",
         "field",
         "Kings XI Punjab",
         "Won"
        ],
        [
         501212,
         "Kochi Tuskers Kerala",
         "bat",
         "Pune Warriors",
         "Lost"
        ],
        [
         501213,
         "Royal Challengers Bangalore",
         "field",
         "Deccan Chargers",
         "Lost"
        ],
        [
         501214,
         "Kolkata Knight Riders",
         "field",
         "Kolkata Knight Riders",
         "Won"
        ],
        [
         501215,
         "Kochi Tuskers Kerala",
         "field",
         "Kochi Tuskers Kerala",
         "Won"
        ],
        [
         501216,
         "Chennai Super Kings",
         "bat",
         "Chennai Super Kings",
         "Won"
        ],
        [
         501217,
         "Kings XI Punjab",
         "field",
         "Kings XI Punjab",
         "Won"
        ],
        [
         501218,
         "Delhi Daredevils",
         "field",
         "Delhi Daredevils",
         "Won"
        ],
        [
         501219,
         "Kolkata Knight Riders",
         "field",
         "Kolkata Knight Riders",
         "Won"
        ],
        [
         501220,
         "Kochi Tuskers Kerala",
         "field",
         "Kochi Tuskers Kerala",
         "Won"
        ],
        [
         501221,
         "Deccan Chargers",
         "bat",
         "Deccan Chargers",
         "Won"
        ],
        [
         501223,
         "Pune Warriors",
         "bat",
         "Mumbai Indians",
         "Lost"
        ],
        [
         501224,
         "Kolkata Knight Riders",
         "field",
         "Kochi Tuskers Kerala",
         "Lost"
        ],
        [
         501225,
         "Rajasthan Royals",
         "field",
         "Kings XI Punjab",
         "Lost"
        ],
        [
         501226,
         "Chennai Super Kings",
         "field",
         "Mumbai Indians",
         "Lost"
        ],
        [
         501227,
         "Royal Challengers Bangalore",
         "field",
         "Royal Challengers Bangalore",
         "Won"
        ],
        [
         501228,
         "Kings XI Punjab",
         "field",
         "Delhi Daredevils",
         "Lost"
        ],
        [
         501229,
         "Deccan Chargers",
         "field",
         "Mumbai Indians",
         "Lost"
        ],
        [
         501230,
         "Rajasthan Royals",
         "field",
         "Rajasthan Royals",
         "Won"
        ],
        [
         501231,
         "Pune Warriors",
         "field",
         "Chennai Super Kings",
         "Lost"
        ],
        [
         501232,
         "Royal Challengers Bangalore",
         "field",
         "Royal Challengers Bangalore",
         "Won"
        ],
        [
         501233,
         "Pune Warriors",
         "bat",
         "Chennai Super Kings",
         "Lost"
        ],
        [
         501234,
         "Kochi Tuskers Kerala",
         "field",
         "Deccan Chargers",
         "Lost"
        ],
        [
         501235,
         "Delhi Daredevils",
         "field",
         "Kolkata Knight Riders",
         "Lost"
        ],
        [
         501236,
         "Rajasthan Royals",
         "field",
         "Rajasthan Royals",
         "Won"
        ],
        [
         501237,
         "Pune Warriors",
         "field",
         "Royal Challengers Bangalore",
         "Lost"
        ],
        [
         501238,
         "Delhi Daredevils",
         "bat",
         "Delhi Daredevils",
         "Won"
        ],
        [
         501239,
         "Kolkata Knight Riders",
         "field",
         "Kolkata Knight Riders",
         "Won"
        ],
        [
         501240,
         "Rajasthan Royals",
         "field",
         "Rajasthan Royals",
         "Won"
        ],
        [
         501241,
         "Chennai Super Kings",
         "bat",
         "Chennai Super Kings",
         "Won"
        ],
        [
         501242,
         "Kings XI Punjab",
         "field",
         "Mumbai Indians",
         "Lost"
        ],
        [
         501243,
         "Kochi Tuskers Kerala",
         "field",
         "Kochi Tuskers Kerala",
         "Won"
        ],
        [
         501244,
         "Deccan Chargers",
         "field",
         "Kolkata Knight Riders",
         "Lost"
        ],
        [
         501245,
         "Rajasthan Royals",
         "bat",
         "Chennai Super Kings",
         "Lost"
        ],
        [
         501246,
         "Pune Warriors",
         "field",
         "Mumbai Indians",
         "Lost"
        ],
        [
         501247,
         "Kolkata Knight Riders",
         "field",
         "Kochi Tuskers Kerala",
         "Lost"
        ],
        [
         501248,
         "Delhi Daredevils",
         "field",
         "Delhi Daredevils",
         "Won"
        ],
        [
         501249,
         "Kings XI Punjab",
         "field",
         "Royal Challengers Bangalore",
         "Lost"
        ],
        [
         501250,
         "Chennai Super Kings",
         "bat",
         "Kolkata Knight Riders",
         "Lost"
        ],
        [
         501251,
         "Delhi Daredevils",
         "field",
         "Mumbai Indians",
         "Lost"
        ],
        [
         501252,
         "Kochi Tuskers Kerala",
         "bat",
         "Royal Challengers Bangalore",
         "Lost"
        ],
        [
         501253,
         "Kings XI Punjab",
         "bat",
         "Pune Warriors",
         "Lost"
        ],
        [
         501254,
         "Rajasthan Royals",
         "field",
         "Chennai Super Kings",
         "Lost"
        ],
        [
         501255,
         "Deccan Chargers",
         "bat",
         "Pune Warriors",
         "Lost"
        ],
        [
         501256,
         "Mumbai Indians",
         "field",
         "Kings XI Punjab",
         "Lost"
        ],
        [
         501257,
         "Royal Challengers Bangalore",
         "field",
         "Royal Challengers Bangalore",
         "Won"
        ],
        [
         501258,
         "Chennai Super Kings",
         "bat",
         "Chennai Super Kings",
         "Won"
        ],
        [
         501259,
         "Kings XI Punjab",
         "field",
         "Kings XI Punjab",
         "Won"
        ],
        [
         501260,
         "Royal Challengers Bangalore",
         "field",
         "Royal Challengers Bangalore",
         "Won"
        ],
        [
         501261,
         "Deccan Chargers",
         "bat",
         "Deccan Chargers",
         "Won"
        ],
        [
         501262,
         "Delhi Daredevils",
         "field",
         "Kings XI Punjab",
         "Lost"
        ],
        [
         501263,
         "Kochi Tuskers Kerala",
         "field",
         "Kochi Tuskers Kerala",
         "Won"
        ],
        [
         501264,
         "Deccan Chargers",
         "field",
         "Deccan Chargers",
         "Won"
        ],
        [
         501265,
         "Kings XI Punjab",
         "bat",
         "Kings XI Punjab",
         "Won"
        ],
        [
         501266,
         "Chennai Super Kings",
         "bat",
         "Chennai Super Kings",
         "Won"
        ],
        [
         501267,
         "Kolkata Knight Riders",
         "field",
         "Kolkata Knight Riders",
         "Won"
        ],
        [
         501268,
         "Mumbai Indians",
         "bat",
         "Rajasthan Royals",
         "Lost"
        ],
        [
         501269,
         "Kings XI Punjab",
         "field",
         "Deccan Chargers",
         "Lost"
        ],
        [
         501270,
         "Delhi Daredevils",
         "bat",
         "NULL",
         "Lost"
        ],
        [
         501271,
         "Royal Challengers Bangalore",
         "field",
         "Royal Challengers Bangalore",
         "Won"
        ],
        [
         501272,
         "Mumbai Indians",
         "field",
         "Mumbai Indians",
         "Won"
        ],
        [
         501273,
         "Chennai Super Kings",
         "field",
         "Chennai Super Kings",
         "Won"
        ],
        [
         501274,
         "Mumbai Indians",
         "field",
         "Mumbai Indians",
         "Won"
        ],
        [
         501275,
         "Mumbai Indians",
         "field",
         "Royal Challengers Bangalore",
         "Lost"
        ],
        [
         501276,
         "Chennai Super Kings",
         "bat",
         "Chennai Super Kings",
         "Won"
        ],
        [
         548311,
         "Mumbai Indians",
         "field",
         "Mumbai Indians",
         "Won"
        ],
        [
         548312,
         "Delhi Daredevils",
         "field",
         "Delhi Daredevils",
         "Won"
        ],
        [
         548313,
         "Mumbai Indians",
         "field",
         "Pune Warriors",
         "Lost"
        ],
        [
         548314,
         "Kings XI Punjab",
         "field",
         "Rajasthan Royals",
         "Lost"
        ],
        [
         548315,
         "Delhi Daredevils",
         "field",
         "Royal Challengers Bangalore",
         "Lost"
        ],
        [
         548316,
         "Deccan Chargers",
         "field",
         "Chennai Super Kings",
         "Lost"
        ],
        [
         548317,
         "Kolkata Knight Riders",
         "field",
         "Rajasthan Royals",
         "Lost"
        ],
        [
         548318,
         "Pune Warriors",
         "bat",
         "Pune Warriors",
         "Won"
        ],
        [
         548319,
         "Deccan Chargers",
         "bat",
         "Mumbai Indians",
         "Lost"
        ],
        [
         548320,
         "Royal Challengers Bangalore",
         "field",
         "Kolkata Knight Riders",
         "Lost"
        ],
        [
         548321,
         "Delhi Daredevils",
         "field",
         "Delhi Daredevils",
         "Won"
        ],
        [
         548322,
         "Rajasthan Royals",
         "field",
         "Mumbai Indians",
         "Lost"
        ],
        [
         548323,
         "Royal Challengers Bangalore",
         "bat",
         "Chennai Super Kings",
         "Lost"
        ],
        [
         548324,
         "Kings XI Punjab",
         "field",
         "Kings XI Punjab",
         "Won"
        ],
        [
         548325,
         "Rajasthan Royals",
         "bat",
         "Kolkata Knight Riders",
         "Lost"
        ],
        [
         548326,
         "Deccan Chargers",
         "bat",
         "Delhi Daredevils",
         "Lost"
        ],
        [
         548327,
         "Chennai Super Kings",
         "bat",
         "Pune Warriors",
         "Lost"
        ],
        [
         548328,
         "Kolkata Knight Riders",
         "field",
         "Kings XI Punjab",
         "Lost"
        ],
        [
         548329,
         "Rajasthan Royals",
         "bat",
         "Rajasthan Royals",
         "Won"
        ],
        [
         548330,
         "Delhi Daredevils",
         "field",
         "Delhi Daredevils",
         "Won"
        ],
        [
         548331,
         "Deccan Chargers",
         "bat",
         "Rajasthan Royals",
         "Lost"
        ],
        [
         548332,
         "Pune Warriors",
         "bat",
         "Royal Challengers Bangalore",
         "Lost"
        ],
        [
         548333,
         "Kings XI Punjab",
         "bat",
         "Kolkata Knight Riders",
         "Lost"
        ],
        [
         548334,
         "Deccan Chargers",
         "bat",
         "Delhi Daredevils",
         "Lost"
        ],
        [
         548335,
         "Pune Warriors",
         "field",
         "Chennai Super Kings",
         "Lost"
        ],
        [
         548336,
         "Royal Challengers Bangalore",
         "field",
         "Royal Challengers Bangalore",
         "Won"
        ],
        [
         548337,
         "Rajasthan Royals",
         "bat",
         "Chennai Super Kings",
         "Lost"
        ],
        [
         548338,
         "Delhi Daredevils",
         "field",
         "Pune Warriors",
         "Lost"
        ],
        [
         548339,
         "Mumbai Indians",
         "bat",
         "Kings XI Punjab",
         "Lost"
        ],
        [
         548340,
         "Kolkata Knight Riders",
         "field",
         "Kolkata Knight Riders",
         "Won"
        ],
        [
         548341,
         "Rajasthan Royals",
         "field",
         "Royal Challengers Bangalore",
         "Lost"
        ],
        [
         548342,
         "Pune Warriors",
         "bat",
         "Delhi Daredevils",
         "Lost"
        ],
        [
         548344,
         "Kings XI Punjab",
         "bat",
         "Mumbai Indians",
         "Lost"
        ],
        [
         548346,
         "Deccan Chargers",
         "bat",
         "Deccan Chargers",
         "Won"
        ],
        [
         548347,
         "Mumbai Indians",
         "field",
         "Delhi Daredevils",
         "Lost"
        ],
        [
         548348,
         "Kings XI Punjab",
         "bat",
         "Kings XI Punjab",
         "Won"
        ],
        [
         548349,
         "Kolkata Knight Riders",
         "bat",
         "Kolkata Knight Riders",
         "Won"
        ],
        [
         548350,
         "Delhi Daredevils",
         "bat",
         "Delhi Daredevils",
         "Won"
        ],
        [
         548351,
         "Mumbai Indians",
         "field",
         "Mumbai Indians",
         "Won"
        ],
        [
         548352,
         "Chennai Super Kings",
         "bat",
         "Kolkata Knight Riders",
         "Lost"
        ],
        [
         548353,
         "Deccan Chargers",
         "bat",
         "Deccan Chargers",
         "Won"
        ],
        [
         548354,
         "Rajasthan Royals",
         "bat",
         "Delhi Daredevils",
         "Lost"
        ],
        [
         548355,
         "Kings XI Punjab",
         "field",
         "Kings XI Punjab",
         "Won"
        ],
        [
         548356,
         "Mumbai Indians",
         "bat",
         "Mumbai Indians",
         "Won"
        ],
        [
         548357,
         "Chennai Super Kings",
         "bat",
         "Chennai Super Kings",
         "Won"
        ],
        [
         548358,
         "Kolkata Knight Riders",
         "bat",
         "Kolkata Knight Riders",
         "Won"
        ],
        [
         548359,
         "Rajasthan Royals",
         "bat",
         "Rajasthan Royals",
         "Won"
        ],
        [
         548360,
         "Mumbai Indians",
         "field",
         "Mumbai Indians",
         "Won"
        ],
        [
         548361,
         "Royal Challengers Bangalore",
         "field",
         "Royal Challengers Bangalore",
         "Won"
        ],
        [
         548362,
         "Delhi Daredevils",
         "bat",
         "Kolkata Knight Riders",
         "Lost"
        ],
        [
         548363,
         "Pune Warriors",
         "bat",
         "Rajasthan Royals",
         "Lost"
        ],
        [
         548364,
         "Deccan Chargers",
         "field",
         "Kings XI Punjab",
         "Lost"
        ],
        [
         548365,
         "Royal Challengers Bangalore",
         "field",
         "Royal Challengers Bangalore",
         "Won"
        ],
        [
         548366,
         "Chennai Super Kings",
         "field",
         "Chennai Super Kings",
         "Won"
        ],
        [
         548367,
         "Pune Warriors",
         "field",
         "Royal Challengers Bangalore",
         "Lost"
        ],
        [
         548368,
         "Mumbai Indians",
         "bat",
         "Mumbai Indians",
         "Won"
        ],
        [
         548369,
         "Chennai Super Kings",
         "field",
         "Chennai Super Kings",
         "Won"
        ],
        [
         548370,
         "Rajasthan Royals",
         "bat",
         "Rajasthan Royals",
         "Won"
        ],
        [
         548371,
         "Deccan Chargers",
         "bat",
         "Kings XI Punjab",
         "Lost"
        ],
        [
         548372,
         "Mumbai Indians",
         "field",
         "Mumbai Indians",
         "Won"
        ],
        [
         548373,
         "Chennai Super Kings",
         "field",
         "Chennai Super Kings",
         "Won"
        ],
        [
         548374,
         "Kings XI Punjab",
         "bat",
         "Delhi Daredevils",
         "Lost"
        ],
        [
         548375,
         "Mumbai Indians",
         "field",
         "Kolkata Knight Riders",
         "Lost"
        ],
        [
         548376,
         "Kings XI Punjab",
         "field",
         "Kings XI Punjab",
         "Won"
        ],
        [
         548377,
         "Delhi Daredevils",
         "field",
         "Royal Challengers Bangalore",
         "Lost"
        ],
        [
         548378,
         "Rajasthan Royals",
         "bat",
         "Deccan Chargers",
         "Lost"
        ],
        [
         548379,
         "Delhi Daredevils",
         "field",
         "Delhi Daredevils",
         "Won"
        ],
        [
         548380,
         "Kolkata Knight Riders",
         "bat",
         "Kolkata Knight Riders",
         "Won"
        ],
        [
         548381,
         "Royal Challengers Bangalore",
         "field",
         "Deccan Chargers",
         "Lost"
        ],
        [
         548382,
         "Rajasthan Royals",
         "bat",
         "Mumbai Indians",
         "Lost"
        ],
        [
         548383,
         "Kolkata Knight Riders",
         "bat",
         "Kolkata Knight Riders",
         "Won"
        ],
        [
         548384,
         "Mumbai Indians",
         "field",
         "Chennai Super Kings",
         "Lost"
        ],
        [
         548385,
         "Delhi Daredevils",
         "field",
         "Chennai Super Kings",
         "Lost"
        ],
        [
         548386,
         "Chennai Super Kings",
         "bat",
         "Kolkata Knight Riders",
         "Lost"
        ],
        [
         598003,
         "Kolkata Knight Riders",
         "field",
         "Kolkata Knight Riders",
         "Won"
        ],
        [
         598004,
         "Mumbai Indians",
         "field",
         "Royal Challengers Bangalore",
         "Lost"
        ],
        [
         598005,
         "Pune Warriors",
         "field",
         "Sunrisers Hyderabad",
         "Lost"
        ],
        [
         598006,
         "Rajasthan Royals",
         "bat",
         "Rajasthan Royals",
         "Won"
        ],
        [
         598007,
         "Mumbai Indians",
         "bat",
         "Mumbai Indians",
         "Won"
        ],
        [
         598008,
         "Pune Warriors",
         "bat",
         "Kings XI Punjab",
         "Lost"
        ],
        [
         598009,
         "Royal Challengers Bangalore",
         "bat",
         "Sunrisers Hyderabad",
         "Lost"
        ],
        [
         598010,
         "Kolkata Knight Riders",
         "field",
         "Rajasthan Royals",
         "Lost"
        ],
        [
         598011,
         "Mumbai Indians",
         "bat",
         "Mumbai Indians",
         "Won"
        ],
        [
         598012,
         "Chennai Super Kings",
         "field",
         "Chennai Super Kings",
         "Won"
        ],
        [
         598013,
         "Royal Challengers Bangalore",
         "field",
         "Royal Challengers Bangalore",
         "Won"
        ],
        [
         598014,
         "Rajasthan Royals",
         "bat",
         "Pune Warriors",
         "Lost"
        ],
        [
         598015,
         "Delhi Daredevils",
         "bat",
         "Sunrisers Hyderabad",
         "Lost"
        ],
        [
         598016,
         "Mumbai Indians",
         "bat",
         "Mumbai Indians",
         "Won"
        ],
        [
         598017,
         "Chennai Super Kings",
         "field",
         "Chennai Super Kings",
         "Won"
        ],
        [
         598018,
         "Kolkata Knight Riders",
         "bat",
         "Kolkata Knight Riders",
         "Won"
        ],
        [
         598019,
         "Rajasthan Royals",
         "field",
         "Rajasthan Royals",
         "Won"
        ],
        [
         598020,
         "Pune Warriors",
         "bat",
         "Pune Warriors",
         "Won"
        ],
        [
         598021,
         "Kolkata Knight Riders",
         "field",
         "Kings XI Punjab",
         "Lost"
        ],
        [
         598022,
         "Royal Challengers Bangalore",
         "field",
         "Royal Challengers Bangalore",
         "Won"
        ],
        [
         598023,
         "Pune Warriors",
         "field",
         "Sunrisers Hyderabad",
         "Lost"
        ],
        [
         598024,
         "Rajasthan Royals",
         "bat",
         "Rajasthan Royals",
         "Won"
        ],
        [
         598025,
         "Chennai Super Kings",
         "bat",
         "Chennai Super Kings",
         "Won"
        ],
        [
         598026,
         "Kings XI Punjab",
         "bat",
         "Sunrisers Hyderabad",
         "Lost"
        ],
        [
         598027,
         "Kolkata Knight Riders",
         "bat",
         "Chennai Super Kings",
         "Lost"
        ],
        [
         598028,
         "Royal Challengers Bangalore",
         "field",
         "Royal Challengers Bangalore",
         "Won"
        ],
        [
         598029,
         "Mumbai Indians",
         "bat",
         "Delhi Daredevils",
         "Lost"
        ],
        [
         598030,
         "Kings XI Punjab",
         "field",
         "Kings XI Punjab",
         "Won"
        ],
        [
         598031,
         "Rajasthan Royals",
         "bat",
         "Chennai Super Kings",
         "Lost"
        ],
        [
         598032,
         "Pune Warriors",
         "field",
         "Royal Challengers Bangalore",
         "Lost"
        ],
        [
         598033,
         "Delhi Daredevils",
         "field",
         "Kings XI Punjab",
         "Lost"
        ],
        [
         598034,
         "Kolkata Knight Riders",
         "bat",
         "Mumbai Indians",
         "Lost"
        ],
        [
         598035,
         "Sunrisers Hyderabad",
         "bat",
         "Chennai Super Kings",
         "Lost"
        ],
        [
         598036,
         "Kings XI Punjab",
         "bat",
         "Kolkata Knight Riders",
         "Lost"
        ],
        [
         598037,
         "Sunrisers Hyderabad",
         "bat",
         "Rajasthan Royals",
         "Lost"
        ],
        [
         598038,
         "Mumbai Indians",
         "bat",
         "Mumbai Indians",
         "Won"
        ],
        [
         598039,
         "Kolkata Knight Riders",
         "field",
         "Chennai Super Kings",
         "Lost"
        ],
        [
         598040,
         "Pune Warriors",
         "field",
         "Delhi Daredevils",
         "Lost"
        ],
        [
         598041,
         "Rajasthan Royals",
         "field",
         "Rajasthan Royals",
         "Won"
        ],
        [
         598042,
         "Mumbai Indians",
         "bat",
         "Mumbai Indians",
         "Won"
        ],
        [
         598043,
         "Chennai Super Kings",
         "bat",
         "Chennai Super Kings",
         "Won"
        ],
        [
         598044,
         "Mumbai Indians",
         "bat",
         "Sunrisers Hyderabad",
         "Lost"
        ],
        [
         598045,
         "Kolkata Knight Riders",
         "bat",
         "Delhi Daredevils",
         "Lost"
        ],
        [
         598046,
         "Chennai Super Kings",
         "bat",
         "Chennai Super Kings",
         "Won"
        ],
        [
         598047,
         "Royal Challengers Bangalore",
         "bat",
         "Royal Challengers Bangalore",
         "Won"
        ],
        [
         598048,
         "Rajasthan Royals",
         "bat",
         "Kolkata Knight Riders",
         "Lost"
        ],
        [
         598049,
         "Delhi Daredevils",
         "bat",
         "Sunrisers Hyderabad",
         "Lost"
        ],
        [
         598050,
         "Kings XI Punjab",
         "field",
         "Kings XI Punjab",
         "Won"
        ],
        [
         598051,
         "Mumbai Indians",
         "bat",
         "Mumbai Indians",
         "Won"
        ],
        [
         598052,
         "Pune Warriors",
         "bat",
         "Rajasthan Royals",
         "Lost"
        ],
        [
         598053,
         "Sunrisers Hyderabad",
         "bat",
         "Royal Challengers Bangalore",
         "Lost"
        ],
        [
         598054,
         "Delhi Daredevils",
         "bat",
         "Rajasthan Royals",
         "Lost"
        ],
        [
         598055,
         "Mumbai Indians",
         "bat",
         "Mumbai Indians",
         "Won"
        ],
        [
         598056,
         "Sunrisers Hyderabad",
         "field",
         "Chennai Super Kings",
         "Lost"
        ],
        [
         598057,
         "Rajasthan Royals",
         "field",
         "Rajasthan Royals",
         "Won"
        ],
        [
         598058,
         "Kolkata Knight Riders",
         "bat",
         "Kolkata Knight Riders",
         "Won"
        ],
        [
         598059,
         "Delhi Daredevils",
         "field",
         "Royal Challengers Bangalore",
         "Lost"
        ],
        [
         598060,
         "Pune Warriors",
         "bat",
         "Mumbai Indians",
         "Lost"
        ],
        [
         598061,
         "Kings XI Punjab",
         "field",
         "Sunrisers Hyderabad",
         "Lost"
        ],
        [
         598062,
         "Kolkata Knight Riders",
         "field",
         "Kolkata Knight Riders",
         "Won"
        ],
        [
         598063,
         "Rajasthan Royals",
         "field",
         "Rajasthan Royals",
         "Won"
        ],
        [
         598064,
         "Kings XI Punjab",
         "field",
         "Kings XI Punjab",
         "Won"
        ],
        [
         598065,
         "Sunrisers Hyderabad",
         "bat",
         "Mumbai Indians",
         "Lost"
        ],
        [
         598066,
         "Kolkata Knight Riders",
         "field",
         "Pune Warriors",
         "Lost"
        ],
        [
         598067,
         "Chennai Super Kings",
         "bat",
         "Chennai Super Kings",
         "Won"
        ],
        [
         598068,
         "Rajasthan Royals",
         "field",
         "Mumbai Indians",
         "Lost"
        ],
        [
         598069,
         "Kings XI Punjab",
         "field",
         "Kings XI Punjab",
         "Won"
        ],
        [
         598070,
         "Sunrisers Hyderabad",
         "bat",
         "Sunrisers Hyderabad",
         "Won"
        ],
        [
         598071,
         "Mumbai Indians",
         "field",
         "Kings XI Punjab",
         "Lost"
        ],
        [
         598072,
         "Pune Warriors",
         "bat",
         "Pune Warriors",
         "Won"
        ],
        [
         598073,
         "Chennai Super Kings",
         "field",
         "Royal Challengers Bangalore",
         "Lost"
        ],
        [
         598074,
         "Kolkata Knight Riders",
         "bat",
         "Sunrisers Hyderabad",
         "Lost"
        ],
        [
         598075,
         "Chennai Super Kings",
         "bat",
         "Chennai Super Kings",
         "Won"
        ],
        [
         598076,
         "Sunrisers Hyderabad",
         "bat",
         "Rajasthan Royals",
         "Lost"
        ],
        [
         598077,
         "Rajasthan Royals",
         "bat",
         "Mumbai Indians",
         "Lost"
        ],
        [
         598078,
         "Mumbai Indians",
         "bat",
         "Mumbai Indians",
         "Won"
        ],
        [
         729284,
         "Kolkata Knight Riders",
         "bat",
         "Kolkata Knight Riders",
         "Won"
        ],
        [
         729286,
         "Royal Challengers Bangalore",
         "field",
         "Royal Challengers Bangalore",
         "Won"
        ],
        [
         729288,
         "Chennai Super Kings",
         "bat",
         "Kings XI Punjab",
         "Lost"
        ],
        [
         729290,
         "Rajasthan Royals",
         "field",
         "Rajasthan Royals",
         "Won"
        ],
        [
         729292,
         "Royal Challengers Bangalore",
         "field",
         "Royal Challengers Bangalore",
         "Won"
        ],
        [
         729294,
         "Kolkata Knight Riders",
         "bat",
         "Delhi Daredevils",
         "Lost"
        ],
        [
         729296,
         "Kings XI Punjab",
         "field",
         "Kings XI Punjab",
         "Won"
        ],
        [
         729298,
         "Chennai Super Kings",
         "bat",
         "Chennai Super Kings",
         "Won"
        ],
        [
         729300,
         "Sunrisers Hyderabad",
         "field",
         "Kings XI Punjab",
         "Lost"
        ],
        [
         729302,
         "Rajasthan Royals",
         "field",
         "Chennai Super Kings",
         "Lost"
        ],
        [
         729304,
         "Royal Challengers Bangalore",
         "field",
         "Kolkata Knight Riders",
         "Lost"
        ],
        [
         729306,
         "Sunrisers Hyderabad",
         "bat",
         "Sunrisers Hyderabad",
         "Won"
        ],
        [
         729308,
         "Mumbai Indians",
         "bat",
         "Chennai Super Kings",
         "Lost"
        ],
        [
         729310,
         "Rajasthan Royals",
         "field",
         "Rajasthan Royals",
         "Won"
        ],
        [
         729312,
         "Kolkata Knight Riders",
         "field",
         "Kings XI Punjab",
         "Lost"
        ],
        [
         729314,
         "Mumbai Indians",
         "bat",
         "Delhi Daredevils",
         "Lost"
        ],
        [
         729316,
         "Sunrisers Hyderabad",
         "bat",
         "Chennai Super Kings",
         "Lost"
        ],
        [
         729318,
         "Kings XI Punjab",
         "field",
         "Kings XI Punjab",
         "Won"
        ],
        [
         729320,
         "Rajasthan Royals",
         "bat",
         "Rajasthan Royals",
         "Won"
        ],
        [
         729322,
         "Mumbai Indians",
         "field",
         "Sunrisers Hyderabad",
         "Lost"
        ],
        [
         733976,
         "Chennai Super Kings",
         "bat",
         "Chennai Super Kings",
         "Won"
        ],
        [
         733978,
         "Kings XI Punjab",
         "bat",
         "Mumbai Indians",
         "Lost"
        ],
        [
         733980,
         "Rajasthan Royals",
         "field",
         "Rajasthan Royals",
         "Won"
        ],
        [
         733982,
         "Royal Challengers Bangalore",
         "field",
         "Royal Challengers Bangalore",
         "Won"
        ],
        [
         733984,
         "Kolkata Knight Riders",
         "field",
         "Rajasthan Royals",
         "Lost"
        ],
        [
         733986,
         "Chennai Super Kings",
         "field",
         "Chennai Super Kings",
         "Won"
        ],
        [
         733988,
         "Royal Challengers Bangalore",
         "field",
         "Mumbai Indians",
         "Lost"
        ],
        [
         733990,
         "Delhi Daredevils",
         "bat",
         "Kolkata Knight Riders",
         "Lost"
        ],
        [
         733992,
         "Chennai Super Kings",
         "field",
         "Kings XI Punjab",
         "Lost"
        ],
        [
         733994,
         "Rajasthan Royals",
         "field",
         "Sunrisers Hyderabad",
         "Lost"
        ],
        [
         733996,
         "Royal Challengers Bangalore",
         "field",
         "Kings XI Punjab",
         "Lost"
        ],
        [
         733998,
         "Sunrisers Hyderabad",
         "field",
         "Sunrisers Hyderabad",
         "Won"
        ],
        [
         734000,
         "Chennai Super Kings",
         "field",
         "Chennai Super Kings",
         "Won"
        ],
        [
         734002,
         "Kolkata Knight Riders",
         "field",
         "Kolkata Knight Riders",
         "Won"
        ],
        [
         734004,
         "Royal Challengers Bangalore",
         "bat",
         "Rajasthan Royals",
         "Lost"
        ],
        [
         734006,
         "Sunrisers Hyderabad",
         "bat",
         "Mumbai Indians",
         "Lost"
        ],
        [
         734008,
         "Rajasthan Royals",
         "bat",
         "Chennai Super Kings",
         "Lost"
        ],
        [
         734010,
         "Delhi Daredevils",
         "field",
         "Royal Challengers Bangalore",
         "Lost"
        ],
        [
         734012,
         "Kings XI Punjab",
         "field",
         "Kings XI Punjab",
         "Won"
        ],
        [
         734014,
         "Kolkata Knight Riders",
         "field",
         "Kolkata Knight Riders",
         "Won"
        ],
        [
         734016,
         "Delhi Daredevils",
         "field",
         "Rajasthan Royals",
         "Lost"
        ],
        [
         734018,
         "Chennai Super Kings",
         "bat",
         "Royal Challengers Bangalore",
         "Lost"
        ],
        [
         734020,
         "Sunrisers Hyderabad",
         "bat",
         "Kolkata Knight Riders",
         "Lost"
        ],
        [
         734022,
         "Mumbai Indians",
         "bat",
         "Mumbai Indians",
         "Won"
        ],
        [
         734024,
         "Kings XI Punjab",
         "field",
         "Kings XI Punjab",
         "Won"
        ],
        [
         734026,
         "Royal Challengers Bangalore",
         "bat",
         "Sunrisers Hyderabad",
         "Lost"
        ],
        [
         734028,
         "Kolkata Knight Riders",
         "field",
         "Kolkata Knight Riders",
         "Won"
        ],
        [
         734030,
         "Mumbai Indians",
         "field",
         "Mumbai Indians",
         "Won"
        ],
        [
         734032,
         "Royal Challengers Bangalore",
         "field",
         "Kolkata Knight Riders",
         "Lost"
        ],
        [
         734034,
         "Sunrisers Hyderabad",
         "field",
         "Sunrisers Hyderabad",
         "Won"
        ],
        [
         734036,
         "Delhi Daredevils",
         "field",
         "Mumbai Indians",
         "Lost"
        ],
        [
         734038,
         "Rajasthan Royals",
         "field",
         "Kings XI Punjab",
         "Lost"
        ],
        [
         734040,
         "Chennai Super Kings",
         "field",
         "Chennai Super Kings",
         "Won"
        ],
        [
         734042,
         "Kolkata Knight Riders",
         "field",
         "Kolkata Knight Riders",
         "Won"
        ],
        [
         734044,
         "Kings XI Punjab",
         "field",
         "Kings XI Punjab",
         "Won"
        ],
        [
         734046,
         "Mumbai Indians",
         "field",
         "Mumbai Indians",
         "Won"
        ],
        [
         734048,
         "Kings XI Punjab",
         "field",
         "Kolkata Knight Riders",
         "Lost"
        ],
        [
         734050,
         "Chennai Super Kings",
         "field",
         "Chennai Super Kings",
         "Won"
        ],
        [
         734052,
         "Chennai Super Kings",
         "field",
         "Kings XI Punjab",
         "Lost"
        ],
        [
         734054,
         "Kolkata Knight Riders",
         "field",
         "Kolkata Knight Riders",
         "Won"
        ],
        [
         829710,
         "Kolkata Knight Riders",
         "field",
         "Kolkata Knight Riders",
         "Won"
        ],
        [
         829712,
         "Delhi Daredevils",
         "field",
         "Chennai Super Kings",
         "Lost"
        ],
        [
         829714,
         "Kings XI Punjab",
         "field",
         "Rajasthan Royals",
         "Lost"
        ],
        [
         829716,
         "Chennai Super Kings",
         "bat",
         "Chennai Super Kings",
         "Won"
        ],
        [
         829718,
         "Royal Challengers Bangalore",
         "field",
         "Royal Challengers Bangalore",
         "Won"
        ],
        [
         829720,
         "Rajasthan Royals",
         "field",
         "Rajasthan Royals",
         "Won"
        ],
        [
         829722,
         "Mumbai Indians",
         "field",
         "Kings XI Punjab",
         "Lost"
        ],
        [
         829724,
         "Sunrisers Hyderabad",
         "field",
         "Sunrisers Hyderabad",
         "Won"
        ],
        [
         829726,
         "Mumbai Indians",
         "bat",
         "Rajasthan Royals",
         "Lost"
        ],
        [
         829728,
         "Kolkata Knight Riders",
         "field",
         "Kolkata Knight Riders",
         "Won"
        ],
        [
         829730,
         "Kings XI Punjab",
         "bat",
         "Delhi Daredevils",
         "Lost"
        ],
        [
         829732,
         "Rajasthan Royals",
         "field",
         "Rajasthan Royals",
         "Won"
        ],
        [
         829734,
         "Mumbai Indians",
         "bat",
         "Chennai Super Kings",
         "Lost"
        ],
        [
         829736,
         "Delhi Daredevils",
         "bat",
         "Delhi Daredevils",
         "Won"
        ],
        [
         829738,
         "Kolkata Knight Riders",
         "field",
         "Kolkata Knight Riders",
         "Won"
        ],
        [
         829740,
         "Chennai Super Kings",
         "bat",
         "Rajasthan Royals",
         "Lost"
        ],
        [
         829742,
         "Royal Challengers Bangalore",
         "field",
         "Mumbai Indians",
         "Lost"
        ],
        [
         829744,
         "Kolkata Knight Riders",
         "field",
         "Kolkata Knight Riders",
         "Won"
        ],
        [
         829746,
         "Kings XI Punjab",
         "field",
         "Kings XI Punjab",
         "Won"
        ],
        [
         829748,
         "Kolkata Knight Riders",
         "field",
         "Sunrisers Hyderabad",
         "Lost"
        ],
        [
         829750,
         "Royal Challengers Bangalore",
         "field",
         "Chennai Super Kings",
         "Lost"
        ],
        [
         829752,
         "Mumbai Indians",
         "field",
         "Delhi Daredevils",
         "Lost"
        ],
        [
         829754,
         "Royal Challengers Bangalore",
         "field",
         "Royal Challengers Bangalore",
         "Won"
        ],
        [
         829756,
         "Mumbai Indians",
         "bat",
         "Mumbai Indians",
         "Won"
        ],
        [
         829758,
         "Chennai Super Kings",
         "bat",
         "Chennai Super Kings",
         "Won"
        ],
        [
         829762,
         "Royal Challengers Bangalore",
         "field",
         "Royal Challengers Bangalore",
         "Won"
        ],
        [
         829764,
         "Kings XI Punjab",
         "field",
         "Sunrisers Hyderabad",
         "Lost"
        ],
        [
         829766,
         "Kolkata Knight Riders",
         "bat",
         "Kolkata Knight Riders",
         "Won"
        ],
        [
         829768,
         "Rajasthan Royals",
         "field",
         "NULL",
         "Lost"
        ],
        [
         829770,
         "Kolkata Knight Riders",
         "field",
         "Chennai Super Kings",
         "Lost"
        ],
        [
         829772,
         "Delhi Daredevils",
         "field",
         "Delhi Daredevils",
         "Won"
        ],
        [
         829774,
         "Rajasthan Royals",
         "field",
         "Mumbai Indians",
         "Lost"
        ],
        [
         829776,
         "Royal Challengers Bangalore",
         "field",
         "Royal Challengers Bangalore",
         "Won"
        ],
        [
         829778,
         "Chennai Super Kings",
         "field",
         "Sunrisers Hyderabad",
         "Lost"
        ],
        [
         829780,
         "Mumbai Indians",
         "bat",
         "Mumbai Indians",
         "Won"
        ],
        [
         829782,
         "Delhi Daredevils",
         "field",
         "Rajasthan Royals",
         "Lost"
        ],
        [
         829784,
         "Chennai Super Kings",
         "bat",
         "Chennai Super Kings",
         "Won"
        ],
        [
         829786,
         "Sunrisers Hyderabad",
         "field",
         "Kolkata Knight Riders",
         "Lost"
        ],
        [
         829788,
         "Delhi Daredevils",
         "bat",
         "Mumbai Indians",
         "Lost"
        ],
        [
         829790,
         "Kings XI Punjab",
         "field",
         "Royal Challengers Bangalore",
         "Lost"
        ],
        [
         829792,
         "Rajasthan Royals",
         "field",
         "Sunrisers Hyderabad",
         "Lost"
        ],
        [
         829794,
         "Chennai Super Kings",
         "bat",
         "Mumbai Indians",
         "Lost"
        ],
        [
         829796,
         "Kings XI Punjab",
         "bat",
         "Kolkata Knight Riders",
         "Lost"
        ],
        [
         829798,
         "Sunrisers Hyderabad",
         "bat",
         "Sunrisers Hyderabad",
         "Won"
        ],
        [
         829800,
         "Royal Challengers Bangalore",
         "bat",
         "Royal Challengers Bangalore",
         "Won"
        ],
        [
         829802,
         "Chennai Super Kings",
         "bat",
         "Chennai Super Kings",
         "Won"
        ],
        [
         829804,
         "Sunrisers Hyderabad",
         "bat",
         "Sunrisers Hyderabad",
         "Won"
        ],
        [
         829806,
         "Chennai Super Kings",
         "bat",
         "Delhi Daredevils",
         "Lost"
        ],
        [
         829808,
         "Royal Challengers Bangalore",
         "field",
         "Kings XI Punjab",
         "Lost"
        ],
        [
         829810,
         "Kolkata Knight Riders",
         "field",
         "Mumbai Indians",
         "Lost"
        ],
        [
         829812,
         "Sunrisers Hyderabad",
         "bat",
         "Royal Challengers Bangalore",
         "Lost"
        ],
        [
         829814,
         "Kings XI Punjab",
         "bat",
         "Chennai Super Kings",
         "Lost"
        ],
        [
         829816,
         "Rajasthan Royals",
         "bat",
         "Rajasthan Royals",
         "Won"
        ],
        [
         829818,
         "Royal Challengers Bangalore",
         "field",
         "NULL",
         "Lost"
        ],
        [
         829820,
         "Sunrisers Hyderabad",
         "bat",
         "Mumbai Indians",
         "Lost"
        ],
        [
         829822,
         "Mumbai Indians",
         "bat",
         "Mumbai Indians",
         "Won"
        ],
        [
         829824,
         "Royal Challengers Bangalore",
         "bat",
         "Royal Challengers Bangalore",
         "Won"
        ],
        [
         829826,
         "Chennai Super Kings",
         "field",
         "Chennai Super Kings",
         "Won"
        ],
        [
         829828,
         "Chennai Super Kings",
         "field",
         "Mumbai Indians",
         "Lost"
        ],
        [
         980906,
         "Mumbai Indians",
         "bat",
         "Rising Pune Supergiants",
         "Lost"
        ],
        [
         980908,
         "Kolkata Knight Riders",
         "field",
         "Kolkata Knight Riders",
         "Won"
        ],
        [
         980910,
         "Gujarat Lions",
         "field",
         "Gujarat Lions",
         "Won"
        ],
        [
         980912,
         "Sunrisers Hyderabad",
         "field",
         "Royal Challengers Bangalore",
         "Lost"
        ],
        [
         980914,
         "Mumbai Indians",
         "field",
         "Mumbai Indians",
         "Won"
        ],
        [
         980916,
         "Rising Pune Supergiants",
         "bat",
         "Gujarat Lions",
         "Lost"
        ],
        [
         980918,
         "Delhi Daredevils",
         "field",
         "Delhi Daredevils",
         "Won"
        ],
        [
         980920,
         "Sunrisers Hyderabad",
         "bat",
         "Kolkata Knight Riders",
         "Lost"
        ],
        [
         980922,
         "Gujarat Lions",
         "field",
         "Gujarat Lions",
         "Won"
        ],
        [
         980924,
         "Rising Pune Supergiants",
         "bat",
         "Kings XI Punjab",
         "Lost"
        ],
        [
         980926,
         "Delhi Daredevils",
         "field",
         "Delhi Daredevils",
         "Won"
        ],
        [
         980928,
         "Sunrisers Hyderabad",
         "field",
         "Sunrisers Hyderabad",
         "Won"
        ],
        [
         980930,
         "Kolkata Knight Riders",
         "field",
         "Kolkata Knight Riders",
         "Won"
        ],
        [
         980932,
         "Mumbai Indians",
         "field",
         "Mumbai Indians",
         "Won"
        ],
        [
         980934,
         "Sunrisers Hyderabad",
         "field",
         "Sunrisers Hyderabad",
         "Won"
        ],
        [
         980936,
         "Rising Pune Supergiants",
         "field",
         "Royal Challengers Bangalore",
         "Lost"
        ],
        [
         980938,
         "Mumbai Indians",
         "field",
         "Delhi Daredevils",
         "Lost"
        ],
        [
         980940,
         "Sunrisers Hyderabad",
         "field",
         "Sunrisers Hyderabad",
         "Won"
        ],
        [
         980942,
         "Royal Challengers Bangalore",
         "bat",
         "Gujarat Lions",
         "Lost"
        ],
        [
         980944,
         "Kolkata Knight Riders",
         "field",
         "Kolkata Knight Riders",
         "Won"
        ],
        [
         980946,
         "Kings XI Punjab",
         "field",
         "Mumbai Indians",
         "Lost"
        ],
        [
         980948,
         "Rising Pune Supergiants",
         "field",
         "Rising Pune Supergiants",
         "Won"
        ],
        [
         980950,
         "Delhi Daredevils",
         "field",
         "Gujarat Lions",
         "Lost"
        ],
        [
         980952,
         "Mumbai Indians",
         "field",
         "Mumbai Indians",
         "Won"
        ],
        [
         980954,
         "Gujarat Lions",
         "field",
         "Gujarat Lions",
         "Won"
        ],
        [
         980956,
         "Kolkata Knight Riders",
         "field",
         "Delhi Daredevils",
         "Lost"
        ],
        [
         980958,
         "Royal Challengers Bangalore",
         "field",
         "Sunrisers Hyderabad",
         "Lost"
        ],
        [
         980960,
         "Gujarat Lions",
         "field",
         "Kings XI Punjab",
         "Lost"
        ],
        [
         980962,
         "Mumbai Indians",
         "field",
         "Mumbai Indians",
         "Won"
        ],
        [
         980964,
         "Kolkata Knight Riders",
         "field",
         "Kolkata Knight Riders",
         "Won"
        ],
        [
         980966,
         "Delhi Daredevils",
         "field",
         "Delhi Daredevils",
         "Won"
        ],
        [
         980968,
         "Kings XI Punjab",
         "field",
         "Kolkata Knight Riders",
         "Lost"
        ],
        [
         980970,
         "Rising Pune Supergiants",
         "field",
         "Rising Pune Supergiants",
         "Won"
        ],
        [
         980972,
         "Sunrisers Hyderabad",
         "field",
         "Sunrisers Hyderabad",
         "Won"
        ],
        [
         980974,
         "Royal Challengers Bangalore",
         "field",
         "Royal Challengers Bangalore",
         "Won"
        ],
        [
         980976,
         "Delhi Daredevils",
         "field",
         "Kings XI Punjab",
         "Lost"
        ],
        [
         980978,
         "Mumbai Indians",
         "field",
         "Sunrisers Hyderabad",
         "Lost"
        ],
        [
         980980,
         "Gujarat Lions",
         "field",
         "Gujarat Lions",
         "Won"
        ],
        [
         980982,
         "Kings XI Punjab",
         "field",
         "Royal Challengers Bangalore",
         "Lost"
        ],
        [
         980984,
         "Sunrisers Hyderabad",
         "bat",
         "Sunrisers Hyderabad",
         "Won"
        ],
        [
         980986,
         "Mumbai Indians",
         "field",
         "Mumbai Indians",
         "Won"
        ],
        [
         980988,
         "Delhi Daredevils",
         "field",
         "Delhi Daredevils",
         "Won"
        ],
        [
         980990,
         "Mumbai Indians",
         "bat",
         "Kings XI Punjab",
         "Lost"
        ],
        [
         980992,
         "Gujarat Lions",
         "field",
         "Royal Challengers Bangalore",
         "Lost"
        ],
        [
         980994,
         "Rising Pune Supergiants",
         "bat",
         "Kolkata Knight Riders",
         "Lost"
        ],
        [
         980996,
         "Kings XI Punjab",
         "bat",
         "Sunrisers Hyderabad",
         "Lost"
        ],
        [
         980998,
         "Delhi Daredevils",
         "field",
         "Mumbai Indians",
         "Lost"
        ],
        [
         981000,
         "Royal Challengers Bangalore",
         "field",
         "Royal Challengers Bangalore",
         "Won"
        ],
        [
         981002,
         "Rising Pune Supergiants",
         "field",
         "Rising Pune Supergiants",
         "Won"
        ],
        [
         981004,
         "Kings XI Punjab",
         "field",
         "Royal Challengers Bangalore",
         "Lost"
        ],
        [
         981006,
         "Gujarat Lions",
         "field",
         "Gujarat Lions",
         "Won"
        ],
        [
         981008,
         "Delhi Daredevils",
         "field",
         "Delhi Daredevils",
         "Won"
        ],
        [
         981010,
         "Kings XI Punjab",
         "bat",
         "Rising Pune Supergiants",
         "Lost"
        ],
        [
         981012,
         "Gujarat Lions",
         "field",
         "Gujarat Lions",
         "Won"
        ],
        [
         981014,
         "Sunrisers Hyderabad",
         "field",
         "Kolkata Knight Riders",
         "Lost"
        ],
        [
         981016,
         "Royal Challengers Bangalore",
         "field",
         "Royal Challengers Bangalore",
         "Won"
        ],
        [
         981018,
         "Royal Challengers Bangalore",
         "field",
         "Royal Challengers Bangalore",
         "Won"
        ],
        [
         981020,
         "Kolkata Knight Riders",
         "field",
         "Sunrisers Hyderabad",
         "Lost"
        ],
        [
         981022,
         "Sunrisers Hyderabad",
         "field",
         "Sunrisers Hyderabad",
         "Won"
        ],
        [
         981024,
         "Sunrisers Hyderabad",
         "bat",
         "Sunrisers Hyderabad",
         "Won"
        ],
        [
         1082591,
         "Royal Challengers Bangalore",
         "Field",
         "Sunrisers Hyderabad",
         "Lost"
        ],
        [
         1082592,
         "Rising Pune Supergiant",
         "Field",
         "Rising Pune Supergiants",
         "Lost"
        ],
        [
         1082593,
         "Kolkata Knight Riders",
         "Field",
         "Kolkata Knight Riders",
         "Won"
        ],
        [
         1082594,
         "Kings XI Punjab",
         "Field",
         "Kings XI Punjab",
         "Won"
        ],
        [
         1082595,
         "Royal Challengers Bangalore",
         "Bat",
         "Royal Challengers Bangalore",
         "Won"
        ],
        [
         1082596,
         "Sunrisers Hyderabad",
         "Field",
         "Sunrisers Hyderabad",
         "Won"
        ],
        [
         1082597,
         "Mumbai Indians",
         "Field",
         "Mumbai Indians",
         "Won"
        ],
        [
         1082598,
         "Royal Challengers Bangalore",
         "Bat",
         "Kings XI Punjab",
         "Lost"
        ],
        [
         1082599,
         "Rising Pune Supergiants",
         "Field",
         "Delhi Daredevils",
         "Lost"
        ],
        [
         1082600,
         "Mumbai Indians",
         "Field",
         "Mumbai Indians",
         "Won"
        ],
        [
         1082601,
         "Kolkata Knight Riders",
         "Field",
         "Kolkata Knight Riders",
         "Won"
        ],
        [
         1082602,
         "Mumbai Indians",
         "Field",
         "Mumbai Indians",
         "Won"
        ],
        [
         1082603,
         "Gujarat Lions",
         "Field",
         "Gujarat Lions",
         "Won"
        ],
        [
         1082604,
         "Sunrisers Hyderabad",
         "Field",
         "Kolkata Knight Riders",
         "Lost"
        ],
        [
         1082605,
         "Delhi Daredevils",
         "Bat",
         "Delhi Daredevils",
         "Won"
        ],
        [
         1082606,
         "Mumbai Indians",
         "Field",
         "Mumbai Indians",
         "Won"
        ],
        [
         1082607,
         "Royal Challengers Bangalore",
         "Field",
         "Rising Pune Supergiants",
         "Lost"
        ],
        [
         1082608,
         "Delhi Daredevils",
         "Bat",
         "Kolkata Knight Riders",
         "Lost"
        ],
        [
         1082609,
         "Kings XI Punjab",
         "Field",
         "Sunrisers Hyderabad",
         "Lost"
        ],
        [
         1082610,
         "Gujarat Lions",
         "Field",
         "Royal Challengers Bangalore",
         "Lost"
        ],
        [
         1082611,
         "Sunrisers Hyderabad",
         "Bat",
         "Sunrisers Hyderabad",
         "Won"
        ],
        [
         1082612,
         "Mumbai Indians",
         "Field",
         "Mumbai Indians",
         "Won"
        ],
        [
         1082613,
         "Gujarat Lions",
         "Field",
         "Gujarat Lions",
         "Won"
        ],
        [
         1082614,
         "Delhi Daredevils",
         "Field",
         "Mumbai Indians",
         "Lost"
        ],
        [
         1082615,
         "Rising Pune Supergiants",
         "Field",
         "Rising Pune Supergiants",
         "Won"
        ],
        [
         1082616,
         "Gujarat Lions",
         "Field",
         "Kings XI Punjab",
         "Lost"
        ],
        [
         1082617,
         "Royal Challengers Bangalore",
         "Field",
         "Kolkata Knight Riders",
         "Lost"
        ],
        [
         1082618,
         "Mumbai Indians",
         "Field",
         "Rising Pune Supergiants",
         "Lost"
        ],
        [
         1082619,
         null,
         "NA",
         "abandoned",
         "Lost"
        ],
        [
         1082620,
         "Kolkata Knight Riders",
         "Field",
         "Kolkata Knight Riders",
         "Won"
        ],
        [
         1082621,
         "Gujarat Lions",
         "Field",
         "Gujarat Lions",
         "Won"
        ],
        [
         1082622,
         "Kolkata Knight Riders",
         "Field",
         "Kolkata Knight Riders",
         "Won"
        ],
        [
         1082623,
         "Kings XI Punjab",
         "Field",
         "Sunrisers Hyderabad",
         "Lost"
        ],
        [
         1082624,
         "Royal Challengers Bangalore",
         "Field",
         "Rising Pune Supergiants",
         "Lost"
        ],
        [
         1082625,
         "Gujarat Lions",
         "Bat",
         "tied",
         "Lost"
        ],
        [
         1082626,
         "Kings XI Punjab",
         "Field",
         "Kings XI Punjab",
         "Won"
        ],
        [
         1082627,
         "Kolkata Knight Riders",
         "Field",
         "Sunrisers Hyderabad",
         "Lost"
        ],
        [
         1082628,
         "Royal Challengers Bangalore",
         "Bat",
         "Mumbai Indians",
         "Lost"
        ],
        [
         1082629,
         "Rising Pune Supergiants",
         "Field",
         "Rising Pune Supergiants",
         "Won"
        ],
        [
         1082630,
         "Delhi Daredevils",
         "Field",
         "Delhi Daredevils",
         "Won"
        ],
        [
         1082631,
         "Rising Pune Supergiants",
         "Field",
         "Rising Pune Supergiants",
         "Won"
        ],
        [
         1082632,
         "Delhi Daredevils",
         "Field",
         "Delhi Daredevils",
         "Won"
        ],
        [
         1082633,
         "Royal Challengers Bangalore",
         "Field",
         "Kings XI Punjab",
         "Lost"
        ],
        [
         1082634,
         "Sunrisers Hyderabad",
         "Field",
         "Rising Pune Supergiants",
         "Lost"
        ],
        [
         1082635,
         "Delhi Daredevils",
         "Field",
         "Mumbai Indians",
         "Lost"
        ],
        [
         1082636,
         "Kolkata Knight Riders",
         "Field",
         "Kolkata Knight Riders",
         "Won"
        ],
        [
         1082637,
         "Gujarat Lions",
         "Field",
         "Gujarat Lions",
         "Won"
        ],
        [
         1082638,
         "Mumbai Indians",
         "Bat",
         "Sunrisers Hyderabad",
         "Lost"
        ],
        [
         1082639,
         "Kolkata Knight Riders",
         "Field",
         "Kings XI Punjab",
         "Lost"
        ],
        [
         1082640,
         "Delhi Daredevils",
         "Field",
         "Delhi Daredevils",
         "Won"
        ],
        [
         1082641,
         "Mumbai Indians",
         "Field",
         "Kings XI Punjab",
         "Lost"
        ],
        [
         1082642,
         "Delhi Daredevils",
         "Bat",
         "Delhi Daredevils",
         "Won"
        ],
        [
         1082643,
         "Sunrisers Hyderabad",
         "Field",
         "Sunrisers Hyderabad",
         "Won"
        ],
        [
         1082644,
         "Kolkata Knight Riders",
         "Field",
         "Mumbai Indians",
         "Lost"
        ],
        [
         1082645,
         "Rising Pune Supergiants",
         "Field",
         "Rising Pune Supergiants",
         "Won"
        ],
        [
         1082646,
         "Royal Challengers Bangalore",
         "Bat",
         "Royal Challengers Bangalore",
         "Won"
        ],
        [
         1082647,
         "Mumbai Indians",
         "Field",
         "Rising Pune Supergiants",
         "Lost"
        ],
        [
         1082648,
         "Kolkata Knight Riders",
         "Field",
         "Kolkata Knight Riders",
         "Won"
        ],
        [
         1082649,
         "Mumbai Indians",
         "Field",
         "Mumbai Indians",
         "Won"
        ],
        [
         1082650,
         "Mumbai Indians",
         "Bat",
         "Mumbai Indians",
         "Won"
        ]
       ],
       "datasetInfos": [],
       "dbfsResultPath": null,
       "isJsonSchema": true,
       "metadata": {},
       "overflow": false,
       "plotOptions": {
        "customPlotOptions": {},
        "displayType": "table",
        "pivotAggregation": null,
        "pivotColumns": null,
        "xColumns": null,
        "yColumns": null
       },
       "removedWidgets": [],
       "schema": [
        {
         "metadata": "{}",
         "name": "match_id",
         "type": "\"integer\""
        },
        {
         "metadata": "{}",
         "name": "toss_winner",
         "type": "\"string\""
        },
        {
         "metadata": "{}",
         "name": "toss_name",
         "type": "\"string\""
        },
        {
         "metadata": "{}",
         "name": "match_winner",
         "type": "\"string\""
        },
        {
         "metadata": "{}",
         "name": "match_impact",
         "type": "\"string\""
        }
       ],
       "type": "table"
      }
     },
     "output_type": "display_data"
    }
   ],
   "source": [
    "# Check if the table exists\n",
    "table_exists = spark.sql(\"SHOW TABLES LIKE 'match'\").count() > 0\n",
    "\n",
    "if table_exists:\n",
    "    # Assuming the table exists, run the query\n",
    "    toss_impact_individual_matches = spark.sql(\"\"\"\n",
    "        SELECT m.match_id, m.toss_winner, m.toss_name, m.match_winner,\n",
    "            CASE WHEN m.toss_winner = m.match_winner THEN 'Won' ELSE 'Lost' END AS match_impact\n",
    "        FROM match m \n",
    "        WHERE m.toss_name IS NOT NULL \n",
    "        ORDER BY m.match_id\n",
    "    \"\"\")\n",
    "    display(toss_impact_individual_matches)\n",
    "else:\n",
    "    print(\"Table 'match' does not exist.\")\n",
    "    "
   ]
  },
  {
   "cell_type": "code",
   "execution_count": 0,
   "metadata": {
    "application/vnd.databricks.v1+cell": {
     "cellMetadata": {
      "byteLimit": 2048000,
      "rowLimit": 10000
     },
     "inputWidgets": {},
     "nuid": "5682ff97-31a8-4252-812c-c4cff1577546",
     "showTitle": false,
     "tableResultSettingsMap": {},
     "title": ""
    }
   },
   "outputs": [
    {
     "output_type": "stream",
     "name": "stdout",
     "output_type": "stream",
     "text": [
      "+--------------+------------------+--------------+\n|   player_name|  avg_runs_in_wins|innings_played|\n+--------------+------------------+--------------+\n|   Rashid Khan|               6.0|             1|\n| Shahid Afridi|3.3333333333333335|             6|\n|      AN Ahmed|               3.0|             3|\n|      BA Bhatt|               3.0|             2|\n|       SN Khan|2.5789473684210527|            19|\n|    SP Jackson|               2.4|             5|\n| Harmeet Singh|2.3333333333333335|             6|\n|      Umar Gul|2.3076923076923075|            13|\n|       MS Gony|               2.0|            31|\n| Shivam Sharma|               2.0|             2|\n|   DS Kulkarni|               2.0|             3|\n|MJ McClenaghan|               2.0|            11|\n|     VRV Singh|               2.0|             2|\n|      RS Sodhi|               2.0|             2|\n|    SM Pollock|1.9411764705882353|            17|\n|     CH Morris|1.9230769230769231|            52|\n|     R Tewatia|             1.875|             8|\n| CR Brathwaite|1.8333333333333333|            30|\n|     LJ Wright|1.8333333333333333|            24|\n|   BCJ Cutting| 1.816326530612245|            49|\n+--------------+------------------+--------------+\nonly showing top 20 rows\n\n"
     ]
    }
   ],
   "source": [
    "average_runs_in_wins = spark.sql(\"\"\"\n",
    "SELECT p.player_name, AVG(df.runs_scored) AS avg_runs_in_wins, COUNT(*) AS innings_played\n",
    "FROM df\n",
    "JOIN player_match pm ON df.match_id = pm.match_id AND df.striker = pm.player_id\n",
    "JOIN player p ON pm.player_id = p.player_id\n",
    "JOIN match m ON pm.match_id = m.match_id\n",
    "WHERE m.match_winner = pm.player_team\n",
    "GROUP BY p.player_name\n",
    "ORDER BY avg_runs_in_wins DESC\n",
    "\"\"\")\n",
    "average_runs_in_wins.show()"
   ]
  },
  {
   "cell_type": "code",
   "execution_count": 0,
   "metadata": {
    "application/vnd.databricks.v1+cell": {
     "cellMetadata": {
      "byteLimit": 2048000,
      "rowLimit": 10000
     },
     "inputWidgets": {},
     "nuid": "37c3f570-7e51-4114-84e3-aa6cdfcb7df8",
     "showTitle": false,
     "tableResultSettingsMap": {},
     "title": ""
    }
   },
   "outputs": [],
   "source": [
    "import matplotlib.pyplot as plt"
   ]
  },
  {
   "cell_type": "code",
   "execution_count": 0,
   "metadata": {
    "application/vnd.databricks.v1+cell": {
     "cellMetadata": {
      "byteLimit": 2048000,
      "rowLimit": 10000
     },
     "inputWidgets": {},
     "nuid": "9b69e2ae-e579-4a49-9d63-da21fcd9273f",
     "showTitle": false,
     "tableResultSettingsMap": {},
     "title": ""
    }
   },
   "outputs": [
    {
     "output_type": "display_data",
     "data": {
      "image/png": "[encoded data removed]"
     },
     "metadata": {
      "application/vnd.databricks.v1+output": {
       "addedWidgets": {},
       "arguments": {},
       "data": "data:image/png;base64,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\n",
       "datasetInfos": [],
       "metadata": {},
       "removedWidgets": [],
       "type": "image"
      }
     },
     "output_type": "display_data"
    }
   ],
   "source": [
    "# Assuming 'economical_bowlers_powerplay' is already executed and available as a Spark DataFrame \n",
    "economical_bowlers_pd = economical_bowlers_powerplay.toPandas()\n",
    "\n",
    "# Visualizing using matplotlib\n",
    "plt.figure(figsize=(12, 8))\n",
    "# Limiting to top 10 for clarity in the plot \n",
    "top_economical_bowlers = economical_bowlers_pd.nsmallest(10, 'avg_runs_per_ball')\n",
    "plt.bar(top_economical_bowlers['player_name'], top_economical_bowlers['avg_runs_per_ball'], color='green')\n",
    "plt.xlabel('Bowler Name')\n",
    "plt.ylabel('Average Runs per Ball')\n",
    "plt.title('Top 10 Economical Bowlers in Powerplay')\n",
    "plt.xticks(rotation=45)\n",
    "plt.tight_layout()\n",
    "plt.show()"
   ]
  },
  {
   "cell_type": "code",
   "execution_count": 0,
   "metadata": {
    "application/vnd.databricks.v1+cell": {
     "cellMetadata": {
      "byteLimit": 2048000,
      "rowLimit": 10000
     },
     "inputWidgets": {},
     "nuid": "c426b7ff-7065-4189-86a9-2688d933e3c7",
     "showTitle": false,
     "tableResultSettingsMap": {},
     "title": ""
    }
   },
   "outputs": [
    {
     "output_type": "display_data",
     "data": {
      "text/html": [
       "<style scoped>\n",
       "  .table-result-container {\n",
       "    max-height: 300px;\n",
       "    overflow: auto;\n",
       "  }\n",
       "  table, th, td {\n",
       "    border: 1px solid black;\n",
       "    border-collapse: collapse;\n",
       "  }\n",
       "  th, td {\n",
       "    padding: 5px;\n",
       "  }\n",
       "  th {\n",
       "    text-align: left;\n",
       "  }\n",
       "</style><div class='table-result-container'><table class='table-result'><thead style='background-color: white'><tr><th>team1</th><th>match_played</th><th>toss_win_match_played</th></tr></thead><tbody><tr><td>Chennai Super Kings</td><td>37</td><td>27</td></tr><tr><td>Mumbai Indians</td><td>42</td><td>26</td></tr><tr><td>Kolkata Knight Riders</td><td>36</td><td>24</td></tr><tr><td>Royal Challengers Bangalore</td><td>34</td><td>19</td></tr><tr><td>Delhi Daredevils</td><td>36</td><td>17</td></tr><tr><td>Rajasthan Royals</td><td>25</td><td>16</td></tr><tr><td>Kings XI Punjab</td><td>32</td><td>14</td></tr><tr><td>Sunrisers Hyderabad</td><td>16</td><td>8</td></tr><tr><td>Deccan Chargers</td><td>22</td><td>6</td></tr><tr><td>Rising Pune Supergiants</td><td>6</td><td>4</td></tr><tr><td>Gujarat Lions</td><td>7</td><td>3</td></tr><tr><td>Kochi Tuskers Kerala</td><td>4</td><td>2</td></tr><tr><td>Pune Warriors</td><td>10</td><td>2</td></tr></tbody></table></div>"
      ]
     },
     "metadata": {
      "application/vnd.databricks.v1+output": {
       "addedWidgets": {},
       "aggData": [],
       "aggError": "",
       "aggOverflow": false,
       "aggSchema": [],
       "aggSeriesLimitReached": false,
       "aggType": "",
       "arguments": {},
       "columnCustomDisplayInfos": {},
       "data": [
        [
         "Chennai Super Kings",
         37,
         27
        ],
        [
         "Mumbai Indians",
         42,
         26
        ],
        [
         "Kolkata Knight Riders",
         36,
         24
        ],
        [
         "Royal Challengers Bangalore",
         34,
         19
        ],
        [
         "Delhi Daredevils",
         36,
         17
        ],
        [
         "Rajasthan Royals",
         25,
         16
        ],
        [
         "Kings XI Punjab",
         32,
         14
        ],
        [
         "Sunrisers Hyderabad",
         16,
         8
        ],
        [
         "Deccan Chargers",
         22,
         6
        ],
        [
         "Rising Pune Supergiants",
         6,
         4
        ],
        [
         "Gujarat Lions",
         7,
         3
        ],
        [
         "Kochi Tuskers Kerala",
         4,
         2
        ],
        [
         "Pune Warriors",
         10,
         2
        ]
       ],
       "datasetInfos": [],
       "dbfsResultPath": null,
       "isJsonSchema": true,
       "metadata": {},
       "overflow": false,
       "plotOptions": {
        "customPlotOptions": {},
        "displayType": "table",
        "pivotAggregation": null,
        "pivotColumns": null,
        "xColumns": null,
        "yColumns": null
       },
       "removedWidgets": [],
       "schema": [
        {
         "metadata": "{}",
         "name": "team1",
         "type": "\"string\""
        },
        {
         "metadata": "{}",
         "name": "match_played",
         "type": "\"long\""
        },
        {
         "metadata": "{}",
         "name": "toss_win_match_played",
         "type": "\"long\""
        }
       ],
       "type": "table"
      }
     },
     "output_type": "display_data"
    }
   ],
   "source": [
    "# Execute SQL Query \n",
    "team_toss_win_performance = spark.sql(\"\"\"\n",
    "SELECT team1, COUNT(*) AS match_played, \n",
    "       SUM(CASE WHEN toss_winner = match_winner THEN 1 ELSE 0 END) AS toss_win_match_played\n",
    "FROM match\n",
    "WHERE toss_winner = team1\n",
    "GROUP BY team1\n",
    "ORDER BY toss_win_match_played DESC\n",
    "\"\"\")\n",
    "\n",
    "# Display the result\n",
    "display(team_toss_win_performance)"
   ]
  },
  {
   "cell_type": "code",
   "execution_count": 0,
   "metadata": {
    "application/vnd.databricks.v1+cell": {
     "cellMetadata": {
      "byteLimit": 2048000,
      "rowLimit": 10000
     },
     "inputWidgets": {},
     "nuid": "7fc700bc-0820-4f1e-8a4b-62731235a2d0",
     "showTitle": false,
     "tableResultSettingsMap": {},
     "title": ""
    }
   },
   "outputs": [
    {
     "output_type": "stream",
     "name": "stdout",
     "output_type": "stream",
     "text": [
      "Index(['team1', 'match_played', 'toss_win_match_played'], dtype='object')\n"
     ]
    },
    {
     "output_type": "display_data",
     "data": {
      "image/png": "[encoded data removed]"
     },
     "metadata": {
      "application/vnd.databricks.v1+output": {
       "addedWidgets": {},
       "arguments": {},
       "data": "data:image/png;base64,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\n",
       "datasetInfos": [],
       "metadata": {},
       "removedWidgets": [],
       "type": "image"
      }
     },
     "output_type": "display_data"
    }
   ],
   "source": [
    "# Ensure team_toss_win_performance is a Spark DataFrame\n",
    "team_toss_win_performance = spark.createDataFrame(team_toss_win_performance)\n",
    "\n",
    "# Convert to Pandas DataFrame\n",
    "team_toss_win_pd = team_toss_win_performance.toPandas()\n",
    "\n",
    "# Check the column names\n",
    "print(team_toss_win_pd.columns)\n",
    "\n",
    "# Plot \n",
    "plt.figure(figsize=(12, 8))\n",
    "sns.barplot(\n",
    "    x='toss_win_match_played', \n",
    "    y='team1', \n",
    "    data=team_toss_win_pd\n",
    ")\n",
    "plt.title('Team Performance After Winning Toss')\n",
    "plt.xlabel('Wins After Winning Toss')\n",
    "plt.ylabel('Team')\n",
    "plt.show()"
   ]
  },
  {
   "cell_type": "code",
   "execution_count": 0,
   "metadata": {
    "application/vnd.databricks.v1+cell": {
     "cellMetadata": {
      "byteLimit": 2048000,
      "rowLimit": 10000
     },
     "inputWidgets": {},
     "nuid": "0e5381b8-2a2f-4dc8-9019-b52ee7d9f104",
     "showTitle": false,
     "tableResultSettingsMap": {},
     "title": ""
    }
   },
   "outputs": [],
   "source": [
    "# Execute SQL Query\n",
    "dismissal_types = spark.sql(\"\"\"\n",
    "SELECT out_type, COUNT(*) AS frequency\n",
    "FROM df \n",
    "WHERE out_type IS NOT NULL\n",
    "GROUP BY out_type\n",
    "ORDER BY frequency DESC\n",
    "\"\"\")\n"
   ]
  },
  {
   "cell_type": "code",
   "execution_count": 0,
   "metadata": {
    "application/vnd.databricks.v1+cell": {
     "cellMetadata": {
      "byteLimit": 2048000,
      "rowLimit": 10000
     },
     "inputWidgets": {},
     "nuid": "b7e03d39-d99a-4c3d-845d-bde2f5dc8416",
     "showTitle": false,
     "tableResultSettingsMap": {},
     "title": ""
    }
   },
   "outputs": [
    {
     "output_type": "display_data",
     "data": {
      "image/png": "[encoded data removed]"
     },
     "metadata": {
      "application/vnd.databricks.v1+output": {
       "addedWidgets": {},
       "arguments": {},
       "data": "data:image/png;base64,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\n",
       "datasetInfos": [],
       "metadata": {},
       "removedWidgets": [],
       "type": "image"
      }
     },
     "output_type": "display_data"
    }
   ],
   "source": [
    "# Convert to Pandas DataFrame\n",
    "dismissal_types_pd = dismissal_types.toPandas()\n",
    "\n",
    "# PLOT \n",
    "plt.figure(figsize=(12, 6))\n",
    "sns.barplot(x='frequency', y='out_type', data=dismissal_types_pd)\n",
    "plt.title('Most Frequent Dismissal Types')\n",
    "plt.xlabel('Frequency')\n",
    "plt.ylabel('Dismissal Type')\n",
    "plt.show()\n"
   ]
  },
  {
   "cell_type": "code",
   "execution_count": 0,
   "metadata": {
    "application/vnd.databricks.v1+cell": {
     "cellMetadata": {
      "byteLimit": 2048000,
      "rowLimit": 10000
     },
     "inputWidgets": {},
     "nuid": "460b9be6-da47-4bb6-8107-f57fbea8fcb8",
     "showTitle": false,
     "tableResultSettingsMap": {},
     "title": ""
    }
   },
   "outputs": [],
   "source": [
    "# Execute SQL Query\n",
    "scores_by_venue = spark.sql(\"\"\"\n",
    "SELECT venue_name, AVG(total_runs) AS avg_score, MAX(total_runs) AS max_score\n",
    "FROM (\n",
    "  SELECT df.match_id, match.venue_name, SUM(df.runs_scored) AS total_runs\n",
    "  FROM df\n",
    "  JOIN match ON df.match_id = match.match_id\n",
    "  GROUP BY df.match_id, matCh.venue_name\n",
    ")\n",
    "GROUP BY venue_name\n",
    "ORDER BY avg_score DESC\n",
    "\"\"\")"
   ]
  },
  {
   "cell_type": "code",
   "execution_count": 0,
   "metadata": {
    "application/vnd.databricks.v1+cell": {
     "cellMetadata": {
      "byteLimit": 2048000,
      "rowLimit": 10000
     },
     "inputWidgets": {},
     "nuid": "0ae41590-f88d-4580-8a2c-1d49294999fb",
     "showTitle": false,
     "tableResultSettingsMap": {},
     "title": ""
    }
   },
   "outputs": [
    {
     "output_type": "display_data",
     "data": {
      "image/png": "[encoded data removed]"
     },
     "metadata": {
      "application/vnd.databricks.v1+output": {
       "addedWidgets": {},
       "arguments": {},
       "data": "data:image/png;base64,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\n",
       "datasetInfos": [],
       "metadata": {},
       "removedWidgets": [],
       "type": "image"
      }
     },
     "output_type": "display_data"
    }
   ],
   "source": [
    "# Convert to Pandas DataFrame\n",
    "scores_by_venue_pd = scores_by_venue.toPandas()\n",
    "\n",
    "# PLOT \n",
    "plt.figure(figsize=(14, 8))\n",
    "sns.barplot(x='avg_score', y='venue_name', data=scores_by_venue_pd)\n",
    "plt.title('Distribution of Scores by Venue')\n",
    "plt.xlabel('Average Score')\n",
    "plt.ylabel('Venue')\n",
    "plt.show()"
   ]
  },
  {
   "cell_type": "code",
   "execution_count": 0,
   "metadata": {
    "application/vnd.databricks.v1+cell": {
     "cellMetadata": {
      "byteLimit": 2048000,
      "rowLimit": 10000
     },
     "inputWidgets": {},
     "nuid": "1a7ee26d-91ea-4f3d-8640-d2a19a752927",
     "showTitle": false,
     "tableResultSettingsMap": {},
     "title": ""
    }
   },
   "outputs": [
    {
     "output_type": "display_data",
     "data": {
      "image/png": "[encoded data removed]"
     },
     "metadata": {
      "application/vnd.databricks.v1+output": {
       "addedWidgets": {},
       "arguments": {},
       "data": "data:image/png;base64,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\n",
       "datasetInfos": [],
       "metadata": {},
       "removedWidgets": [],
       "type": "image"
      }
     },
     "output_type": "display_data"
    }
   ],
   "source": [
    "average_runs_pd = average_runs_in_wins.toPandas()\n",
    "\n",
    "# Using Seaborn to plot average runs in winning matches \n",
    "plt.figure(figsize=(12, 8))\n",
    "top_scores = average_runs_pd.nlargest(10, 'avg_runs_in_wins')\n",
    "sns.barplot(x='player_name', y='avg_runs_in_wins', data=top_scores)\n",
    "plt.title('Top 10 Batsmen with Highest Average Runs in Winning Matches')\n",
    "plt.xlabel('Player Name')\n",
    "plt.ylabel('Average Runs in Winning Matches')\n",
    "plt.xticks(rotation=45)\n",
    "plt.tight_layout()\n",
    "plt.show()"
   ]
  }
 ],
 "metadata": {
  "application/vnd.databricks.v1+notebook": {
   "dashboards": [],
   "environmentMetadata": {
    "base_environment": "",
    "client": "1"
   },
   "language": "python",
   "notebookMetadata": {
    "mostRecentlyExecutedCommandWithImplicitDF": {
     "commandId": 1205985352480231,
     "dataframes": [
      "_sqldf"
     ]
    },
    "pythonIndentUnit": 2
   },
   "notebookName": "project_ipl_analysis",
   "widgets": {}
  },
  "language_info": {
   "name": "python"
  }
 },
 "nbformat": 4,
 "nbformat_minor": 0
}